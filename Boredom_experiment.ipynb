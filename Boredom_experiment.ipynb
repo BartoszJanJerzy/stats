{
  "nbformat": 4,
  "nbformat_minor": 0,
  "metadata": {
    "colab": {
      "name": "Boredom experiment.ipynb",
      "provenance": [],
      "toc_visible": true,
      "authorship_tag": "ABX9TyPbnal7B/K88QMg7SorPRvz",
      "include_colab_link": true
    },
    "kernelspec": {
      "name": "python3",
      "display_name": "Python 3"
    },
    "language_info": {
      "name": "python"
    }
  },
  "cells": [
    {
      "cell_type": "markdown",
      "metadata": {
        "id": "view-in-github",
        "colab_type": "text"
      },
      "source": [
        "<a href=\"https://colab.research.google.com/github/BartoszJanJerzy/stats/blob/main/Boredom_experiment.ipynb\" target=\"_parent\"><img src=\"https://colab.research.google.com/assets/colab-badge.svg\" alt=\"Open In Colab\"/></a>"
      ]
    },
    {
      "cell_type": "markdown",
      "metadata": {
        "id": "bSKCiCiOvV71"
      },
      "source": [
        "#WELCOME!\n",
        "\n",
        "We (MA Bartosz Wójtowicz, PROF Stanisława Steuden, The John Paul II Catholic University of Lublin) wrote this this code to calculate results in our article titled 'Do you feel like a bored stiff? Experimentally Induced Boredom Increases Hostility, Avoidance Motivation and Decreases Mindfulness'.\n",
        "\n",
        "---\n",
        "\n",
        "What is the scehdule?\n",
        "\n",
        "1 - import libraries\n",
        "\n",
        "2 - functions used in script\n",
        "\n",
        "3 - import data and screening\n",
        "\n",
        "4 - reliability coeffs (Cronbach's alpha)\n",
        "\n",
        "5 - select subscale to analyze\n",
        "\n",
        "6 - correlation matrix\n",
        "\n",
        "7 - main analysis: linear regressions\n",
        "\n",
        "8 - extra analysis: curvilinear regressions\n",
        "\n",
        "---\n",
        "\n",
        "We share this code with you, feel free to use or check it."
      ]
    },
    {
      "cell_type": "markdown",
      "metadata": {
        "id": "dgbbrUV3vxO-"
      },
      "source": [
        "#1 - Libraries"
      ]
    },
    {
      "cell_type": "code",
      "metadata": {
        "id": "tq6ksWjGvr9L"
      },
      "source": [
        "import pandas as pd\n",
        "import numpy as np\n",
        "import plotly.graph_objects as go\n",
        "from plotly.subplots import make_subplots\n",
        "from scipy.stats import pearsonr\n",
        "\n",
        "import sklearn\n",
        "from sklearn.linear_model import LinearRegression\n",
        "from sklearn.preprocessing import PolynomialFeatures\n",
        "from sklearn.metrics import r2_score"
      ],
      "execution_count": 1,
      "outputs": []
    },
    {
      "cell_type": "markdown",
      "metadata": {
        "id": "qtTi0eEqv1-t"
      },
      "source": [
        "#2 - Functions"
      ]
    },
    {
      "cell_type": "code",
      "metadata": {
        "id": "Uy5UlIbcxqca"
      },
      "source": [
        "def CronbachAlphaa(df_list, names_list):\n",
        "  subscales = []\n",
        "  alpha = []\n",
        "\n",
        "  for df, name in zip(df_list, names_list):\n",
        "    # 1. Transform the df into a correlation matrix\n",
        "    df_corr = df.corr()\n",
        "\n",
        "    # 2.1 Calculate N\n",
        "    # The number of variables equals the number of columns in the df\n",
        "    N = df.shape[1]\n",
        "\n",
        "    # 2.2 Calculate R\n",
        "    # For this, we'll loop through the columns and append every\n",
        "    # relevant correlation to an array calles \"r_s\". Then, we'll\n",
        "    # calculate the mean of \"r_s\"\n",
        "    rs = np.array([])\n",
        "    for i, col in enumerate(df_corr.columns):\n",
        "        sum_ = df_corr[col][i+1:].values\n",
        "        rs = np.append(sum_, rs)\n",
        "    mean_r = np.mean(rs)\n",
        "\n",
        "    # 3. Use the formula to calculate Cronbach's Alpha\n",
        "    cronbach_alpha = (N * mean_r) / (1 + (N - 1) * mean_r)\n",
        "    cronbach_alpha = round(cronbach_alpha, 3)\n",
        "\n",
        "    subscales.append(name)\n",
        "    alpha.append(cronbach_alpha)\n",
        "  \n",
        "  alpha_dict = {\n",
        "      'subscale':subscales,\n",
        "      'alpha':alpha\n",
        "  }\n",
        "\n",
        "  return pd.DataFrame(alpha_dict)"
      ],
      "execution_count": 11,
      "outputs": []
    },
    {
      "cell_type": "markdown",
      "metadata": {
        "id": "7hsLvw_pv4JT"
      },
      "source": [
        "#3 - DATA"
      ]
    },
    {
      "cell_type": "code",
      "metadata": {
        "id": "OIkzIl5JvvpR"
      },
      "source": [
        "data_raw = pd.read_excel('/content/data.xlsx')\n",
        "data_whole = data_raw.copy()\n",
        "\n",
        "emotion_pre_df = pd.read_excel('/content/emotions_pre.xlsx')\n",
        "emotion_post_df = pd.read_excel('/content/emotions_post.xlsx')\n",
        "data_whole"
      ],
      "execution_count": null,
      "outputs": []
    },
    {
      "cell_type": "code",
      "metadata": {
        "colab": {
          "base_uri": "https://localhost:8080/"
        },
        "id": "VQ4lInA2wDWe",
        "outputId": "a4f649e5-b29f-438d-c1f7-02388aec2c95"
      },
      "source": [
        "for c in data_whole.columns:\n",
        "  print(c)"
      ],
      "execution_count": 3,
      "outputs": [
        {
          "output_type": "stream",
          "text": [
            "id\n",
            "sex\n",
            "age\n",
            "bored\n",
            "boredom_level\n",
            "std_boredom_level\n",
            "photo_1\n",
            "photo_2\n",
            "photo_3\n",
            "photo_4\n",
            "photo_5\n",
            "photo_6\n",
            "photo_7\n",
            "photo_8\n",
            "photo_9\n",
            "photo_10\n",
            "photo_11\n",
            "photo_12\n",
            "rt_1\n",
            "rt_2\n",
            "rt_3\n",
            "rt_4\n",
            "rt_5\n",
            "rt_6\n",
            "rt_7\n",
            "rt_8\n",
            "rt_9\n",
            "rt_10\n",
            "rt_11\n",
            "rt_12\n",
            "neg_aff_1\n",
            "fear_1\n",
            "sad_1\n",
            "guilt_1\n",
            "hostility_1\n",
            "disgust_1\n",
            "tired_1\n",
            "pos_aff_1\n",
            "joy_1\n",
            "self_conf_1\n",
            "mindfulness_1\n",
            "calm_1\n",
            "surprise_1\n",
            "neg_aff_2\n",
            "fear_2\n",
            "sad_2\n",
            "guilt_2\n",
            "hostility_2\n",
            "disgust_2\n",
            "tired_2\n",
            "pos_aff_2\n",
            "joy_2\n",
            "self_conf_2\n",
            "mindfulness_2\n",
            "calm_2\n",
            "surprise_2\n",
            "rt_neg_aff\n",
            "rt_fear\n",
            "rt_sad\n",
            "rt_guilt\n",
            "rt_hostility\n",
            "rt_disgust\n",
            "rt_tired\n",
            "rt_pos_aff\n",
            "rt_joy\n",
            "rt_self_conf\n",
            "rt_mindfulness\n",
            "rt_calm\n",
            "rt_surprise\n",
            "neg_aff\n",
            "fear\n",
            "sad\n",
            "guilt\n",
            "hostility\n",
            "disgust\n",
            "tired\n",
            "pos_aff\n",
            "joy\n",
            "self_conf\n",
            "mindfulness\n",
            "calm\n",
            "surprise\n"
          ],
          "name": "stdout"
        }
      ]
    },
    {
      "cell_type": "markdown",
      "metadata": {
        "id": "egTvm3qLwXaz"
      },
      "source": [
        "##Screening data\n",
        "1. Delete records if participant did not get bored\n",
        "2. Delete outliers -> delete record if results of at least one subscale is lower than -3SD or higher than +3SD"
      ]
    },
    {
      "cell_type": "markdown",
      "metadata": {
        "id": "gujqfuPKxGMd"
      },
      "source": [
        "###Prepare filters"
      ]
    },
    {
      "cell_type": "code",
      "metadata": {
        "id": "IwLTjmF6wGyJ"
      },
      "source": [
        "mean_boredom = data_whole['boredom_level'].mean()\n",
        "sd_boredom = data_whole['boredom_level'].std()\n",
        "\n",
        "filter_1 = data_whole['bored'] == 'yes'\n",
        "filter_2 = data_whole['boredom_level'] > mean_boredom - 3*sd_boredom\n",
        "filter_3 = data_whole['boredom_level'] < mean_boredom + 3*sd_boredom"
      ],
      "execution_count": 8,
      "outputs": []
    },
    {
      "cell_type": "markdown",
      "metadata": {
        "id": "d6YkD6BSxI9W"
      },
      "source": [
        "###Use filters"
      ]
    },
    {
      "cell_type": "code",
      "metadata": {
        "colab": {
          "base_uri": "https://localhost:8080/"
        },
        "id": "7c-IrgtxxFsy",
        "outputId": "844f2146-ffa6-4446-ae25-053d77fcecae"
      },
      "source": [
        "filters = [filter_1, filter_2, filter_3]\n",
        "\n",
        "for filter in filters:\n",
        "  data_whole = data_whole[filter]"
      ],
      "execution_count": 9,
      "outputs": [
        {
          "output_type": "stream",
          "text": [
            "/usr/local/lib/python3.7/dist-packages/ipykernel_launcher.py:4: UserWarning:\n",
            "\n",
            "Boolean Series key will be reindexed to match DataFrame index.\n",
            "\n"
          ],
          "name": "stderr"
        }
      ]
    },
    {
      "cell_type": "code",
      "metadata": {
        "colab": {
          "base_uri": "https://localhost:8080/"
        },
        "id": "gnJYCrdcxVh6",
        "outputId": "16446bcb-b4ab-4559-aed2-271ab242dc49"
      },
      "source": [
        "print(f'The research sample - after screening -  has N={len(data_whole)}')"
      ],
      "execution_count": 10,
      "outputs": [
        {
          "output_type": "stream",
          "text": [
            "The research sample - after screening -  has N=59\n"
          ],
          "name": "stdout"
        }
      ]
    },
    {
      "cell_type": "markdown",
      "metadata": {
        "id": "qkzhDiEvxjie"
      },
      "source": [
        "#4 - RELIABILITY COEFFS"
      ]
    },
    {
      "cell_type": "code",
      "metadata": {
        "colab": {
          "base_uri": "https://localhost:8080/"
        },
        "id": "66wTmFcg0p62",
        "outputId": "0f332b96-e04b-4d43-9c97-fa869fdf9229"
      },
      "source": [
        "for c in emotion_pre_df.columns:\n",
        "  print(c)"
      ],
      "execution_count": 16,
      "outputs": [
        {
          "output_type": "stream",
          "text": [
            "wesoły\n",
            "zdegustowany\n",
            "uważny\n",
            "wstydliwy\n",
            "ospały\n",
            "śmiały\n",
            "zaskoczony\n",
            "silny\n",
            "czujący pogardę\n",
            "odprężony\n",
            "drażliwy\n",
            "zachwycony\n",
            "zainspirowany\n",
            "nieustraszony\n",
            "zdegustowany sobą\n",
            "smutny\n",
            "wyciszony\n",
            "obawiajacy się\n",
            "zmęczony\n",
            "zdumiony\n",
            "chwiejny\n",
            "szczęśliwy\n",
            "zastraszony\n",
            "sam\n",
            "czujny\n",
            "zaniepokojony\n",
            "rozłoszczony\n",
            "odważny\n",
            "przygnębiony\n",
            "nieśmiały\n",
            "aktywny\n",
            "winny\n",
            "radosny\n",
            "nerwowy\n",
            "samotny\n",
            "śpiący\n",
            "podekscytwany\n",
            "wrogi\n",
            "dumny\n",
            "roztrzęsiony\n",
            "żwawy\n",
            "zawstydzony\n",
            "na luzie\n",
            "przestraszony\n",
            "senny\n",
            "zły na siebie\n",
            "entuzjastyczny\n",
            "przybity\n",
            "bojaźliwy\n",
            "zestresowany\n",
            "zasługujący na potępienie\n",
            "zdecydowany\n",
            "przerażony\n",
            "zadziwiony\n",
            "zainteresowany\n",
            "czujacy odrazę\n",
            "pewny siebie\n",
            "energiczny\n",
            "skoncentrowany\n",
            "niezadowolony z siebie\n"
          ],
          "name": "stdout"
        }
      ]
    },
    {
      "cell_type": "markdown",
      "metadata": {
        "id": "b_8JcCmrz2Ma"
      },
      "source": [
        "##Pre-test"
      ]
    },
    {
      "cell_type": "code",
      "metadata": {
        "id": "G0deKyFtxXzB"
      },
      "source": [
        "df_pos_pre = emotion_pre_df[['uważny','silny','zainspirowany','czujny','aktywny','podekscytwany','dumny','entuzjastyczny','zdecydowany','zainteresowany']]\n",
        "df_neg_pre = emotion_pre_df[['drażliwy','obawiajacy się','zaniepokojony','winny','nerwowy','wrogi','roztrzęsiony','zawstydzony','przestraszony','zestresowany']]\n",
        "df_fear_pre = emotion_pre_df[['obawiajacy się','chwiejny','nerwowy','roztrzęsiony','przestraszony','przerażony']]\n",
        "df_sad_pre = emotion_pre_df[['smutny','sam','przygnębiony','samotny','przybity']]\n",
        "df_guilt_pre = emotion_pre_df[['zdegustowany','winny','zawstydzony','zły na siebie','zasługujący na potępienie','niezadowolony z siebie']]\n",
        "df_host_pre = emotion_pre_df[['zdegustowany','czujący pogardę','drażliwy','rozłoszczony','wrogi','czujacy odrazę']]\n",
        "df_joy_pre = emotion_pre_df[['wesoły','zachwycony','szczęśliwy','radosny','podekscytwany','żwawy','entuzjastyczny','energiczny']]\n",
        "df_mind_pre = emotion_pre_df[['uważny','czujny','zdecydowany','skoncentrowany']]\n",
        "df_conf_pre = emotion_pre_df[['śmiały','silny','nieustraszony','odważny','dumny','pewny siebie']]\n",
        "df_tired_pre = emotion_pre_df[['ospały','zmęczony','śpiący','senny']]\n",
        "df_calm_pre = emotion_pre_df[['odprężony','wyciszony','na luzie']]\n",
        "df_surp_pre = emotion_pre_df[['zaskoczony','zdumiony','zadziwiony']]\n",
        "\n",
        "df_list_pre = [df_neg_pre, df_fear_pre, df_sad_pre, df_guilt_pre, df_host_pre, df_tired_pre, df_pos_pre, df_joy_pre, df_conf_pre, df_mind_pre, df_calm_pre, df_surp_pre]\n",
        "names_pre = ['neg_pre','fear_pre','sad_pre','guilt_pre','host_pre','tired_pre','pos_pre','joy_pre','conf_pre','mind_pre','calm_pre','surp_pre']"
      ],
      "execution_count": 41,
      "outputs": []
    },
    {
      "cell_type": "code",
      "metadata": {
        "colab": {
          "base_uri": "https://localhost:8080/",
          "height": 392
        },
        "id": "O5C5zcL-0nwo",
        "outputId": "44544d67-245f-493e-a984-66012ac4d9ee"
      },
      "source": [
        "df_alpha_pre = CronbachAlphaa(df_list_pre, names_pre)\n",
        "\n",
        "df_alpha_pre"
      ],
      "execution_count": 43,
      "outputs": [
        {
          "output_type": "execute_result",
          "data": {
            "text/html": [
              "<div>\n",
              "<style scoped>\n",
              "    .dataframe tbody tr th:only-of-type {\n",
              "        vertical-align: middle;\n",
              "    }\n",
              "\n",
              "    .dataframe tbody tr th {\n",
              "        vertical-align: top;\n",
              "    }\n",
              "\n",
              "    .dataframe thead th {\n",
              "        text-align: right;\n",
              "    }\n",
              "</style>\n",
              "<table border=\"1\" class=\"dataframe\">\n",
              "  <thead>\n",
              "    <tr style=\"text-align: right;\">\n",
              "      <th></th>\n",
              "      <th>subscale</th>\n",
              "      <th>alpha</th>\n",
              "    </tr>\n",
              "  </thead>\n",
              "  <tbody>\n",
              "    <tr>\n",
              "      <th>0</th>\n",
              "      <td>neg_pre</td>\n",
              "      <td>0.849</td>\n",
              "    </tr>\n",
              "    <tr>\n",
              "      <th>1</th>\n",
              "      <td>fear_pre</td>\n",
              "      <td>0.798</td>\n",
              "    </tr>\n",
              "    <tr>\n",
              "      <th>2</th>\n",
              "      <td>sad_pre</td>\n",
              "      <td>0.875</td>\n",
              "    </tr>\n",
              "    <tr>\n",
              "      <th>3</th>\n",
              "      <td>guilt_pre</td>\n",
              "      <td>0.808</td>\n",
              "    </tr>\n",
              "    <tr>\n",
              "      <th>4</th>\n",
              "      <td>host_pre</td>\n",
              "      <td>0.725</td>\n",
              "    </tr>\n",
              "    <tr>\n",
              "      <th>5</th>\n",
              "      <td>tired_pre</td>\n",
              "      <td>0.903</td>\n",
              "    </tr>\n",
              "    <tr>\n",
              "      <th>6</th>\n",
              "      <td>pos_pre</td>\n",
              "      <td>0.716</td>\n",
              "    </tr>\n",
              "    <tr>\n",
              "      <th>7</th>\n",
              "      <td>joy_pre</td>\n",
              "      <td>0.806</td>\n",
              "    </tr>\n",
              "    <tr>\n",
              "      <th>8</th>\n",
              "      <td>conf_pre</td>\n",
              "      <td>0.816</td>\n",
              "    </tr>\n",
              "    <tr>\n",
              "      <th>9</th>\n",
              "      <td>mind_pre</td>\n",
              "      <td>0.633</td>\n",
              "    </tr>\n",
              "    <tr>\n",
              "      <th>10</th>\n",
              "      <td>calm_pre</td>\n",
              "      <td>0.439</td>\n",
              "    </tr>\n",
              "    <tr>\n",
              "      <th>11</th>\n",
              "      <td>surp_pre</td>\n",
              "      <td>0.747</td>\n",
              "    </tr>\n",
              "  </tbody>\n",
              "</table>\n",
              "</div>"
            ],
            "text/plain": [
              "     subscale  alpha\n",
              "0     neg_pre  0.849\n",
              "1    fear_pre  0.798\n",
              "2     sad_pre  0.875\n",
              "3   guilt_pre  0.808\n",
              "4    host_pre  0.725\n",
              "5   tired_pre  0.903\n",
              "6     pos_pre  0.716\n",
              "7     joy_pre  0.806\n",
              "8    conf_pre  0.816\n",
              "9    mind_pre  0.633\n",
              "10   calm_pre  0.439\n",
              "11   surp_pre  0.747"
            ]
          },
          "metadata": {
            "tags": []
          },
          "execution_count": 43
        }
      ]
    },
    {
      "cell_type": "markdown",
      "metadata": {
        "id": "EYfMp2lZ5dTo"
      },
      "source": [
        "##Post-test"
      ]
    },
    {
      "cell_type": "code",
      "metadata": {
        "id": "N-KK63pu5WfX"
      },
      "source": [
        "df_pos_post = emotion_post_df[['uważny','silny','zainspirowany','czujny','aktywny','podekscytwany','dumny','entuzjastyczny','zdecydowany','zainteresowany']]\n",
        "df_neg_post = emotion_post_df[['drażliwy','obawiający się','zaniepokojony','winny','nerwowy','wrogi','roztrzęsiony','zawstydzony','przestraszony','zestresowany']]\n",
        "df_fear_post = emotion_post_df[['obawiający się','chwiejny','nerwowy','roztrzęsiony','przestraszony','przerażony']]\n",
        "df_sad_post = emotion_post_df[['smutny','sam','przygnębiony','samotny','przybity']]\n",
        "df_guilt_post = emotion_post_df[['zdegustowany','winny','zawstydzony','zły na siebie','zasługujący na potępienie','niezadowolony z siebie']]\n",
        "df_host_post = emotion_post_df[['zdegustowany','czujący pogardę','drażliwy','rozzłoszczony','wrogi','czujący odrazę']]\n",
        "df_joy_post = emotion_post_df[['wesoły','zachwycony','szczęśliwy','radosny','podekscytwany','żwawy','entuzjastyczny','energiczny']]\n",
        "df_mind_post = emotion_post_df[['uważny','czujny','zdecydowany','skoncentrowany']]\n",
        "df_conf_post = emotion_post_df[['śmiały','silny','nieustraszony','odważny','dumny','pewny siebie']]\n",
        "df_tired_post = emotion_post_df[['ospały','zmęczony','śpiący','senny']]\n",
        "df_calm_post = emotion_post_df[['odprężony','wyciszony','na luzie']]\n",
        "df_surp_post = emotion_post_df[['zaskoczony','zdumiony','zadziwiony']]\n",
        "\n",
        "df_list_post = [df_neg_post, df_fear_post, df_sad_post, df_guilt_post, df_host_post, df_tired_post, df_pos_post, df_joy_post, df_conf_post, df_mind_post, df_calm_post, df_surp_post]\n",
        "names_post = ['neg_post','fear_post','sad_post','guilt_post','host_post','tired_post','pos_post','joy_post','conf_post','mind_post','calm_post','surp_post']"
      ],
      "execution_count": 39,
      "outputs": []
    },
    {
      "cell_type": "code",
      "metadata": {
        "colab": {
          "base_uri": "https://localhost:8080/",
          "height": 392
        },
        "id": "gmOmXsbn5liG",
        "outputId": "5c46b233-ffbc-4063-e989-5105b7bafe28"
      },
      "source": [
        "df_alpha_post = CronbachAlphaa(df_list_post, names_post)\n",
        "\n",
        "df_alpha_post"
      ],
      "execution_count": 40,
      "outputs": [
        {
          "output_type": "execute_result",
          "data": {
            "text/html": [
              "<div>\n",
              "<style scoped>\n",
              "    .dataframe tbody tr th:only-of-type {\n",
              "        vertical-align: middle;\n",
              "    }\n",
              "\n",
              "    .dataframe tbody tr th {\n",
              "        vertical-align: top;\n",
              "    }\n",
              "\n",
              "    .dataframe thead th {\n",
              "        text-align: right;\n",
              "    }\n",
              "</style>\n",
              "<table border=\"1\" class=\"dataframe\">\n",
              "  <thead>\n",
              "    <tr style=\"text-align: right;\">\n",
              "      <th></th>\n",
              "      <th>subscale</th>\n",
              "      <th>alpha</th>\n",
              "    </tr>\n",
              "  </thead>\n",
              "  <tbody>\n",
              "    <tr>\n",
              "      <th>0</th>\n",
              "      <td>neg_post</td>\n",
              "      <td>0.883</td>\n",
              "    </tr>\n",
              "    <tr>\n",
              "      <th>1</th>\n",
              "      <td>fear_post</td>\n",
              "      <td>0.879</td>\n",
              "    </tr>\n",
              "    <tr>\n",
              "      <th>2</th>\n",
              "      <td>sad_post</td>\n",
              "      <td>0.884</td>\n",
              "    </tr>\n",
              "    <tr>\n",
              "      <th>3</th>\n",
              "      <td>guilt_post</td>\n",
              "      <td>0.758</td>\n",
              "    </tr>\n",
              "    <tr>\n",
              "      <th>4</th>\n",
              "      <td>host_post</td>\n",
              "      <td>0.890</td>\n",
              "    </tr>\n",
              "    <tr>\n",
              "      <th>5</th>\n",
              "      <td>tired_post</td>\n",
              "      <td>0.861</td>\n",
              "    </tr>\n",
              "    <tr>\n",
              "      <th>6</th>\n",
              "      <td>pos_post</td>\n",
              "      <td>0.846</td>\n",
              "    </tr>\n",
              "    <tr>\n",
              "      <th>7</th>\n",
              "      <td>joy_post</td>\n",
              "      <td>0.841</td>\n",
              "    </tr>\n",
              "    <tr>\n",
              "      <th>8</th>\n",
              "      <td>conf_post</td>\n",
              "      <td>0.758</td>\n",
              "    </tr>\n",
              "    <tr>\n",
              "      <th>9</th>\n",
              "      <td>mind_post</td>\n",
              "      <td>0.765</td>\n",
              "    </tr>\n",
              "    <tr>\n",
              "      <th>10</th>\n",
              "      <td>calm_post</td>\n",
              "      <td>0.506</td>\n",
              "    </tr>\n",
              "    <tr>\n",
              "      <th>11</th>\n",
              "      <td>surp_post</td>\n",
              "      <td>0.816</td>\n",
              "    </tr>\n",
              "  </tbody>\n",
              "</table>\n",
              "</div>"
            ],
            "text/plain": [
              "      subscale  alpha\n",
              "0     neg_post  0.883\n",
              "1    fear_post  0.879\n",
              "2     sad_post  0.884\n",
              "3   guilt_post  0.758\n",
              "4    host_post  0.890\n",
              "5   tired_post  0.861\n",
              "6     pos_post  0.846\n",
              "7     joy_post  0.841\n",
              "8    conf_post  0.758\n",
              "9    mind_post  0.765\n",
              "10   calm_post  0.506\n",
              "11   surp_post  0.816"
            ]
          },
          "metadata": {
            "tags": []
          },
          "execution_count": 40
        }
      ]
    },
    {
      "cell_type": "markdown",
      "metadata": {
        "id": "1TbVoMOf6M8H"
      },
      "source": [
        "##General"
      ]
    },
    {
      "cell_type": "code",
      "metadata": {
        "colab": {
          "base_uri": "https://localhost:8080/",
          "height": 105
        },
        "id": "2nibjJlz53dU",
        "outputId": "686d5ba1-dbb2-4847-ef6c-0a130db744b4"
      },
      "source": [
        "dict_alpha = {\n",
        "    'subscale':names_pre+names_post,\n",
        "    'alpha':df_alpha_pre['alpha'].to_list()+df_alpha_post['alpha'].to_list()\n",
        "}\n",
        "\n",
        "df_alpha = pd.DataFrame(dict_alpha).T\n",
        "df_alpha"
      ],
      "execution_count": 47,
      "outputs": [
        {
          "output_type": "execute_result",
          "data": {
            "text/html": [
              "<div>\n",
              "<style scoped>\n",
              "    .dataframe tbody tr th:only-of-type {\n",
              "        vertical-align: middle;\n",
              "    }\n",
              "\n",
              "    .dataframe tbody tr th {\n",
              "        vertical-align: top;\n",
              "    }\n",
              "\n",
              "    .dataframe thead th {\n",
              "        text-align: right;\n",
              "    }\n",
              "</style>\n",
              "<table border=\"1\" class=\"dataframe\">\n",
              "  <thead>\n",
              "    <tr style=\"text-align: right;\">\n",
              "      <th></th>\n",
              "      <th>0</th>\n",
              "      <th>1</th>\n",
              "      <th>2</th>\n",
              "      <th>3</th>\n",
              "      <th>4</th>\n",
              "      <th>5</th>\n",
              "      <th>6</th>\n",
              "      <th>7</th>\n",
              "      <th>8</th>\n",
              "      <th>9</th>\n",
              "      <th>10</th>\n",
              "      <th>11</th>\n",
              "      <th>12</th>\n",
              "      <th>13</th>\n",
              "      <th>14</th>\n",
              "      <th>15</th>\n",
              "      <th>16</th>\n",
              "      <th>17</th>\n",
              "      <th>18</th>\n",
              "      <th>19</th>\n",
              "      <th>20</th>\n",
              "      <th>21</th>\n",
              "      <th>22</th>\n",
              "      <th>23</th>\n",
              "    </tr>\n",
              "  </thead>\n",
              "  <tbody>\n",
              "    <tr>\n",
              "      <th>subscale</th>\n",
              "      <td>neg_pre</td>\n",
              "      <td>fear_pre</td>\n",
              "      <td>sad_pre</td>\n",
              "      <td>guilt_pre</td>\n",
              "      <td>host_pre</td>\n",
              "      <td>tired_pre</td>\n",
              "      <td>pos_pre</td>\n",
              "      <td>joy_pre</td>\n",
              "      <td>conf_pre</td>\n",
              "      <td>mind_pre</td>\n",
              "      <td>calm_pre</td>\n",
              "      <td>surp_pre</td>\n",
              "      <td>neg_post</td>\n",
              "      <td>fear_post</td>\n",
              "      <td>sad_post</td>\n",
              "      <td>guilt_post</td>\n",
              "      <td>host_post</td>\n",
              "      <td>tired_post</td>\n",
              "      <td>pos_post</td>\n",
              "      <td>joy_post</td>\n",
              "      <td>conf_post</td>\n",
              "      <td>mind_post</td>\n",
              "      <td>calm_post</td>\n",
              "      <td>surp_post</td>\n",
              "    </tr>\n",
              "    <tr>\n",
              "      <th>alpha</th>\n",
              "      <td>0.849</td>\n",
              "      <td>0.798</td>\n",
              "      <td>0.875</td>\n",
              "      <td>0.808</td>\n",
              "      <td>0.725</td>\n",
              "      <td>0.903</td>\n",
              "      <td>0.716</td>\n",
              "      <td>0.806</td>\n",
              "      <td>0.816</td>\n",
              "      <td>0.633</td>\n",
              "      <td>0.439</td>\n",
              "      <td>0.747</td>\n",
              "      <td>0.883</td>\n",
              "      <td>0.879</td>\n",
              "      <td>0.884</td>\n",
              "      <td>0.758</td>\n",
              "      <td>0.89</td>\n",
              "      <td>0.861</td>\n",
              "      <td>0.846</td>\n",
              "      <td>0.841</td>\n",
              "      <td>0.758</td>\n",
              "      <td>0.765</td>\n",
              "      <td>0.506</td>\n",
              "      <td>0.816</td>\n",
              "    </tr>\n",
              "  </tbody>\n",
              "</table>\n",
              "</div>"
            ],
            "text/plain": [
              "               0         1        2   ...         21         22         23\n",
              "subscale  neg_pre  fear_pre  sad_pre  ...  mind_post  calm_post  surp_post\n",
              "alpha       0.849     0.798    0.875  ...      0.765      0.506      0.816\n",
              "\n",
              "[2 rows x 24 columns]"
            ]
          },
          "metadata": {
            "tags": []
          },
          "execution_count": 47
        }
      ]
    },
    {
      "cell_type": "code",
      "metadata": {
        "id": "ZQPQmGBk6g0-"
      },
      "source": [
        ""
      ],
      "execution_count": null,
      "outputs": []
    }
  ]
}