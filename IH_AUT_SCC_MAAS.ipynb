{
  "nbformat": 4,
  "nbformat_minor": 0,
  "metadata": {
    "colab": {
      "name": "IH, AUT, SCC, MAAS.ipynb",
      "provenance": [],
      "collapsed_sections": [
        "yEFpSjgaulkd",
        "0GVxlBCOAV6S",
        "tt_I0KrrAiVB",
        "m6YB62xVIg-B",
        "hFfIX4XbKvBL",
        "OiBq10KhK4Bz",
        "8LSCXxiCNPdB",
        "ddPpzb-CR4lY",
        "vyMr4v0Td85A",
        "sIt5mbtCjP-M",
        "IDJ0AcWGWyrL",
        "tqySheZJXEhy",
        "Ax8nsEn4XQQH",
        "_e22hBbyXdXa",
        "qAeTf8PzXdJj",
        "sHODLFZTXdEX",
        "TXeCzBWxXdAV",
        "WeUTwbnSXc7N",
        "hVexiSbqXc0g",
        "A7hObrvAXctd",
        "mErlzg9cXcoW",
        "0fiX2Ekvq_oD",
        "TOEkJ6rhrFYQ",
        "vMAjJeZYrVI-"
      ],
      "toc_visible": true,
      "authorship_tag": "ABX9TyNmsFOrXV8zapaPgU2jMzVI",
      "include_colab_link": true
    },
    "kernelspec": {
      "name": "python3",
      "display_name": "Python 3"
    },
    "language_info": {
      "name": "python"
    }
  },
  "cells": [
    {
      "cell_type": "markdown",
      "metadata": {
        "id": "view-in-github",
        "colab_type": "text"
      },
      "source": [
        "<a href=\"https://colab.research.google.com/github/BartoszJanJerzy/stats/blob/main/IH_AUT_SCC_MAAS.ipynb\" target=\"_parent\"><img src=\"https://colab.research.google.com/assets/colab-badge.svg\" alt=\"Open In Colab\"/></a>"
      ]
    },
    {
      "cell_type": "markdown",
      "metadata": {
        "id": "M-aaicXCtJGV"
      },
      "source": [
        "#WELCOME!\n",
        "\n",
        "We (Jan Kutnik, Bartosz Wójtowicz, Wacław Bąk, The John Paul II Catholic University of Lublin) wrote this this code to calculate results in our article titled 'TITLE'.\n",
        "\n",
        "---\n",
        "\n",
        "What is the scehdule?\n",
        "\n",
        "1 - import libraries\n",
        "\n",
        "2 - functions used later\n",
        "\n",
        "3 - import data and screening\n",
        "\n",
        "4 - reliability coeffs (Cronbach's alpha)\n",
        "\n",
        "5 - select subscale to analyze\n",
        "\n",
        "6 - correlation matrix\n",
        "\n",
        "7 - main analysis: linear regressions\n",
        "\n",
        "8 - extra analysis: curvilinear regressions\n",
        "\n",
        "---\n",
        "\n",
        "We share this code with you, feel free to use or check it."
      ]
    },
    {
      "cell_type": "markdown",
      "metadata": {
        "id": "yEFpSjgaulkd"
      },
      "source": [
        "#1 - Libraries"
      ]
    },
    {
      "cell_type": "code",
      "metadata": {
        "id": "3j8lg672_4Yp"
      },
      "source": [
        "import pandas as pd\n",
        "import numpy as np\n",
        "import plotly.graph_objects as go\n",
        "from plotly.subplots import make_subplots\n",
        "from scipy.stats import pearsonr\n",
        "\n",
        "import sklearn\n",
        "from sklearn.linear_model import LinearRegression\n",
        "from sklearn.preprocessing import PolynomialFeatures\n",
        "from sklearn.metrics import r2_score"
      ],
      "execution_count": 1,
      "outputs": []
    },
    {
      "cell_type": "markdown",
      "metadata": {
        "id": "0GVxlBCOAV6S"
      },
      "source": [
        "#2 - FUNCTIONS"
      ]
    },
    {
      "cell_type": "code",
      "metadata": {
        "id": "3uRPsbwEARug"
      },
      "source": [
        "def MakeScatterPlot(df_1, df_2, title, x_title, y_title):\n",
        "  fig = go.Figure(\n",
        "      data=go.Scatter(\n",
        "          x = df_1,\n",
        "          y = df_2,\n",
        "          mode = 'markers'\n",
        "          ),\n",
        "      layout=go.Layout(\n",
        "          title = title,\n",
        "          xaxis_title = x_title,\n",
        "          yaxis_title = y_title,\n",
        "          width = 1000,\n",
        "          height = 700\n",
        "      ))\n",
        "  fig.show()"
      ],
      "execution_count": 2,
      "outputs": []
    },
    {
      "cell_type": "code",
      "metadata": {
        "id": "RQzHCSN7d4ny"
      },
      "source": [
        "def MakeRegressions(X, y):\n",
        "  # regresja liniowa\n",
        "  regressor = LinearRegression()\n",
        "  regressor.fit(X, y)\n",
        "  y_pred_lin = regressor.predict(X)\n",
        "\n",
        "  linear_r2 = r2_score(y, y_pred_lin)\n",
        "  print('Regresja liniowa R2 = ',linear_r2)\n",
        "\n",
        "\n",
        "  # regresja kwadratowa\n",
        "  poly = PolynomialFeatures(degree=2)\n",
        "  X_2 = poly.fit_transform(X)\n",
        "  regressor.fit(X_2,y)\n",
        "  y_pred_2 = regressor.predict(X_2)\n",
        "  squared_r2 = r2_score(y, y_pred_2)\n",
        "  print('Regresja kwadratowa R2 = ',squared_r2)\n",
        "\n",
        "  # regresja stopnia 3\n",
        "  poly = PolynomialFeatures(degree=3)\n",
        "  X_3 = poly.fit_transform(X)\n",
        "  regressor.fit(X_3,y)\n",
        "  y_pred_3 = regressor.predict(X_3)\n",
        "  deg3_r2 = r2_score(y, y_pred_3)\n",
        "  print('Regresja stopnia 3 R2 = ',deg3_r2)\n",
        "\n",
        "  # regresja stopnia 4\n",
        "  poly = PolynomialFeatures(degree=4)\n",
        "  X_4 = poly.fit_transform(X)\n",
        "  regressor.fit(X_4,y)\n",
        "  y_pred_4 = regressor.predict(X_4)\n",
        "  deg4_r2 = r2_score(y, y_pred_4)\n",
        "  print('Regresja stopnia 4 R2 = ',deg4_r2)"
      ],
      "execution_count": 3,
      "outputs": []
    },
    {
      "cell_type": "markdown",
      "metadata": {
        "id": "tt_I0KrrAiVB"
      },
      "source": [
        "#3 - DATA\n",
        "give a .xlsx file"
      ]
    },
    {
      "cell_type": "code",
      "metadata": {
        "colab": {
          "base_uri": "https://localhost:8080/",
          "height": 238
        },
        "id": "dl48ZS-IAdEh",
        "outputId": "a2bbae50-893c-45c4-8d94-b5acceabd3a0"
      },
      "source": [
        "data_raw = pd.read_excel('/content/data_whole.xlsx')\n",
        "data_whole = data_raw.copy()\n",
        "data_whole.head()"
      ],
      "execution_count": 4,
      "outputs": [
        {
          "output_type": "execute_result",
          "data": {
            "text/html": [
              "<div>\n",
              "<style scoped>\n",
              "    .dataframe tbody tr th:only-of-type {\n",
              "        vertical-align: middle;\n",
              "    }\n",
              "\n",
              "    .dataframe tbody tr th {\n",
              "        vertical-align: top;\n",
              "    }\n",
              "\n",
              "    .dataframe thead th {\n",
              "        text-align: right;\n",
              "    }\n",
              "</style>\n",
              "<table border=\"1\" class=\"dataframe\">\n",
              "  <thead>\n",
              "    <tr style=\"text-align: right;\">\n",
              "      <th></th>\n",
              "      <th>id</th>\n",
              "      <th>survey_finish_time</th>\n",
              "      <th>sex</th>\n",
              "      <th>age</th>\n",
              "      <th>city</th>\n",
              "      <th>mmih1</th>\n",
              "      <th>mmih2</th>\n",
              "      <th>mmih3</th>\n",
              "      <th>mmih4</th>\n",
              "      <th>mmih5</th>\n",
              "      <th>mmih6</th>\n",
              "      <th>mmih7</th>\n",
              "      <th>mmih8</th>\n",
              "      <th>mmih9</th>\n",
              "      <th>mmih10</th>\n",
              "      <th>mmih11</th>\n",
              "      <th>mmih12</th>\n",
              "      <th>mmih13</th>\n",
              "      <th>mmih14</th>\n",
              "      <th>mmih15</th>\n",
              "      <th>mmih16</th>\n",
              "      <th>mmih17</th>\n",
              "      <th>mmih18</th>\n",
              "      <th>mmih19</th>\n",
              "      <th>mmih20</th>\n",
              "      <th>mmih21</th>\n",
              "      <th>mmih22</th>\n",
              "      <th>mmih1R</th>\n",
              "      <th>mmih3R</th>\n",
              "      <th>mmih4R</th>\n",
              "      <th>mmih6R</th>\n",
              "      <th>mmih7R</th>\n",
              "      <th>mmih10R</th>\n",
              "      <th>mmih12R</th>\n",
              "      <th>mmih14R</th>\n",
              "      <th>mmih16R</th>\n",
              "      <th>mmih17R</th>\n",
              "      <th>mmih18R</th>\n",
              "      <th>mmih19R</th>\n",
              "      <th>mmih20R</th>\n",
              "      <th>...</th>\n",
              "      <th>aut3_r34</th>\n",
              "      <th>aut3_r35</th>\n",
              "      <th>aut3_r36</th>\n",
              "      <th>aut3_r37</th>\n",
              "      <th>aut3_r38</th>\n",
              "      <th>aut3_r39</th>\n",
              "      <th>aut3_r40</th>\n",
              "      <th>aut3_r41</th>\n",
              "      <th>aut3_r42</th>\n",
              "      <th>aut3_r43</th>\n",
              "      <th>aut3_r44</th>\n",
              "      <th>aut3_r45</th>\n",
              "      <th>AUT</th>\n",
              "      <th>Awarness</th>\n",
              "      <th>Unbiased</th>\n",
              "      <th>Behavioral</th>\n",
              "      <th>Relational</th>\n",
              "      <th>scc_r1</th>\n",
              "      <th>scc_r2</th>\n",
              "      <th>scc_r3</th>\n",
              "      <th>scc_r4</th>\n",
              "      <th>scc_r5</th>\n",
              "      <th>scc_r6</th>\n",
              "      <th>scc_r7</th>\n",
              "      <th>scc_r8</th>\n",
              "      <th>scc_r9</th>\n",
              "      <th>scc_r10</th>\n",
              "      <th>scc_r11</th>\n",
              "      <th>scc_r12</th>\n",
              "      <th>scc_r1_R</th>\n",
              "      <th>scc_r2_R</th>\n",
              "      <th>scc_r3_R</th>\n",
              "      <th>scc_r4_R</th>\n",
              "      <th>scc_r5_R</th>\n",
              "      <th>scc_r7_R</th>\n",
              "      <th>scc_r8_R</th>\n",
              "      <th>scc_r9_R</th>\n",
              "      <th>scc_r10_R</th>\n",
              "      <th>scc_r12_R</th>\n",
              "      <th>SCC</th>\n",
              "    </tr>\n",
              "  </thead>\n",
              "  <tbody>\n",
              "    <tr>\n",
              "      <th>0</th>\n",
              "      <td>1</td>\n",
              "      <td>554</td>\n",
              "      <td>1</td>\n",
              "      <td>2</td>\n",
              "      <td>4</td>\n",
              "      <td>2</td>\n",
              "      <td>6</td>\n",
              "      <td>5</td>\n",
              "      <td>5</td>\n",
              "      <td>6</td>\n",
              "      <td>3</td>\n",
              "      <td>3</td>\n",
              "      <td>1</td>\n",
              "      <td>6</td>\n",
              "      <td>4</td>\n",
              "      <td>4</td>\n",
              "      <td>4</td>\n",
              "      <td>6</td>\n",
              "      <td>6</td>\n",
              "      <td>6</td>\n",
              "      <td>4</td>\n",
              "      <td>3</td>\n",
              "      <td>3</td>\n",
              "      <td>3</td>\n",
              "      <td>3</td>\n",
              "      <td>3</td>\n",
              "      <td>3</td>\n",
              "      <td>6</td>\n",
              "      <td>3</td>\n",
              "      <td>3</td>\n",
              "      <td>5</td>\n",
              "      <td>5</td>\n",
              "      <td>4</td>\n",
              "      <td>4</td>\n",
              "      <td>2</td>\n",
              "      <td>4</td>\n",
              "      <td>5</td>\n",
              "      <td>5</td>\n",
              "      <td>5</td>\n",
              "      <td>5</td>\n",
              "      <td>...</td>\n",
              "      <td>4</td>\n",
              "      <td>3</td>\n",
              "      <td>3</td>\n",
              "      <td>3</td>\n",
              "      <td>3</td>\n",
              "      <td>4</td>\n",
              "      <td>4</td>\n",
              "      <td>3</td>\n",
              "      <td>3</td>\n",
              "      <td>3</td>\n",
              "      <td>3</td>\n",
              "      <td>3</td>\n",
              "      <td>150</td>\n",
              "      <td>40</td>\n",
              "      <td>33</td>\n",
              "      <td>33</td>\n",
              "      <td>44</td>\n",
              "      <td>3</td>\n",
              "      <td>4</td>\n",
              "      <td>2</td>\n",
              "      <td>2</td>\n",
              "      <td>2</td>\n",
              "      <td>2</td>\n",
              "      <td>2</td>\n",
              "      <td>2</td>\n",
              "      <td>2</td>\n",
              "      <td>2</td>\n",
              "      <td>4</td>\n",
              "      <td>3</td>\n",
              "      <td>3</td>\n",
              "      <td>2</td>\n",
              "      <td>4</td>\n",
              "      <td>4</td>\n",
              "      <td>4</td>\n",
              "      <td>4</td>\n",
              "      <td>4</td>\n",
              "      <td>4</td>\n",
              "      <td>4</td>\n",
              "      <td>3</td>\n",
              "      <td>42</td>\n",
              "    </tr>\n",
              "    <tr>\n",
              "      <th>1</th>\n",
              "      <td>2</td>\n",
              "      <td>1348</td>\n",
              "      <td>2</td>\n",
              "      <td>4</td>\n",
              "      <td>3</td>\n",
              "      <td>3</td>\n",
              "      <td>1</td>\n",
              "      <td>4</td>\n",
              "      <td>3</td>\n",
              "      <td>7</td>\n",
              "      <td>5</td>\n",
              "      <td>1</td>\n",
              "      <td>4</td>\n",
              "      <td>7</td>\n",
              "      <td>5</td>\n",
              "      <td>7</td>\n",
              "      <td>4</td>\n",
              "      <td>6</td>\n",
              "      <td>6</td>\n",
              "      <td>6</td>\n",
              "      <td>4</td>\n",
              "      <td>4</td>\n",
              "      <td>4</td>\n",
              "      <td>2</td>\n",
              "      <td>2</td>\n",
              "      <td>2</td>\n",
              "      <td>2</td>\n",
              "      <td>5</td>\n",
              "      <td>4</td>\n",
              "      <td>5</td>\n",
              "      <td>3</td>\n",
              "      <td>7</td>\n",
              "      <td>3</td>\n",
              "      <td>4</td>\n",
              "      <td>2</td>\n",
              "      <td>4</td>\n",
              "      <td>4</td>\n",
              "      <td>4</td>\n",
              "      <td>6</td>\n",
              "      <td>6</td>\n",
              "      <td>...</td>\n",
              "      <td>4</td>\n",
              "      <td>3</td>\n",
              "      <td>3</td>\n",
              "      <td>4</td>\n",
              "      <td>4</td>\n",
              "      <td>3</td>\n",
              "      <td>5</td>\n",
              "      <td>5</td>\n",
              "      <td>3</td>\n",
              "      <td>4</td>\n",
              "      <td>4</td>\n",
              "      <td>4</td>\n",
              "      <td>170</td>\n",
              "      <td>46</td>\n",
              "      <td>35</td>\n",
              "      <td>40</td>\n",
              "      <td>49</td>\n",
              "      <td>2</td>\n",
              "      <td>1</td>\n",
              "      <td>3</td>\n",
              "      <td>3</td>\n",
              "      <td>2</td>\n",
              "      <td>4</td>\n",
              "      <td>2</td>\n",
              "      <td>3</td>\n",
              "      <td>2</td>\n",
              "      <td>2</td>\n",
              "      <td>4</td>\n",
              "      <td>2</td>\n",
              "      <td>4</td>\n",
              "      <td>5</td>\n",
              "      <td>3</td>\n",
              "      <td>3</td>\n",
              "      <td>4</td>\n",
              "      <td>4</td>\n",
              "      <td>3</td>\n",
              "      <td>4</td>\n",
              "      <td>4</td>\n",
              "      <td>4</td>\n",
              "      <td>46</td>\n",
              "    </tr>\n",
              "    <tr>\n",
              "      <th>2</th>\n",
              "      <td>3</td>\n",
              "      <td>1092</td>\n",
              "      <td>2</td>\n",
              "      <td>3</td>\n",
              "      <td>3</td>\n",
              "      <td>4</td>\n",
              "      <td>5</td>\n",
              "      <td>5</td>\n",
              "      <td>5</td>\n",
              "      <td>5</td>\n",
              "      <td>3</td>\n",
              "      <td>4</td>\n",
              "      <td>4</td>\n",
              "      <td>5</td>\n",
              "      <td>4</td>\n",
              "      <td>4</td>\n",
              "      <td>3</td>\n",
              "      <td>4</td>\n",
              "      <td>3</td>\n",
              "      <td>4</td>\n",
              "      <td>3</td>\n",
              "      <td>3</td>\n",
              "      <td>4</td>\n",
              "      <td>4</td>\n",
              "      <td>4</td>\n",
              "      <td>4</td>\n",
              "      <td>4</td>\n",
              "      <td>4</td>\n",
              "      <td>3</td>\n",
              "      <td>3</td>\n",
              "      <td>5</td>\n",
              "      <td>4</td>\n",
              "      <td>4</td>\n",
              "      <td>5</td>\n",
              "      <td>5</td>\n",
              "      <td>5</td>\n",
              "      <td>5</td>\n",
              "      <td>4</td>\n",
              "      <td>4</td>\n",
              "      <td>4</td>\n",
              "      <td>...</td>\n",
              "      <td>2</td>\n",
              "      <td>2</td>\n",
              "      <td>2</td>\n",
              "      <td>3</td>\n",
              "      <td>3</td>\n",
              "      <td>3</td>\n",
              "      <td>3</td>\n",
              "      <td>3</td>\n",
              "      <td>4</td>\n",
              "      <td>2</td>\n",
              "      <td>3</td>\n",
              "      <td>3</td>\n",
              "      <td>131</td>\n",
              "      <td>35</td>\n",
              "      <td>31</td>\n",
              "      <td>33</td>\n",
              "      <td>32</td>\n",
              "      <td>4</td>\n",
              "      <td>4</td>\n",
              "      <td>2</td>\n",
              "      <td>4</td>\n",
              "      <td>3</td>\n",
              "      <td>2</td>\n",
              "      <td>3</td>\n",
              "      <td>4</td>\n",
              "      <td>4</td>\n",
              "      <td>2</td>\n",
              "      <td>2</td>\n",
              "      <td>4</td>\n",
              "      <td>2</td>\n",
              "      <td>2</td>\n",
              "      <td>4</td>\n",
              "      <td>2</td>\n",
              "      <td>3</td>\n",
              "      <td>3</td>\n",
              "      <td>2</td>\n",
              "      <td>2</td>\n",
              "      <td>4</td>\n",
              "      <td>2</td>\n",
              "      <td>30</td>\n",
              "    </tr>\n",
              "    <tr>\n",
              "      <th>3</th>\n",
              "      <td>4</td>\n",
              "      <td>1494</td>\n",
              "      <td>1</td>\n",
              "      <td>4</td>\n",
              "      <td>3</td>\n",
              "      <td>1</td>\n",
              "      <td>7</td>\n",
              "      <td>3</td>\n",
              "      <td>2</td>\n",
              "      <td>7</td>\n",
              "      <td>4</td>\n",
              "      <td>1</td>\n",
              "      <td>5</td>\n",
              "      <td>7</td>\n",
              "      <td>4</td>\n",
              "      <td>7</td>\n",
              "      <td>4</td>\n",
              "      <td>7</td>\n",
              "      <td>3</td>\n",
              "      <td>7</td>\n",
              "      <td>7</td>\n",
              "      <td>1</td>\n",
              "      <td>1</td>\n",
              "      <td>1</td>\n",
              "      <td>2</td>\n",
              "      <td>1</td>\n",
              "      <td>1</td>\n",
              "      <td>7</td>\n",
              "      <td>5</td>\n",
              "      <td>6</td>\n",
              "      <td>4</td>\n",
              "      <td>7</td>\n",
              "      <td>4</td>\n",
              "      <td>4</td>\n",
              "      <td>5</td>\n",
              "      <td>1</td>\n",
              "      <td>7</td>\n",
              "      <td>7</td>\n",
              "      <td>7</td>\n",
              "      <td>6</td>\n",
              "      <td>...</td>\n",
              "      <td>3</td>\n",
              "      <td>3</td>\n",
              "      <td>4</td>\n",
              "      <td>2</td>\n",
              "      <td>4</td>\n",
              "      <td>2</td>\n",
              "      <td>4</td>\n",
              "      <td>4</td>\n",
              "      <td>4</td>\n",
              "      <td>4</td>\n",
              "      <td>4</td>\n",
              "      <td>4</td>\n",
              "      <td>167</td>\n",
              "      <td>47</td>\n",
              "      <td>35</td>\n",
              "      <td>42</td>\n",
              "      <td>43</td>\n",
              "      <td>2</td>\n",
              "      <td>2</td>\n",
              "      <td>2</td>\n",
              "      <td>2</td>\n",
              "      <td>3</td>\n",
              "      <td>2</td>\n",
              "      <td>2</td>\n",
              "      <td>2</td>\n",
              "      <td>2</td>\n",
              "      <td>2</td>\n",
              "      <td>4</td>\n",
              "      <td>2</td>\n",
              "      <td>4</td>\n",
              "      <td>4</td>\n",
              "      <td>4</td>\n",
              "      <td>4</td>\n",
              "      <td>3</td>\n",
              "      <td>4</td>\n",
              "      <td>4</td>\n",
              "      <td>4</td>\n",
              "      <td>4</td>\n",
              "      <td>4</td>\n",
              "      <td>45</td>\n",
              "    </tr>\n",
              "    <tr>\n",
              "      <th>4</th>\n",
              "      <td>5</td>\n",
              "      <td>382</td>\n",
              "      <td>2</td>\n",
              "      <td>3</td>\n",
              "      <td>4</td>\n",
              "      <td>2</td>\n",
              "      <td>1</td>\n",
              "      <td>5</td>\n",
              "      <td>5</td>\n",
              "      <td>4</td>\n",
              "      <td>5</td>\n",
              "      <td>3</td>\n",
              "      <td>4</td>\n",
              "      <td>5</td>\n",
              "      <td>3</td>\n",
              "      <td>5</td>\n",
              "      <td>4</td>\n",
              "      <td>4</td>\n",
              "      <td>5</td>\n",
              "      <td>3</td>\n",
              "      <td>3</td>\n",
              "      <td>4</td>\n",
              "      <td>5</td>\n",
              "      <td>5</td>\n",
              "      <td>6</td>\n",
              "      <td>5</td>\n",
              "      <td>4</td>\n",
              "      <td>6</td>\n",
              "      <td>3</td>\n",
              "      <td>3</td>\n",
              "      <td>3</td>\n",
              "      <td>5</td>\n",
              "      <td>5</td>\n",
              "      <td>4</td>\n",
              "      <td>3</td>\n",
              "      <td>5</td>\n",
              "      <td>4</td>\n",
              "      <td>3</td>\n",
              "      <td>3</td>\n",
              "      <td>2</td>\n",
              "      <td>...</td>\n",
              "      <td>2</td>\n",
              "      <td>2</td>\n",
              "      <td>3</td>\n",
              "      <td>3</td>\n",
              "      <td>3</td>\n",
              "      <td>2</td>\n",
              "      <td>4</td>\n",
              "      <td>3</td>\n",
              "      <td>2</td>\n",
              "      <td>3</td>\n",
              "      <td>3</td>\n",
              "      <td>3</td>\n",
              "      <td>123</td>\n",
              "      <td>31</td>\n",
              "      <td>26</td>\n",
              "      <td>30</td>\n",
              "      <td>36</td>\n",
              "      <td>3</td>\n",
              "      <td>4</td>\n",
              "      <td>4</td>\n",
              "      <td>4</td>\n",
              "      <td>3</td>\n",
              "      <td>3</td>\n",
              "      <td>3</td>\n",
              "      <td>2</td>\n",
              "      <td>2</td>\n",
              "      <td>3</td>\n",
              "      <td>4</td>\n",
              "      <td>3</td>\n",
              "      <td>3</td>\n",
              "      <td>2</td>\n",
              "      <td>2</td>\n",
              "      <td>2</td>\n",
              "      <td>3</td>\n",
              "      <td>3</td>\n",
              "      <td>4</td>\n",
              "      <td>4</td>\n",
              "      <td>3</td>\n",
              "      <td>3</td>\n",
              "      <td>36</td>\n",
              "    </tr>\n",
              "  </tbody>\n",
              "</table>\n",
              "<p>5 rows × 175 columns</p>\n",
              "</div>"
            ],
            "text/plain": [
              "   id  survey_finish_time  sex  age  ...  scc_r9_R  scc_r10_R  scc_r12_R  SCC\n",
              "0   1                 554    1    2  ...         4          4          3   42\n",
              "1   2                1348    2    4  ...         4          4          4   46\n",
              "2   3                1092    2    3  ...         2          4          2   30\n",
              "3   4                1494    1    4  ...         4          4          4   45\n",
              "4   5                 382    2    3  ...         4          3          3   36\n",
              "\n",
              "[5 rows x 175 columns]"
            ]
          },
          "metadata": {
            "tags": []
          },
          "execution_count": 4
        }
      ]
    },
    {
      "cell_type": "code",
      "metadata": {
        "colab": {
          "base_uri": "https://localhost:8080/"
        },
        "id": "9rXM1Br6PAfk",
        "outputId": "bcb5598c-6b40-413e-9e66-52a697c7c8cb"
      },
      "source": [
        "for c in data_whole.columns:\n",
        "  print(c)"
      ],
      "execution_count": 5,
      "outputs": [
        {
          "output_type": "stream",
          "text": [
            "id\n",
            "survey_finish_time\n",
            "sex\n",
            "age\n",
            "city\n",
            "mmih1\n",
            "mmih2\n",
            "mmih3\n",
            "mmih4\n",
            "mmih5\n",
            "mmih6\n",
            "mmih7\n",
            "mmih8\n",
            "mmih9\n",
            "mmih10\n",
            "mmih11\n",
            "mmih12\n",
            "mmih13\n",
            "mmih14\n",
            "mmih15\n",
            "mmih16\n",
            "mmih17\n",
            "mmih18\n",
            "mmih19\n",
            "mmih20\n",
            "mmih21\n",
            "mmih22\n",
            "mmih1R\n",
            "mmih3R\n",
            "mmih4R\n",
            "mmih6R\n",
            "mmih7R\n",
            "mmih10R\n",
            "mmih12R\n",
            "mmih14R\n",
            "mmih16R\n",
            "mmih17R\n",
            "mmih18R\n",
            "mmih19R\n",
            "mmih20R\n",
            "mmih21R\n",
            "mmih22R\n",
            "OPM\n",
            "MODIF\n",
            "COR\n",
            "ENG\n",
            "IH_MMIH\n",
            "cihs_r1\n",
            "cihs2\n",
            "cihs3\n",
            "cihs_r4\n",
            "cihs_r5\n",
            "cihs6\n",
            "cihs7\n",
            "cihs_r8\n",
            "cihs_r9\n",
            "cihs10\n",
            "cihs11\n",
            "cihs_r12\n",
            "cihs_r13\n",
            "cihs14\n",
            "cihs15\n",
            "cihs_r16\n",
            "cihs_r17\n",
            "cihs18\n",
            "cihs_kontr\n",
            "cihs19\n",
            "cihs_r20\n",
            "cihs21\n",
            "cihs_r22\n",
            "cihs1R\n",
            "cihs4R\n",
            "cihs5R\n",
            "cihs8R\n",
            "cihs9R\n",
            "cihs12R\n",
            "cihs13R\n",
            "cihs16R\n",
            "cihs17R\n",
            "cihs20R\n",
            "cihs22R\n",
            "INDEP\n",
            "OPEN\n",
            "RESP\n",
            "LACK\n",
            "IH_CIHS\n",
            "maas_r1\n",
            "maas_r2\n",
            "maas_r3\n",
            "maas_r4\n",
            "maas_r5\n",
            "maas_r6\n",
            "maas_r7\n",
            "maas_r8\n",
            "maas_r9\n",
            "maas_r10\n",
            "maas_r11\n",
            "maas_r12\n",
            "maas_r13\n",
            "maas_r14\n",
            "maas_r15\n",
            "MAAS\n",
            "aut3_r1\n",
            "aut3_r2\n",
            "aut3_r3\n",
            "aut3_r4\n",
            "aut3_r5\n",
            "aut3_r6\n",
            "aut3_r7\n",
            "aut3_r8\n",
            "aut3_r9\n",
            "aut3_r10\n",
            "aut3_r11\n",
            "aut3_r12\n",
            "aut3_r13\n",
            "aut3_r14\n",
            "aut3_r15\n",
            "aut3_r16\n",
            "aut3_r17\n",
            "aut3_r18\n",
            "aut3_r19\n",
            "aut3_r20\n",
            "aut3_r21\n",
            "aut3_r22\n",
            "aut3_r23\n",
            "aut3_r24\n",
            "aut3_r25\n",
            "aut3_r26\n",
            "aut3_r27\n",
            "aut3_r28\n",
            "aut3_r29\n",
            "aut3_r30\n",
            "aut3_r31\n",
            "aut3_r32\n",
            "aut3_r33\n",
            "aut3_r34\n",
            "aut3_r35\n",
            "aut3_r36\n",
            "aut3_r37\n",
            "aut3_r38\n",
            "aut3_r39\n",
            "aut3_r40\n",
            "aut3_r41\n",
            "aut3_r42\n",
            "aut3_r43\n",
            "aut3_r44\n",
            "aut3_r45\n",
            "AUT\n",
            "Awarness\n",
            "Unbiased\n",
            "Behavioral\n",
            "Relational\n",
            "scc_r1\n",
            "scc_r2\n",
            "scc_r3\n",
            "scc_r4\n",
            "scc_r5\n",
            "scc_r6\n",
            "scc_r7\n",
            "scc_r8\n",
            "scc_r9\n",
            "scc_r10\n",
            "scc_r11\n",
            "scc_r12\n",
            "scc_r1_R\n",
            "scc_r2_R\n",
            "scc_r3_R\n",
            "scc_r4_R\n",
            "scc_r5_R\n",
            "scc_r7_R\n",
            "scc_r8_R\n",
            "scc_r9_R\n",
            "scc_r10_R\n",
            "scc_r12_R\n",
            "SCC\n"
          ],
          "name": "stdout"
        }
      ]
    },
    {
      "cell_type": "markdown",
      "metadata": {
        "id": "m6YB62xVIg-B"
      },
      "source": [
        "##Screening data\n",
        "Delete outliers -> delete record if results of at least one subscale is lower than -3SD or higher than +3SD"
      ]
    },
    {
      "cell_type": "markdown",
      "metadata": {
        "id": "hFfIX4XbKvBL"
      },
      "source": [
        "###Calcualte means and std"
      ]
    },
    {
      "cell_type": "code",
      "metadata": {
        "id": "ZnWFtE0dI5Y9"
      },
      "source": [
        "# CIHS\n",
        "mean_indep = data_whole['INDEP'].mean()\n",
        "sd_indep = data_whole['INDEP'].std()\n",
        "mean_open = data_whole['OPEN'].mean()\n",
        "sd_open = data_whole['OPEN'].std()\n",
        "mean_resp = data_whole['RESP'].mean()\n",
        "sd_resp = data_whole['RESP'].std()\n",
        "mean_lack = data_whole['LACK'].mean()\n",
        "sd_lack = data_whole['LACK'].std()\n",
        "\n",
        "# MMIH\n",
        "mean_mmih = data_whole['IH_MMIH'].mean()\n",
        "sd_mmih = data_whole['IH_MMIH'].std()\n",
        "\n",
        "# AUT\n",
        "mean_aut = data_whole['AUT'].mean()\n",
        "sd_aut = data_whole['AUT'].std()\n",
        "\n",
        "# MAAS\n",
        "mean_maas = data_whole['MAAS'].mean()\n",
        "sd_maas = data_whole['MAAS'].std()\n",
        "\n",
        "# SCC\n",
        "mean_scc = data_whole['SCC'].mean()\n",
        "sd_scc = data_whole['SCC'].std()"
      ],
      "execution_count": 6,
      "outputs": []
    },
    {
      "cell_type": "markdown",
      "metadata": {
        "id": "OiBq10KhK4Bz"
      },
      "source": [
        "###Prepare filters"
      ]
    },
    {
      "cell_type": "code",
      "metadata": {
        "id": "gnP-xTVHK744"
      },
      "source": [
        "# CIHS\n",
        "filter_1 = data_whole['INDEP'] > mean_indep - 3*sd_indep\n",
        "filter_2 = data_whole['INDEP'] < mean_indep + 3*sd_indep\n",
        "filter_3 = data_whole['OPEN'] > mean_open - 3*sd_open\n",
        "filter_4 = data_whole['OPEN'] < mean_open + 3*sd_open\n",
        "filter_5 = data_whole['RESP'] > mean_resp - 3*sd_resp\n",
        "filter_6 = data_whole['RESP'] < mean_resp + 3*sd_resp\n",
        "filter_7 = data_whole['LACK'] > mean_open - 3*sd_lack\n",
        "filter_8 = data_whole['LACK'] < mean_open + 3*sd_lack\n",
        "\n",
        "# MMIH\n",
        "filter_9 = data_whole['IH_MMIH'] > mean_mmih - 3*sd_mmih\n",
        "filter_10 = data_whole['IH_MMIH'] < mean_mmih + 3*sd_mmih\n",
        "\n",
        "# AUT\n",
        "filter_11 = data_whole['AUT'] > mean_aut - 3*sd_aut\n",
        "filter_12 = data_whole['AUT'] < mean_aut + 3*sd_aut\n",
        "\n",
        "# MAAS\n",
        "filter_13 = data_whole['MAAS'] > mean_maas - 3*sd_maas\n",
        "filter_14 = data_whole['MAAS'] < mean_maas + 3*sd_maas\n",
        "\n",
        "# SCC\n",
        "filter_15 = data_whole['SCC'] > mean_scc - 3*sd_scc\n",
        "filter_16 = data_whole['SCC'] < mean_scc + 3*sd_scc"
      ],
      "execution_count": 7,
      "outputs": []
    },
    {
      "cell_type": "markdown",
      "metadata": {
        "id": "8LSCXxiCNPdB"
      },
      "source": [
        "###Use filters"
      ]
    },
    {
      "cell_type": "code",
      "metadata": {
        "colab": {
          "base_uri": "https://localhost:8080/"
        },
        "id": "GFEMhLMiNRmA",
        "outputId": "947acadb-dba4-4bcb-8b96-fdfc681c9753"
      },
      "source": [
        "filters = [filter_1, filter_2, filter_3, filter_4, filter_5, filter_6, filter_7, filter_8, filter_9, filter_10, filter_11, filter_12, filter_13, filter_14, filter_15, filter_16]\n",
        "\n",
        "for filter in filters:\n",
        "  data_whole = data_whole[filter]"
      ],
      "execution_count": 8,
      "outputs": [
        {
          "output_type": "stream",
          "text": [
            "/usr/local/lib/python3.7/dist-packages/ipykernel_launcher.py:4: UserWarning:\n",
            "\n",
            "Boolean Series key will be reindexed to match DataFrame index.\n",
            "\n"
          ],
          "name": "stderr"
        }
      ]
    },
    {
      "cell_type": "code",
      "metadata": {
        "colab": {
          "base_uri": "https://localhost:8080/"
        },
        "id": "Q33shrMbN6vN",
        "outputId": "6042f8fc-ba85-4bc4-a139-9db676145c89"
      },
      "source": [
        "print(f'The research sample - after screening -  has N={len(data_whole)}')"
      ],
      "execution_count": 9,
      "outputs": [
        {
          "output_type": "stream",
          "text": [
            "The research sample - after screening -  has N=441\n"
          ],
          "name": "stdout"
        }
      ]
    },
    {
      "cell_type": "markdown",
      "metadata": {
        "id": "bM67ynEzCTwY"
      },
      "source": [
        "#4 - RELIABILITY COEFFS"
      ]
    },
    {
      "cell_type": "markdown",
      "metadata": {
        "id": "ddPpzb-CR4lY"
      },
      "source": [
        "##Function"
      ]
    },
    {
      "cell_type": "code",
      "metadata": {
        "id": "L8lUs5RPHyOd"
      },
      "source": [
        "def CronbachAlphaa(df_list, names_list):\n",
        "  subscales = []\n",
        "  alpha = []\n",
        "\n",
        "  for df, name in zip(df_list, names_list):\n",
        "    # 1. Transform the df into a correlation matrix\n",
        "    df_corr = df.corr()\n",
        "\n",
        "    # 2.1 Calculate N\n",
        "    # The number of variables equals the number of columns in the df\n",
        "    N = df.shape[1]\n",
        "\n",
        "    # 2.2 Calculate R\n",
        "    # For this, we'll loop through the columns and append every\n",
        "    # relevant correlation to an array calles \"r_s\". Then, we'll\n",
        "    # calculate the mean of \"r_s\"\n",
        "    rs = np.array([])\n",
        "    for i, col in enumerate(df_corr.columns):\n",
        "        sum_ = df_corr[col][i+1:].values\n",
        "        rs = np.append(sum_, rs)\n",
        "    mean_r = np.mean(rs)\n",
        "\n",
        "    # 3. Use the formula to calculate Cronbach's Alpha\n",
        "    cronbach_alpha = (N * mean_r) / (1 + (N - 1) * mean_r)\n",
        "    cronbach_alpha = round(cronbach_alpha, 3)\n",
        "\n",
        "    subscales.append(name)\n",
        "    alpha.append(cronbach_alpha)\n",
        "  \n",
        "  alpha_dict = {\n",
        "      'subscale':subscales,\n",
        "      'alpha':alpha\n",
        "  }\n",
        "\n",
        "  return pd.DataFrame(alpha_dict)"
      ],
      "execution_count": 10,
      "outputs": []
    },
    {
      "cell_type": "markdown",
      "metadata": {
        "id": "cs4lZLJWR7II"
      },
      "source": [
        "##Variables to function"
      ]
    },
    {
      "cell_type": "code",
      "metadata": {
        "id": "72WmY6K6QUrP"
      },
      "source": [
        "df_indep = data_whole[['cihs1R', 'cihs5R', 'cihs9R', 'cihs13R', 'cihs17R']]\n",
        "df_open = data_whole[['cihs2', 'cihs6', 'cihs10', 'cihs14', 'cihs18']]\n",
        "df_resp = data_whole[['cihs3', 'cihs7', 'cihs11', 'cihs15', 'cihs19', 'cihs21']]\n",
        "df_lack = data_whole[['cihs4R', 'cihs8R', 'cihs12R', 'cihs16R', 'cihs20R', 'cihs22R']]\n",
        "\n",
        "df_mmih = data_whole[['mmih1R','mmih2','mmih3R','mmih4R','mmih5','mmih6R','mmih7R','mmih8','mmih9','mmih10R','mmih11','mmih12R','mmih13','mmih14R','mmih15','mmih16R','mmih17R','mmih18R','mmih19R','mmih20R','mmih21R','mmih22R']]\n",
        "\n",
        "df_aut = data_whole[['aut3_r1','aut3_r2','aut3_r3','aut3_r4','aut3_r5','aut3_r6','aut3_r7','aut3_r8','aut3_r9','aut3_r10','aut3_r11','aut3_r12','aut3_r13','aut3_r14','aut3_r15','aut3_r16','aut3_r17','aut3_r18','aut3_r19','aut3_r20',\n",
        "                     'aut3_r21','aut3_r22','aut3_r23','aut3_r24','aut3_r25','aut3_r26','aut3_r27','aut3_r28','aut3_r29','aut3_r30','aut3_r31','aut3_r32','aut3_r33','aut3_r34','aut3_r35','aut3_r36','aut3_r37','aut3_r38','aut3_r39',\n",
        "                     'aut3_r40','aut3_r41','aut3_r42','aut3_r43','aut3_r44','aut3_r45']]\n",
        "\n",
        "df_scc = data_whole[['scc_r1_R','scc_r2_R','scc_r3_R','scc_r4_R','scc_r5_R','scc_r6','scc_r7_R','scc_r8_R','scc_r9_R','scc_r10_R','scc_r11','scc_r12_R']]\n",
        "\n",
        "df_maas = data_whole[['maas_r1','maas_r2','maas_r3','maas_r4','maas_r5','maas_r6','maas_r7','maas_r8','maas_r9','maas_r10','maas_r11','maas_r12','maas_r13','maas_r14','maas_r15',]]\n",
        "\n",
        "df_list = [df_indep, df_open, df_resp, df_lack, df_mmih, df_aut, df_scc, df_maas]\n",
        "names = ['indep','open', 'resp', 'lack','mmih','aut','scc','maas']"
      ],
      "execution_count": 11,
      "outputs": []
    },
    {
      "cell_type": "markdown",
      "metadata": {
        "id": "HSXjwhy4a9kG"
      },
      "source": [
        "##Calcualte alphas"
      ]
    },
    {
      "cell_type": "code",
      "metadata": {
        "colab": {
          "base_uri": "https://localhost:8080/",
          "height": 277
        },
        "id": "ZGTfENCMTCUo",
        "outputId": "6275b2f7-c31c-4e05-b9f6-ce977db7be85"
      },
      "source": [
        "df_alpha = CronbachAlphaa(df_list, names)\n",
        "\n",
        "df_alpha.to_excel('alpha.xlsx')\n",
        "df_alpha"
      ],
      "execution_count": 43,
      "outputs": [
        {
          "output_type": "execute_result",
          "data": {
            "text/html": [
              "<div>\n",
              "<style scoped>\n",
              "    .dataframe tbody tr th:only-of-type {\n",
              "        vertical-align: middle;\n",
              "    }\n",
              "\n",
              "    .dataframe tbody tr th {\n",
              "        vertical-align: top;\n",
              "    }\n",
              "\n",
              "    .dataframe thead th {\n",
              "        text-align: right;\n",
              "    }\n",
              "</style>\n",
              "<table border=\"1\" class=\"dataframe\">\n",
              "  <thead>\n",
              "    <tr style=\"text-align: right;\">\n",
              "      <th></th>\n",
              "      <th>subscale</th>\n",
              "      <th>alpha</th>\n",
              "    </tr>\n",
              "  </thead>\n",
              "  <tbody>\n",
              "    <tr>\n",
              "      <th>0</th>\n",
              "      <td>indep</td>\n",
              "      <td>0.863</td>\n",
              "    </tr>\n",
              "    <tr>\n",
              "      <th>1</th>\n",
              "      <td>open</td>\n",
              "      <td>0.739</td>\n",
              "    </tr>\n",
              "    <tr>\n",
              "      <th>2</th>\n",
              "      <td>resp</td>\n",
              "      <td>0.823</td>\n",
              "    </tr>\n",
              "    <tr>\n",
              "      <th>3</th>\n",
              "      <td>lack</td>\n",
              "      <td>0.566</td>\n",
              "    </tr>\n",
              "    <tr>\n",
              "      <th>4</th>\n",
              "      <td>mmih</td>\n",
              "      <td>0.821</td>\n",
              "    </tr>\n",
              "    <tr>\n",
              "      <th>5</th>\n",
              "      <td>aut</td>\n",
              "      <td>0.914</td>\n",
              "    </tr>\n",
              "    <tr>\n",
              "      <th>6</th>\n",
              "      <td>scc</td>\n",
              "      <td>0.883</td>\n",
              "    </tr>\n",
              "    <tr>\n",
              "      <th>7</th>\n",
              "      <td>maas</td>\n",
              "      <td>0.905</td>\n",
              "    </tr>\n",
              "  </tbody>\n",
              "</table>\n",
              "</div>"
            ],
            "text/plain": [
              "  subscale  alpha\n",
              "0    indep  0.863\n",
              "1     open  0.739\n",
              "2     resp  0.823\n",
              "3     lack  0.566\n",
              "4     mmih  0.821\n",
              "5      aut  0.914\n",
              "6      scc  0.883\n",
              "7     maas  0.905"
            ]
          },
          "metadata": {
            "tags": []
          },
          "execution_count": 43
        }
      ]
    },
    {
      "cell_type": "markdown",
      "metadata": {
        "id": "smZ3wRIFH-9p"
      },
      "source": [
        "#5 - Select subscales to analyze"
      ]
    },
    {
      "cell_type": "code",
      "metadata": {
        "id": "zosG-rf4cato"
      },
      "source": [
        "df_subscales = data_whole[['INDEP','OPEN','RESP','LACK','OPM','MODIF','COR','ENG','IH_MMIH','AUT','Awarness','Unbiased','Behavioral','Relational','MAAS','SCC']]\n",
        "df_subscales"
      ],
      "execution_count": null,
      "outputs": []
    },
    {
      "cell_type": "code",
      "metadata": {
        "colab": {
          "base_uri": "https://localhost:8080/"
        },
        "id": "pxFQb48Ocejk",
        "outputId": "c7ddb4fd-d9ad-4d51-bd44-fdb463b28451"
      },
      "source": [
        "print(f'The research sample - after screening -  has N={len(data_whole)}')"
      ],
      "execution_count": 17,
      "outputs": [
        {
          "output_type": "stream",
          "text": [
            "The research sample - after screening -  has N=441\n"
          ],
          "name": "stdout"
        }
      ]
    },
    {
      "cell_type": "markdown",
      "metadata": {
        "id": "J18AWDG38u_Q"
      },
      "source": [
        "##Descricptives stats"
      ]
    },
    {
      "cell_type": "code",
      "metadata": {
        "colab": {
          "base_uri": "https://localhost:8080/",
          "height": 277
        },
        "id": "K6AXQZLb8x_J",
        "outputId": "78d0d773-5a10-4b66-9bcd-821e3aa88ea6"
      },
      "source": [
        "means = []\n",
        "stds = []\n",
        "mins = []\n",
        "maxs = []\n",
        "\n",
        "# calculate stats\n",
        "for col in ['INDEP','OPEN','RESP','LACK','IH_MMIH','AUT','SCC','MAAS']:\n",
        "  means.append(round(df_subscales[col].mean(), 2))\n",
        "  stds.append(round(df_subscales[col].std(), 2))\n",
        "  mins.append(round(df_subscales[col].min(), 2))\n",
        "  maxs.append(round(df_subscales[col].max(), 2))\n",
        "\n",
        "# create matrix with stats\n",
        "dict_stats = {\n",
        "    'subscale':['indep','open', 'resp', 'lack','mmih','aut','scc','maas'],\n",
        "    'M':means,\n",
        "    'SD':stds,\n",
        "    'min':mins,\n",
        "    'max':maxs\n",
        "}\n",
        "\n",
        "df_stats = pd.DataFrame(dict_stats)\n",
        "df_stats['alpha'] = df_alpha['alpha']\n",
        "\n",
        "df_stats.to_excel('descriptives_stats.xlsx')\n",
        "df_stats"
      ],
      "execution_count": 46,
      "outputs": [
        {
          "output_type": "execute_result",
          "data": {
            "text/html": [
              "<div>\n",
              "<style scoped>\n",
              "    .dataframe tbody tr th:only-of-type {\n",
              "        vertical-align: middle;\n",
              "    }\n",
              "\n",
              "    .dataframe tbody tr th {\n",
              "        vertical-align: top;\n",
              "    }\n",
              "\n",
              "    .dataframe thead th {\n",
              "        text-align: right;\n",
              "    }\n",
              "</style>\n",
              "<table border=\"1\" class=\"dataframe\">\n",
              "  <thead>\n",
              "    <tr style=\"text-align: right;\">\n",
              "      <th></th>\n",
              "      <th>subscale</th>\n",
              "      <th>M</th>\n",
              "      <th>SD</th>\n",
              "      <th>min</th>\n",
              "      <th>max</th>\n",
              "      <th>alpha</th>\n",
              "    </tr>\n",
              "  </thead>\n",
              "  <tbody>\n",
              "    <tr>\n",
              "      <th>0</th>\n",
              "      <td>indep</td>\n",
              "      <td>3.13</td>\n",
              "      <td>0.89</td>\n",
              "      <td>1.00</td>\n",
              "      <td>5.00</td>\n",
              "      <td>0.863</td>\n",
              "    </tr>\n",
              "    <tr>\n",
              "      <th>1</th>\n",
              "      <td>open</td>\n",
              "      <td>3.70</td>\n",
              "      <td>0.60</td>\n",
              "      <td>1.80</td>\n",
              "      <td>5.00</td>\n",
              "      <td>0.739</td>\n",
              "    </tr>\n",
              "    <tr>\n",
              "      <th>2</th>\n",
              "      <td>resp</td>\n",
              "      <td>3.88</td>\n",
              "      <td>0.61</td>\n",
              "      <td>2.33</td>\n",
              "      <td>5.00</td>\n",
              "      <td>0.823</td>\n",
              "    </tr>\n",
              "    <tr>\n",
              "      <th>3</th>\n",
              "      <td>lack</td>\n",
              "      <td>2.89</td>\n",
              "      <td>0.52</td>\n",
              "      <td>1.83</td>\n",
              "      <td>5.00</td>\n",
              "      <td>0.566</td>\n",
              "    </tr>\n",
              "    <tr>\n",
              "      <th>4</th>\n",
              "      <td>mmih</td>\n",
              "      <td>4.45</td>\n",
              "      <td>0.69</td>\n",
              "      <td>2.86</td>\n",
              "      <td>6.41</td>\n",
              "      <td>0.821</td>\n",
              "    </tr>\n",
              "    <tr>\n",
              "      <th>5</th>\n",
              "      <td>aut</td>\n",
              "      <td>150.66</td>\n",
              "      <td>17.82</td>\n",
              "      <td>112.00</td>\n",
              "      <td>205.00</td>\n",
              "      <td>0.914</td>\n",
              "    </tr>\n",
              "    <tr>\n",
              "      <th>6</th>\n",
              "      <td>scc</td>\n",
              "      <td>38.37</td>\n",
              "      <td>8.01</td>\n",
              "      <td>20.00</td>\n",
              "      <td>60.00</td>\n",
              "      <td>0.883</td>\n",
              "    </tr>\n",
              "    <tr>\n",
              "      <th>7</th>\n",
              "      <td>maas</td>\n",
              "      <td>60.43</td>\n",
              "      <td>11.70</td>\n",
              "      <td>27.00</td>\n",
              "      <td>90.00</td>\n",
              "      <td>0.905</td>\n",
              "    </tr>\n",
              "  </tbody>\n",
              "</table>\n",
              "</div>"
            ],
            "text/plain": [
              "  subscale       M     SD     min     max  alpha\n",
              "0    indep    3.13   0.89    1.00    5.00  0.863\n",
              "1     open    3.70   0.60    1.80    5.00  0.739\n",
              "2     resp    3.88   0.61    2.33    5.00  0.823\n",
              "3     lack    2.89   0.52    1.83    5.00  0.566\n",
              "4     mmih    4.45   0.69    2.86    6.41  0.821\n",
              "5      aut  150.66  17.82  112.00  205.00  0.914\n",
              "6      scc   38.37   8.01   20.00   60.00  0.883\n",
              "7     maas   60.43  11.70   27.00   90.00  0.905"
            ]
          },
          "metadata": {
            "tags": []
          },
          "execution_count": 46
        }
      ]
    },
    {
      "cell_type": "markdown",
      "metadata": {
        "id": "3RaOK_aSc7xo"
      },
      "source": [
        "#6 - Run correlations"
      ]
    },
    {
      "cell_type": "markdown",
      "metadata": {
        "id": "vyMr4v0Td85A"
      },
      "source": [
        "##Prepare correlations to display"
      ]
    },
    {
      "cell_type": "code",
      "metadata": {
        "id": "aoL3TKFGjZn2"
      },
      "source": [
        "corr_list = []\n",
        "\n",
        "for scale_1 in ['INDEP','OPEN','RESP','LACK','IH_MMIH','AUT','SCC','MAAS']:\n",
        "  for scale_2 in ['INDEP','OPEN','RESP','LACK','IH_MMIH','AUT','SCC','MAAS']:\n",
        "    r = round(pearsonr(df_subscales[scale_1], df_subscales[scale_2])[0], 2)\n",
        "    p = round(pearsonr(df_subscales[scale_1], df_subscales[scale_2])[1], 3)\n",
        "\n",
        "    if str(p) == '0.0':\n",
        "      p = 0.001\n",
        "    \n",
        "    corr_list.append(f'{r} ({p})')"
      ],
      "execution_count": null,
      "outputs": []
    },
    {
      "cell_type": "markdown",
      "metadata": {
        "id": "sIt5mbtCjP-M"
      },
      "source": [
        "##Dispaly correlations"
      ]
    },
    {
      "cell_type": "code",
      "metadata": {
        "colab": {
          "base_uri": "https://localhost:8080/",
          "height": 326
        },
        "id": "q8rdXcfAFG_a",
        "outputId": "a0b38e87-5396-4896-fd9e-d3558926d9cd"
      },
      "source": [
        "corr_dict = {\n",
        "    'scale':['INDEP','OPEN','RESP','LACK','IH_MMIH','AUT','SCC','MAAS'],\n",
        "    'INDEP':corr_list[0:8],\n",
        "    'OPEN':corr_list[8:16],\n",
        "    'RESP':corr_list[16:24],\n",
        "    'LACK':corr_list[24:32],\n",
        "    'IH_MMIH':corr_list[32:40],\n",
        "    'AUT':corr_list[40:48],\n",
        "    'SCC':corr_list[48:56],\n",
        "    'MAAS':corr_list[56:564],\n",
        "}\n",
        "\n",
        "df_cor = pd.DataFrame(corr_dict)\n",
        "\n",
        "for c in df_cor.columns:\n",
        "  for i in range(len(df_cor)):\n",
        "    if df_cor[c][i] == '1.0 (0.001)':\n",
        "      df_cor[c][i] = ''\n",
        "\n",
        "print(f\"Pearson's r correlations for used subscales (N={len(df_subscales)})\")\n",
        "print('r (p)')\n",
        "print()\n",
        "\n",
        "df_cor.to_excel('corr_matrix.xlsx')\n",
        "df_cor"
      ],
      "execution_count": null,
      "outputs": [
        {
          "output_type": "stream",
          "text": [
            "Pearson's r correlations for used subscales (N=441)\n",
            "r (p)\n",
            "\n"
          ],
          "name": "stdout"
        },
        {
          "output_type": "execute_result",
          "data": {
            "text/html": [
              "<div>\n",
              "<style scoped>\n",
              "    .dataframe tbody tr th:only-of-type {\n",
              "        vertical-align: middle;\n",
              "    }\n",
              "\n",
              "    .dataframe tbody tr th {\n",
              "        vertical-align: top;\n",
              "    }\n",
              "\n",
              "    .dataframe thead th {\n",
              "        text-align: right;\n",
              "    }\n",
              "</style>\n",
              "<table border=\"1\" class=\"dataframe\">\n",
              "  <thead>\n",
              "    <tr style=\"text-align: right;\">\n",
              "      <th></th>\n",
              "      <th>scale</th>\n",
              "      <th>INDEP</th>\n",
              "      <th>OPEN</th>\n",
              "      <th>RESP</th>\n",
              "      <th>LACK</th>\n",
              "      <th>IH_MMIH</th>\n",
              "      <th>AUT</th>\n",
              "      <th>SCC</th>\n",
              "      <th>MAAS</th>\n",
              "    </tr>\n",
              "  </thead>\n",
              "  <tbody>\n",
              "    <tr>\n",
              "      <th>0</th>\n",
              "      <td>INDEP</td>\n",
              "      <td></td>\n",
              "      <td>0.23 (0.001)</td>\n",
              "      <td>0.33 (0.001)</td>\n",
              "      <td>0.45 (0.001)</td>\n",
              "      <td>0.56 (0.001)</td>\n",
              "      <td>0.59 (0.001)</td>\n",
              "      <td>0.55 (0.001)</td>\n",
              "      <td>0.38 (0.001)</td>\n",
              "    </tr>\n",
              "    <tr>\n",
              "      <th>1</th>\n",
              "      <td>OPEN</td>\n",
              "      <td>0.23 (0.001)</td>\n",
              "      <td></td>\n",
              "      <td>0.63 (0.001)</td>\n",
              "      <td>0.08 (0.083)</td>\n",
              "      <td>0.33 (0.001)</td>\n",
              "      <td>0.33 (0.001)</td>\n",
              "      <td>0.06 (0.229)</td>\n",
              "      <td>0.16 (0.001)</td>\n",
              "    </tr>\n",
              "    <tr>\n",
              "      <th>2</th>\n",
              "      <td>RESP</td>\n",
              "      <td>0.33 (0.001)</td>\n",
              "      <td>0.63 (0.001)</td>\n",
              "      <td></td>\n",
              "      <td>0.07 (0.144)</td>\n",
              "      <td>0.46 (0.001)</td>\n",
              "      <td>0.53 (0.001)</td>\n",
              "      <td>0.21 (0.001)</td>\n",
              "      <td>0.27 (0.001)</td>\n",
              "    </tr>\n",
              "    <tr>\n",
              "      <th>3</th>\n",
              "      <td>LACK</td>\n",
              "      <td>0.45 (0.001)</td>\n",
              "      <td>0.08 (0.083)</td>\n",
              "      <td>0.07 (0.144)</td>\n",
              "      <td></td>\n",
              "      <td>0.43 (0.001)</td>\n",
              "      <td>0.23 (0.001)</td>\n",
              "      <td>0.18 (0.001)</td>\n",
              "      <td>0.14 (0.003)</td>\n",
              "    </tr>\n",
              "    <tr>\n",
              "      <th>4</th>\n",
              "      <td>IH_MMIH</td>\n",
              "      <td>0.56 (0.001)</td>\n",
              "      <td>0.33 (0.001)</td>\n",
              "      <td>0.46 (0.001)</td>\n",
              "      <td>0.43 (0.001)</td>\n",
              "      <td></td>\n",
              "      <td>0.56 (0.001)</td>\n",
              "      <td>0.33 (0.001)</td>\n",
              "      <td>0.32 (0.001)</td>\n",
              "    </tr>\n",
              "    <tr>\n",
              "      <th>5</th>\n",
              "      <td>AUT</td>\n",
              "      <td>0.59 (0.001)</td>\n",
              "      <td>0.33 (0.001)</td>\n",
              "      <td>0.53 (0.001)</td>\n",
              "      <td>0.23 (0.001)</td>\n",
              "      <td>0.56 (0.001)</td>\n",
              "      <td></td>\n",
              "      <td>0.71 (0.001)</td>\n",
              "      <td>0.49 (0.001)</td>\n",
              "    </tr>\n",
              "    <tr>\n",
              "      <th>6</th>\n",
              "      <td>SCC</td>\n",
              "      <td>0.55 (0.001)</td>\n",
              "      <td>0.06 (0.229)</td>\n",
              "      <td>0.21 (0.001)</td>\n",
              "      <td>0.18 (0.001)</td>\n",
              "      <td>0.33 (0.001)</td>\n",
              "      <td>0.71 (0.001)</td>\n",
              "      <td></td>\n",
              "      <td>0.48 (0.001)</td>\n",
              "    </tr>\n",
              "    <tr>\n",
              "      <th>7</th>\n",
              "      <td>MAAS</td>\n",
              "      <td>0.38 (0.001)</td>\n",
              "      <td>0.16 (0.001)</td>\n",
              "      <td>0.27 (0.001)</td>\n",
              "      <td>0.14 (0.003)</td>\n",
              "      <td>0.32 (0.001)</td>\n",
              "      <td>0.49 (0.001)</td>\n",
              "      <td>0.48 (0.001)</td>\n",
              "      <td></td>\n",
              "    </tr>\n",
              "  </tbody>\n",
              "</table>\n",
              "</div>"
            ],
            "text/plain": [
              "     scale         INDEP  ...           SCC          MAAS\n",
              "0    INDEP                ...  0.55 (0.001)  0.38 (0.001)\n",
              "1     OPEN  0.23 (0.001)  ...  0.06 (0.229)  0.16 (0.001)\n",
              "2     RESP  0.33 (0.001)  ...  0.21 (0.001)  0.27 (0.001)\n",
              "3     LACK  0.45 (0.001)  ...  0.18 (0.001)  0.14 (0.003)\n",
              "4  IH_MMIH  0.56 (0.001)  ...  0.33 (0.001)  0.32 (0.001)\n",
              "5      AUT  0.59 (0.001)  ...  0.71 (0.001)  0.49 (0.001)\n",
              "6      SCC  0.55 (0.001)  ...                0.48 (0.001)\n",
              "7     MAAS  0.38 (0.001)  ...  0.48 (0.001)              \n",
              "\n",
              "[8 rows x 9 columns]"
            ]
          },
          "metadata": {
            "tags": []
          },
          "execution_count": 167
        }
      ]
    },
    {
      "cell_type": "markdown",
      "metadata": {
        "id": "Fwip7nswLRYM"
      },
      "source": [
        "#7 - Linear regressions"
      ]
    },
    {
      "cell_type": "code",
      "metadata": {
        "id": "b-NZ9N8MHD2c",
        "colab": {
          "base_uri": "https://localhost:8080/"
        },
        "outputId": "cf3e926f-d526-480e-f1f7-f9eb48bd8ae9"
      },
      "source": [
        "import statsmodels.api as sm # import statsmodels\n",
        "from scipy import stats\n",
        "\n",
        "df = df_subscales\n",
        "df_z = df.apply(stats.zscore)\n",
        "print('N = ',len(df))\n",
        "print('N_z = ',len(df_z))"
      ],
      "execution_count": null,
      "outputs": [
        {
          "output_type": "stream",
          "text": [
            "N =  441\n",
            "N_z =  441\n"
          ],
          "name": "stdout"
        }
      ]
    },
    {
      "cell_type": "markdown",
      "metadata": {
        "id": "SI0zh-pfWuq3"
      },
      "source": [
        "##Dependent variable: CIHS INDEP"
      ]
    },
    {
      "cell_type": "markdown",
      "metadata": {
        "id": "IDJ0AcWGWyrL"
      },
      "source": [
        "###Unstandarized coeffs"
      ]
    },
    {
      "cell_type": "code",
      "metadata": {
        "colab": {
          "base_uri": "https://localhost:8080/"
        },
        "id": "dsBXMhAwLgSx",
        "outputId": "b208480a-9333-4bab-9b6d-2369af0ea4b0"
      },
      "source": [
        "x_list = ['AUT','SCC','MAAS']\n",
        "\n",
        "for i in range(1, len(x_list)+1):\n",
        "  x = df[x_list[:i]]\n",
        "  x = sm.add_constant(x)\n",
        "  y = df['INDEP']\n",
        "\n",
        "  model = sm.OLS(y, x).fit()\n",
        "  predictions = model.predict(x)\n",
        "\n",
        "  print(f'>>>>>>>>>> LINEAR REGRESSION: X={x_list[:i]}\\n')\n",
        "  print(model.summary())\n",
        "  print('\\n'*5)"
      ],
      "execution_count": null,
      "outputs": [
        {
          "output_type": "stream",
          "text": [
            ">>>>>>>>>> LINEAR REGRESSION: X=['AUT']\n",
            "\n",
            "                            OLS Regression Results                            \n",
            "==============================================================================\n",
            "Dep. Variable:                  INDEP   R-squared:                       0.351\n",
            "Model:                            OLS   Adj. R-squared:                  0.350\n",
            "Method:                 Least Squares   F-statistic:                     237.6\n",
            "Date:                Sat, 27 Mar 2021   Prob (F-statistic):           3.67e-43\n",
            "Time:                        10:47:17   Log-Likelihood:                -478.97\n",
            "No. Observations:                 441   AIC:                             961.9\n",
            "Df Residuals:                     439   BIC:                             970.1\n",
            "Df Model:                           1                                         \n",
            "Covariance Type:            nonrobust                                         \n",
            "==============================================================================\n",
            "                 coef    std err          t      P>|t|      [0.025      0.975]\n",
            "------------------------------------------------------------------------------\n",
            "const         -1.3300      0.292     -4.560      0.000      -1.903      -0.757\n",
            "AUT            0.0296      0.002     15.415      0.000       0.026       0.033\n",
            "==============================================================================\n",
            "Omnibus:                       11.890   Durbin-Watson:                   1.903\n",
            "Prob(Omnibus):                  0.003   Jarque-Bera (JB):               13.512\n",
            "Skew:                          -0.311   Prob(JB):                      0.00116\n",
            "Kurtosis:                       3.591   Cond. No.                     1.29e+03\n",
            "==============================================================================\n",
            "\n",
            "Warnings:\n",
            "[1] Standard Errors assume that the covariance matrix of the errors is correctly specified.\n",
            "[2] The condition number is large, 1.29e+03. This might indicate that there are\n",
            "strong multicollinearity or other numerical problems.\n",
            "\n",
            "\n",
            "\n",
            "\n",
            "\n",
            "\n",
            ">>>>>>>>>> LINEAR REGRESSION: X=['AUT', 'SCC']\n",
            "\n",
            "                            OLS Regression Results                            \n",
            "==============================================================================\n",
            "Dep. Variable:                  INDEP   R-squared:                       0.386\n",
            "Model:                            OLS   Adj. R-squared:                  0.383\n",
            "Method:                 Least Squares   F-statistic:                     137.5\n",
            "Date:                Sat, 27 Mar 2021   Prob (F-statistic):           4.63e-47\n",
            "Time:                        10:47:17   Log-Likelihood:                -466.94\n",
            "No. Observations:                 441   AIC:                             939.9\n",
            "Df Residuals:                     438   BIC:                             952.2\n",
            "Df Model:                           2                                         \n",
            "Covariance Type:            nonrobust                                         \n",
            "==============================================================================\n",
            "                 coef    std err          t      P>|t|      [0.025      0.975]\n",
            "------------------------------------------------------------------------------\n",
            "const         -1.0499      0.290     -3.624      0.000      -1.619      -0.481\n",
            "AUT            0.0203      0.003      7.659      0.000       0.015       0.026\n",
            "SCC            0.0293      0.006      4.955      0.000       0.018       0.041\n",
            "==============================================================================\n",
            "Omnibus:                        9.750   Durbin-Watson:                   1.926\n",
            "Prob(Omnibus):                  0.008   Jarque-Bera (JB):               12.291\n",
            "Skew:                          -0.224   Prob(JB):                      0.00214\n",
            "Kurtosis:                       3.685   Cond. No.                     1.36e+03\n",
            "==============================================================================\n",
            "\n",
            "Warnings:\n",
            "[1] Standard Errors assume that the covariance matrix of the errors is correctly specified.\n",
            "[2] The condition number is large, 1.36e+03. This might indicate that there are\n",
            "strong multicollinearity or other numerical problems.\n",
            "\n",
            "\n",
            "\n",
            "\n",
            "\n",
            "\n",
            ">>>>>>>>>> LINEAR REGRESSION: X=['AUT', 'SCC', 'MAAS']\n",
            "\n",
            "                            OLS Regression Results                            \n",
            "==============================================================================\n",
            "Dep. Variable:                  INDEP   R-squared:                       0.391\n",
            "Model:                            OLS   Adj. R-squared:                  0.386\n",
            "Method:                 Least Squares   F-statistic:                     93.38\n",
            "Date:                Sat, 27 Mar 2021   Prob (F-statistic):           1.03e-46\n",
            "Time:                        10:47:17   Log-Likelihood:                -465.14\n",
            "No. Observations:                 441   AIC:                             938.3\n",
            "Df Residuals:                     437   BIC:                             954.6\n",
            "Df Model:                           3                                         \n",
            "Covariance Type:            nonrobust                                         \n",
            "==============================================================================\n",
            "                 coef    std err          t      P>|t|      [0.025      0.975]\n",
            "------------------------------------------------------------------------------\n",
            "const         -1.1499      0.294     -3.916      0.000      -1.727      -0.573\n",
            "AUT            0.0191      0.003      6.991      0.000       0.014       0.024\n",
            "SCC            0.0268      0.006      4.457      0.000       0.015       0.039\n",
            "MAAS           0.0063      0.003      1.896      0.059      -0.000       0.013\n",
            "==============================================================================\n",
            "Omnibus:                        7.782   Durbin-Watson:                   1.907\n",
            "Prob(Omnibus):                  0.020   Jarque-Bera (JB):                9.495\n",
            "Skew:                          -0.188   Prob(JB):                      0.00867\n",
            "Kurtosis:                       3.612   Cond. No.                     1.48e+03\n",
            "==============================================================================\n",
            "\n",
            "Warnings:\n",
            "[1] Standard Errors assume that the covariance matrix of the errors is correctly specified.\n",
            "[2] The condition number is large, 1.48e+03. This might indicate that there are\n",
            "strong multicollinearity or other numerical problems.\n",
            "\n",
            "\n",
            "\n",
            "\n",
            "\n",
            "\n"
          ],
          "name": "stdout"
        }
      ]
    },
    {
      "cell_type": "markdown",
      "metadata": {
        "id": "tqySheZJXEhy"
      },
      "source": [
        "###Standarized coeffs"
      ]
    },
    {
      "cell_type": "code",
      "metadata": {
        "colab": {
          "base_uri": "https://localhost:8080/"
        },
        "id": "9k8Lym2aUNiL",
        "outputId": "a7ccbf40-4c9a-4e19-cc0f-e59d9561ea78"
      },
      "source": [
        "x_list = ['AUT','SCC','MAAS']\n",
        "\n",
        "for i in range(1, len(x_list)+1):\n",
        "  x = df_z[x_list[:i]]\n",
        "  x = sm.add_constant(x)\n",
        "  y = df_z['INDEP']\n",
        "\n",
        "  model = sm.OLS(y, x).fit()\n",
        "  predictions = model.predict(x)\n",
        "\n",
        "  print(f'>>>>>>>>>> LINEAR REGRESSION: X={x_list[:i]}\\n')\n",
        "  print(model.summary())\n",
        "  print('\\n'*5)"
      ],
      "execution_count": null,
      "outputs": [
        {
          "output_type": "stream",
          "text": [
            ">>>>>>>>>> LINEAR REGRESSION: X=['AUT']\n",
            "\n",
            "                            OLS Regression Results                            \n",
            "==============================================================================\n",
            "Dep. Variable:                  INDEP   R-squared:                       0.351\n",
            "Model:                            OLS   Adj. R-squared:                  0.350\n",
            "Method:                 Least Squares   F-statistic:                     237.6\n",
            "Date:                Sat, 27 Mar 2021   Prob (F-statistic):           3.67e-43\n",
            "Time:                        11:02:07   Log-Likelihood:                -530.36\n",
            "No. Observations:                 441   AIC:                             1065.\n",
            "Df Residuals:                     439   BIC:                             1073.\n",
            "Df Model:                           1                                         \n",
            "Covariance Type:            nonrobust                                         \n",
            "==============================================================================\n",
            "                 coef    std err          t      P>|t|      [0.025      0.975]\n",
            "------------------------------------------------------------------------------\n",
            "const      -2.983e-16      0.038  -7.76e-15      1.000      -0.076       0.076\n",
            "AUT            0.5926      0.038     15.415      0.000       0.517       0.668\n",
            "==============================================================================\n",
            "Omnibus:                       11.890   Durbin-Watson:                   1.903\n",
            "Prob(Omnibus):                  0.003   Jarque-Bera (JB):               13.512\n",
            "Skew:                          -0.311   Prob(JB):                      0.00116\n",
            "Kurtosis:                       3.591   Cond. No.                         1.00\n",
            "==============================================================================\n",
            "\n",
            "Warnings:\n",
            "[1] Standard Errors assume that the covariance matrix of the errors is correctly specified.\n",
            "\n",
            "\n",
            "\n",
            "\n",
            "\n",
            "\n",
            ">>>>>>>>>> LINEAR REGRESSION: X=['AUT', 'SCC']\n",
            "\n",
            "                            OLS Regression Results                            \n",
            "==============================================================================\n",
            "Dep. Variable:                  INDEP   R-squared:                       0.386\n",
            "Model:                            OLS   Adj. R-squared:                  0.383\n",
            "Method:                 Least Squares   F-statistic:                     137.5\n",
            "Date:                Sat, 27 Mar 2021   Prob (F-statistic):           4.63e-47\n",
            "Time:                        11:02:07   Log-Likelihood:                -518.33\n",
            "No. Observations:                 441   AIC:                             1043.\n",
            "Df Residuals:                     438   BIC:                             1055.\n",
            "Df Model:                           2                                         \n",
            "Covariance Type:            nonrobust                                         \n",
            "==============================================================================\n",
            "                 coef    std err          t      P>|t|      [0.025      0.975]\n",
            "------------------------------------------------------------------------------\n",
            "const      -2.983e-16      0.037  -7.97e-15      1.000      -0.074       0.074\n",
            "AUT            0.4064      0.053      7.659      0.000       0.302       0.511\n",
            "SCC            0.2629      0.053      4.955      0.000       0.159       0.367\n",
            "==============================================================================\n",
            "Omnibus:                        9.750   Durbin-Watson:                   1.926\n",
            "Prob(Omnibus):                  0.008   Jarque-Bera (JB):               12.291\n",
            "Skew:                          -0.224   Prob(JB):                      0.00214\n",
            "Kurtosis:                       3.685   Cond. No.                         2.42\n",
            "==============================================================================\n",
            "\n",
            "Warnings:\n",
            "[1] Standard Errors assume that the covariance matrix of the errors is correctly specified.\n",
            "\n",
            "\n",
            "\n",
            "\n",
            "\n",
            "\n",
            ">>>>>>>>>> LINEAR REGRESSION: X=['AUT', 'SCC', 'MAAS']\n",
            "\n",
            "                            OLS Regression Results                            \n",
            "==============================================================================\n",
            "Dep. Variable:                  INDEP   R-squared:                       0.391\n",
            "Model:                            OLS   Adj. R-squared:                  0.386\n",
            "Method:                 Least Squares   F-statistic:                     93.38\n",
            "Date:                Sat, 27 Mar 2021   Prob (F-statistic):           1.03e-46\n",
            "Time:                        11:02:07   Log-Likelihood:                -516.53\n",
            "No. Observations:                 441   AIC:                             1041.\n",
            "Df Residuals:                     437   BIC:                             1057.\n",
            "Df Model:                           3                                         \n",
            "Covariance Type:            nonrobust                                         \n",
            "==============================================================================\n",
            "                 coef    std err          t      P>|t|      [0.025      0.975]\n",
            "------------------------------------------------------------------------------\n",
            "const      -3.226e-16      0.037  -8.64e-15      1.000      -0.073       0.073\n",
            "AUT            0.3813      0.055      6.991      0.000       0.274       0.488\n",
            "SCC            0.2412      0.054      4.457      0.000       0.135       0.348\n",
            "MAAS           0.0830      0.044      1.896      0.059      -0.003       0.169\n",
            "==============================================================================\n",
            "Omnibus:                        7.782   Durbin-Watson:                   1.907\n",
            "Prob(Omnibus):                  0.020   Jarque-Bera (JB):                9.495\n",
            "Skew:                          -0.188   Prob(JB):                      0.00867\n",
            "Kurtosis:                       3.612   Cond. No.                         2.70\n",
            "==============================================================================\n",
            "\n",
            "Warnings:\n",
            "[1] Standard Errors assume that the covariance matrix of the errors is correctly specified.\n",
            "\n",
            "\n",
            "\n",
            "\n",
            "\n",
            "\n"
          ],
          "name": "stdout"
        }
      ]
    },
    {
      "cell_type": "markdown",
      "metadata": {
        "id": "17PdWeyBXNqW"
      },
      "source": [
        "##Dependent variable:CIHS OPEN"
      ]
    },
    {
      "cell_type": "markdown",
      "metadata": {
        "id": "Ax8nsEn4XQQH"
      },
      "source": [
        "###Unstandarized coeffs"
      ]
    },
    {
      "cell_type": "code",
      "metadata": {
        "colab": {
          "base_uri": "https://localhost:8080/"
        },
        "id": "xxWBEKWNWS3H",
        "outputId": "7becf2f4-26d5-4fca-8d4c-b9523bcd8479"
      },
      "source": [
        "x_list = ['AUT','SCC','MAAS']\n",
        "\n",
        "for i in range(1, len(x_list)+1):\n",
        "  x = df[x_list[:i]]\n",
        "  x = sm.add_constant(x)\n",
        "  y = df['OPEN']\n",
        "\n",
        "  model = sm.OLS(y, x).fit()\n",
        "  predictions = model.predict(x)\n",
        "\n",
        "  print(f'>>>>>>>>>> LINEAR REGRESSION: X={x_list[:i]}\\n')\n",
        "  print(model.summary())\n",
        "  print('\\n'*5)"
      ],
      "execution_count": null,
      "outputs": [
        {
          "output_type": "stream",
          "text": [
            ">>>>>>>>>> LINEAR REGRESSION: X=['AUT']\n",
            "\n",
            "                            OLS Regression Results                            \n",
            "==============================================================================\n",
            "Dep. Variable:                   OPEN   R-squared:                       0.108\n",
            "Model:                            OLS   Adj. R-squared:                  0.106\n",
            "Method:                 Least Squares   F-statistic:                     52.97\n",
            "Date:                Sat, 27 Mar 2021   Prob (F-statistic):           1.57e-12\n",
            "Time:                        11:06:48   Log-Likelihood:                -371.62\n",
            "No. Observations:                 441   AIC:                             747.2\n",
            "Df Residuals:                     439   BIC:                             755.4\n",
            "Df Model:                           1                                         \n",
            "Covariance Type:            nonrobust                                         \n",
            "==============================================================================\n",
            "                 coef    std err          t      P>|t|      [0.025      0.975]\n",
            "------------------------------------------------------------------------------\n",
            "const          2.0473      0.229      8.955      0.000       1.598       2.497\n",
            "AUT            0.0110      0.002      7.278      0.000       0.008       0.014\n",
            "==============================================================================\n",
            "Omnibus:                        5.700   Durbin-Watson:                   1.927\n",
            "Prob(Omnibus):                  0.058   Jarque-Bera (JB):                5.596\n",
            "Skew:                          -0.228   Prob(JB):                       0.0609\n",
            "Kurtosis:                       3.310   Cond. No.                     1.29e+03\n",
            "==============================================================================\n",
            "\n",
            "Warnings:\n",
            "[1] Standard Errors assume that the covariance matrix of the errors is correctly specified.\n",
            "[2] The condition number is large, 1.29e+03. This might indicate that there are\n",
            "strong multicollinearity or other numerical problems.\n",
            "\n",
            "\n",
            "\n",
            "\n",
            "\n",
            "\n",
            ">>>>>>>>>> LINEAR REGRESSION: X=['AUT', 'SCC']\n",
            "\n",
            "                            OLS Regression Results                            \n",
            "==============================================================================\n",
            "Dep. Variable:                   OPEN   R-squared:                       0.169\n",
            "Model:                            OLS   Adj. R-squared:                  0.165\n",
            "Method:                 Least Squares   F-statistic:                     44.60\n",
            "Date:                Sat, 27 Mar 2021   Prob (F-statistic):           2.35e-18\n",
            "Time:                        11:06:48   Log-Likelihood:                -355.87\n",
            "No. Observations:                 441   AIC:                             717.7\n",
            "Df Residuals:                     438   BIC:                             730.0\n",
            "Df Model:                           2                                         \n",
            "Covariance Type:            nonrobust                                         \n",
            "==============================================================================\n",
            "                 coef    std err          t      P>|t|      [0.025      0.975]\n",
            "------------------------------------------------------------------------------\n",
            "const          1.7970      0.225      7.980      0.000       1.354       2.240\n",
            "AUT            0.0193      0.002      9.352      0.000       0.015       0.023\n",
            "SCC           -0.0261      0.005     -5.695      0.000      -0.035      -0.017\n",
            "==============================================================================\n",
            "Omnibus:                        3.733   Durbin-Watson:                   1.907\n",
            "Prob(Omnibus):                  0.155   Jarque-Bera (JB):                3.720\n",
            "Skew:                          -0.144   Prob(JB):                        0.156\n",
            "Kurtosis:                       3.345   Cond. No.                     1.36e+03\n",
            "==============================================================================\n",
            "\n",
            "Warnings:\n",
            "[1] Standard Errors assume that the covariance matrix of the errors is correctly specified.\n",
            "[2] The condition number is large, 1.36e+03. This might indicate that there are\n",
            "strong multicollinearity or other numerical problems.\n",
            "\n",
            "\n",
            "\n",
            "\n",
            "\n",
            "\n",
            ">>>>>>>>>> LINEAR REGRESSION: X=['AUT', 'SCC', 'MAAS']\n",
            "\n",
            "                            OLS Regression Results                            \n",
            "==============================================================================\n",
            "Dep. Variable:                   OPEN   R-squared:                       0.173\n",
            "Model:                            OLS   Adj. R-squared:                  0.167\n",
            "Method:                 Least Squares   F-statistic:                     30.38\n",
            "Date:                Sat, 27 Mar 2021   Prob (F-statistic):           7.44e-18\n",
            "Time:                        11:06:48   Log-Likelihood:                -354.97\n",
            "No. Observations:                 441   AIC:                             717.9\n",
            "Df Residuals:                     437   BIC:                             734.3\n",
            "Df Model:                           3                                         \n",
            "Covariance Type:            nonrobust                                         \n",
            "==============================================================================\n",
            "                 coef    std err          t      P>|t|      [0.025      0.975]\n",
            "------------------------------------------------------------------------------\n",
            "const          1.7422      0.229      7.617      0.000       1.293       2.192\n",
            "AUT            0.0186      0.002      8.756      0.000       0.014       0.023\n",
            "SCC           -0.0275      0.005     -5.853      0.000      -0.037      -0.018\n",
            "MAAS           0.0035      0.003      1.334      0.183      -0.002       0.009\n",
            "==============================================================================\n",
            "Omnibus:                        4.408   Durbin-Watson:                   1.923\n",
            "Prob(Omnibus):                  0.110   Jarque-Bera (JB):                4.645\n",
            "Skew:                          -0.145   Prob(JB):                       0.0980\n",
            "Kurtosis:                       3.411   Cond. No.                     1.48e+03\n",
            "==============================================================================\n",
            "\n",
            "Warnings:\n",
            "[1] Standard Errors assume that the covariance matrix of the errors is correctly specified.\n",
            "[2] The condition number is large, 1.48e+03. This might indicate that there are\n",
            "strong multicollinearity or other numerical problems.\n",
            "\n",
            "\n",
            "\n",
            "\n",
            "\n",
            "\n"
          ],
          "name": "stdout"
        }
      ]
    },
    {
      "cell_type": "markdown",
      "metadata": {
        "id": "_e22hBbyXdXa"
      },
      "source": [
        "###Standarized coeffs"
      ]
    },
    {
      "cell_type": "code",
      "metadata": {
        "colab": {
          "base_uri": "https://localhost:8080/"
        },
        "id": "lp3J0O5tYamk",
        "outputId": "d3a8fae9-c565-4fd8-97fd-c5732dfad9e9"
      },
      "source": [
        "x_list = ['AUT','SCC','MAAS']\n",
        "\n",
        "for i in range(1, len(x_list)+1):\n",
        "  x = df_z[x_list[:i]]\n",
        "  x = sm.add_constant(x)\n",
        "  y = df_z['OPEN']\n",
        "\n",
        "  model = sm.OLS(y, x).fit()\n",
        "  predictions = model.predict(x)\n",
        "\n",
        "  print(f'>>>>>>>>>> LINEAR REGRESSION: X={x_list[:i]}\\n')\n",
        "  print(model.summary())\n",
        "  print('\\n'*5)"
      ],
      "execution_count": null,
      "outputs": [
        {
          "output_type": "stream",
          "text": [
            ">>>>>>>>>> LINEAR REGRESSION: X=['AUT']\n",
            "\n",
            "                            OLS Regression Results                            \n",
            "==============================================================================\n",
            "Dep. Variable:                   OPEN   R-squared:                       0.108\n",
            "Model:                            OLS   Adj. R-squared:                  0.106\n",
            "Method:                 Least Squares   F-statistic:                     52.97\n",
            "Date:                Sat, 27 Mar 2021   Prob (F-statistic):           1.57e-12\n",
            "Time:                        11:11:42   Log-Likelihood:                -600.63\n",
            "No. Observations:                 441   AIC:                             1205.\n",
            "Df Residuals:                     439   BIC:                             1213.\n",
            "Df Model:                           1                                         \n",
            "Covariance Type:            nonrobust                                         \n",
            "==============================================================================\n",
            "                 coef    std err          t      P>|t|      [0.025      0.975]\n",
            "------------------------------------------------------------------------------\n",
            "const      -8.357e-16      0.045  -1.85e-14      1.000      -0.089       0.089\n",
            "AUT            0.3281      0.045      7.278      0.000       0.240       0.417\n",
            "==============================================================================\n",
            "Omnibus:                        5.700   Durbin-Watson:                   1.927\n",
            "Prob(Omnibus):                  0.058   Jarque-Bera (JB):                5.596\n",
            "Skew:                          -0.228   Prob(JB):                       0.0609\n",
            "Kurtosis:                       3.310   Cond. No.                         1.00\n",
            "==============================================================================\n",
            "\n",
            "Warnings:\n",
            "[1] Standard Errors assume that the covariance matrix of the errors is correctly specified.\n",
            "\n",
            "\n",
            "\n",
            "\n",
            "\n",
            "\n",
            ">>>>>>>>>> LINEAR REGRESSION: X=['AUT', 'SCC']\n",
            "\n",
            "                            OLS Regression Results                            \n",
            "==============================================================================\n",
            "Dep. Variable:                   OPEN   R-squared:                       0.169\n",
            "Model:                            OLS   Adj. R-squared:                  0.165\n",
            "Method:                 Least Squares   F-statistic:                     44.60\n",
            "Date:                Sat, 27 Mar 2021   Prob (F-statistic):           2.35e-18\n",
            "Time:                        11:11:42   Log-Likelihood:                -584.88\n",
            "No. Observations:                 441   AIC:                             1176.\n",
            "Df Residuals:                     438   BIC:                             1188.\n",
            "Df Model:                           2                                         \n",
            "Covariance Type:            nonrobust                                         \n",
            "==============================================================================\n",
            "                 coef    std err          t      P>|t|      [0.025      0.975]\n",
            "------------------------------------------------------------------------------\n",
            "const      -8.357e-16      0.044  -1.92e-14      1.000      -0.086       0.086\n",
            "AUT            0.5770      0.062      9.352      0.000       0.456       0.698\n",
            "SCC           -0.3514      0.062     -5.695      0.000      -0.473      -0.230\n",
            "==============================================================================\n",
            "Omnibus:                        3.733   Durbin-Watson:                   1.907\n",
            "Prob(Omnibus):                  0.155   Jarque-Bera (JB):                3.720\n",
            "Skew:                          -0.144   Prob(JB):                        0.156\n",
            "Kurtosis:                       3.345   Cond. No.                         2.42\n",
            "==============================================================================\n",
            "\n",
            "Warnings:\n",
            "[1] Standard Errors assume that the covariance matrix of the errors is correctly specified.\n",
            "\n",
            "\n",
            "\n",
            "\n",
            "\n",
            "\n",
            ">>>>>>>>>> LINEAR REGRESSION: X=['AUT', 'SCC', 'MAAS']\n",
            "\n",
            "                            OLS Regression Results                            \n",
            "==============================================================================\n",
            "Dep. Variable:                   OPEN   R-squared:                       0.173\n",
            "Model:                            OLS   Adj. R-squared:                  0.167\n",
            "Method:                 Least Squares   F-statistic:                     30.38\n",
            "Date:                Sat, 27 Mar 2021   Prob (F-statistic):           7.44e-18\n",
            "Time:                        11:11:42   Log-Likelihood:                -583.99\n",
            "No. Observations:                 441   AIC:                             1176.\n",
            "Df Residuals:                     437   BIC:                             1192.\n",
            "Df Model:                           3                                         \n",
            "Covariance Type:            nonrobust                                         \n",
            "==============================================================================\n",
            "                 coef    std err          t      P>|t|      [0.025      0.975]\n",
            "------------------------------------------------------------------------------\n",
            "const      -8.583e-16      0.044  -1.97e-14      1.000      -0.086       0.086\n",
            "AUT            0.5564      0.064      8.756      0.000       0.432       0.681\n",
            "SCC           -0.3692      0.063     -5.853      0.000      -0.493      -0.245\n",
            "MAAS           0.0680      0.051      1.334      0.183      -0.032       0.168\n",
            "==============================================================================\n",
            "Omnibus:                        4.408   Durbin-Watson:                   1.923\n",
            "Prob(Omnibus):                  0.110   Jarque-Bera (JB):                4.645\n",
            "Skew:                          -0.145   Prob(JB):                       0.0980\n",
            "Kurtosis:                       3.411   Cond. No.                         2.70\n",
            "==============================================================================\n",
            "\n",
            "Warnings:\n",
            "[1] Standard Errors assume that the covariance matrix of the errors is correctly specified.\n",
            "\n",
            "\n",
            "\n",
            "\n",
            "\n",
            "\n"
          ],
          "name": "stdout"
        }
      ]
    },
    {
      "cell_type": "markdown",
      "metadata": {
        "id": "Rpg-RIuWXdNW"
      },
      "source": [
        "##Dependent variable: CIHS RESP"
      ]
    },
    {
      "cell_type": "markdown",
      "metadata": {
        "id": "qAeTf8PzXdJj"
      },
      "source": [
        "###Unstandarized coeffs"
      ]
    },
    {
      "cell_type": "code",
      "metadata": {
        "colab": {
          "base_uri": "https://localhost:8080/"
        },
        "id": "0xJafmRgY4T1",
        "outputId": "cc6bda43-a9cd-4379-ffd5-0bc662b28904"
      },
      "source": [
        "x_list = ['AUT','SCC','MAAS']\n",
        "\n",
        "for i in range(1, len(x_list)+1):\n",
        "  x = df[x_list[:i]]\n",
        "  x = sm.add_constant(x)\n",
        "  y = df['RESP']\n",
        "\n",
        "  model = sm.OLS(y, x).fit()\n",
        "  predictions = model.predict(x)\n",
        "\n",
        "  print(f'>>>>>>>>>> LINEAR REGRESSION: X={x_list[:i]}\\n')\n",
        "  print(model.summary())\n",
        "  print('\\n'*5)"
      ],
      "execution_count": null,
      "outputs": [
        {
          "output_type": "stream",
          "text": [
            ">>>>>>>>>> LINEAR REGRESSION: X=['AUT']\n",
            "\n",
            "                            OLS Regression Results                            \n",
            "==============================================================================\n",
            "Dep. Variable:                   RESP   R-squared:                       0.278\n",
            "Model:                            OLS   Adj. R-squared:                  0.277\n",
            "Method:                 Least Squares   F-statistic:                     169.2\n",
            "Date:                Sat, 27 Mar 2021   Prob (F-statistic):           5.95e-33\n",
            "Time:                        11:13:32   Log-Likelihood:                -337.60\n",
            "No. Observations:                 441   AIC:                             679.2\n",
            "Df Residuals:                     439   BIC:                             687.4\n",
            "Df Model:                           1                                         \n",
            "Covariance Type:            nonrobust                                         \n",
            "==============================================================================\n",
            "                 coef    std err          t      P>|t|      [0.025      0.975]\n",
            "------------------------------------------------------------------------------\n",
            "const          1.1466      0.212      5.417      0.000       0.731       1.563\n",
            "AUT            0.0181      0.001     13.009      0.000       0.015       0.021\n",
            "==============================================================================\n",
            "Omnibus:                        2.024   Durbin-Watson:                   1.844\n",
            "Prob(Omnibus):                  0.364   Jarque-Bera (JB):                2.109\n",
            "Skew:                          -0.152   Prob(JB):                        0.348\n",
            "Kurtosis:                       2.851   Cond. No.                     1.29e+03\n",
            "==============================================================================\n",
            "\n",
            "Warnings:\n",
            "[1] Standard Errors assume that the covariance matrix of the errors is correctly specified.\n",
            "[2] The condition number is large, 1.29e+03. This might indicate that there are\n",
            "strong multicollinearity or other numerical problems.\n",
            "\n",
            "\n",
            "\n",
            "\n",
            "\n",
            "\n",
            ">>>>>>>>>> LINEAR REGRESSION: X=['AUT', 'SCC']\n",
            "\n",
            "                            OLS Regression Results                            \n",
            "==============================================================================\n",
            "Dep. Variable:                   RESP   R-squared:                       0.334\n",
            "Model:                            OLS   Adj. R-squared:                  0.331\n",
            "Method:                 Least Squares   F-statistic:                     109.7\n",
            "Date:                Sat, 27 Mar 2021   Prob (F-statistic):           2.45e-39\n",
            "Time:                        11:13:32   Log-Likelihood:                -319.98\n",
            "No. Observations:                 441   AIC:                             646.0\n",
            "Df Residuals:                     438   BIC:                             658.2\n",
            "Df Model:                           2                                         \n",
            "Covariance Type:            nonrobust                                         \n",
            "==============================================================================\n",
            "                 coef    std err          t      P>|t|      [0.025      0.975]\n",
            "------------------------------------------------------------------------------\n",
            "const          0.9020      0.208      4.345      0.000       0.494       1.310\n",
            "AUT            0.0263      0.002     13.822      0.000       0.023       0.030\n",
            "SCC           -0.0255      0.004     -6.037      0.000      -0.034      -0.017\n",
            "==============================================================================\n",
            "Omnibus:                        3.372   Durbin-Watson:                   1.853\n",
            "Prob(Omnibus):                  0.185   Jarque-Bera (JB):                3.220\n",
            "Skew:                          -0.151   Prob(JB):                        0.200\n",
            "Kurtosis:                       3.289   Cond. No.                     1.36e+03\n",
            "==============================================================================\n",
            "\n",
            "Warnings:\n",
            "[1] Standard Errors assume that the covariance matrix of the errors is correctly specified.\n",
            "[2] The condition number is large, 1.36e+03. This might indicate that there are\n",
            "strong multicollinearity or other numerical problems.\n",
            "\n",
            "\n",
            "\n",
            "\n",
            "\n",
            "\n",
            ">>>>>>>>>> LINEAR REGRESSION: X=['AUT', 'SCC', 'MAAS']\n",
            "\n",
            "                            OLS Regression Results                            \n",
            "==============================================================================\n",
            "Dep. Variable:                   RESP   R-squared:                       0.338\n",
            "Model:                            OLS   Adj. R-squared:                  0.333\n",
            "Method:                 Least Squares   F-statistic:                     74.23\n",
            "Date:                Sat, 27 Mar 2021   Prob (F-statistic):           8.11e-39\n",
            "Time:                        11:13:32   Log-Likelihood:                -318.69\n",
            "No. Observations:                 441   AIC:                             645.4\n",
            "Df Residuals:                     437   BIC:                             661.7\n",
            "Df Model:                           3                                         \n",
            "Covariance Type:            nonrobust                                         \n",
            "==============================================================================\n",
            "                 coef    std err          t      P>|t|      [0.025      0.975]\n",
            "------------------------------------------------------------------------------\n",
            "const          0.8413      0.211      3.994      0.000       0.427       1.255\n",
            "AUT            0.0255      0.002     13.042      0.000       0.022       0.029\n",
            "SCC           -0.0270      0.004     -6.250      0.000      -0.036      -0.019\n",
            "MAAS           0.0038      0.002      1.603      0.110      -0.001       0.009\n",
            "==============================================================================\n",
            "Omnibus:                        3.238   Durbin-Watson:                   1.862\n",
            "Prob(Omnibus):                  0.198   Jarque-Bera (JB):                3.062\n",
            "Skew:                          -0.151   Prob(JB):                        0.216\n",
            "Kurtosis:                       3.275   Cond. No.                     1.48e+03\n",
            "==============================================================================\n",
            "\n",
            "Warnings:\n",
            "[1] Standard Errors assume that the covariance matrix of the errors is correctly specified.\n",
            "[2] The condition number is large, 1.48e+03. This might indicate that there are\n",
            "strong multicollinearity or other numerical problems.\n",
            "\n",
            "\n",
            "\n",
            "\n",
            "\n",
            "\n"
          ],
          "name": "stdout"
        }
      ]
    },
    {
      "cell_type": "markdown",
      "metadata": {
        "id": "sHODLFZTXdEX"
      },
      "source": [
        "###Standarzied coeffs"
      ]
    },
    {
      "cell_type": "code",
      "metadata": {
        "colab": {
          "base_uri": "https://localhost:8080/"
        },
        "id": "vcNIoG5XY_Jt",
        "outputId": "f982e054-ae14-41ca-99f1-6970a310bc55"
      },
      "source": [
        "x_list = ['AUT','SCC','MAAS']\n",
        "\n",
        "for i in range(1, len(x_list)+1):\n",
        "  x = df_z[x_list[:i]]\n",
        "  x = sm.add_constant(x)\n",
        "  y = df_z['RESP']\n",
        "\n",
        "  model = sm.OLS(y, x).fit()\n",
        "  predictions = model.predict(x)\n",
        "\n",
        "  print(f'>>>>>>>>>> LINEAR REGRESSION: X={x_list[:i]}\\n')\n",
        "  print(model.summary())\n",
        "  print('\\n'*5)"
      ],
      "execution_count": null,
      "outputs": [
        {
          "output_type": "stream",
          "text": [
            ">>>>>>>>>> LINEAR REGRESSION: X=['AUT']\n",
            "\n",
            "                            OLS Regression Results                            \n",
            "==============================================================================\n",
            "Dep. Variable:                   RESP   R-squared:                       0.278\n",
            "Model:                            OLS   Adj. R-squared:                  0.277\n",
            "Method:                 Least Squares   F-statistic:                     169.2\n",
            "Date:                Sat, 27 Mar 2021   Prob (F-statistic):           5.95e-33\n",
            "Time:                        11:14:07   Log-Likelihood:                -553.86\n",
            "No. Observations:                 441   AIC:                             1112.\n",
            "Df Residuals:                     439   BIC:                             1120.\n",
            "Df Model:                           1                                         \n",
            "Covariance Type:            nonrobust                                         \n",
            "==============================================================================\n",
            "                 coef    std err          t      P>|t|      [0.025      0.975]\n",
            "------------------------------------------------------------------------------\n",
            "const       5.562e-16      0.041   1.37e-14      1.000      -0.080       0.080\n",
            "AUT            0.5275      0.041     13.009      0.000       0.448       0.607\n",
            "==============================================================================\n",
            "Omnibus:                        2.024   Durbin-Watson:                   1.844\n",
            "Prob(Omnibus):                  0.364   Jarque-Bera (JB):                2.109\n",
            "Skew:                          -0.152   Prob(JB):                        0.348\n",
            "Kurtosis:                       2.851   Cond. No.                         1.00\n",
            "==============================================================================\n",
            "\n",
            "Warnings:\n",
            "[1] Standard Errors assume that the covariance matrix of the errors is correctly specified.\n",
            "\n",
            "\n",
            "\n",
            "\n",
            "\n",
            "\n",
            ">>>>>>>>>> LINEAR REGRESSION: X=['AUT', 'SCC']\n",
            "\n",
            "                            OLS Regression Results                            \n",
            "==============================================================================\n",
            "Dep. Variable:                   RESP   R-squared:                       0.334\n",
            "Model:                            OLS   Adj. R-squared:                  0.331\n",
            "Method:                 Least Squares   F-statistic:                     109.7\n",
            "Date:                Sat, 27 Mar 2021   Prob (F-statistic):           2.45e-39\n",
            "Time:                        11:14:07   Log-Likelihood:                -536.24\n",
            "No. Observations:                 441   AIC:                             1078.\n",
            "Df Residuals:                     438   BIC:                             1091.\n",
            "Df Model:                           2                                         \n",
            "Covariance Type:            nonrobust                                         \n",
            "==============================================================================\n",
            "                 coef    std err          t      P>|t|      [0.025      0.975]\n",
            "------------------------------------------------------------------------------\n",
            "const       5.562e-16      0.039   1.43e-14      1.000      -0.077       0.077\n",
            "AUT            0.7638      0.055     13.822      0.000       0.655       0.872\n",
            "SCC           -0.3336      0.055     -6.037      0.000      -0.442      -0.225\n",
            "==============================================================================\n",
            "Omnibus:                        3.372   Durbin-Watson:                   1.853\n",
            "Prob(Omnibus):                  0.185   Jarque-Bera (JB):                3.220\n",
            "Skew:                          -0.151   Prob(JB):                        0.200\n",
            "Kurtosis:                       3.289   Cond. No.                         2.42\n",
            "==============================================================================\n",
            "\n",
            "Warnings:\n",
            "[1] Standard Errors assume that the covariance matrix of the errors is correctly specified.\n",
            "\n",
            "\n",
            "\n",
            "\n",
            "\n",
            "\n",
            ">>>>>>>>>> LINEAR REGRESSION: X=['AUT', 'SCC', 'MAAS']\n",
            "\n",
            "                            OLS Regression Results                            \n",
            "==============================================================================\n",
            "Dep. Variable:                   RESP   R-squared:                       0.338\n",
            "Model:                            OLS   Adj. R-squared:                  0.333\n",
            "Method:                 Least Squares   F-statistic:                     74.23\n",
            "Date:                Sat, 27 Mar 2021   Prob (F-statistic):           8.11e-39\n",
            "Time:                        11:14:07   Log-Likelihood:                -534.94\n",
            "No. Observations:                 441   AIC:                             1078.\n",
            "Df Residuals:                     437   BIC:                             1094.\n",
            "Df Model:                           3                                         \n",
            "Covariance Type:            nonrobust                                         \n",
            "==============================================================================\n",
            "                 coef    std err          t      P>|t|      [0.025      0.975]\n",
            "------------------------------------------------------------------------------\n",
            "const       5.631e-16      0.039   1.45e-14      1.000      -0.077       0.077\n",
            "AUT            0.7416      0.057     13.042      0.000       0.630       0.853\n",
            "SCC           -0.3527      0.056     -6.250      0.000      -0.464      -0.242\n",
            "MAAS           0.0732      0.046      1.603      0.110      -0.017       0.163\n",
            "==============================================================================\n",
            "Omnibus:                        3.238   Durbin-Watson:                   1.862\n",
            "Prob(Omnibus):                  0.198   Jarque-Bera (JB):                3.062\n",
            "Skew:                          -0.151   Prob(JB):                        0.216\n",
            "Kurtosis:                       3.275   Cond. No.                         2.70\n",
            "==============================================================================\n",
            "\n",
            "Warnings:\n",
            "[1] Standard Errors assume that the covariance matrix of the errors is correctly specified.\n",
            "\n",
            "\n",
            "\n",
            "\n",
            "\n",
            "\n"
          ],
          "name": "stdout"
        }
      ]
    },
    {
      "cell_type": "markdown",
      "metadata": {
        "id": "TXeCzBWxXdAV"
      },
      "source": [
        "##Dependent variable: CIHS LACK"
      ]
    },
    {
      "cell_type": "markdown",
      "metadata": {
        "id": "WeUTwbnSXc7N"
      },
      "source": [
        "###Unstandarized coeffs"
      ]
    },
    {
      "cell_type": "code",
      "metadata": {
        "colab": {
          "base_uri": "https://localhost:8080/"
        },
        "id": "N40i7QKTZFWi",
        "outputId": "08a11359-e954-4753-fee9-8817caaa8fd7"
      },
      "source": [
        "x_list = ['AUT','SCC','MAAS']\n",
        "\n",
        "for i in range(1, len(x_list)+1):\n",
        "  x = df[x_list[:i]]\n",
        "  x = sm.add_constant(x)\n",
        "  y = df['LACK']\n",
        "\n",
        "  model = sm.OLS(y, x).fit()\n",
        "  predictions = model.predict(x)\n",
        "\n",
        "  print(f'>>>>>>>>>> LINEAR REGRESSION: X={x_list[:i]}\\n')\n",
        "  print(model.summary())\n",
        "  print('\\n'*5)"
      ],
      "execution_count": null,
      "outputs": [
        {
          "output_type": "stream",
          "text": [
            ">>>>>>>>>> LINEAR REGRESSION: X=['AUT']\n",
            "\n",
            "                            OLS Regression Results                            \n",
            "==============================================================================\n",
            "Dep. Variable:                   LACK   R-squared:                       0.052\n",
            "Model:                            OLS   Adj. R-squared:                  0.050\n",
            "Method:                 Least Squares   F-statistic:                     24.32\n",
            "Date:                Sat, 27 Mar 2021   Prob (F-statistic):           1.16e-06\n",
            "Time:                        11:14:25   Log-Likelihood:                -328.90\n",
            "No. Observations:                 441   AIC:                             661.8\n",
            "Df Residuals:                     439   BIC:                             670.0\n",
            "Df Model:                           1                                         \n",
            "Covariance Type:            nonrobust                                         \n",
            "==============================================================================\n",
            "                 coef    std err          t      P>|t|      [0.025      0.975]\n",
            "------------------------------------------------------------------------------\n",
            "const          1.8702      0.208      9.012      0.000       1.462       2.278\n",
            "AUT            0.0067      0.001      4.932      0.000       0.004       0.009\n",
            "==============================================================================\n",
            "Omnibus:                        7.687   Durbin-Watson:                   2.035\n",
            "Prob(Omnibus):                  0.021   Jarque-Bera (JB):                7.567\n",
            "Skew:                           0.294   Prob(JB):                       0.0227\n",
            "Kurtosis:                       3.258   Cond. No.                     1.29e+03\n",
            "==============================================================================\n",
            "\n",
            "Warnings:\n",
            "[1] Standard Errors assume that the covariance matrix of the errors is correctly specified.\n",
            "[2] The condition number is large, 1.29e+03. This might indicate that there are\n",
            "strong multicollinearity or other numerical problems.\n",
            "\n",
            "\n",
            "\n",
            "\n",
            "\n",
            "\n",
            ">>>>>>>>>> LINEAR REGRESSION: X=['AUT', 'SCC']\n",
            "\n",
            "                            OLS Regression Results                            \n",
            "==============================================================================\n",
            "Dep. Variable:                   LACK   R-squared:                       0.053\n",
            "Model:                            OLS   Adj. R-squared:                  0.049\n",
            "Method:                 Least Squares   F-statistic:                     12.31\n",
            "Date:                Sat, 27 Mar 2021   Prob (F-statistic):           6.29e-06\n",
            "Time:                        11:14:25   Log-Likelihood:                -328.73\n",
            "No. Observations:                 441   AIC:                             663.5\n",
            "Df Residuals:                     438   BIC:                             675.7\n",
            "Df Model:                           2                                         \n",
            "Covariance Type:            nonrobust                                         \n",
            "==============================================================================\n",
            "                 coef    std err          t      P>|t|      [0.025      0.975]\n",
            "------------------------------------------------------------------------------\n",
            "const          1.8942      0.212      8.945      0.000       1.478       2.310\n",
            "AUT            0.0060      0.002      3.068      0.002       0.002       0.010\n",
            "SCC            0.0025      0.004      0.579      0.563      -0.006       0.011\n",
            "==============================================================================\n",
            "Omnibus:                        8.817   Durbin-Watson:                   2.036\n",
            "Prob(Omnibus):                  0.012   Jarque-Bera (JB):                8.790\n",
            "Skew:                           0.314   Prob(JB):                       0.0123\n",
            "Kurtosis:                       3.288   Cond. No.                     1.36e+03\n",
            "==============================================================================\n",
            "\n",
            "Warnings:\n",
            "[1] Standard Errors assume that the covariance matrix of the errors is correctly specified.\n",
            "[2] The condition number is large, 1.36e+03. This might indicate that there are\n",
            "strong multicollinearity or other numerical problems.\n",
            "\n",
            "\n",
            "\n",
            "\n",
            "\n",
            "\n",
            ">>>>>>>>>> LINEAR REGRESSION: X=['AUT', 'SCC', 'MAAS']\n",
            "\n",
            "                            OLS Regression Results                            \n",
            "==============================================================================\n",
            "Dep. Variable:                   LACK   R-squared:                       0.054\n",
            "Model:                            OLS   Adj. R-squared:                  0.047\n",
            "Method:                 Least Squares   F-statistic:                     8.300\n",
            "Date:                Sat, 27 Mar 2021   Prob (F-statistic):           2.22e-05\n",
            "Time:                        11:14:25   Log-Likelihood:                -328.57\n",
            "No. Observations:                 441   AIC:                             665.1\n",
            "Df Residuals:                     437   BIC:                             681.5\n",
            "Df Model:                           3                                         \n",
            "Covariance Type:            nonrobust                                         \n",
            "==============================================================================\n",
            "                 coef    std err          t      P>|t|      [0.025      0.975]\n",
            "------------------------------------------------------------------------------\n",
            "const          1.8724      0.215      8.692      0.000       1.449       2.296\n",
            "AUT            0.0057      0.002      2.837      0.005       0.002       0.010\n",
            "SCC            0.0020      0.004      0.447      0.655      -0.007       0.011\n",
            "MAAS           0.0014      0.002      0.562      0.574      -0.003       0.006\n",
            "==============================================================================\n",
            "Omnibus:                        8.858   Durbin-Watson:                   2.033\n",
            "Prob(Omnibus):                  0.012   Jarque-Bera (JB):                8.836\n",
            "Skew:                           0.315   Prob(JB):                       0.0121\n",
            "Kurtosis:                       3.291   Cond. No.                     1.48e+03\n",
            "==============================================================================\n",
            "\n",
            "Warnings:\n",
            "[1] Standard Errors assume that the covariance matrix of the errors is correctly specified.\n",
            "[2] The condition number is large, 1.48e+03. This might indicate that there are\n",
            "strong multicollinearity or other numerical problems.\n",
            "\n",
            "\n",
            "\n",
            "\n",
            "\n",
            "\n"
          ],
          "name": "stdout"
        }
      ]
    },
    {
      "cell_type": "markdown",
      "metadata": {
        "id": "hVexiSbqXc0g"
      },
      "source": [
        "###Standarized coeffs"
      ]
    },
    {
      "cell_type": "code",
      "metadata": {
        "colab": {
          "base_uri": "https://localhost:8080/"
        },
        "id": "fTgfF__LZIkM",
        "outputId": "16b58c03-4e4c-4fbf-a0bb-ea7e4e8df09d"
      },
      "source": [
        "x_list = ['AUT','SCC','MAAS']\n",
        "\n",
        "for i in range(1, len(x_list)+1):\n",
        "  x = df_z[x_list[:i]]\n",
        "  x = sm.add_constant(x)\n",
        "  y = df_z['LACK']\n",
        "\n",
        "  model = sm.OLS(y, x).fit()\n",
        "  predictions = model.predict(x)\n",
        "\n",
        "  print(f'>>>>>>>>>> LINEAR REGRESSION: X={x_list[:i]}\\n')\n",
        "  print(model.summary())\n",
        "  print('\\n'*5)"
      ],
      "execution_count": null,
      "outputs": [
        {
          "output_type": "stream",
          "text": [
            ">>>>>>>>>> LINEAR REGRESSION: X=['AUT']\n",
            "\n",
            "                            OLS Regression Results                            \n",
            "==============================================================================\n",
            "Dep. Variable:                   LACK   R-squared:                       0.052\n",
            "Model:                            OLS   Adj. R-squared:                  0.050\n",
            "Method:                 Least Squares   F-statistic:                     24.32\n",
            "Date:                Sat, 27 Mar 2021   Prob (F-statistic):           1.16e-06\n",
            "Time:                        11:15:15   Log-Likelihood:                -613.86\n",
            "No. Observations:                 441   AIC:                             1232.\n",
            "Df Residuals:                     439   BIC:                             1240.\n",
            "Df Model:                           1                                         \n",
            "Covariance Type:            nonrobust                                         \n",
            "==============================================================================\n",
            "                 coef    std err          t      P>|t|      [0.025      0.975]\n",
            "------------------------------------------------------------------------------\n",
            "const      -7.856e-17      0.046  -1.69e-15      1.000      -0.091       0.091\n",
            "AUT            0.2291      0.046      4.932      0.000       0.138       0.320\n",
            "==============================================================================\n",
            "Omnibus:                        7.687   Durbin-Watson:                   2.035\n",
            "Prob(Omnibus):                  0.021   Jarque-Bera (JB):                7.567\n",
            "Skew:                           0.294   Prob(JB):                       0.0227\n",
            "Kurtosis:                       3.258   Cond. No.                         1.00\n",
            "==============================================================================\n",
            "\n",
            "Warnings:\n",
            "[1] Standard Errors assume that the covariance matrix of the errors is correctly specified.\n",
            "\n",
            "\n",
            "\n",
            "\n",
            "\n",
            "\n",
            ">>>>>>>>>> LINEAR REGRESSION: X=['AUT', 'SCC']\n",
            "\n",
            "                            OLS Regression Results                            \n",
            "==============================================================================\n",
            "Dep. Variable:                   LACK   R-squared:                       0.053\n",
            "Model:                            OLS   Adj. R-squared:                  0.049\n",
            "Method:                 Least Squares   F-statistic:                     12.31\n",
            "Date:                Sat, 27 Mar 2021   Prob (F-statistic):           6.29e-06\n",
            "Time:                        11:15:15   Log-Likelihood:                -613.69\n",
            "No. Observations:                 441   AIC:                             1233.\n",
            "Df Residuals:                     438   BIC:                             1246.\n",
            "Df Model:                           2                                         \n",
            "Covariance Type:            nonrobust                                         \n",
            "==============================================================================\n",
            "                 coef    std err          t      P>|t|      [0.025      0.975]\n",
            "------------------------------------------------------------------------------\n",
            "const      -7.856e-17      0.046  -1.69e-15      1.000      -0.091       0.091\n",
            "AUT            0.2021      0.066      3.068      0.002       0.073       0.332\n",
            "SCC            0.0381      0.066      0.579      0.563      -0.091       0.168\n",
            "==============================================================================\n",
            "Omnibus:                        8.817   Durbin-Watson:                   2.036\n",
            "Prob(Omnibus):                  0.012   Jarque-Bera (JB):                8.790\n",
            "Skew:                           0.314   Prob(JB):                       0.0123\n",
            "Kurtosis:                       3.288   Cond. No.                         2.42\n",
            "==============================================================================\n",
            "\n",
            "Warnings:\n",
            "[1] Standard Errors assume that the covariance matrix of the errors is correctly specified.\n",
            "\n",
            "\n",
            "\n",
            "\n",
            "\n",
            "\n",
            ">>>>>>>>>> LINEAR REGRESSION: X=['AUT', 'SCC', 'MAAS']\n",
            "\n",
            "                            OLS Regression Results                            \n",
            "==============================================================================\n",
            "Dep. Variable:                   LACK   R-squared:                       0.054\n",
            "Model:                            OLS   Adj. R-squared:                  0.047\n",
            "Method:                 Least Squares   F-statistic:                     8.300\n",
            "Date:                Sat, 27 Mar 2021   Prob (F-statistic):           2.22e-05\n",
            "Time:                        11:15:15   Log-Likelihood:                -613.53\n",
            "No. Observations:                 441   AIC:                             1235.\n",
            "Df Residuals:                     437   BIC:                             1251.\n",
            "Df Model:                           3                                         \n",
            "Covariance Type:            nonrobust                                         \n",
            "==============================================================================\n",
            "                 coef    std err          t      P>|t|      [0.025      0.975]\n",
            "------------------------------------------------------------------------------\n",
            "const      -8.203e-17      0.047  -1.76e-15      1.000      -0.091       0.091\n",
            "AUT            0.1928      0.068      2.837      0.005       0.059       0.326\n",
            "SCC            0.0301      0.067      0.447      0.655      -0.102       0.163\n",
            "MAAS           0.0307      0.055      0.562      0.574      -0.077       0.138\n",
            "==============================================================================\n",
            "Omnibus:                        8.858   Durbin-Watson:                   2.033\n",
            "Prob(Omnibus):                  0.012   Jarque-Bera (JB):                8.836\n",
            "Skew:                           0.315   Prob(JB):                       0.0121\n",
            "Kurtosis:                       3.291   Cond. No.                         2.70\n",
            "==============================================================================\n",
            "\n",
            "Warnings:\n",
            "[1] Standard Errors assume that the covariance matrix of the errors is correctly specified.\n",
            "\n",
            "\n",
            "\n",
            "\n",
            "\n",
            "\n"
          ],
          "name": "stdout"
        }
      ]
    },
    {
      "cell_type": "markdown",
      "metadata": {
        "id": "fuOPXNw5Xcwr"
      },
      "source": [
        "##Dependent variable: MMIH"
      ]
    },
    {
      "cell_type": "markdown",
      "metadata": {
        "id": "A7hObrvAXctd"
      },
      "source": [
        "###Unstandarized coeffs"
      ]
    },
    {
      "cell_type": "code",
      "metadata": {
        "colab": {
          "base_uri": "https://localhost:8080/"
        },
        "id": "LpOjcbSLZmSN",
        "outputId": "cbc4c045-9eb5-4bf8-fe1b-325222a63bd8"
      },
      "source": [
        "x_list = ['AUT','SCC','MAAS']\n",
        "\n",
        "for i in range(1, len(x_list)+1):\n",
        "  x = df[x_list[:i]]\n",
        "  x = sm.add_constant(x)\n",
        "  y = df['IH_MMIH']\n",
        "\n",
        "  model = sm.OLS(y, x).fit()\n",
        "  predictions = model.predict(x)\n",
        "\n",
        "  print(f'>>>>>>>>>> LINEAR REGRESSION: X={x_list[:i]}\\n')\n",
        "  print(model.summary())\n",
        "  print('\\n'*5)"
      ],
      "execution_count": null,
      "outputs": [
        {
          "output_type": "stream",
          "text": [
            ">>>>>>>>>> LINEAR REGRESSION: X=['AUT']\n",
            "\n",
            "                            OLS Regression Results                            \n",
            "==============================================================================\n",
            "Dep. Variable:                IH_MMIH   R-squared:                       0.311\n",
            "Model:                            OLS   Adj. R-squared:                  0.309\n",
            "Method:                 Least Squares   F-statistic:                     198.1\n",
            "Date:                Sat, 27 Mar 2021   Prob (F-statistic):           2.10e-37\n",
            "Time:                        11:16:57   Log-Likelihood:                -381.77\n",
            "No. Observations:                 441   AIC:                             767.5\n",
            "Df Residuals:                     439   BIC:                             775.7\n",
            "Df Model:                           1                                         \n",
            "Covariance Type:            nonrobust                                         \n",
            "==============================================================================\n",
            "                 coef    std err          t      P>|t|      [0.025      0.975]\n",
            "------------------------------------------------------------------------------\n",
            "const          1.1752      0.234      5.023      0.000       0.715       1.635\n",
            "AUT            0.0217      0.002     14.076      0.000       0.019       0.025\n",
            "==============================================================================\n",
            "Omnibus:                       17.519   Durbin-Watson:                   2.030\n",
            "Prob(Omnibus):                  0.000   Jarque-Bera (JB):               21.576\n",
            "Skew:                           0.383   Prob(JB):                     2.07e-05\n",
            "Kurtosis:                       3.767   Cond. No.                     1.29e+03\n",
            "==============================================================================\n",
            "\n",
            "Warnings:\n",
            "[1] Standard Errors assume that the covariance matrix of the errors is correctly specified.\n",
            "[2] The condition number is large, 1.29e+03. This might indicate that there are\n",
            "strong multicollinearity or other numerical problems.\n",
            "\n",
            "\n",
            "\n",
            "\n",
            "\n",
            "\n",
            ">>>>>>>>>> LINEAR REGRESSION: X=['AUT', 'SCC']\n",
            "\n",
            "                            OLS Regression Results                            \n",
            "==============================================================================\n",
            "Dep. Variable:                IH_MMIH   R-squared:                       0.319\n",
            "Model:                            OLS   Adj. R-squared:                  0.316\n",
            "Method:                 Least Squares   F-statistic:                     102.7\n",
            "Date:                Sat, 27 Mar 2021   Prob (F-statistic):           2.68e-37\n",
            "Time:                        11:16:57   Log-Likelihood:                -379.12\n",
            "No. Observations:                 441   AIC:                             764.2\n",
            "Df Residuals:                     438   BIC:                             776.5\n",
            "Df Model:                           2                                         \n",
            "Covariance Type:            nonrobust                                         \n",
            "==============================================================================\n",
            "                 coef    std err          t      P>|t|      [0.025      0.975]\n",
            "------------------------------------------------------------------------------\n",
            "const          1.0686      0.237      4.501      0.000       0.602       1.535\n",
            "AUT            0.0253      0.002     11.616      0.000       0.021       0.030\n",
            "SCC           -0.0111      0.005     -2.303      0.022      -0.021      -0.002\n",
            "==============================================================================\n",
            "Omnibus:                       16.649   Durbin-Watson:                   2.042\n",
            "Prob(Omnibus):                  0.000   Jarque-Bera (JB):               20.517\n",
            "Skew:                           0.367   Prob(JB):                     3.51e-05\n",
            "Kurtosis:                       3.759   Cond. No.                     1.36e+03\n",
            "==============================================================================\n",
            "\n",
            "Warnings:\n",
            "[1] Standard Errors assume that the covariance matrix of the errors is correctly specified.\n",
            "[2] The condition number is large, 1.36e+03. This might indicate that there are\n",
            "strong multicollinearity or other numerical problems.\n",
            "\n",
            "\n",
            "\n",
            "\n",
            "\n",
            "\n",
            ">>>>>>>>>> LINEAR REGRESSION: X=['AUT', 'SCC', 'MAAS']\n",
            "\n",
            "                            OLS Regression Results                            \n",
            "==============================================================================\n",
            "Dep. Variable:                IH_MMIH   R-squared:                       0.325\n",
            "Model:                            OLS   Adj. R-squared:                  0.320\n",
            "Method:                 Least Squares   F-statistic:                     70.16\n",
            "Date:                Sat, 27 Mar 2021   Prob (F-statistic):           4.73e-37\n",
            "Time:                        11:16:57   Log-Likelihood:                -377.22\n",
            "No. Observations:                 441   AIC:                             762.4\n",
            "Df Residuals:                     437   BIC:                             778.8\n",
            "Df Model:                           3                                         \n",
            "Covariance Type:            nonrobust                                         \n",
            "==============================================================================\n",
            "                 coef    std err          t      P>|t|      [0.025      0.975]\n",
            "------------------------------------------------------------------------------\n",
            "const          0.9846      0.241      4.093      0.000       0.512       1.457\n",
            "AUT            0.0242      0.002     10.831      0.000       0.020       0.029\n",
            "SCC           -0.0132      0.005     -2.669      0.008      -0.023      -0.003\n",
            "MAAS           0.0053      0.003      1.944      0.053   -5.92e-05       0.011\n",
            "==============================================================================\n",
            "Omnibus:                       17.226   Durbin-Watson:                   2.023\n",
            "Prob(Omnibus):                  0.000   Jarque-Bera (JB):               21.246\n",
            "Skew:                           0.377   Prob(JB):                     2.44e-05\n",
            "Kurtosis:                       3.767   Cond. No.                     1.48e+03\n",
            "==============================================================================\n",
            "\n",
            "Warnings:\n",
            "[1] Standard Errors assume that the covariance matrix of the errors is correctly specified.\n",
            "[2] The condition number is large, 1.48e+03. This might indicate that there are\n",
            "strong multicollinearity or other numerical problems.\n",
            "\n",
            "\n",
            "\n",
            "\n",
            "\n",
            "\n"
          ],
          "name": "stdout"
        }
      ]
    },
    {
      "cell_type": "markdown",
      "metadata": {
        "id": "mErlzg9cXcoW"
      },
      "source": [
        "###Standarized coeffs"
      ]
    },
    {
      "cell_type": "code",
      "metadata": {
        "colab": {
          "base_uri": "https://localhost:8080/"
        },
        "id": "0HGsajq8Xapw",
        "outputId": "a8b00df0-061b-4a1a-99e4-508d55b7109b"
      },
      "source": [
        "x_list = ['AUT','SCC','MAAS']\n",
        "\n",
        "for i in range(1, len(x_list)+1):\n",
        "  x = df_z[x_list[:i]]\n",
        "  x = sm.add_constant(x)\n",
        "  y = df_z['IH_MMIH']\n",
        "\n",
        "  model = sm.OLS(y, x).fit()\n",
        "  predictions = model.predict(x)\n",
        "\n",
        "  print(f'>>>>>>>>>> LINEAR REGRESSION: X={x_list[:i]}\\n')\n",
        "  print(model.summary())\n",
        "  print('\\n'*5)"
      ],
      "execution_count": null,
      "outputs": [
        {
          "output_type": "stream",
          "text": [
            ">>>>>>>>>> LINEAR REGRESSION: X=['AUT']\n",
            "\n",
            "                            OLS Regression Results                            \n",
            "==============================================================================\n",
            "Dep. Variable:                IH_MMIH   R-squared:                       0.311\n",
            "Model:                            OLS   Adj. R-squared:                  0.309\n",
            "Method:                 Least Squares   F-statistic:                     198.1\n",
            "Date:                Sat, 27 Mar 2021   Prob (F-statistic):           2.10e-37\n",
            "Time:                        11:17:24   Log-Likelihood:                -543.62\n",
            "No. Observations:                 441   AIC:                             1091.\n",
            "Df Residuals:                     439   BIC:                             1099.\n",
            "Df Model:                           1                                         \n",
            "Covariance Type:            nonrobust                                         \n",
            "==============================================================================\n",
            "                 coef    std err          t      P>|t|      [0.025      0.975]\n",
            "------------------------------------------------------------------------------\n",
            "const       1.857e-16      0.040   4.69e-15      1.000      -0.078       0.078\n",
            "AUT            0.5577      0.040     14.076      0.000       0.480       0.636\n",
            "==============================================================================\n",
            "Omnibus:                       17.519   Durbin-Watson:                   2.030\n",
            "Prob(Omnibus):                  0.000   Jarque-Bera (JB):               21.576\n",
            "Skew:                           0.383   Prob(JB):                     2.07e-05\n",
            "Kurtosis:                       3.767   Cond. No.                         1.00\n",
            "==============================================================================\n",
            "\n",
            "Warnings:\n",
            "[1] Standard Errors assume that the covariance matrix of the errors is correctly specified.\n",
            "\n",
            "\n",
            "\n",
            "\n",
            "\n",
            "\n",
            ">>>>>>>>>> LINEAR REGRESSION: X=['AUT', 'SCC']\n",
            "\n",
            "                            OLS Regression Results                            \n",
            "==============================================================================\n",
            "Dep. Variable:                IH_MMIH   R-squared:                       0.319\n",
            "Model:                            OLS   Adj. R-squared:                  0.316\n",
            "Method:                 Least Squares   F-statistic:                     102.7\n",
            "Date:                Sat, 27 Mar 2021   Prob (F-statistic):           2.68e-37\n",
            "Time:                        11:17:24   Log-Likelihood:                -540.96\n",
            "No. Observations:                 441   AIC:                             1088.\n",
            "Df Residuals:                     438   BIC:                             1100.\n",
            "Df Model:                           2                                         \n",
            "Covariance Type:            nonrobust                                         \n",
            "==============================================================================\n",
            "                 coef    std err          t      P>|t|      [0.025      0.975]\n",
            "------------------------------------------------------------------------------\n",
            "const       1.857e-16      0.039   4.71e-15      1.000      -0.077       0.077\n",
            "AUT            0.6488      0.056     11.616      0.000       0.539       0.759\n",
            "SCC           -0.1286      0.056     -2.303      0.022      -0.238      -0.019\n",
            "==============================================================================\n",
            "Omnibus:                       16.649   Durbin-Watson:                   2.042\n",
            "Prob(Omnibus):                  0.000   Jarque-Bera (JB):               20.517\n",
            "Skew:                           0.367   Prob(JB):                     3.51e-05\n",
            "Kurtosis:                       3.759   Cond. No.                         2.42\n",
            "==============================================================================\n",
            "\n",
            "Warnings:\n",
            "[1] Standard Errors assume that the covariance matrix of the errors is correctly specified.\n",
            "\n",
            "\n",
            "\n",
            "\n",
            "\n",
            "\n",
            ">>>>>>>>>> LINEAR REGRESSION: X=['AUT', 'SCC', 'MAAS']\n",
            "\n",
            "                            OLS Regression Results                            \n",
            "==============================================================================\n",
            "Dep. Variable:                IH_MMIH   R-squared:                       0.325\n",
            "Model:                            OLS   Adj. R-squared:                  0.320\n",
            "Method:                 Least Squares   F-statistic:                     70.16\n",
            "Date:                Sat, 27 Mar 2021   Prob (F-statistic):           4.73e-37\n",
            "Time:                        11:17:24   Log-Likelihood:                -539.07\n",
            "No. Observations:                 441   AIC:                             1086.\n",
            "Df Residuals:                     437   BIC:                             1102.\n",
            "Df Model:                           3                                         \n",
            "Covariance Type:            nonrobust                                         \n",
            "==============================================================================\n",
            "                 coef    std err          t      P>|t|      [0.025      0.975]\n",
            "------------------------------------------------------------------------------\n",
            "const       1.406e-16      0.039   3.58e-15      1.000      -0.077       0.077\n",
            "AUT            0.6217      0.057     10.831      0.000       0.509       0.734\n",
            "SCC           -0.1520      0.057     -2.669      0.008      -0.264      -0.040\n",
            "MAAS           0.0895      0.046      1.944      0.053      -0.001       0.180\n",
            "==============================================================================\n",
            "Omnibus:                       17.226   Durbin-Watson:                   2.023\n",
            "Prob(Omnibus):                  0.000   Jarque-Bera (JB):               21.246\n",
            "Skew:                           0.377   Prob(JB):                     2.44e-05\n",
            "Kurtosis:                       3.767   Cond. No.                         2.70\n",
            "==============================================================================\n",
            "\n",
            "Warnings:\n",
            "[1] Standard Errors assume that the covariance matrix of the errors is correctly specified.\n",
            "\n",
            "\n",
            "\n",
            "\n",
            "\n",
            "\n"
          ],
          "name": "stdout"
        }
      ]
    },
    {
      "cell_type": "markdown",
      "metadata": {
        "id": "NsGxcfgXayRl"
      },
      "source": [
        ""
      ]
    },
    {
      "cell_type": "markdown",
      "metadata": {
        "id": "JRIsSOVKazqd"
      },
      "source": [
        "#8 - CURVILINEAR MODELS"
      ]
    },
    {
      "cell_type": "markdown",
      "metadata": {
        "id": "q3YFMIw2d73K"
      },
      "source": [
        "##Dependent variable: CIHS INDEP"
      ]
    },
    {
      "cell_type": "code",
      "metadata": {
        "id": "kx-a3BcFa9A6"
      },
      "source": [
        "aut = df_subscales['AUT'].to_numpy()\n",
        "scc = df_subscales['SCC'].to_numpy()\n",
        "indep = df_subscales['INDEP'].to_numpy()\n",
        "\n",
        "aut = aut.reshape(-1,1)\n",
        "scc = scc.reshape(-1,1)\n",
        "indep = cihs.reshape(-1,1)"
      ],
      "execution_count": null,
      "outputs": []
    },
    {
      "cell_type": "markdown",
      "metadata": {
        "id": "B6MkdXlelIsY"
      },
      "source": [
        "###AUT"
      ]
    },
    {
      "cell_type": "code",
      "metadata": {
        "colab": {
          "base_uri": "https://localhost:8080/",
          "height": 717
        },
        "id": "GroHkbOkehc0",
        "outputId": "44e15c43-c27f-40a1-b7c2-6ed055eb8634"
      },
      "source": [
        "MakeScatterPlot(df_subscales['AUT'], df_subscales['INDEP'], f'AUT -> INDEP (n={len(df_subscales)})', 'AUT','INDEP')"
      ],
      "execution_count": null,
      "outputs": [
        {
          "output_type": "display_data",
          "data": {
            "text/html": [
              "<html>\n",
              "<head><meta charset=\"utf-8\" /></head>\n",
              "<body>\n",
              "    <div>\n",
              "            <script src=\"https://cdnjs.cloudflare.com/ajax/libs/mathjax/2.7.5/MathJax.js?config=TeX-AMS-MML_SVG\"></script><script type=\"text/javascript\">if (window.MathJax) {MathJax.Hub.Config({SVG: {font: \"STIX-Web\"}});}</script>\n",
              "                <script type=\"text/javascript\">window.PlotlyConfig = {MathJaxConfig: 'local'};</script>\n",
              "        <script src=\"https://cdn.plot.ly/plotly-latest.min.js\"></script>    \n",
              "            <div id=\"ad4c7198-0790-4b9e-beff-bf7ea5e1b074\" class=\"plotly-graph-div\" style=\"height:700px; width:1000px;\"></div>\n",
              "            <script type=\"text/javascript\">\n",
              "                \n",
              "                    window.PLOTLYENV=window.PLOTLYENV || {};\n",
              "                    \n",
              "                if (document.getElementById(\"ad4c7198-0790-4b9e-beff-bf7ea5e1b074\")) {\n",
              "                    Plotly.newPlot(\n",
              "                        'ad4c7198-0790-4b9e-beff-bf7ea5e1b074',\n",
              "                        [{\"mode\": \"markers\", \"type\": \"scatter\", \"x\": [150, 170, 131, 167, 123, 168, 174, 135, 194, 132, 139, 135, 134, 185, 135, 199, 150, 151, 153, 159, 136, 128, 142, 157, 129, 140, 154, 153, 135, 168, 134, 183, 154, 158, 137, 186, 151, 144, 146, 112, 185, 184, 168, 166, 135, 134, 145, 139, 136, 138, 135, 143, 140, 133, 129, 199, 138, 174, 149, 158, 141, 135, 139, 147, 159, 135, 186, 160, 191, 160, 143, 136, 140, 141, 132, 134, 156, 144, 128, 167, 135, 159, 154, 193, 152, 161, 135, 162, 139, 145, 153, 127, 141, 177, 147, 154, 149, 141, 141, 138, 147, 159, 147, 150, 135, 134, 169, 142, 160, 157, 131, 134, 141, 135, 136, 165, 159, 143, 153, 129, 153, 134, 135, 130, 154, 134, 140, 201, 140, 181, 162, 157, 189, 124, 141, 134, 150, 141, 172, 149, 179, 142, 167, 179, 135, 163, 128, 136, 135, 133, 180, 134, 163, 140, 122, 154, 137, 147, 171, 145, 135, 166, 133, 145, 180, 164, 135, 135, 167, 148, 154, 134, 140, 201, 158, 138, 142, 173, 133, 133, 144, 185, 134, 167, 162, 186, 139, 185, 137, 167, 157, 142, 143, 142, 158, 132, 129, 180, 145, 151, 152, 139, 173, 139, 138, 156, 135, 137, 191, 160, 136, 142, 166, 154, 134, 126, 128, 157, 154, 136, 151, 174, 135, 156, 139, 129, 149, 173, 142, 162, 144, 145, 141, 128, 135, 123, 156, 115, 159, 135, 169, 193, 161, 137, 157, 185, 199, 141, 129, 142, 135, 162, 142, 130, 153, 162, 133, 148, 172, 156, 148, 163, 152, 112, 126, 135, 136, 154, 156, 147, 162, 135, 191, 171, 155, 135, 135, 143, 160, 135, 141, 173, 138, 161, 170, 142, 142, 161, 139, 137, 140, 140, 174, 146, 152, 171, 136, 148, 166, 141, 177, 165, 140, 150, 162, 137, 148, 135, 136, 135, 157, 145, 176, 134, 155, 178, 156, 165, 140, 157, 137, 137, 162, 155, 131, 150, 184, 167, 161, 159, 137, 138, 137, 139, 144, 154, 140, 138, 144, 138, 177, 173, 171, 134, 160, 127, 139, 160, 124, 132, 171, 144, 126, 148, 144, 192, 135, 143, 177, 143, 133, 133, 141, 161, 200, 150, 134, 139, 130, 180, 143, 164, 136, 171, 163, 140, 199, 163, 124, 140, 127, 144, 205, 140, 151, 140, 186, 156, 189, 130, 153, 137, 137, 146, 148, 179, 174, 133, 143, 152, 135, 155, 157, 160, 136, 160, 171, 153, 168, 133, 173, 148, 135, 137, 162, 168, 168, 139, 173, 149, 163, 151, 146, 160, 166, 142, 167, 154, 148, 164, 137, 183, 198, 138, 152, 164, 151, 158, 113, 142, 140], \"y\": [3.4, 3.8, 3.2, 4.2, 2.4, 4.8, 3.8, 3.0, 4.6, 2.0, 3.0, 3.0, 1.4, 5.0, 3.0, 4.8, 2.8, 3.0, 3.0, 3.2, 2.4, 2.0, 1.8, 3.2, 2.6, 5.0, 3.0, 2.6, 3.0, 4.6, 2.6, 3.6, 2.0, 4.6, 2.0, 4.0, 3.4, 3.4, 4.2, 3.6, 5.0, 5.0, 3.6, 3.0, 2.0, 1.8, 2.4, 3.4, 2.2, 2.8, 3.0, 2.6, 2.6, 2.8, 2.6, 4.6, 3.0, 3.6, 2.4, 4.6, 3.0, 3.0, 2.6, 2.0, 3.8, 3.0, 4.6, 4.6, 5.0, 3.6, 2.8, 2.8, 2.6, 2.8, 2.8, 3.6, 3.4, 2.4, 1.8, 2.4, 3.0, 1.2, 2.0, 3.6, 1.6, 4.8, 3.6, 1.0, 2.4, 3.6, 3.8, 2.4, 5.0, 4.0, 3.0, 2.0, 3.4, 2.2, 1.6, 2.0, 3.0, 2.6, 2.2, 3.0, 2.2, 2.6, 2.8, 2.4, 4.2, 3.0, 3.0, 2.8, 2.0, 3.0, 3.2, 3.6, 3.8, 2.2, 3.6, 2.8, 3.4, 2.2, 3.0, 3.0, 3.4, 3.2, 2.0, 4.4, 2.0, 5.0, 2.6, 2.2, 4.4, 2.8, 3.2, 2.8, 3.0, 3.0, 2.6, 2.4, 3.6, 2.0, 4.0, 4.2, 3.0, 4.0, 3.0, 1.8, 2.8, 2.6, 3.0, 3.0, 4.0, 1.2, 2.6, 3.8, 2.0, 2.2, 4.0, 2.8, 3.0, 3.6, 2.8, 1.8, 4.4, 4.0, 3.0, 3.0, 3.2, 2.8, 3.2, 4.2, 1.6, 4.8, 4.0, 2.6, 2.6, 4.0, 3.0, 2.2, 3.2, 5.0, 2.8, 4.6, 4.2, 4.8, 2.0, 3.4, 3.2, 5.0, 4.6, 3.0, 2.6, 2.4, 2.8, 2.2, 2.2, 3.4, 2.8, 3.0, 3.2, 3.0, 4.2, 3.8, 4.4, 2.6, 2.0, 2.8, 4.8, 3.8, 3.0, 2.8, 3.6, 3.2, 2.6, 3.0, 3.0, 3.8, 1.4, 2.0, 2.4, 3.2, 3.0, 3.2, 3.0, 2.8, 3.6, 4.2, 2.0, 2.6, 1.2, 3.0, 3.8, 3.0, 3.0, 2.0, 3.6, 1.8, 4.6, 3.0, 4.0, 4.2, 4.8, 2.0, 3.6, 3.6, 5.0, 2.0, 2.6, 2.0, 2.6, 4.4, 3.4, 2.6, 3.6, 3.8, 2.8, 3.0, 4.4, 1.6, 2.8, 3.8, 3.4, 1.4, 1.2, 2.2, 3.0, 2.8, 4.2, 2.2, 4.0, 3.2, 4.0, 4.2, 4.0, 3.0, 3.0, 2.4, 2.4, 3.0, 2.0, 4.0, 2.0, 3.8, 1.6, 2.6, 2.0, 2.6, 3.8, 2.2, 3.0, 3.2, 2.2, 4.4, 3.8, 3.2, 2.4, 3.4, 2.2, 2.0, 3.2, 3.8, 3.0, 4.8, 4.0, 2.6, 2.0, 3.0, 2.8, 2.2, 3.0, 3.8, 3.0, 3.2, 3.4, 4.2, 3.0, 2.0, 3.2, 3.4, 2.2, 2.0, 4.4, 4.4, 2.0, 3.4, 3.8, 4.4, 3.8, 2.8, 4.0, 3.2, 2.2, 2.0, 3.0, 3.4, 2.6, 2.0, 2.4, 1.8, 3.8, 4.2, 2.4, 2.8, 3.8, 2.6, 3.0, 2.8, 3.4, 4.0, 4.0, 2.6, 2.4, 2.8, 4.2, 5.0, 3.0, 3.0, 3.0, 3.4, 1.6, 4.0, 3.2, 4.2, 5.0, 3.8, 3.0, 3.8, 2.6, 5.0, 2.4, 4.8, 2.4, 4.4, 1.2, 2.4, 4.6, 3.4, 2.4, 2.6, 3.4, 2.0, 5.0, 1.8, 3.8, 3.2, 5.0, 3.0, 4.2, 2.8, 3.2, 2.6, 2.8, 1.8, 3.6, 3.6, 2.6, 2.6, 2.8, 3.0, 2.2, 3.8, 4.4, 3.2, 4.0, 3.8, 3.6, 3.2, 4.2, 2.8, 4.2, 3.4, 3.0, 2.8, 3.8, 4.2, 4.2, 3.8, 3.6, 3.4, 3.4, 3.8, 2.2, 2.0, 2.4, 3.4, 4.8, 3.4, 2.8, 1.6, 2.2, 4.0, 4.8, 2.6, 1.2, 5.0, 3.2, 3.8, 1.6, 3.4, 3.4]}],\n",
              "                        {\"height\": 700, \"template\": {\"data\": {\"bar\": [{\"error_x\": {\"color\": \"#2a3f5f\"}, \"error_y\": {\"color\": \"#2a3f5f\"}, \"marker\": {\"line\": {\"color\": \"#E5ECF6\", \"width\": 0.5}}, \"type\": \"bar\"}], \"barpolar\": [{\"marker\": {\"line\": {\"color\": \"#E5ECF6\", \"width\": 0.5}}, \"type\": \"barpolar\"}], \"carpet\": [{\"aaxis\": {\"endlinecolor\": \"#2a3f5f\", \"gridcolor\": \"white\", \"linecolor\": \"white\", \"minorgridcolor\": \"white\", \"startlinecolor\": \"#2a3f5f\"}, \"baxis\": {\"endlinecolor\": \"#2a3f5f\", \"gridcolor\": \"white\", \"linecolor\": \"white\", \"minorgridcolor\": \"white\", \"startlinecolor\": \"#2a3f5f\"}, \"type\": \"carpet\"}], \"choropleth\": [{\"colorbar\": {\"outlinewidth\": 0, \"ticks\": \"\"}, \"type\": \"choropleth\"}], \"contour\": [{\"colorbar\": {\"outlinewidth\": 0, \"ticks\": \"\"}, \"colorscale\": [[0.0, \"#0d0887\"], [0.1111111111111111, \"#46039f\"], [0.2222222222222222, \"#7201a8\"], [0.3333333333333333, \"#9c179e\"], [0.4444444444444444, \"#bd3786\"], [0.5555555555555556, \"#d8576b\"], [0.6666666666666666, \"#ed7953\"], [0.7777777777777778, \"#fb9f3a\"], [0.8888888888888888, \"#fdca26\"], [1.0, \"#f0f921\"]], \"type\": \"contour\"}], \"contourcarpet\": [{\"colorbar\": {\"outlinewidth\": 0, \"ticks\": \"\"}, \"type\": \"contourcarpet\"}], \"heatmap\": [{\"colorbar\": {\"outlinewidth\": 0, \"ticks\": \"\"}, \"colorscale\": [[0.0, \"#0d0887\"], [0.1111111111111111, \"#46039f\"], [0.2222222222222222, \"#7201a8\"], [0.3333333333333333, \"#9c179e\"], [0.4444444444444444, \"#bd3786\"], [0.5555555555555556, \"#d8576b\"], [0.6666666666666666, \"#ed7953\"], [0.7777777777777778, \"#fb9f3a\"], [0.8888888888888888, \"#fdca26\"], [1.0, \"#f0f921\"]], \"type\": \"heatmap\"}], \"heatmapgl\": [{\"colorbar\": {\"outlinewidth\": 0, \"ticks\": \"\"}, \"colorscale\": [[0.0, \"#0d0887\"], [0.1111111111111111, \"#46039f\"], [0.2222222222222222, \"#7201a8\"], [0.3333333333333333, \"#9c179e\"], [0.4444444444444444, \"#bd3786\"], [0.5555555555555556, \"#d8576b\"], [0.6666666666666666, \"#ed7953\"], [0.7777777777777778, \"#fb9f3a\"], [0.8888888888888888, \"#fdca26\"], [1.0, \"#f0f921\"]], \"type\": \"heatmapgl\"}], \"histogram\": [{\"marker\": {\"colorbar\": {\"outlinewidth\": 0, \"ticks\": \"\"}}, \"type\": \"histogram\"}], \"histogram2d\": [{\"colorbar\": {\"outlinewidth\": 0, \"ticks\": \"\"}, \"colorscale\": [[0.0, \"#0d0887\"], [0.1111111111111111, \"#46039f\"], [0.2222222222222222, \"#7201a8\"], [0.3333333333333333, \"#9c179e\"], [0.4444444444444444, \"#bd3786\"], [0.5555555555555556, \"#d8576b\"], [0.6666666666666666, \"#ed7953\"], [0.7777777777777778, \"#fb9f3a\"], [0.8888888888888888, \"#fdca26\"], [1.0, \"#f0f921\"]], \"type\": \"histogram2d\"}], \"histogram2dcontour\": [{\"colorbar\": {\"outlinewidth\": 0, \"ticks\": \"\"}, \"colorscale\": [[0.0, \"#0d0887\"], [0.1111111111111111, \"#46039f\"], [0.2222222222222222, \"#7201a8\"], [0.3333333333333333, \"#9c179e\"], [0.4444444444444444, \"#bd3786\"], [0.5555555555555556, \"#d8576b\"], [0.6666666666666666, \"#ed7953\"], [0.7777777777777778, \"#fb9f3a\"], [0.8888888888888888, \"#fdca26\"], [1.0, \"#f0f921\"]], \"type\": \"histogram2dcontour\"}], \"mesh3d\": [{\"colorbar\": {\"outlinewidth\": 0, \"ticks\": \"\"}, \"type\": \"mesh3d\"}], \"parcoords\": [{\"line\": {\"colorbar\": {\"outlinewidth\": 0, \"ticks\": \"\"}}, \"type\": \"parcoords\"}], \"pie\": [{\"automargin\": true, \"type\": \"pie\"}], \"scatter\": [{\"marker\": {\"colorbar\": {\"outlinewidth\": 0, \"ticks\": \"\"}}, \"type\": \"scatter\"}], \"scatter3d\": [{\"line\": {\"colorbar\": {\"outlinewidth\": 0, \"ticks\": \"\"}}, \"marker\": {\"colorbar\": {\"outlinewidth\": 0, \"ticks\": \"\"}}, \"type\": \"scatter3d\"}], \"scattercarpet\": [{\"marker\": {\"colorbar\": {\"outlinewidth\": 0, \"ticks\": \"\"}}, \"type\": \"scattercarpet\"}], \"scattergeo\": [{\"marker\": {\"colorbar\": {\"outlinewidth\": 0, \"ticks\": \"\"}}, \"type\": \"scattergeo\"}], \"scattergl\": [{\"marker\": {\"colorbar\": {\"outlinewidth\": 0, \"ticks\": \"\"}}, \"type\": \"scattergl\"}], \"scattermapbox\": [{\"marker\": {\"colorbar\": {\"outlinewidth\": 0, \"ticks\": \"\"}}, \"type\": \"scattermapbox\"}], \"scatterpolar\": [{\"marker\": {\"colorbar\": {\"outlinewidth\": 0, \"ticks\": \"\"}}, \"type\": \"scatterpolar\"}], \"scatterpolargl\": [{\"marker\": {\"colorbar\": {\"outlinewidth\": 0, \"ticks\": \"\"}}, \"type\": \"scatterpolargl\"}], \"scatterternary\": [{\"marker\": {\"colorbar\": {\"outlinewidth\": 0, \"ticks\": \"\"}}, \"type\": \"scatterternary\"}], \"surface\": [{\"colorbar\": {\"outlinewidth\": 0, \"ticks\": \"\"}, \"colorscale\": [[0.0, \"#0d0887\"], [0.1111111111111111, \"#46039f\"], [0.2222222222222222, \"#7201a8\"], [0.3333333333333333, \"#9c179e\"], [0.4444444444444444, \"#bd3786\"], [0.5555555555555556, \"#d8576b\"], [0.6666666666666666, \"#ed7953\"], [0.7777777777777778, \"#fb9f3a\"], [0.8888888888888888, \"#fdca26\"], [1.0, \"#f0f921\"]], \"type\": \"surface\"}], \"table\": [{\"cells\": {\"fill\": {\"color\": \"#EBF0F8\"}, \"line\": {\"color\": \"white\"}}, \"header\": {\"fill\": {\"color\": \"#C8D4E3\"}, \"line\": {\"color\": \"white\"}}, \"type\": \"table\"}]}, \"layout\": {\"annotationdefaults\": {\"arrowcolor\": \"#2a3f5f\", \"arrowhead\": 0, \"arrowwidth\": 1}, \"coloraxis\": {\"colorbar\": {\"outlinewidth\": 0, \"ticks\": \"\"}}, \"colorscale\": {\"diverging\": [[0, \"#8e0152\"], [0.1, \"#c51b7d\"], [0.2, \"#de77ae\"], [0.3, \"#f1b6da\"], [0.4, \"#fde0ef\"], [0.5, \"#f7f7f7\"], [0.6, \"#e6f5d0\"], [0.7, \"#b8e186\"], [0.8, \"#7fbc41\"], [0.9, \"#4d9221\"], [1, \"#276419\"]], \"sequential\": [[0.0, \"#0d0887\"], [0.1111111111111111, \"#46039f\"], [0.2222222222222222, \"#7201a8\"], [0.3333333333333333, \"#9c179e\"], [0.4444444444444444, \"#bd3786\"], [0.5555555555555556, \"#d8576b\"], [0.6666666666666666, \"#ed7953\"], [0.7777777777777778, \"#fb9f3a\"], [0.8888888888888888, \"#fdca26\"], [1.0, \"#f0f921\"]], \"sequentialminus\": [[0.0, \"#0d0887\"], [0.1111111111111111, \"#46039f\"], [0.2222222222222222, \"#7201a8\"], [0.3333333333333333, \"#9c179e\"], [0.4444444444444444, \"#bd3786\"], [0.5555555555555556, \"#d8576b\"], [0.6666666666666666, \"#ed7953\"], [0.7777777777777778, \"#fb9f3a\"], [0.8888888888888888, \"#fdca26\"], [1.0, \"#f0f921\"]]}, \"colorway\": [\"#636efa\", \"#EF553B\", \"#00cc96\", \"#ab63fa\", \"#FFA15A\", \"#19d3f3\", \"#FF6692\", \"#B6E880\", \"#FF97FF\", \"#FECB52\"], \"font\": {\"color\": \"#2a3f5f\"}, \"geo\": {\"bgcolor\": \"white\", \"lakecolor\": \"white\", \"landcolor\": \"#E5ECF6\", \"showlakes\": true, \"showland\": true, \"subunitcolor\": \"white\"}, \"hoverlabel\": {\"align\": \"left\"}, \"hovermode\": \"closest\", \"mapbox\": {\"style\": \"light\"}, \"paper_bgcolor\": \"white\", \"plot_bgcolor\": \"#E5ECF6\", \"polar\": {\"angularaxis\": {\"gridcolor\": \"white\", \"linecolor\": \"white\", \"ticks\": \"\"}, \"bgcolor\": \"#E5ECF6\", \"radialaxis\": {\"gridcolor\": \"white\", \"linecolor\": \"white\", \"ticks\": \"\"}}, \"scene\": {\"xaxis\": {\"backgroundcolor\": \"#E5ECF6\", \"gridcolor\": \"white\", \"gridwidth\": 2, \"linecolor\": \"white\", \"showbackground\": true, \"ticks\": \"\", \"zerolinecolor\": \"white\"}, \"yaxis\": {\"backgroundcolor\": \"#E5ECF6\", \"gridcolor\": \"white\", \"gridwidth\": 2, \"linecolor\": \"white\", \"showbackground\": true, \"ticks\": \"\", \"zerolinecolor\": \"white\"}, \"zaxis\": {\"backgroundcolor\": \"#E5ECF6\", \"gridcolor\": \"white\", \"gridwidth\": 2, \"linecolor\": \"white\", \"showbackground\": true, \"ticks\": \"\", \"zerolinecolor\": \"white\"}}, \"shapedefaults\": {\"line\": {\"color\": \"#2a3f5f\"}}, \"ternary\": {\"aaxis\": {\"gridcolor\": \"white\", \"linecolor\": \"white\", \"ticks\": \"\"}, \"baxis\": {\"gridcolor\": \"white\", \"linecolor\": \"white\", \"ticks\": \"\"}, \"bgcolor\": \"#E5ECF6\", \"caxis\": {\"gridcolor\": \"white\", \"linecolor\": \"white\", \"ticks\": \"\"}}, \"title\": {\"x\": 0.05}, \"xaxis\": {\"automargin\": true, \"gridcolor\": \"white\", \"linecolor\": \"white\", \"ticks\": \"\", \"title\": {\"standoff\": 15}, \"zerolinecolor\": \"white\", \"zerolinewidth\": 2}, \"yaxis\": {\"automargin\": true, \"gridcolor\": \"white\", \"linecolor\": \"white\", \"ticks\": \"\", \"title\": {\"standoff\": 15}, \"zerolinecolor\": \"white\", \"zerolinewidth\": 2}}}, \"title\": {\"text\": \"AUT -> INDEP (n=441)\"}, \"width\": 1000, \"xaxis\": {\"title\": {\"text\": \"AUT\"}}, \"yaxis\": {\"title\": {\"text\": \"INDEP\"}}},\n",
              "                        {\"responsive\": true}\n",
              "                    ).then(function(){\n",
              "                            \n",
              "var gd = document.getElementById('ad4c7198-0790-4b9e-beff-bf7ea5e1b074');\n",
              "var x = new MutationObserver(function (mutations, observer) {{\n",
              "        var display = window.getComputedStyle(gd).display;\n",
              "        if (!display || display === 'none') {{\n",
              "            console.log([gd, 'removed!']);\n",
              "            Plotly.purge(gd);\n",
              "            observer.disconnect();\n",
              "        }}\n",
              "}});\n",
              "\n",
              "// Listen for the removal of the full notebook cells\n",
              "var notebookContainer = gd.closest('#notebook-container');\n",
              "if (notebookContainer) {{\n",
              "    x.observe(notebookContainer, {childList: true});\n",
              "}}\n",
              "\n",
              "// Listen for the clearing of the current output cell\n",
              "var outputEl = gd.closest('.output');\n",
              "if (outputEl) {{\n",
              "    x.observe(outputEl, {childList: true});\n",
              "}}\n",
              "\n",
              "                        })\n",
              "                };\n",
              "                \n",
              "            </script>\n",
              "        </div>\n",
              "</body>\n",
              "</html>"
            ]
          },
          "metadata": {
            "tags": []
          }
        }
      ]
    },
    {
      "cell_type": "code",
      "metadata": {
        "colab": {
          "base_uri": "https://localhost:8080/"
        },
        "id": "CGHdQiSeeOdz",
        "outputId": "08f5e137-a688-4003-bad6-b2482f1db0ea"
      },
      "source": [
        "MakeRegressions(aut, indep)"
      ],
      "execution_count": null,
      "outputs": [
        {
          "output_type": "stream",
          "text": [
            "Regresja liniowa R2 =  0.35119828933807884\n",
            "Regresja kwadratowa R2 =  0.3560897924960662\n",
            "Regresja stopnia 3 R2 =  0.35645885531892374\n",
            "Regresja stopnia 4 R2 =  0.3566115729780571\n"
          ],
          "name": "stdout"
        }
      ]
    },
    {
      "cell_type": "markdown",
      "metadata": {
        "id": "mUgJxS3SlNbm"
      },
      "source": [
        "###SCC"
      ]
    },
    {
      "cell_type": "code",
      "metadata": {
        "colab": {
          "base_uri": "https://localhost:8080/",
          "height": 717
        },
        "id": "eeXpH1RtlQfL",
        "outputId": "61a2e226-54d2-46e5-9b1d-1b64df56e079"
      },
      "source": [
        "MakeScatterPlot(df_subscales['SCC'], df_subscales['INDEP'], f'SCC -> INDEP (n={len(df_subscales)})', 'SCC','INDEP')"
      ],
      "execution_count": null,
      "outputs": [
        {
          "output_type": "display_data",
          "data": {
            "text/html": [
              "<html>\n",
              "<head><meta charset=\"utf-8\" /></head>\n",
              "<body>\n",
              "    <div>\n",
              "            <script src=\"https://cdnjs.cloudflare.com/ajax/libs/mathjax/2.7.5/MathJax.js?config=TeX-AMS-MML_SVG\"></script><script type=\"text/javascript\">if (window.MathJax) {MathJax.Hub.Config({SVG: {font: \"STIX-Web\"}});}</script>\n",
              "                <script type=\"text/javascript\">window.PlotlyConfig = {MathJaxConfig: 'local'};</script>\n",
              "        <script src=\"https://cdn.plot.ly/plotly-latest.min.js\"></script>    \n",
              "            <div id=\"2b3cbfc3-f50f-42de-b0fa-8f589f5407bd\" class=\"plotly-graph-div\" style=\"height:700px; width:1000px;\"></div>\n",
              "            <script type=\"text/javascript\">\n",
              "                \n",
              "                    window.PLOTLYENV=window.PLOTLYENV || {};\n",
              "                    \n",
              "                if (document.getElementById(\"2b3cbfc3-f50f-42de-b0fa-8f589f5407bd\")) {\n",
              "                    Plotly.newPlot(\n",
              "                        '2b3cbfc3-f50f-42de-b0fa-8f589f5407bd',\n",
              "                        [{\"mode\": \"markers\", \"type\": \"scatter\", \"x\": [42, 46, 30, 45, 36, 52, 49, 36, 60, 33, 43, 36, 28, 55, 36, 46, 20, 42, 36, 42, 35, 27, 20, 36, 36, 29, 43, 27, 36, 52, 34, 51, 43, 43, 28, 46, 31, 30, 42, 26, 58, 53, 42, 48, 33, 27, 31, 44, 37, 36, 36, 32, 44, 36, 37, 59, 36, 46, 38, 38, 36, 36, 30, 51, 46, 36, 47, 48, 56, 49, 43, 29, 34, 30, 28, 31, 46, 30, 20, 46, 36, 42, 46, 54, 32, 43, 35, 32, 32, 34, 49, 33, 36, 48, 31, 42, 46, 35, 40, 31, 34, 21, 28, 36, 34, 34, 41, 32, 48, 36, 32, 30, 39, 36, 36, 48, 48, 39, 40, 30, 47, 30, 36, 35, 40, 28, 32, 55, 28, 54, 45, 41, 45, 20, 39, 36, 34, 38, 47, 39, 53, 32, 48, 46, 36, 44, 30, 25, 36, 34, 44, 35, 30, 32, 31, 41, 28, 33, 54, 38, 36, 44, 30, 27, 39, 38, 34, 36, 38, 32, 36, 28, 30, 54, 43, 43, 29, 47, 34, 30, 41, 59, 34, 42, 52, 44, 36, 53, 49, 47, 39, 36, 35, 38, 45, 29, 26, 41, 39, 43, 30, 36, 32, 30, 34, 29, 36, 32, 57, 48, 36, 36, 48, 37, 34, 31, 37, 32, 31, 28, 37, 47, 36, 26, 37, 39, 40, 39, 35, 34, 32, 31, 44, 34, 33, 30, 43, 25, 43, 36, 29, 54, 45, 47, 31, 44, 50, 37, 30, 38, 37, 45, 36, 23, 40, 44, 27, 43, 41, 42, 34, 43, 29, 22, 33, 32, 36, 35, 38, 40, 47, 37, 57, 49, 45, 36, 32, 33, 35, 60, 37, 46, 39, 46, 44, 38, 29, 41, 31, 39, 36, 35, 48, 50, 43, 47, 34, 42, 52, 39, 50, 46, 26, 36, 47, 44, 29, 40, 38, 32, 38, 21, 50, 40, 39, 54, 41, 30, 33, 37, 47, 29, 35, 47, 31, 42, 57, 43, 47, 38, 30, 36, 36, 29, 33, 24, 31, 26, 36, 38, 45, 48, 43, 28, 43, 36, 32, 38, 35, 44, 50, 31, 37, 43, 40, 49, 36, 36, 41, 34, 34, 34, 34, 41, 43, 36, 34, 43, 28, 44, 33, 40, 43, 40, 42, 38, 56, 44, 36, 35, 38, 34, 56, 21, 40, 36, 46, 32, 55, 28, 35, 36, 40, 32, 44, 58, 48, 33, 38, 35, 35, 45, 40, 45, 29, 31, 46, 44, 48, 36, 56, 31, 28, 36, 48, 45, 50, 35, 44, 40, 31, 30, 31, 30, 40, 32, 40, 36, 30, 35, 28, 38, 60, 34, 30, 48, 46, 41, 21, 40, 40], \"y\": [3.4, 3.8, 3.2, 4.2, 2.4, 4.8, 3.8, 3.0, 4.6, 2.0, 3.0, 3.0, 1.4, 5.0, 3.0, 4.8, 2.8, 3.0, 3.0, 3.2, 2.4, 2.0, 1.8, 3.2, 2.6, 5.0, 3.0, 2.6, 3.0, 4.6, 2.6, 3.6, 2.0, 4.6, 2.0, 4.0, 3.4, 3.4, 4.2, 3.6, 5.0, 5.0, 3.6, 3.0, 2.0, 1.8, 2.4, 3.4, 2.2, 2.8, 3.0, 2.6, 2.6, 2.8, 2.6, 4.6, 3.0, 3.6, 2.4, 4.6, 3.0, 3.0, 2.6, 2.0, 3.8, 3.0, 4.6, 4.6, 5.0, 3.6, 2.8, 2.8, 2.6, 2.8, 2.8, 3.6, 3.4, 2.4, 1.8, 2.4, 3.0, 1.2, 2.0, 3.6, 1.6, 4.8, 3.6, 1.0, 2.4, 3.6, 3.8, 2.4, 5.0, 4.0, 3.0, 2.0, 3.4, 2.2, 1.6, 2.0, 3.0, 2.6, 2.2, 3.0, 2.2, 2.6, 2.8, 2.4, 4.2, 3.0, 3.0, 2.8, 2.0, 3.0, 3.2, 3.6, 3.8, 2.2, 3.6, 2.8, 3.4, 2.2, 3.0, 3.0, 3.4, 3.2, 2.0, 4.4, 2.0, 5.0, 2.6, 2.2, 4.4, 2.8, 3.2, 2.8, 3.0, 3.0, 2.6, 2.4, 3.6, 2.0, 4.0, 4.2, 3.0, 4.0, 3.0, 1.8, 2.8, 2.6, 3.0, 3.0, 4.0, 1.2, 2.6, 3.8, 2.0, 2.2, 4.0, 2.8, 3.0, 3.6, 2.8, 1.8, 4.4, 4.0, 3.0, 3.0, 3.2, 2.8, 3.2, 4.2, 1.6, 4.8, 4.0, 2.6, 2.6, 4.0, 3.0, 2.2, 3.2, 5.0, 2.8, 4.6, 4.2, 4.8, 2.0, 3.4, 3.2, 5.0, 4.6, 3.0, 2.6, 2.4, 2.8, 2.2, 2.2, 3.4, 2.8, 3.0, 3.2, 3.0, 4.2, 3.8, 4.4, 2.6, 2.0, 2.8, 4.8, 3.8, 3.0, 2.8, 3.6, 3.2, 2.6, 3.0, 3.0, 3.8, 1.4, 2.0, 2.4, 3.2, 3.0, 3.2, 3.0, 2.8, 3.6, 4.2, 2.0, 2.6, 1.2, 3.0, 3.8, 3.0, 3.0, 2.0, 3.6, 1.8, 4.6, 3.0, 4.0, 4.2, 4.8, 2.0, 3.6, 3.6, 5.0, 2.0, 2.6, 2.0, 2.6, 4.4, 3.4, 2.6, 3.6, 3.8, 2.8, 3.0, 4.4, 1.6, 2.8, 3.8, 3.4, 1.4, 1.2, 2.2, 3.0, 2.8, 4.2, 2.2, 4.0, 3.2, 4.0, 4.2, 4.0, 3.0, 3.0, 2.4, 2.4, 3.0, 2.0, 4.0, 2.0, 3.8, 1.6, 2.6, 2.0, 2.6, 3.8, 2.2, 3.0, 3.2, 2.2, 4.4, 3.8, 3.2, 2.4, 3.4, 2.2, 2.0, 3.2, 3.8, 3.0, 4.8, 4.0, 2.6, 2.0, 3.0, 2.8, 2.2, 3.0, 3.8, 3.0, 3.2, 3.4, 4.2, 3.0, 2.0, 3.2, 3.4, 2.2, 2.0, 4.4, 4.4, 2.0, 3.4, 3.8, 4.4, 3.8, 2.8, 4.0, 3.2, 2.2, 2.0, 3.0, 3.4, 2.6, 2.0, 2.4, 1.8, 3.8, 4.2, 2.4, 2.8, 3.8, 2.6, 3.0, 2.8, 3.4, 4.0, 4.0, 2.6, 2.4, 2.8, 4.2, 5.0, 3.0, 3.0, 3.0, 3.4, 1.6, 4.0, 3.2, 4.2, 5.0, 3.8, 3.0, 3.8, 2.6, 5.0, 2.4, 4.8, 2.4, 4.4, 1.2, 2.4, 4.6, 3.4, 2.4, 2.6, 3.4, 2.0, 5.0, 1.8, 3.8, 3.2, 5.0, 3.0, 4.2, 2.8, 3.2, 2.6, 2.8, 1.8, 3.6, 3.6, 2.6, 2.6, 2.8, 3.0, 2.2, 3.8, 4.4, 3.2, 4.0, 3.8, 3.6, 3.2, 4.2, 2.8, 4.2, 3.4, 3.0, 2.8, 3.8, 4.2, 4.2, 3.8, 3.6, 3.4, 3.4, 3.8, 2.2, 2.0, 2.4, 3.4, 4.8, 3.4, 2.8, 1.6, 2.2, 4.0, 4.8, 2.6, 1.2, 5.0, 3.2, 3.8, 1.6, 3.4, 3.4]}],\n",
              "                        {\"height\": 700, \"template\": {\"data\": {\"bar\": [{\"error_x\": {\"color\": \"#2a3f5f\"}, \"error_y\": {\"color\": \"#2a3f5f\"}, \"marker\": {\"line\": {\"color\": \"#E5ECF6\", \"width\": 0.5}}, \"type\": \"bar\"}], \"barpolar\": [{\"marker\": {\"line\": {\"color\": \"#E5ECF6\", \"width\": 0.5}}, \"type\": \"barpolar\"}], \"carpet\": [{\"aaxis\": {\"endlinecolor\": \"#2a3f5f\", \"gridcolor\": \"white\", \"linecolor\": \"white\", \"minorgridcolor\": \"white\", \"startlinecolor\": \"#2a3f5f\"}, \"baxis\": {\"endlinecolor\": \"#2a3f5f\", \"gridcolor\": \"white\", \"linecolor\": \"white\", \"minorgridcolor\": \"white\", \"startlinecolor\": \"#2a3f5f\"}, \"type\": \"carpet\"}], \"choropleth\": [{\"colorbar\": {\"outlinewidth\": 0, \"ticks\": \"\"}, \"type\": \"choropleth\"}], \"contour\": [{\"colorbar\": {\"outlinewidth\": 0, \"ticks\": \"\"}, \"colorscale\": [[0.0, \"#0d0887\"], [0.1111111111111111, \"#46039f\"], [0.2222222222222222, \"#7201a8\"], [0.3333333333333333, \"#9c179e\"], [0.4444444444444444, \"#bd3786\"], [0.5555555555555556, \"#d8576b\"], [0.6666666666666666, \"#ed7953\"], [0.7777777777777778, \"#fb9f3a\"], [0.8888888888888888, \"#fdca26\"], [1.0, \"#f0f921\"]], \"type\": \"contour\"}], \"contourcarpet\": [{\"colorbar\": {\"outlinewidth\": 0, \"ticks\": \"\"}, \"type\": \"contourcarpet\"}], \"heatmap\": [{\"colorbar\": {\"outlinewidth\": 0, \"ticks\": \"\"}, \"colorscale\": [[0.0, \"#0d0887\"], [0.1111111111111111, \"#46039f\"], [0.2222222222222222, \"#7201a8\"], [0.3333333333333333, \"#9c179e\"], [0.4444444444444444, \"#bd3786\"], [0.5555555555555556, \"#d8576b\"], [0.6666666666666666, \"#ed7953\"], [0.7777777777777778, \"#fb9f3a\"], [0.8888888888888888, \"#fdca26\"], [1.0, \"#f0f921\"]], \"type\": \"heatmap\"}], \"heatmapgl\": [{\"colorbar\": {\"outlinewidth\": 0, \"ticks\": \"\"}, \"colorscale\": [[0.0, \"#0d0887\"], [0.1111111111111111, \"#46039f\"], [0.2222222222222222, \"#7201a8\"], [0.3333333333333333, \"#9c179e\"], [0.4444444444444444, \"#bd3786\"], [0.5555555555555556, \"#d8576b\"], [0.6666666666666666, \"#ed7953\"], [0.7777777777777778, \"#fb9f3a\"], [0.8888888888888888, \"#fdca26\"], [1.0, \"#f0f921\"]], \"type\": \"heatmapgl\"}], \"histogram\": [{\"marker\": {\"colorbar\": {\"outlinewidth\": 0, \"ticks\": \"\"}}, \"type\": \"histogram\"}], \"histogram2d\": [{\"colorbar\": {\"outlinewidth\": 0, \"ticks\": \"\"}, \"colorscale\": [[0.0, \"#0d0887\"], [0.1111111111111111, \"#46039f\"], [0.2222222222222222, \"#7201a8\"], [0.3333333333333333, \"#9c179e\"], [0.4444444444444444, \"#bd3786\"], [0.5555555555555556, \"#d8576b\"], [0.6666666666666666, \"#ed7953\"], [0.7777777777777778, \"#fb9f3a\"], [0.8888888888888888, \"#fdca26\"], [1.0, \"#f0f921\"]], \"type\": \"histogram2d\"}], \"histogram2dcontour\": [{\"colorbar\": {\"outlinewidth\": 0, \"ticks\": \"\"}, \"colorscale\": [[0.0, \"#0d0887\"], [0.1111111111111111, \"#46039f\"], [0.2222222222222222, \"#7201a8\"], [0.3333333333333333, \"#9c179e\"], [0.4444444444444444, \"#bd3786\"], [0.5555555555555556, \"#d8576b\"], [0.6666666666666666, \"#ed7953\"], [0.7777777777777778, \"#fb9f3a\"], [0.8888888888888888, \"#fdca26\"], [1.0, \"#f0f921\"]], \"type\": \"histogram2dcontour\"}], \"mesh3d\": [{\"colorbar\": {\"outlinewidth\": 0, \"ticks\": \"\"}, \"type\": \"mesh3d\"}], \"parcoords\": [{\"line\": {\"colorbar\": {\"outlinewidth\": 0, \"ticks\": \"\"}}, \"type\": \"parcoords\"}], \"pie\": [{\"automargin\": true, \"type\": \"pie\"}], \"scatter\": [{\"marker\": {\"colorbar\": {\"outlinewidth\": 0, \"ticks\": \"\"}}, \"type\": \"scatter\"}], \"scatter3d\": [{\"line\": {\"colorbar\": {\"outlinewidth\": 0, \"ticks\": \"\"}}, \"marker\": {\"colorbar\": {\"outlinewidth\": 0, \"ticks\": \"\"}}, \"type\": \"scatter3d\"}], \"scattercarpet\": [{\"marker\": {\"colorbar\": {\"outlinewidth\": 0, \"ticks\": \"\"}}, \"type\": \"scattercarpet\"}], \"scattergeo\": [{\"marker\": {\"colorbar\": {\"outlinewidth\": 0, \"ticks\": \"\"}}, \"type\": \"scattergeo\"}], \"scattergl\": [{\"marker\": {\"colorbar\": {\"outlinewidth\": 0, \"ticks\": \"\"}}, \"type\": \"scattergl\"}], \"scattermapbox\": [{\"marker\": {\"colorbar\": {\"outlinewidth\": 0, \"ticks\": \"\"}}, \"type\": \"scattermapbox\"}], \"scatterpolar\": [{\"marker\": {\"colorbar\": {\"outlinewidth\": 0, \"ticks\": \"\"}}, \"type\": \"scatterpolar\"}], \"scatterpolargl\": [{\"marker\": {\"colorbar\": {\"outlinewidth\": 0, \"ticks\": \"\"}}, \"type\": \"scatterpolargl\"}], \"scatterternary\": [{\"marker\": {\"colorbar\": {\"outlinewidth\": 0, \"ticks\": \"\"}}, \"type\": \"scatterternary\"}], \"surface\": [{\"colorbar\": {\"outlinewidth\": 0, \"ticks\": \"\"}, \"colorscale\": [[0.0, \"#0d0887\"], [0.1111111111111111, \"#46039f\"], [0.2222222222222222, \"#7201a8\"], [0.3333333333333333, \"#9c179e\"], [0.4444444444444444, \"#bd3786\"], [0.5555555555555556, \"#d8576b\"], [0.6666666666666666, \"#ed7953\"], [0.7777777777777778, \"#fb9f3a\"], [0.8888888888888888, \"#fdca26\"], [1.0, \"#f0f921\"]], \"type\": \"surface\"}], \"table\": [{\"cells\": {\"fill\": {\"color\": \"#EBF0F8\"}, \"line\": {\"color\": \"white\"}}, \"header\": {\"fill\": {\"color\": \"#C8D4E3\"}, \"line\": {\"color\": \"white\"}}, \"type\": \"table\"}]}, \"layout\": {\"annotationdefaults\": {\"arrowcolor\": \"#2a3f5f\", \"arrowhead\": 0, \"arrowwidth\": 1}, \"coloraxis\": {\"colorbar\": {\"outlinewidth\": 0, \"ticks\": \"\"}}, \"colorscale\": {\"diverging\": [[0, \"#8e0152\"], [0.1, \"#c51b7d\"], [0.2, \"#de77ae\"], [0.3, \"#f1b6da\"], [0.4, \"#fde0ef\"], [0.5, \"#f7f7f7\"], [0.6, \"#e6f5d0\"], [0.7, \"#b8e186\"], [0.8, \"#7fbc41\"], [0.9, \"#4d9221\"], [1, \"#276419\"]], \"sequential\": [[0.0, \"#0d0887\"], [0.1111111111111111, \"#46039f\"], [0.2222222222222222, \"#7201a8\"], [0.3333333333333333, \"#9c179e\"], [0.4444444444444444, \"#bd3786\"], [0.5555555555555556, \"#d8576b\"], [0.6666666666666666, \"#ed7953\"], [0.7777777777777778, \"#fb9f3a\"], [0.8888888888888888, \"#fdca26\"], [1.0, \"#f0f921\"]], \"sequentialminus\": [[0.0, \"#0d0887\"], [0.1111111111111111, \"#46039f\"], [0.2222222222222222, \"#7201a8\"], [0.3333333333333333, \"#9c179e\"], [0.4444444444444444, \"#bd3786\"], [0.5555555555555556, \"#d8576b\"], [0.6666666666666666, \"#ed7953\"], [0.7777777777777778, \"#fb9f3a\"], [0.8888888888888888, \"#fdca26\"], [1.0, \"#f0f921\"]]}, \"colorway\": [\"#636efa\", \"#EF553B\", \"#00cc96\", \"#ab63fa\", \"#FFA15A\", \"#19d3f3\", \"#FF6692\", \"#B6E880\", \"#FF97FF\", \"#FECB52\"], \"font\": {\"color\": \"#2a3f5f\"}, \"geo\": {\"bgcolor\": \"white\", \"lakecolor\": \"white\", \"landcolor\": \"#E5ECF6\", \"showlakes\": true, \"showland\": true, \"subunitcolor\": \"white\"}, \"hoverlabel\": {\"align\": \"left\"}, \"hovermode\": \"closest\", \"mapbox\": {\"style\": \"light\"}, \"paper_bgcolor\": \"white\", \"plot_bgcolor\": \"#E5ECF6\", \"polar\": {\"angularaxis\": {\"gridcolor\": \"white\", \"linecolor\": \"white\", \"ticks\": \"\"}, \"bgcolor\": \"#E5ECF6\", \"radialaxis\": {\"gridcolor\": \"white\", \"linecolor\": \"white\", \"ticks\": \"\"}}, \"scene\": {\"xaxis\": {\"backgroundcolor\": \"#E5ECF6\", \"gridcolor\": \"white\", \"gridwidth\": 2, \"linecolor\": \"white\", \"showbackground\": true, \"ticks\": \"\", \"zerolinecolor\": \"white\"}, \"yaxis\": {\"backgroundcolor\": \"#E5ECF6\", \"gridcolor\": \"white\", \"gridwidth\": 2, \"linecolor\": \"white\", \"showbackground\": true, \"ticks\": \"\", \"zerolinecolor\": \"white\"}, \"zaxis\": {\"backgroundcolor\": \"#E5ECF6\", \"gridcolor\": \"white\", \"gridwidth\": 2, \"linecolor\": \"white\", \"showbackground\": true, \"ticks\": \"\", \"zerolinecolor\": \"white\"}}, \"shapedefaults\": {\"line\": {\"color\": \"#2a3f5f\"}}, \"ternary\": {\"aaxis\": {\"gridcolor\": \"white\", \"linecolor\": \"white\", \"ticks\": \"\"}, \"baxis\": {\"gridcolor\": \"white\", \"linecolor\": \"white\", \"ticks\": \"\"}, \"bgcolor\": \"#E5ECF6\", \"caxis\": {\"gridcolor\": \"white\", \"linecolor\": \"white\", \"ticks\": \"\"}}, \"title\": {\"x\": 0.05}, \"xaxis\": {\"automargin\": true, \"gridcolor\": \"white\", \"linecolor\": \"white\", \"ticks\": \"\", \"title\": {\"standoff\": 15}, \"zerolinecolor\": \"white\", \"zerolinewidth\": 2}, \"yaxis\": {\"automargin\": true, \"gridcolor\": \"white\", \"linecolor\": \"white\", \"ticks\": \"\", \"title\": {\"standoff\": 15}, \"zerolinecolor\": \"white\", \"zerolinewidth\": 2}}}, \"title\": {\"text\": \"SCC -> INDEP (n=441)\"}, \"width\": 1000, \"xaxis\": {\"title\": {\"text\": \"SCC\"}}, \"yaxis\": {\"title\": {\"text\": \"INDEP\"}}},\n",
              "                        {\"responsive\": true}\n",
              "                    ).then(function(){\n",
              "                            \n",
              "var gd = document.getElementById('2b3cbfc3-f50f-42de-b0fa-8f589f5407bd');\n",
              "var x = new MutationObserver(function (mutations, observer) {{\n",
              "        var display = window.getComputedStyle(gd).display;\n",
              "        if (!display || display === 'none') {{\n",
              "            console.log([gd, 'removed!']);\n",
              "            Plotly.purge(gd);\n",
              "            observer.disconnect();\n",
              "        }}\n",
              "}});\n",
              "\n",
              "// Listen for the removal of the full notebook cells\n",
              "var notebookContainer = gd.closest('#notebook-container');\n",
              "if (notebookContainer) {{\n",
              "    x.observe(notebookContainer, {childList: true});\n",
              "}}\n",
              "\n",
              "// Listen for the clearing of the current output cell\n",
              "var outputEl = gd.closest('.output');\n",
              "if (outputEl) {{\n",
              "    x.observe(outputEl, {childList: true});\n",
              "}}\n",
              "\n",
              "                        })\n",
              "                };\n",
              "                \n",
              "            </script>\n",
              "        </div>\n",
              "</body>\n",
              "</html>"
            ]
          },
          "metadata": {
            "tags": []
          }
        }
      ]
    },
    {
      "cell_type": "code",
      "metadata": {
        "colab": {
          "base_uri": "https://localhost:8080/"
        },
        "id": "IpiCN0wolZki",
        "outputId": "62f1a14f-fcca-40d0-a761-728d22b7ae9d"
      },
      "source": [
        "MakeRegressions(scc, indep)"
      ],
      "execution_count": null,
      "outputs": [
        {
          "output_type": "stream",
          "text": [
            "Regresja liniowa R2 =  0.30335229463690505\n",
            "Regresja kwadratowa R2 =  0.308196071188218\n",
            "Regresja stopnia 3 R2 =  0.3101234261141256\n",
            "Regresja stopnia 4 R2 =  0.3111922587879712\n"
          ],
          "name": "stdout"
        }
      ]
    },
    {
      "cell_type": "markdown",
      "metadata": {
        "id": "1XkISpi2ec97"
      },
      "source": [
        "##Dependent variable: CIHS OPEN"
      ]
    },
    {
      "cell_type": "code",
      "metadata": {
        "id": "bKBK74rBeXmL"
      },
      "source": [
        "open = df_subscales['OPEN'].to_numpy()\n",
        "open = open.reshape(-1,1)"
      ],
      "execution_count": null,
      "outputs": []
    },
    {
      "cell_type": "markdown",
      "metadata": {
        "id": "PCsjPOzLlgJX"
      },
      "source": [
        "###AUT"
      ]
    },
    {
      "cell_type": "code",
      "metadata": {
        "colab": {
          "base_uri": "https://localhost:8080/",
          "height": 717
        },
        "id": "VpiNHVp6fF5B",
        "outputId": "1d50bbe2-bec0-4643-ace0-c3a7adc622d1"
      },
      "source": [
        "MakeScatterPlot(df_subscales['AUT'], df_subscales['OPEN'], f'AUT -> OPEN (n={len(df_subscales)})', 'AUT','OPEN')"
      ],
      "execution_count": null,
      "outputs": [
        {
          "output_type": "display_data",
          "data": {
            "text/html": [
              "<html>\n",
              "<head><meta charset=\"utf-8\" /></head>\n",
              "<body>\n",
              "    <div>\n",
              "            <script src=\"https://cdnjs.cloudflare.com/ajax/libs/mathjax/2.7.5/MathJax.js?config=TeX-AMS-MML_SVG\"></script><script type=\"text/javascript\">if (window.MathJax) {MathJax.Hub.Config({SVG: {font: \"STIX-Web\"}});}</script>\n",
              "                <script type=\"text/javascript\">window.PlotlyConfig = {MathJaxConfig: 'local'};</script>\n",
              "        <script src=\"https://cdn.plot.ly/plotly-latest.min.js\"></script>    \n",
              "            <div id=\"276b8f3c-7382-4f45-8aff-afdfe1b5a0ca\" class=\"plotly-graph-div\" style=\"height:700px; width:1000px;\"></div>\n",
              "            <script type=\"text/javascript\">\n",
              "                \n",
              "                    window.PLOTLYENV=window.PLOTLYENV || {};\n",
              "                    \n",
              "                if (document.getElementById(\"276b8f3c-7382-4f45-8aff-afdfe1b5a0ca\")) {\n",
              "                    Plotly.newPlot(\n",
              "                        '276b8f3c-7382-4f45-8aff-afdfe1b5a0ca',\n",
              "                        [{\"mode\": \"markers\", \"type\": \"scatter\", \"x\": [150, 170, 131, 167, 123, 168, 174, 135, 194, 132, 139, 135, 134, 185, 135, 199, 150, 151, 153, 159, 136, 128, 142, 157, 129, 140, 154, 153, 135, 168, 134, 183, 154, 158, 137, 186, 151, 144, 146, 112, 185, 184, 168, 166, 135, 134, 145, 139, 136, 138, 135, 143, 140, 133, 129, 199, 138, 174, 149, 158, 141, 135, 139, 147, 159, 135, 186, 160, 191, 160, 143, 136, 140, 141, 132, 134, 156, 144, 128, 167, 135, 159, 154, 193, 152, 161, 135, 162, 139, 145, 153, 127, 141, 177, 147, 154, 149, 141, 141, 138, 147, 159, 147, 150, 135, 134, 169, 142, 160, 157, 131, 134, 141, 135, 136, 165, 159, 143, 153, 129, 153, 134, 135, 130, 154, 134, 140, 201, 140, 181, 162, 157, 189, 124, 141, 134, 150, 141, 172, 149, 179, 142, 167, 179, 135, 163, 128, 136, 135, 133, 180, 134, 163, 140, 122, 154, 137, 147, 171, 145, 135, 166, 133, 145, 180, 164, 135, 135, 167, 148, 154, 134, 140, 201, 158, 138, 142, 173, 133, 133, 144, 185, 134, 167, 162, 186, 139, 185, 137, 167, 157, 142, 143, 142, 158, 132, 129, 180, 145, 151, 152, 139, 173, 139, 138, 156, 135, 137, 191, 160, 136, 142, 166, 154, 134, 126, 128, 157, 154, 136, 151, 174, 135, 156, 139, 129, 149, 173, 142, 162, 144, 145, 141, 128, 135, 123, 156, 115, 159, 135, 169, 193, 161, 137, 157, 185, 199, 141, 129, 142, 135, 162, 142, 130, 153, 162, 133, 148, 172, 156, 148, 163, 152, 112, 126, 135, 136, 154, 156, 147, 162, 135, 191, 171, 155, 135, 135, 143, 160, 135, 141, 173, 138, 161, 170, 142, 142, 161, 139, 137, 140, 140, 174, 146, 152, 171, 136, 148, 166, 141, 177, 165, 140, 150, 162, 137, 148, 135, 136, 135, 157, 145, 176, 134, 155, 178, 156, 165, 140, 157, 137, 137, 162, 155, 131, 150, 184, 167, 161, 159, 137, 138, 137, 139, 144, 154, 140, 138, 144, 138, 177, 173, 171, 134, 160, 127, 139, 160, 124, 132, 171, 144, 126, 148, 144, 192, 135, 143, 177, 143, 133, 133, 141, 161, 200, 150, 134, 139, 130, 180, 143, 164, 136, 171, 163, 140, 199, 163, 124, 140, 127, 144, 205, 140, 151, 140, 186, 156, 189, 130, 153, 137, 137, 146, 148, 179, 174, 133, 143, 152, 135, 155, 157, 160, 136, 160, 171, 153, 168, 133, 173, 148, 135, 137, 162, 168, 168, 139, 173, 149, 163, 151, 146, 160, 166, 142, 167, 154, 148, 164, 137, 183, 198, 138, 152, 164, 151, 158, 113, 142, 140], \"y\": [3.8, 4.0, 3.4, 4.6, 3.8, 4.6, 3.6, 3.0, 3.0, 2.6, 2.8, 3.0, 4.2, 3.8, 3.0, 5.0, 4.0, 4.2, 3.6, 4.0, 2.8, 4.0, 4.2, 3.4, 3.0, 4.8, 3.0, 3.6, 3.0, 4.0, 3.4, 4.6, 3.6, 3.6, 4.0, 4.0, 4.0, 3.6, 4.2, 3.4, 3.4, 3.8, 4.0, 3.2, 4.0, 4.4, 4.2, 3.4, 3.8, 3.0, 3.0, 3.6, 3.0, 3.0, 2.8, 4.0, 3.0, 3.4, 3.4, 3.0, 3.0, 3.0, 4.0, 3.2, 3.8, 3.0, 4.6, 4.6, 4.6, 4.2, 3.2, 3.6, 3.4, 3.4, 3.6, 3.4, 4.0, 3.8, 4.4, 4.0, 3.0, 2.6, 4.2, 3.8, 3.2, 4.6, 3.8, 4.0, 3.6, 3.6, 3.8, 3.8, 5.0, 3.6, 4.0, 3.4, 3.6, 3.6, 3.0, 3.6, 3.4, 4.6, 3.6, 3.0, 3.8, 3.6, 4.0, 3.6, 3.8, 3.0, 3.4, 3.8, 3.0, 3.0, 2.8, 4.6, 3.8, 3.2, 2.8, 3.6, 3.8, 4.0, 3.0, 3.0, 3.0, 3.6, 4.0, 3.8, 4.0, 4.6, 3.8, 3.8, 4.2, 4.0, 2.8, 2.4, 3.6, 3.0, 4.4, 4.8, 2.8, 3.2, 4.0, 4.6, 3.0, 3.8, 3.4, 3.8, 3.0, 3.8, 4.0, 3.6, 3.6, 3.8, 3.4, 3.4, 4.4, 3.4, 4.2, 2.2, 3.0, 4.0, 4.2, 4.2, 4.2, 4.0, 3.8, 3.0, 4.0, 3.8, 4.0, 4.6, 4.6, 5.0, 4.0, 3.2, 4.2, 3.4, 3.8, 4.0, 3.6, 5.0, 4.2, 4.6, 2.6, 5.0, 4.0, 4.0, 2.6, 3.6, 4.2, 3.4, 2.8, 4.0, 3.0, 4.4, 4.0, 3.6, 4.4, 2.6, 3.6, 3.0, 5.0, 4.0, 4.8, 4.6, 4.0, 3.4, 4.0, 4.0, 3.0, 3.2, 3.2, 4.0, 3.6, 3.8, 3.8, 3.8, 4.0, 4.0, 4.2, 3.8, 3.0, 3.2, 3.0, 3.2, 4.0, 3.8, 3.8, 3.6, 4.0, 4.0, 3.8, 3.6, 3.0, 3.6, 4.0, 4.0, 4.6, 3.0, 4.2, 4.0, 3.6, 2.6, 4.0, 3.8, 3.6, 4.0, 3.0, 3.2, 3.2, 4.0, 3.4, 3.4, 5.0, 4.2, 3.6, 4.0, 4.0, 2.6, 3.4, 3.6, 3.4, 3.0, 4.8, 4.0, 2.8, 3.0, 4.4, 3.4, 4.0, 3.4, 4.0, 3.8, 3.8, 3.0, 3.8, 3.8, 3.8, 3.0, 3.6, 4.0, 3.8, 3.8, 3.8, 3.8, 4.0, 5.0, 4.0, 3.4, 3.4, 3.0, 4.2, 4.0, 4.0, 4.6, 3.4, 3.6, 3.2, 4.6, 3.6, 3.8, 3.6, 4.4, 4.8, 3.8, 4.0, 3.2, 3.2, 4.2, 4.6, 4.4, 4.6, 3.2, 4.0, 4.4, 3.4, 4.0, 3.0, 4.0, 3.6, 4.0, 3.8, 4.8, 3.8, 3.8, 4.2, 2.4, 3.8, 3.8, 4.0, 2.8, 3.8, 3.8, 4.0, 3.8, 3.8, 3.8, 3.2, 3.6, 5.0, 2.0, 4.8, 4.0, 3.2, 3.0, 3.2, 3.6, 3.2, 3.4, 3.8, 4.0, 3.6, 4.0, 5.0, 5.0, 3.0, 3.4, 4.2, 4.0, 3.6, 2.6, 2.6, 4.0, 5.0, 4.8, 3.0, 4.0, 3.4, 4.6, 3.6, 4.6, 4.0, 5.0, 2.8, 3.2, 4.4, 4.0, 2.6, 3.6, 2.8, 3.6, 3.4, 4.2, 3.8, 3.4, 3.6, 3.8, 3.2, 4.0, 3.0, 3.0, 3.0, 4.2, 4.0, 3.4, 4.4, 2.8, 2.8, 3.8, 4.0, 3.8, 4.4, 3.6, 3.0, 3.4, 4.0, 4.6, 4.0, 3.2, 1.8, 4.4, 3.0, 3.6, 3.8, 3.2, 4.6, 3.2, 5.0, 4.0, 4.2, 4.0, 3.6, 4.4, 2.8, 4.4, 5.0, 3.8, 3.6, 2.6, 4.2, 3.0, 3.8, 3.4, 3.8, 2.2, 3.8, 3.2, 3.2, 2.8, 2.4]}],\n",
              "                        {\"height\": 700, \"template\": {\"data\": {\"bar\": [{\"error_x\": {\"color\": \"#2a3f5f\"}, \"error_y\": {\"color\": \"#2a3f5f\"}, \"marker\": {\"line\": {\"color\": \"#E5ECF6\", \"width\": 0.5}}, \"type\": \"bar\"}], \"barpolar\": [{\"marker\": {\"line\": {\"color\": \"#E5ECF6\", \"width\": 0.5}}, \"type\": \"barpolar\"}], \"carpet\": [{\"aaxis\": {\"endlinecolor\": \"#2a3f5f\", \"gridcolor\": \"white\", \"linecolor\": \"white\", \"minorgridcolor\": \"white\", \"startlinecolor\": \"#2a3f5f\"}, \"baxis\": {\"endlinecolor\": \"#2a3f5f\", \"gridcolor\": \"white\", \"linecolor\": \"white\", \"minorgridcolor\": \"white\", \"startlinecolor\": \"#2a3f5f\"}, \"type\": \"carpet\"}], \"choropleth\": [{\"colorbar\": {\"outlinewidth\": 0, \"ticks\": \"\"}, \"type\": \"choropleth\"}], \"contour\": [{\"colorbar\": {\"outlinewidth\": 0, \"ticks\": \"\"}, \"colorscale\": [[0.0, \"#0d0887\"], [0.1111111111111111, \"#46039f\"], [0.2222222222222222, \"#7201a8\"], [0.3333333333333333, \"#9c179e\"], [0.4444444444444444, \"#bd3786\"], [0.5555555555555556, \"#d8576b\"], [0.6666666666666666, \"#ed7953\"], [0.7777777777777778, \"#fb9f3a\"], [0.8888888888888888, \"#fdca26\"], [1.0, \"#f0f921\"]], \"type\": \"contour\"}], \"contourcarpet\": [{\"colorbar\": {\"outlinewidth\": 0, \"ticks\": \"\"}, \"type\": \"contourcarpet\"}], \"heatmap\": [{\"colorbar\": {\"outlinewidth\": 0, \"ticks\": \"\"}, \"colorscale\": [[0.0, \"#0d0887\"], [0.1111111111111111, \"#46039f\"], [0.2222222222222222, \"#7201a8\"], [0.3333333333333333, \"#9c179e\"], [0.4444444444444444, \"#bd3786\"], [0.5555555555555556, \"#d8576b\"], [0.6666666666666666, \"#ed7953\"], [0.7777777777777778, \"#fb9f3a\"], [0.8888888888888888, \"#fdca26\"], [1.0, \"#f0f921\"]], \"type\": \"heatmap\"}], \"heatmapgl\": [{\"colorbar\": {\"outlinewidth\": 0, \"ticks\": \"\"}, \"colorscale\": [[0.0, \"#0d0887\"], [0.1111111111111111, \"#46039f\"], [0.2222222222222222, \"#7201a8\"], [0.3333333333333333, \"#9c179e\"], [0.4444444444444444, \"#bd3786\"], [0.5555555555555556, \"#d8576b\"], [0.6666666666666666, \"#ed7953\"], [0.7777777777777778, \"#fb9f3a\"], [0.8888888888888888, \"#fdca26\"], [1.0, \"#f0f921\"]], \"type\": \"heatmapgl\"}], \"histogram\": [{\"marker\": {\"colorbar\": {\"outlinewidth\": 0, \"ticks\": \"\"}}, \"type\": \"histogram\"}], \"histogram2d\": [{\"colorbar\": {\"outlinewidth\": 0, \"ticks\": \"\"}, \"colorscale\": [[0.0, \"#0d0887\"], [0.1111111111111111, \"#46039f\"], [0.2222222222222222, \"#7201a8\"], [0.3333333333333333, \"#9c179e\"], [0.4444444444444444, \"#bd3786\"], [0.5555555555555556, \"#d8576b\"], [0.6666666666666666, \"#ed7953\"], [0.7777777777777778, \"#fb9f3a\"], [0.8888888888888888, \"#fdca26\"], [1.0, \"#f0f921\"]], \"type\": \"histogram2d\"}], \"histogram2dcontour\": [{\"colorbar\": {\"outlinewidth\": 0, \"ticks\": \"\"}, \"colorscale\": [[0.0, \"#0d0887\"], [0.1111111111111111, \"#46039f\"], [0.2222222222222222, \"#7201a8\"], [0.3333333333333333, \"#9c179e\"], [0.4444444444444444, \"#bd3786\"], [0.5555555555555556, \"#d8576b\"], [0.6666666666666666, \"#ed7953\"], [0.7777777777777778, \"#fb9f3a\"], [0.8888888888888888, \"#fdca26\"], [1.0, \"#f0f921\"]], \"type\": \"histogram2dcontour\"}], \"mesh3d\": [{\"colorbar\": {\"outlinewidth\": 0, \"ticks\": \"\"}, \"type\": \"mesh3d\"}], \"parcoords\": [{\"line\": {\"colorbar\": {\"outlinewidth\": 0, \"ticks\": \"\"}}, \"type\": \"parcoords\"}], \"pie\": [{\"automargin\": true, \"type\": \"pie\"}], \"scatter\": [{\"marker\": {\"colorbar\": {\"outlinewidth\": 0, \"ticks\": \"\"}}, \"type\": \"scatter\"}], \"scatter3d\": [{\"line\": {\"colorbar\": {\"outlinewidth\": 0, \"ticks\": \"\"}}, \"marker\": {\"colorbar\": {\"outlinewidth\": 0, \"ticks\": \"\"}}, \"type\": \"scatter3d\"}], \"scattercarpet\": [{\"marker\": {\"colorbar\": {\"outlinewidth\": 0, \"ticks\": \"\"}}, \"type\": \"scattercarpet\"}], \"scattergeo\": [{\"marker\": {\"colorbar\": {\"outlinewidth\": 0, \"ticks\": \"\"}}, \"type\": \"scattergeo\"}], \"scattergl\": [{\"marker\": {\"colorbar\": {\"outlinewidth\": 0, \"ticks\": \"\"}}, \"type\": \"scattergl\"}], \"scattermapbox\": [{\"marker\": {\"colorbar\": {\"outlinewidth\": 0, \"ticks\": \"\"}}, \"type\": \"scattermapbox\"}], \"scatterpolar\": [{\"marker\": {\"colorbar\": {\"outlinewidth\": 0, \"ticks\": \"\"}}, \"type\": \"scatterpolar\"}], \"scatterpolargl\": [{\"marker\": {\"colorbar\": {\"outlinewidth\": 0, \"ticks\": \"\"}}, \"type\": \"scatterpolargl\"}], \"scatterternary\": [{\"marker\": {\"colorbar\": {\"outlinewidth\": 0, \"ticks\": \"\"}}, \"type\": \"scatterternary\"}], \"surface\": [{\"colorbar\": {\"outlinewidth\": 0, \"ticks\": \"\"}, \"colorscale\": [[0.0, \"#0d0887\"], [0.1111111111111111, \"#46039f\"], [0.2222222222222222, \"#7201a8\"], [0.3333333333333333, \"#9c179e\"], [0.4444444444444444, \"#bd3786\"], [0.5555555555555556, \"#d8576b\"], [0.6666666666666666, \"#ed7953\"], [0.7777777777777778, \"#fb9f3a\"], [0.8888888888888888, \"#fdca26\"], [1.0, \"#f0f921\"]], \"type\": \"surface\"}], \"table\": [{\"cells\": {\"fill\": {\"color\": \"#EBF0F8\"}, \"line\": {\"color\": \"white\"}}, \"header\": {\"fill\": {\"color\": \"#C8D4E3\"}, \"line\": {\"color\": \"white\"}}, \"type\": \"table\"}]}, \"layout\": {\"annotationdefaults\": {\"arrowcolor\": \"#2a3f5f\", \"arrowhead\": 0, \"arrowwidth\": 1}, \"coloraxis\": {\"colorbar\": {\"outlinewidth\": 0, \"ticks\": \"\"}}, \"colorscale\": {\"diverging\": [[0, \"#8e0152\"], [0.1, \"#c51b7d\"], [0.2, \"#de77ae\"], [0.3, \"#f1b6da\"], [0.4, \"#fde0ef\"], [0.5, \"#f7f7f7\"], [0.6, \"#e6f5d0\"], [0.7, \"#b8e186\"], [0.8, \"#7fbc41\"], [0.9, \"#4d9221\"], [1, \"#276419\"]], \"sequential\": [[0.0, \"#0d0887\"], [0.1111111111111111, \"#46039f\"], [0.2222222222222222, \"#7201a8\"], [0.3333333333333333, \"#9c179e\"], [0.4444444444444444, \"#bd3786\"], [0.5555555555555556, \"#d8576b\"], [0.6666666666666666, \"#ed7953\"], [0.7777777777777778, \"#fb9f3a\"], [0.8888888888888888, \"#fdca26\"], [1.0, \"#f0f921\"]], \"sequentialminus\": [[0.0, \"#0d0887\"], [0.1111111111111111, \"#46039f\"], [0.2222222222222222, \"#7201a8\"], [0.3333333333333333, \"#9c179e\"], [0.4444444444444444, \"#bd3786\"], [0.5555555555555556, \"#d8576b\"], [0.6666666666666666, \"#ed7953\"], [0.7777777777777778, \"#fb9f3a\"], [0.8888888888888888, \"#fdca26\"], [1.0, \"#f0f921\"]]}, \"colorway\": [\"#636efa\", \"#EF553B\", \"#00cc96\", \"#ab63fa\", \"#FFA15A\", \"#19d3f3\", \"#FF6692\", \"#B6E880\", \"#FF97FF\", \"#FECB52\"], \"font\": {\"color\": \"#2a3f5f\"}, \"geo\": {\"bgcolor\": \"white\", \"lakecolor\": \"white\", \"landcolor\": \"#E5ECF6\", \"showlakes\": true, \"showland\": true, \"subunitcolor\": \"white\"}, \"hoverlabel\": {\"align\": \"left\"}, \"hovermode\": \"closest\", \"mapbox\": {\"style\": \"light\"}, \"paper_bgcolor\": \"white\", \"plot_bgcolor\": \"#E5ECF6\", \"polar\": {\"angularaxis\": {\"gridcolor\": \"white\", \"linecolor\": \"white\", \"ticks\": \"\"}, \"bgcolor\": \"#E5ECF6\", \"radialaxis\": {\"gridcolor\": \"white\", \"linecolor\": \"white\", \"ticks\": \"\"}}, \"scene\": {\"xaxis\": {\"backgroundcolor\": \"#E5ECF6\", \"gridcolor\": \"white\", \"gridwidth\": 2, \"linecolor\": \"white\", \"showbackground\": true, \"ticks\": \"\", \"zerolinecolor\": \"white\"}, \"yaxis\": {\"backgroundcolor\": \"#E5ECF6\", \"gridcolor\": \"white\", \"gridwidth\": 2, \"linecolor\": \"white\", \"showbackground\": true, \"ticks\": \"\", \"zerolinecolor\": \"white\"}, \"zaxis\": {\"backgroundcolor\": \"#E5ECF6\", \"gridcolor\": \"white\", \"gridwidth\": 2, \"linecolor\": \"white\", \"showbackground\": true, \"ticks\": \"\", \"zerolinecolor\": \"white\"}}, \"shapedefaults\": {\"line\": {\"color\": \"#2a3f5f\"}}, \"ternary\": {\"aaxis\": {\"gridcolor\": \"white\", \"linecolor\": \"white\", \"ticks\": \"\"}, \"baxis\": {\"gridcolor\": \"white\", \"linecolor\": \"white\", \"ticks\": \"\"}, \"bgcolor\": \"#E5ECF6\", \"caxis\": {\"gridcolor\": \"white\", \"linecolor\": \"white\", \"ticks\": \"\"}}, \"title\": {\"x\": 0.05}, \"xaxis\": {\"automargin\": true, \"gridcolor\": \"white\", \"linecolor\": \"white\", \"ticks\": \"\", \"title\": {\"standoff\": 15}, \"zerolinecolor\": \"white\", \"zerolinewidth\": 2}, \"yaxis\": {\"automargin\": true, \"gridcolor\": \"white\", \"linecolor\": \"white\", \"ticks\": \"\", \"title\": {\"standoff\": 15}, \"zerolinecolor\": \"white\", \"zerolinewidth\": 2}}}, \"title\": {\"text\": \"AUT -> OPEN (n=441)\"}, \"width\": 1000, \"xaxis\": {\"title\": {\"text\": \"AUT\"}}, \"yaxis\": {\"title\": {\"text\": \"OPEN\"}}},\n",
              "                        {\"responsive\": true}\n",
              "                    ).then(function(){\n",
              "                            \n",
              "var gd = document.getElementById('276b8f3c-7382-4f45-8aff-afdfe1b5a0ca');\n",
              "var x = new MutationObserver(function (mutations, observer) {{\n",
              "        var display = window.getComputedStyle(gd).display;\n",
              "        if (!display || display === 'none') {{\n",
              "            console.log([gd, 'removed!']);\n",
              "            Plotly.purge(gd);\n",
              "            observer.disconnect();\n",
              "        }}\n",
              "}});\n",
              "\n",
              "// Listen for the removal of the full notebook cells\n",
              "var notebookContainer = gd.closest('#notebook-container');\n",
              "if (notebookContainer) {{\n",
              "    x.observe(notebookContainer, {childList: true});\n",
              "}}\n",
              "\n",
              "// Listen for the clearing of the current output cell\n",
              "var outputEl = gd.closest('.output');\n",
              "if (outputEl) {{\n",
              "    x.observe(outputEl, {childList: true});\n",
              "}}\n",
              "\n",
              "                        })\n",
              "                };\n",
              "                \n",
              "            </script>\n",
              "        </div>\n",
              "</body>\n",
              "</html>"
            ]
          },
          "metadata": {
            "tags": []
          }
        }
      ]
    },
    {
      "cell_type": "code",
      "metadata": {
        "colab": {
          "base_uri": "https://localhost:8080/"
        },
        "id": "zug-YYLFfLHB",
        "outputId": "2490b6ba-696a-41bc-abe3-b47080e57772"
      },
      "source": [
        "MakeRegressions(aut, open)"
      ],
      "execution_count": null,
      "outputs": [
        {
          "output_type": "stream",
          "text": [
            "Regresja liniowa R2 =  0.1076700668825663\n",
            "Regresja kwadratowa R2 =  0.10845853638609493\n",
            "Regresja stopnia 3 R2 =  0.10984894706395243\n",
            "Regresja stopnia 4 R2 =  0.11054853407539966\n"
          ],
          "name": "stdout"
        }
      ]
    },
    {
      "cell_type": "markdown",
      "metadata": {
        "id": "QXrIK1Xylius"
      },
      "source": [
        "###SCC"
      ]
    },
    {
      "cell_type": "code",
      "metadata": {
        "colab": {
          "base_uri": "https://localhost:8080/",
          "height": 717
        },
        "id": "Su_qFkDjlk-k",
        "outputId": "039b450e-b25f-420c-c48e-14d9d77e3bce"
      },
      "source": [
        "MakeScatterPlot(df_subscales['SCC'], df_subscales['OPEN'], f'SCC -> OPEN (n={len(df_subscales)})', 'SCC','OPEN')"
      ],
      "execution_count": null,
      "outputs": [
        {
          "output_type": "display_data",
          "data": {
            "text/html": [
              "<html>\n",
              "<head><meta charset=\"utf-8\" /></head>\n",
              "<body>\n",
              "    <div>\n",
              "            <script src=\"https://cdnjs.cloudflare.com/ajax/libs/mathjax/2.7.5/MathJax.js?config=TeX-AMS-MML_SVG\"></script><script type=\"text/javascript\">if (window.MathJax) {MathJax.Hub.Config({SVG: {font: \"STIX-Web\"}});}</script>\n",
              "                <script type=\"text/javascript\">window.PlotlyConfig = {MathJaxConfig: 'local'};</script>\n",
              "        <script src=\"https://cdn.plot.ly/plotly-latest.min.js\"></script>    \n",
              "            <div id=\"3f6b7fe0-c0e9-4f4e-bbf0-1f18905cf6d9\" class=\"plotly-graph-div\" style=\"height:700px; width:1000px;\"></div>\n",
              "            <script type=\"text/javascript\">\n",
              "                \n",
              "                    window.PLOTLYENV=window.PLOTLYENV || {};\n",
              "                    \n",
              "                if (document.getElementById(\"3f6b7fe0-c0e9-4f4e-bbf0-1f18905cf6d9\")) {\n",
              "                    Plotly.newPlot(\n",
              "                        '3f6b7fe0-c0e9-4f4e-bbf0-1f18905cf6d9',\n",
              "                        [{\"mode\": \"markers\", \"type\": \"scatter\", \"x\": [42, 46, 30, 45, 36, 52, 49, 36, 60, 33, 43, 36, 28, 55, 36, 46, 20, 42, 36, 42, 35, 27, 20, 36, 36, 29, 43, 27, 36, 52, 34, 51, 43, 43, 28, 46, 31, 30, 42, 26, 58, 53, 42, 48, 33, 27, 31, 44, 37, 36, 36, 32, 44, 36, 37, 59, 36, 46, 38, 38, 36, 36, 30, 51, 46, 36, 47, 48, 56, 49, 43, 29, 34, 30, 28, 31, 46, 30, 20, 46, 36, 42, 46, 54, 32, 43, 35, 32, 32, 34, 49, 33, 36, 48, 31, 42, 46, 35, 40, 31, 34, 21, 28, 36, 34, 34, 41, 32, 48, 36, 32, 30, 39, 36, 36, 48, 48, 39, 40, 30, 47, 30, 36, 35, 40, 28, 32, 55, 28, 54, 45, 41, 45, 20, 39, 36, 34, 38, 47, 39, 53, 32, 48, 46, 36, 44, 30, 25, 36, 34, 44, 35, 30, 32, 31, 41, 28, 33, 54, 38, 36, 44, 30, 27, 39, 38, 34, 36, 38, 32, 36, 28, 30, 54, 43, 43, 29, 47, 34, 30, 41, 59, 34, 42, 52, 44, 36, 53, 49, 47, 39, 36, 35, 38, 45, 29, 26, 41, 39, 43, 30, 36, 32, 30, 34, 29, 36, 32, 57, 48, 36, 36, 48, 37, 34, 31, 37, 32, 31, 28, 37, 47, 36, 26, 37, 39, 40, 39, 35, 34, 32, 31, 44, 34, 33, 30, 43, 25, 43, 36, 29, 54, 45, 47, 31, 44, 50, 37, 30, 38, 37, 45, 36, 23, 40, 44, 27, 43, 41, 42, 34, 43, 29, 22, 33, 32, 36, 35, 38, 40, 47, 37, 57, 49, 45, 36, 32, 33, 35, 60, 37, 46, 39, 46, 44, 38, 29, 41, 31, 39, 36, 35, 48, 50, 43, 47, 34, 42, 52, 39, 50, 46, 26, 36, 47, 44, 29, 40, 38, 32, 38, 21, 50, 40, 39, 54, 41, 30, 33, 37, 47, 29, 35, 47, 31, 42, 57, 43, 47, 38, 30, 36, 36, 29, 33, 24, 31, 26, 36, 38, 45, 48, 43, 28, 43, 36, 32, 38, 35, 44, 50, 31, 37, 43, 40, 49, 36, 36, 41, 34, 34, 34, 34, 41, 43, 36, 34, 43, 28, 44, 33, 40, 43, 40, 42, 38, 56, 44, 36, 35, 38, 34, 56, 21, 40, 36, 46, 32, 55, 28, 35, 36, 40, 32, 44, 58, 48, 33, 38, 35, 35, 45, 40, 45, 29, 31, 46, 44, 48, 36, 56, 31, 28, 36, 48, 45, 50, 35, 44, 40, 31, 30, 31, 30, 40, 32, 40, 36, 30, 35, 28, 38, 60, 34, 30, 48, 46, 41, 21, 40, 40], \"y\": [3.8, 4.0, 3.4, 4.6, 3.8, 4.6, 3.6, 3.0, 3.0, 2.6, 2.8, 3.0, 4.2, 3.8, 3.0, 5.0, 4.0, 4.2, 3.6, 4.0, 2.8, 4.0, 4.2, 3.4, 3.0, 4.8, 3.0, 3.6, 3.0, 4.0, 3.4, 4.6, 3.6, 3.6, 4.0, 4.0, 4.0, 3.6, 4.2, 3.4, 3.4, 3.8, 4.0, 3.2, 4.0, 4.4, 4.2, 3.4, 3.8, 3.0, 3.0, 3.6, 3.0, 3.0, 2.8, 4.0, 3.0, 3.4, 3.4, 3.0, 3.0, 3.0, 4.0, 3.2, 3.8, 3.0, 4.6, 4.6, 4.6, 4.2, 3.2, 3.6, 3.4, 3.4, 3.6, 3.4, 4.0, 3.8, 4.4, 4.0, 3.0, 2.6, 4.2, 3.8, 3.2, 4.6, 3.8, 4.0, 3.6, 3.6, 3.8, 3.8, 5.0, 3.6, 4.0, 3.4, 3.6, 3.6, 3.0, 3.6, 3.4, 4.6, 3.6, 3.0, 3.8, 3.6, 4.0, 3.6, 3.8, 3.0, 3.4, 3.8, 3.0, 3.0, 2.8, 4.6, 3.8, 3.2, 2.8, 3.6, 3.8, 4.0, 3.0, 3.0, 3.0, 3.6, 4.0, 3.8, 4.0, 4.6, 3.8, 3.8, 4.2, 4.0, 2.8, 2.4, 3.6, 3.0, 4.4, 4.8, 2.8, 3.2, 4.0, 4.6, 3.0, 3.8, 3.4, 3.8, 3.0, 3.8, 4.0, 3.6, 3.6, 3.8, 3.4, 3.4, 4.4, 3.4, 4.2, 2.2, 3.0, 4.0, 4.2, 4.2, 4.2, 4.0, 3.8, 3.0, 4.0, 3.8, 4.0, 4.6, 4.6, 5.0, 4.0, 3.2, 4.2, 3.4, 3.8, 4.0, 3.6, 5.0, 4.2, 4.6, 2.6, 5.0, 4.0, 4.0, 2.6, 3.6, 4.2, 3.4, 2.8, 4.0, 3.0, 4.4, 4.0, 3.6, 4.4, 2.6, 3.6, 3.0, 5.0, 4.0, 4.8, 4.6, 4.0, 3.4, 4.0, 4.0, 3.0, 3.2, 3.2, 4.0, 3.6, 3.8, 3.8, 3.8, 4.0, 4.0, 4.2, 3.8, 3.0, 3.2, 3.0, 3.2, 4.0, 3.8, 3.8, 3.6, 4.0, 4.0, 3.8, 3.6, 3.0, 3.6, 4.0, 4.0, 4.6, 3.0, 4.2, 4.0, 3.6, 2.6, 4.0, 3.8, 3.6, 4.0, 3.0, 3.2, 3.2, 4.0, 3.4, 3.4, 5.0, 4.2, 3.6, 4.0, 4.0, 2.6, 3.4, 3.6, 3.4, 3.0, 4.8, 4.0, 2.8, 3.0, 4.4, 3.4, 4.0, 3.4, 4.0, 3.8, 3.8, 3.0, 3.8, 3.8, 3.8, 3.0, 3.6, 4.0, 3.8, 3.8, 3.8, 3.8, 4.0, 5.0, 4.0, 3.4, 3.4, 3.0, 4.2, 4.0, 4.0, 4.6, 3.4, 3.6, 3.2, 4.6, 3.6, 3.8, 3.6, 4.4, 4.8, 3.8, 4.0, 3.2, 3.2, 4.2, 4.6, 4.4, 4.6, 3.2, 4.0, 4.4, 3.4, 4.0, 3.0, 4.0, 3.6, 4.0, 3.8, 4.8, 3.8, 3.8, 4.2, 2.4, 3.8, 3.8, 4.0, 2.8, 3.8, 3.8, 4.0, 3.8, 3.8, 3.8, 3.2, 3.6, 5.0, 2.0, 4.8, 4.0, 3.2, 3.0, 3.2, 3.6, 3.2, 3.4, 3.8, 4.0, 3.6, 4.0, 5.0, 5.0, 3.0, 3.4, 4.2, 4.0, 3.6, 2.6, 2.6, 4.0, 5.0, 4.8, 3.0, 4.0, 3.4, 4.6, 3.6, 4.6, 4.0, 5.0, 2.8, 3.2, 4.4, 4.0, 2.6, 3.6, 2.8, 3.6, 3.4, 4.2, 3.8, 3.4, 3.6, 3.8, 3.2, 4.0, 3.0, 3.0, 3.0, 4.2, 4.0, 3.4, 4.4, 2.8, 2.8, 3.8, 4.0, 3.8, 4.4, 3.6, 3.0, 3.4, 4.0, 4.6, 4.0, 3.2, 1.8, 4.4, 3.0, 3.6, 3.8, 3.2, 4.6, 3.2, 5.0, 4.0, 4.2, 4.0, 3.6, 4.4, 2.8, 4.4, 5.0, 3.8, 3.6, 2.6, 4.2, 3.0, 3.8, 3.4, 3.8, 2.2, 3.8, 3.2, 3.2, 2.8, 2.4]}],\n",
              "                        {\"height\": 700, \"template\": {\"data\": {\"bar\": [{\"error_x\": {\"color\": \"#2a3f5f\"}, \"error_y\": {\"color\": \"#2a3f5f\"}, \"marker\": {\"line\": {\"color\": \"#E5ECF6\", \"width\": 0.5}}, \"type\": \"bar\"}], \"barpolar\": [{\"marker\": {\"line\": {\"color\": \"#E5ECF6\", \"width\": 0.5}}, \"type\": \"barpolar\"}], \"carpet\": [{\"aaxis\": {\"endlinecolor\": \"#2a3f5f\", \"gridcolor\": \"white\", \"linecolor\": \"white\", \"minorgridcolor\": \"white\", \"startlinecolor\": \"#2a3f5f\"}, \"baxis\": {\"endlinecolor\": \"#2a3f5f\", \"gridcolor\": \"white\", \"linecolor\": \"white\", \"minorgridcolor\": \"white\", \"startlinecolor\": \"#2a3f5f\"}, \"type\": \"carpet\"}], \"choropleth\": [{\"colorbar\": {\"outlinewidth\": 0, \"ticks\": \"\"}, \"type\": \"choropleth\"}], \"contour\": [{\"colorbar\": {\"outlinewidth\": 0, \"ticks\": \"\"}, \"colorscale\": [[0.0, \"#0d0887\"], [0.1111111111111111, \"#46039f\"], [0.2222222222222222, \"#7201a8\"], [0.3333333333333333, \"#9c179e\"], [0.4444444444444444, \"#bd3786\"], [0.5555555555555556, \"#d8576b\"], [0.6666666666666666, \"#ed7953\"], [0.7777777777777778, \"#fb9f3a\"], [0.8888888888888888, \"#fdca26\"], [1.0, \"#f0f921\"]], \"type\": \"contour\"}], \"contourcarpet\": [{\"colorbar\": {\"outlinewidth\": 0, \"ticks\": \"\"}, \"type\": \"contourcarpet\"}], \"heatmap\": [{\"colorbar\": {\"outlinewidth\": 0, \"ticks\": \"\"}, \"colorscale\": [[0.0, \"#0d0887\"], [0.1111111111111111, \"#46039f\"], [0.2222222222222222, \"#7201a8\"], [0.3333333333333333, \"#9c179e\"], [0.4444444444444444, \"#bd3786\"], [0.5555555555555556, \"#d8576b\"], [0.6666666666666666, \"#ed7953\"], [0.7777777777777778, \"#fb9f3a\"], [0.8888888888888888, \"#fdca26\"], [1.0, \"#f0f921\"]], \"type\": \"heatmap\"}], \"heatmapgl\": [{\"colorbar\": {\"outlinewidth\": 0, \"ticks\": \"\"}, \"colorscale\": [[0.0, \"#0d0887\"], [0.1111111111111111, \"#46039f\"], [0.2222222222222222, \"#7201a8\"], [0.3333333333333333, \"#9c179e\"], [0.4444444444444444, \"#bd3786\"], [0.5555555555555556, \"#d8576b\"], [0.6666666666666666, \"#ed7953\"], [0.7777777777777778, \"#fb9f3a\"], [0.8888888888888888, \"#fdca26\"], [1.0, \"#f0f921\"]], \"type\": \"heatmapgl\"}], \"histogram\": [{\"marker\": {\"colorbar\": {\"outlinewidth\": 0, \"ticks\": \"\"}}, \"type\": \"histogram\"}], \"histogram2d\": [{\"colorbar\": {\"outlinewidth\": 0, \"ticks\": \"\"}, \"colorscale\": [[0.0, \"#0d0887\"], [0.1111111111111111, \"#46039f\"], [0.2222222222222222, \"#7201a8\"], [0.3333333333333333, \"#9c179e\"], [0.4444444444444444, \"#bd3786\"], [0.5555555555555556, \"#d8576b\"], [0.6666666666666666, \"#ed7953\"], [0.7777777777777778, \"#fb9f3a\"], [0.8888888888888888, \"#fdca26\"], [1.0, \"#f0f921\"]], \"type\": \"histogram2d\"}], \"histogram2dcontour\": [{\"colorbar\": {\"outlinewidth\": 0, \"ticks\": \"\"}, \"colorscale\": [[0.0, \"#0d0887\"], [0.1111111111111111, \"#46039f\"], [0.2222222222222222, \"#7201a8\"], [0.3333333333333333, \"#9c179e\"], [0.4444444444444444, \"#bd3786\"], [0.5555555555555556, \"#d8576b\"], [0.6666666666666666, \"#ed7953\"], [0.7777777777777778, \"#fb9f3a\"], [0.8888888888888888, \"#fdca26\"], [1.0, \"#f0f921\"]], \"type\": \"histogram2dcontour\"}], \"mesh3d\": [{\"colorbar\": {\"outlinewidth\": 0, \"ticks\": \"\"}, \"type\": \"mesh3d\"}], \"parcoords\": [{\"line\": {\"colorbar\": {\"outlinewidth\": 0, \"ticks\": \"\"}}, \"type\": \"parcoords\"}], \"pie\": [{\"automargin\": true, \"type\": \"pie\"}], \"scatter\": [{\"marker\": {\"colorbar\": {\"outlinewidth\": 0, \"ticks\": \"\"}}, \"type\": \"scatter\"}], \"scatter3d\": [{\"line\": {\"colorbar\": {\"outlinewidth\": 0, \"ticks\": \"\"}}, \"marker\": {\"colorbar\": {\"outlinewidth\": 0, \"ticks\": \"\"}}, \"type\": \"scatter3d\"}], \"scattercarpet\": [{\"marker\": {\"colorbar\": {\"outlinewidth\": 0, \"ticks\": \"\"}}, \"type\": \"scattercarpet\"}], \"scattergeo\": [{\"marker\": {\"colorbar\": {\"outlinewidth\": 0, \"ticks\": \"\"}}, \"type\": \"scattergeo\"}], \"scattergl\": [{\"marker\": {\"colorbar\": {\"outlinewidth\": 0, \"ticks\": \"\"}}, \"type\": \"scattergl\"}], \"scattermapbox\": [{\"marker\": {\"colorbar\": {\"outlinewidth\": 0, \"ticks\": \"\"}}, \"type\": \"scattermapbox\"}], \"scatterpolar\": [{\"marker\": {\"colorbar\": {\"outlinewidth\": 0, \"ticks\": \"\"}}, \"type\": \"scatterpolar\"}], \"scatterpolargl\": [{\"marker\": {\"colorbar\": {\"outlinewidth\": 0, \"ticks\": \"\"}}, \"type\": \"scatterpolargl\"}], \"scatterternary\": [{\"marker\": {\"colorbar\": {\"outlinewidth\": 0, \"ticks\": \"\"}}, \"type\": \"scatterternary\"}], \"surface\": [{\"colorbar\": {\"outlinewidth\": 0, \"ticks\": \"\"}, \"colorscale\": [[0.0, \"#0d0887\"], [0.1111111111111111, \"#46039f\"], [0.2222222222222222, \"#7201a8\"], [0.3333333333333333, \"#9c179e\"], [0.4444444444444444, \"#bd3786\"], [0.5555555555555556, \"#d8576b\"], [0.6666666666666666, \"#ed7953\"], [0.7777777777777778, \"#fb9f3a\"], [0.8888888888888888, \"#fdca26\"], [1.0, \"#f0f921\"]], \"type\": \"surface\"}], \"table\": [{\"cells\": {\"fill\": {\"color\": \"#EBF0F8\"}, \"line\": {\"color\": \"white\"}}, \"header\": {\"fill\": {\"color\": \"#C8D4E3\"}, \"line\": {\"color\": \"white\"}}, \"type\": \"table\"}]}, \"layout\": {\"annotationdefaults\": {\"arrowcolor\": \"#2a3f5f\", \"arrowhead\": 0, \"arrowwidth\": 1}, \"coloraxis\": {\"colorbar\": {\"outlinewidth\": 0, \"ticks\": \"\"}}, \"colorscale\": {\"diverging\": [[0, \"#8e0152\"], [0.1, \"#c51b7d\"], [0.2, \"#de77ae\"], [0.3, \"#f1b6da\"], [0.4, \"#fde0ef\"], [0.5, \"#f7f7f7\"], [0.6, \"#e6f5d0\"], [0.7, \"#b8e186\"], [0.8, \"#7fbc41\"], [0.9, \"#4d9221\"], [1, \"#276419\"]], \"sequential\": [[0.0, \"#0d0887\"], [0.1111111111111111, \"#46039f\"], [0.2222222222222222, \"#7201a8\"], [0.3333333333333333, \"#9c179e\"], [0.4444444444444444, \"#bd3786\"], [0.5555555555555556, \"#d8576b\"], [0.6666666666666666, \"#ed7953\"], [0.7777777777777778, \"#fb9f3a\"], [0.8888888888888888, \"#fdca26\"], [1.0, \"#f0f921\"]], \"sequentialminus\": [[0.0, \"#0d0887\"], [0.1111111111111111, \"#46039f\"], [0.2222222222222222, \"#7201a8\"], [0.3333333333333333, \"#9c179e\"], [0.4444444444444444, \"#bd3786\"], [0.5555555555555556, \"#d8576b\"], [0.6666666666666666, \"#ed7953\"], [0.7777777777777778, \"#fb9f3a\"], [0.8888888888888888, \"#fdca26\"], [1.0, \"#f0f921\"]]}, \"colorway\": [\"#636efa\", \"#EF553B\", \"#00cc96\", \"#ab63fa\", \"#FFA15A\", \"#19d3f3\", \"#FF6692\", \"#B6E880\", \"#FF97FF\", \"#FECB52\"], \"font\": {\"color\": \"#2a3f5f\"}, \"geo\": {\"bgcolor\": \"white\", \"lakecolor\": \"white\", \"landcolor\": \"#E5ECF6\", \"showlakes\": true, \"showland\": true, \"subunitcolor\": \"white\"}, \"hoverlabel\": {\"align\": \"left\"}, \"hovermode\": \"closest\", \"mapbox\": {\"style\": \"light\"}, \"paper_bgcolor\": \"white\", \"plot_bgcolor\": \"#E5ECF6\", \"polar\": {\"angularaxis\": {\"gridcolor\": \"white\", \"linecolor\": \"white\", \"ticks\": \"\"}, \"bgcolor\": \"#E5ECF6\", \"radialaxis\": {\"gridcolor\": \"white\", \"linecolor\": \"white\", \"ticks\": \"\"}}, \"scene\": {\"xaxis\": {\"backgroundcolor\": \"#E5ECF6\", \"gridcolor\": \"white\", \"gridwidth\": 2, \"linecolor\": \"white\", \"showbackground\": true, \"ticks\": \"\", \"zerolinecolor\": \"white\"}, \"yaxis\": {\"backgroundcolor\": \"#E5ECF6\", \"gridcolor\": \"white\", \"gridwidth\": 2, \"linecolor\": \"white\", \"showbackground\": true, \"ticks\": \"\", \"zerolinecolor\": \"white\"}, \"zaxis\": {\"backgroundcolor\": \"#E5ECF6\", \"gridcolor\": \"white\", \"gridwidth\": 2, \"linecolor\": \"white\", \"showbackground\": true, \"ticks\": \"\", \"zerolinecolor\": \"white\"}}, \"shapedefaults\": {\"line\": {\"color\": \"#2a3f5f\"}}, \"ternary\": {\"aaxis\": {\"gridcolor\": \"white\", \"linecolor\": \"white\", \"ticks\": \"\"}, \"baxis\": {\"gridcolor\": \"white\", \"linecolor\": \"white\", \"ticks\": \"\"}, \"bgcolor\": \"#E5ECF6\", \"caxis\": {\"gridcolor\": \"white\", \"linecolor\": \"white\", \"ticks\": \"\"}}, \"title\": {\"x\": 0.05}, \"xaxis\": {\"automargin\": true, \"gridcolor\": \"white\", \"linecolor\": \"white\", \"ticks\": \"\", \"title\": {\"standoff\": 15}, \"zerolinecolor\": \"white\", \"zerolinewidth\": 2}, \"yaxis\": {\"automargin\": true, \"gridcolor\": \"white\", \"linecolor\": \"white\", \"ticks\": \"\", \"title\": {\"standoff\": 15}, \"zerolinecolor\": \"white\", \"zerolinewidth\": 2}}}, \"title\": {\"text\": \"SCC -> OPEN (n=441)\"}, \"width\": 1000, \"xaxis\": {\"title\": {\"text\": \"SCC\"}}, \"yaxis\": {\"title\": {\"text\": \"OPEN\"}}},\n",
              "                        {\"responsive\": true}\n",
              "                    ).then(function(){\n",
              "                            \n",
              "var gd = document.getElementById('3f6b7fe0-c0e9-4f4e-bbf0-1f18905cf6d9');\n",
              "var x = new MutationObserver(function (mutations, observer) {{\n",
              "        var display = window.getComputedStyle(gd).display;\n",
              "        if (!display || display === 'none') {{\n",
              "            console.log([gd, 'removed!']);\n",
              "            Plotly.purge(gd);\n",
              "            observer.disconnect();\n",
              "        }}\n",
              "}});\n",
              "\n",
              "// Listen for the removal of the full notebook cells\n",
              "var notebookContainer = gd.closest('#notebook-container');\n",
              "if (notebookContainer) {{\n",
              "    x.observe(notebookContainer, {childList: true});\n",
              "}}\n",
              "\n",
              "// Listen for the clearing of the current output cell\n",
              "var outputEl = gd.closest('.output');\n",
              "if (outputEl) {{\n",
              "    x.observe(outputEl, {childList: true});\n",
              "}}\n",
              "\n",
              "                        })\n",
              "                };\n",
              "                \n",
              "            </script>\n",
              "        </div>\n",
              "</body>\n",
              "</html>"
            ]
          },
          "metadata": {
            "tags": []
          }
        }
      ]
    },
    {
      "cell_type": "code",
      "metadata": {
        "colab": {
          "base_uri": "https://localhost:8080/"
        },
        "id": "RnribEwSlrm1",
        "outputId": "4056d79c-e615-438d-cf42-7861293ce4e8"
      },
      "source": [
        "MakeRegressions(scc, open)"
      ],
      "execution_count": null,
      "outputs": [
        {
          "output_type": "stream",
          "text": [
            "Regresja liniowa R2 =  0.0032901776489819845\n",
            "Regresja kwadratowa R2 =  0.025204741282521037\n",
            "Regresja stopnia 3 R2 =  0.050448307656080216\n",
            "Regresja stopnia 4 R2 =  0.0700309869818262\n"
          ],
          "name": "stdout"
        }
      ]
    },
    {
      "cell_type": "code",
      "metadata": {
        "colab": {
          "base_uri": "https://localhost:8080/"
        },
        "id": "qJXbA3vGl25Y",
        "outputId": "36f064f1-f112-45fc-94a5-6e694f95e7a6"
      },
      "source": [
        "df_1 = df_subscales[['OPEN','SCC']]\n",
        "df_1['SCC^2'] = pow(df_1['SCC'],2)\n",
        "df_1['SCC^3'] = pow(df_1['SCC'],3)\n",
        "df_1['SCC^4'] = pow(df_1['SCC'],3)\n",
        "\n",
        "X = df_1[['SCC']]\n",
        "X = sm.add_constant(X)\n",
        "y = df_1['OPEN']\n",
        "\n",
        "model = sm.OLS(y, X).fit()\n",
        "predictions = model.predict(X)\n",
        "\n",
        "print(model.summary())"
      ],
      "execution_count": null,
      "outputs": [
        {
          "output_type": "stream",
          "text": [
            "                            OLS Regression Results                            \n",
            "==============================================================================\n",
            "Dep. Variable:                   OPEN   R-squared:                       0.003\n",
            "Model:                            OLS   Adj. R-squared:                  0.001\n",
            "Method:                 Least Squares   F-statistic:                     1.449\n",
            "Date:                Sat, 27 Mar 2021   Prob (F-statistic):              0.229\n",
            "Time:                        12:11:34   Log-Likelihood:                -396.01\n",
            "No. Observations:                 441   AIC:                             796.0\n",
            "Df Residuals:                     439   BIC:                             804.2\n",
            "Df Model:                           1                                         \n",
            "Covariance Type:            nonrobust                                         \n",
            "==============================================================================\n",
            "                 coef    std err          t      P>|t|      [0.025      0.975]\n",
            "------------------------------------------------------------------------------\n",
            "const          3.5360      0.139     25.445      0.000       3.263       3.809\n",
            "SCC            0.0043      0.004      1.204      0.229      -0.003       0.011\n",
            "==============================================================================\n",
            "Omnibus:                        0.401   Durbin-Watson:                   1.914\n",
            "Prob(Omnibus):                  0.818   Jarque-Bera (JB):                0.496\n",
            "Skew:                          -0.062   Prob(JB):                        0.780\n",
            "Kurtosis:                       2.893   Cond. No.                         192.\n",
            "==============================================================================\n",
            "\n",
            "Warnings:\n",
            "[1] Standard Errors assume that the covariance matrix of the errors is correctly specified.\n"
          ],
          "name": "stdout"
        },
        {
          "output_type": "stream",
          "text": [
            "/usr/local/lib/python3.7/dist-packages/ipykernel_launcher.py:2: SettingWithCopyWarning:\n",
            "\n",
            "\n",
            "A value is trying to be set on a copy of a slice from a DataFrame.\n",
            "Try using .loc[row_indexer,col_indexer] = value instead\n",
            "\n",
            "See the caveats in the documentation: https://pandas.pydata.org/pandas-docs/stable/user_guide/indexing.html#returning-a-view-versus-a-copy\n",
            "\n",
            "/usr/local/lib/python3.7/dist-packages/ipykernel_launcher.py:3: SettingWithCopyWarning:\n",
            "\n",
            "\n",
            "A value is trying to be set on a copy of a slice from a DataFrame.\n",
            "Try using .loc[row_indexer,col_indexer] = value instead\n",
            "\n",
            "See the caveats in the documentation: https://pandas.pydata.org/pandas-docs/stable/user_guide/indexing.html#returning-a-view-versus-a-copy\n",
            "\n",
            "/usr/local/lib/python3.7/dist-packages/ipykernel_launcher.py:4: SettingWithCopyWarning:\n",
            "\n",
            "\n",
            "A value is trying to be set on a copy of a slice from a DataFrame.\n",
            "Try using .loc[row_indexer,col_indexer] = value instead\n",
            "\n",
            "See the caveats in the documentation: https://pandas.pydata.org/pandas-docs/stable/user_guide/indexing.html#returning-a-view-versus-a-copy\n",
            "\n"
          ],
          "name": "stderr"
        }
      ]
    },
    {
      "cell_type": "code",
      "metadata": {
        "colab": {
          "base_uri": "https://localhost:8080/"
        },
        "id": "i718GHylmPqJ",
        "outputId": "41f345de-b299-4279-f094-c9c2ca2392fd"
      },
      "source": [
        "X = df_1[['SCC', 'SCC^2', 'SCC^3']]\n",
        "X = sm.add_constant(X)\n",
        "y = df_1['OPEN']\n",
        "\n",
        "model = sm.OLS(y, X).fit()\n",
        "predictions = model.predict(X)\n",
        "\n",
        "print(model.summary())"
      ],
      "execution_count": null,
      "outputs": [
        {
          "output_type": "stream",
          "text": [
            "                            OLS Regression Results                            \n",
            "==============================================================================\n",
            "Dep. Variable:                   OPEN   R-squared:                       0.050\n",
            "Model:                            OLS   Adj. R-squared:                  0.044\n",
            "Method:                 Least Squares   F-statistic:                     7.739\n",
            "Date:                Sat, 27 Mar 2021   Prob (F-statistic):           4.78e-05\n",
            "Time:                        12:12:21   Log-Likelihood:                -385.32\n",
            "No. Observations:                 441   AIC:                             778.6\n",
            "Df Residuals:                     437   BIC:                             795.0\n",
            "Df Model:                           3                                         \n",
            "Covariance Type:            nonrobust                                         \n",
            "==============================================================================\n",
            "                 coef    std err          t      P>|t|      [0.025      0.975]\n",
            "------------------------------------------------------------------------------\n",
            "const         10.5381      1.671      6.307      0.000       7.254      13.822\n",
            "SCC           -0.5194      0.132     -3.937      0.000      -0.779      -0.260\n",
            "SCC^2          0.0125      0.003      3.700      0.000       0.006       0.019\n",
            "SCC^3      -9.607e-05   2.82e-05     -3.408      0.001      -0.000   -4.07e-05\n",
            "==============================================================================\n",
            "Omnibus:                        1.297   Durbin-Watson:                   1.967\n",
            "Prob(Omnibus):                  0.523   Jarque-Bera (JB):                1.085\n",
            "Skew:                          -0.063   Prob(JB):                        0.581\n",
            "Kurtosis:                       3.207   Cond. No.                     4.59e+06\n",
            "==============================================================================\n",
            "\n",
            "Warnings:\n",
            "[1] Standard Errors assume that the covariance matrix of the errors is correctly specified.\n",
            "[2] The condition number is large, 4.59e+06. This might indicate that there are\n",
            "strong multicollinearity or other numerical problems.\n"
          ],
          "name": "stdout"
        }
      ]
    },
    {
      "cell_type": "markdown",
      "metadata": {
        "id": "VHpg2pn0mgUE"
      },
      "source": [
        "###Visualization"
      ]
    },
    {
      "cell_type": "code",
      "metadata": {
        "id": "HTjfZEkHmigY"
      },
      "source": [
        "# linear\n",
        "regressor = LinearRegression()\n",
        "regressor.fit(scc, open)\n",
        "y_pred_lin = regressor.predict(scc)\n",
        "open_pred_lin = pd.DataFrame(y_pred_lin)\n",
        "\n",
        "# 3' degree\n",
        "poly = PolynomialFeatures(degree=3)\n",
        "scc_3 = poly.fit_transform(scc)\n",
        "\n",
        "regressor.fit(scc_3,open)\n",
        "y_pred_3 = regressor.predict(scc_3)\n",
        "degree_3_r2 = r2_score(open, y_pred_3)\n",
        "\n",
        "# visualization data\n",
        "temp_df_3 = pd.DataFrame(scc, columns=['scc'])\n",
        "temp_df_3.sort_values(by='scc', inplace=True)\n",
        "temp_df = pd.DataFrame(y_pred_3)\n",
        "temp_df_3['open_pred'] = temp_df"
      ],
      "execution_count": null,
      "outputs": []
    },
    {
      "cell_type": "code",
      "metadata": {
        "colab": {
          "base_uri": "https://localhost:8080/",
          "height": 717
        },
        "id": "91kEGvZmm2hh",
        "outputId": "12ac8198-3bbf-45b3-92c8-0288171e5cf4"
      },
      "source": [
        "# wykres całościowy\n",
        "  \n",
        "fig = go.Figure(\n",
        "      data=[\n",
        "            go.Scatter(\n",
        "                name = 'Raw results',\n",
        "                x = df_subscales['SCC'],\n",
        "                y = df_subscales['OPEN'],\n",
        "                mode = 'markers',\n",
        "                opacity=0.75\n",
        "            ),\n",
        "            go.Scatter(\n",
        "                name = f'Linear regression, adj. R2<.01',\n",
        "                x = df_subscales['SCC'],\n",
        "                y = open_pred_lin[0],\n",
        "                mode = 'lines',\n",
        "                marker_color='#FF9F1C'\n",
        "            ),\n",
        "            go.Scatter(\n",
        "                name = f'3 degree regression, adj. R2=.04',\n",
        "                x = temp_df_3['scc'],\n",
        "                y = temp_df_3['open_pred'],\n",
        "                mode = 'lines',\n",
        "                marker_color='#011627'\n",
        "            ),\n",
        "            ],\n",
        "      layout=go.Layout(\n",
        "          title = f'SCC * OPEN (N={len(df_subscales)})',\n",
        "          xaxis_title = 'SCC',\n",
        "          yaxis_title='OPEN',\n",
        "          width = 1100,\n",
        "          height = 700,\n",
        "          font_size=16\n",
        "      ))\n",
        "fig.show()"
      ],
      "execution_count": null,
      "outputs": [
        {
          "output_type": "display_data",
          "data": {
            "text/html": [
              "<html>\n",
              "<head><meta charset=\"utf-8\" /></head>\n",
              "<body>\n",
              "    <div>\n",
              "            <script src=\"https://cdnjs.cloudflare.com/ajax/libs/mathjax/2.7.5/MathJax.js?config=TeX-AMS-MML_SVG\"></script><script type=\"text/javascript\">if (window.MathJax) {MathJax.Hub.Config({SVG: {font: \"STIX-Web\"}});}</script>\n",
              "                <script type=\"text/javascript\">window.PlotlyConfig = {MathJaxConfig: 'local'};</script>\n",
              "        <script src=\"https://cdn.plot.ly/plotly-latest.min.js\"></script>    \n",
              "            <div id=\"2c7f5821-0e49-449a-b3f2-15e9c7292d1a\" class=\"plotly-graph-div\" style=\"height:700px; width:1100px;\"></div>\n",
              "            <script type=\"text/javascript\">\n",
              "                \n",
              "                    window.PLOTLYENV=window.PLOTLYENV || {};\n",
              "                    \n",
              "                if (document.getElementById(\"2c7f5821-0e49-449a-b3f2-15e9c7292d1a\")) {\n",
              "                    Plotly.newPlot(\n",
              "                        '2c7f5821-0e49-449a-b3f2-15e9c7292d1a',\n",
              "                        [{\"mode\": \"markers\", \"name\": \"Raw results\", \"opacity\": 0.75, \"type\": \"scatter\", \"x\": [42, 46, 30, 45, 36, 52, 49, 36, 60, 33, 43, 36, 28, 55, 36, 46, 20, 42, 36, 42, 35, 27, 20, 36, 36, 29, 43, 27, 36, 52, 34, 51, 43, 43, 28, 46, 31, 30, 42, 26, 58, 53, 42, 48, 33, 27, 31, 44, 37, 36, 36, 32, 44, 36, 37, 59, 36, 46, 38, 38, 36, 36, 30, 51, 46, 36, 47, 48, 56, 49, 43, 29, 34, 30, 28, 31, 46, 30, 20, 46, 36, 42, 46, 54, 32, 43, 35, 32, 32, 34, 49, 33, 36, 48, 31, 42, 46, 35, 40, 31, 34, 21, 28, 36, 34, 34, 41, 32, 48, 36, 32, 30, 39, 36, 36, 48, 48, 39, 40, 30, 47, 30, 36, 35, 40, 28, 32, 55, 28, 54, 45, 41, 45, 20, 39, 36, 34, 38, 47, 39, 53, 32, 48, 46, 36, 44, 30, 25, 36, 34, 44, 35, 30, 32, 31, 41, 28, 33, 54, 38, 36, 44, 30, 27, 39, 38, 34, 36, 38, 32, 36, 28, 30, 54, 43, 43, 29, 47, 34, 30, 41, 59, 34, 42, 52, 44, 36, 53, 49, 47, 39, 36, 35, 38, 45, 29, 26, 41, 39, 43, 30, 36, 32, 30, 34, 29, 36, 32, 57, 48, 36, 36, 48, 37, 34, 31, 37, 32, 31, 28, 37, 47, 36, 26, 37, 39, 40, 39, 35, 34, 32, 31, 44, 34, 33, 30, 43, 25, 43, 36, 29, 54, 45, 47, 31, 44, 50, 37, 30, 38, 37, 45, 36, 23, 40, 44, 27, 43, 41, 42, 34, 43, 29, 22, 33, 32, 36, 35, 38, 40, 47, 37, 57, 49, 45, 36, 32, 33, 35, 60, 37, 46, 39, 46, 44, 38, 29, 41, 31, 39, 36, 35, 48, 50, 43, 47, 34, 42, 52, 39, 50, 46, 26, 36, 47, 44, 29, 40, 38, 32, 38, 21, 50, 40, 39, 54, 41, 30, 33, 37, 47, 29, 35, 47, 31, 42, 57, 43, 47, 38, 30, 36, 36, 29, 33, 24, 31, 26, 36, 38, 45, 48, 43, 28, 43, 36, 32, 38, 35, 44, 50, 31, 37, 43, 40, 49, 36, 36, 41, 34, 34, 34, 34, 41, 43, 36, 34, 43, 28, 44, 33, 40, 43, 40, 42, 38, 56, 44, 36, 35, 38, 34, 56, 21, 40, 36, 46, 32, 55, 28, 35, 36, 40, 32, 44, 58, 48, 33, 38, 35, 35, 45, 40, 45, 29, 31, 46, 44, 48, 36, 56, 31, 28, 36, 48, 45, 50, 35, 44, 40, 31, 30, 31, 30, 40, 32, 40, 36, 30, 35, 28, 38, 60, 34, 30, 48, 46, 41, 21, 40, 40], \"y\": [3.8, 4.0, 3.4, 4.6, 3.8, 4.6, 3.6, 3.0, 3.0, 2.6, 2.8, 3.0, 4.2, 3.8, 3.0, 5.0, 4.0, 4.2, 3.6, 4.0, 2.8, 4.0, 4.2, 3.4, 3.0, 4.8, 3.0, 3.6, 3.0, 4.0, 3.4, 4.6, 3.6, 3.6, 4.0, 4.0, 4.0, 3.6, 4.2, 3.4, 3.4, 3.8, 4.0, 3.2, 4.0, 4.4, 4.2, 3.4, 3.8, 3.0, 3.0, 3.6, 3.0, 3.0, 2.8, 4.0, 3.0, 3.4, 3.4, 3.0, 3.0, 3.0, 4.0, 3.2, 3.8, 3.0, 4.6, 4.6, 4.6, 4.2, 3.2, 3.6, 3.4, 3.4, 3.6, 3.4, 4.0, 3.8, 4.4, 4.0, 3.0, 2.6, 4.2, 3.8, 3.2, 4.6, 3.8, 4.0, 3.6, 3.6, 3.8, 3.8, 5.0, 3.6, 4.0, 3.4, 3.6, 3.6, 3.0, 3.6, 3.4, 4.6, 3.6, 3.0, 3.8, 3.6, 4.0, 3.6, 3.8, 3.0, 3.4, 3.8, 3.0, 3.0, 2.8, 4.6, 3.8, 3.2, 2.8, 3.6, 3.8, 4.0, 3.0, 3.0, 3.0, 3.6, 4.0, 3.8, 4.0, 4.6, 3.8, 3.8, 4.2, 4.0, 2.8, 2.4, 3.6, 3.0, 4.4, 4.8, 2.8, 3.2, 4.0, 4.6, 3.0, 3.8, 3.4, 3.8, 3.0, 3.8, 4.0, 3.6, 3.6, 3.8, 3.4, 3.4, 4.4, 3.4, 4.2, 2.2, 3.0, 4.0, 4.2, 4.2, 4.2, 4.0, 3.8, 3.0, 4.0, 3.8, 4.0, 4.6, 4.6, 5.0, 4.0, 3.2, 4.2, 3.4, 3.8, 4.0, 3.6, 5.0, 4.2, 4.6, 2.6, 5.0, 4.0, 4.0, 2.6, 3.6, 4.2, 3.4, 2.8, 4.0, 3.0, 4.4, 4.0, 3.6, 4.4, 2.6, 3.6, 3.0, 5.0, 4.0, 4.8, 4.6, 4.0, 3.4, 4.0, 4.0, 3.0, 3.2, 3.2, 4.0, 3.6, 3.8, 3.8, 3.8, 4.0, 4.0, 4.2, 3.8, 3.0, 3.2, 3.0, 3.2, 4.0, 3.8, 3.8, 3.6, 4.0, 4.0, 3.8, 3.6, 3.0, 3.6, 4.0, 4.0, 4.6, 3.0, 4.2, 4.0, 3.6, 2.6, 4.0, 3.8, 3.6, 4.0, 3.0, 3.2, 3.2, 4.0, 3.4, 3.4, 5.0, 4.2, 3.6, 4.0, 4.0, 2.6, 3.4, 3.6, 3.4, 3.0, 4.8, 4.0, 2.8, 3.0, 4.4, 3.4, 4.0, 3.4, 4.0, 3.8, 3.8, 3.0, 3.8, 3.8, 3.8, 3.0, 3.6, 4.0, 3.8, 3.8, 3.8, 3.8, 4.0, 5.0, 4.0, 3.4, 3.4, 3.0, 4.2, 4.0, 4.0, 4.6, 3.4, 3.6, 3.2, 4.6, 3.6, 3.8, 3.6, 4.4, 4.8, 3.8, 4.0, 3.2, 3.2, 4.2, 4.6, 4.4, 4.6, 3.2, 4.0, 4.4, 3.4, 4.0, 3.0, 4.0, 3.6, 4.0, 3.8, 4.8, 3.8, 3.8, 4.2, 2.4, 3.8, 3.8, 4.0, 2.8, 3.8, 3.8, 4.0, 3.8, 3.8, 3.8, 3.2, 3.6, 5.0, 2.0, 4.8, 4.0, 3.2, 3.0, 3.2, 3.6, 3.2, 3.4, 3.8, 4.0, 3.6, 4.0, 5.0, 5.0, 3.0, 3.4, 4.2, 4.0, 3.6, 2.6, 2.6, 4.0, 5.0, 4.8, 3.0, 4.0, 3.4, 4.6, 3.6, 4.6, 4.0, 5.0, 2.8, 3.2, 4.4, 4.0, 2.6, 3.6, 2.8, 3.6, 3.4, 4.2, 3.8, 3.4, 3.6, 3.8, 3.2, 4.0, 3.0, 3.0, 3.0, 4.2, 4.0, 3.4, 4.4, 2.8, 2.8, 3.8, 4.0, 3.8, 4.4, 3.6, 3.0, 3.4, 4.0, 4.6, 4.0, 3.2, 1.8, 4.4, 3.0, 3.6, 3.8, 3.2, 4.6, 3.2, 5.0, 4.0, 4.2, 4.0, 3.6, 4.4, 2.8, 4.4, 5.0, 3.8, 3.6, 2.6, 4.2, 3.0, 3.8, 3.4, 3.8, 2.2, 3.8, 3.2, 3.2, 2.8, 2.4]}, {\"marker\": {\"color\": \"#FF9F1C\"}, \"mode\": \"lines\", \"name\": \"Linear regression, adj. R2<.01\", \"type\": \"scatter\", \"x\": [42, 46, 30, 45, 36, 52, 49, 36, 60, 33, 43, 36, 28, 55, 36, 46, 20, 42, 36, 42, 35, 27, 20, 36, 36, 29, 43, 27, 36, 52, 34, 51, 43, 43, 28, 46, 31, 30, 42, 26, 58, 53, 42, 48, 33, 27, 31, 44, 37, 36, 36, 32, 44, 36, 37, 59, 36, 46, 38, 38, 36, 36, 30, 51, 46, 36, 47, 48, 56, 49, 43, 29, 34, 30, 28, 31, 46, 30, 20, 46, 36, 42, 46, 54, 32, 43, 35, 32, 32, 34, 49, 33, 36, 48, 31, 42, 46, 35, 40, 31, 34, 21, 28, 36, 34, 34, 41, 32, 48, 36, 32, 30, 39, 36, 36, 48, 48, 39, 40, 30, 47, 30, 36, 35, 40, 28, 32, 55, 28, 54, 45, 41, 45, 20, 39, 36, 34, 38, 47, 39, 53, 32, 48, 46, 36, 44, 30, 25, 36, 34, 44, 35, 30, 32, 31, 41, 28, 33, 54, 38, 36, 44, 30, 27, 39, 38, 34, 36, 38, 32, 36, 28, 30, 54, 43, 43, 29, 47, 34, 30, 41, 59, 34, 42, 52, 44, 36, 53, 49, 47, 39, 36, 35, 38, 45, 29, 26, 41, 39, 43, 30, 36, 32, 30, 34, 29, 36, 32, 57, 48, 36, 36, 48, 37, 34, 31, 37, 32, 31, 28, 37, 47, 36, 26, 37, 39, 40, 39, 35, 34, 32, 31, 44, 34, 33, 30, 43, 25, 43, 36, 29, 54, 45, 47, 31, 44, 50, 37, 30, 38, 37, 45, 36, 23, 40, 44, 27, 43, 41, 42, 34, 43, 29, 22, 33, 32, 36, 35, 38, 40, 47, 37, 57, 49, 45, 36, 32, 33, 35, 60, 37, 46, 39, 46, 44, 38, 29, 41, 31, 39, 36, 35, 48, 50, 43, 47, 34, 42, 52, 39, 50, 46, 26, 36, 47, 44, 29, 40, 38, 32, 38, 21, 50, 40, 39, 54, 41, 30, 33, 37, 47, 29, 35, 47, 31, 42, 57, 43, 47, 38, 30, 36, 36, 29, 33, 24, 31, 26, 36, 38, 45, 48, 43, 28, 43, 36, 32, 38, 35, 44, 50, 31, 37, 43, 40, 49, 36, 36, 41, 34, 34, 34, 34, 41, 43, 36, 34, 43, 28, 44, 33, 40, 43, 40, 42, 38, 56, 44, 36, 35, 38, 34, 56, 21, 40, 36, 46, 32, 55, 28, 35, 36, 40, 32, 44, 58, 48, 33, 38, 35, 35, 45, 40, 45, 29, 31, 46, 44, 48, 36, 56, 31, 28, 36, 48, 45, 50, 35, 44, 40, 31, 30, 31, 30, 40, 32, 40, 36, 30, 35, 28, 38, 60, 34, 30, 48, 46, 41, 21, 40, 40], \"y\": [3.715247277159925, 3.7323180694739384, 3.6640349002178856, 3.728050371395435, 3.6896410886889055, 3.757924257944958, 3.745121163709448, 3.6896410886889055, 3.7920658425729843, 3.6768379944533955, 3.7195149752384284, 3.6896410886889055, 3.655499504060879, 3.770727352180468, 3.6896410886889055, 3.7323180694739384, 3.6213579194328527, 3.715247277159925, 3.6896410886889055, 3.715247277159925, 3.685373390610402, 3.6512318059823756, 3.6213579194328527, 3.6896410886889055, 3.6896410886889055, 3.659767202139382, 3.7195149752384284, 3.6512318059823756, 3.6896410886889055, 3.757924257944958, 3.6811056925318986, 3.753656559866455, 3.7195149752384284, 3.7195149752384284, 3.655499504060879, 3.7323180694739384, 3.668302598296389, 3.6640349002178856, 3.715247277159925, 3.6469641079038726, 3.783530446415978, 3.7621919560234613, 3.715247277159925, 3.740853465630945, 3.6768379944533955, 3.6512318059823756, 3.668302598296389, 3.723782673316932, 3.6939087867674085, 3.6896410886889055, 3.6896410886889055, 3.672570296374892, 3.723782673316932, 3.6896410886889055, 3.6939087867674085, 3.787798144494481, 3.6896410886889055, 3.7323180694739384, 3.698176484845912, 3.698176484845912, 3.6896410886889055, 3.6896410886889055, 3.6640349002178856, 3.753656559866455, 3.7323180694739384, 3.6896410886889055, 3.7365857675524414, 3.740853465630945, 3.7749950502589713, 3.745121163709448, 3.7195149752384284, 3.659767202139382, 3.6811056925318986, 3.6640349002178856, 3.655499504060879, 3.668302598296389, 3.7323180694739384, 3.6640349002178856, 3.6213579194328527, 3.7323180694739384, 3.6896410886889055, 3.715247277159925, 3.7323180694739384, 3.766459654101965, 3.672570296374892, 3.7195149752384284, 3.685373390610402, 3.672570296374892, 3.672570296374892, 3.6811056925318986, 3.745121163709448, 3.6768379944533955, 3.6896410886889055, 3.740853465630945, 3.668302598296389, 3.715247277159925, 3.7323180694739384, 3.685373390610402, 3.7067118810029185, 3.668302598296389, 3.6811056925318986, 3.625625617511356, 3.655499504060879, 3.6896410886889055, 3.6811056925318986, 3.6811056925318986, 3.710979579081422, 3.672570296374892, 3.740853465630945, 3.6896410886889055, 3.672570296374892, 3.6640349002178856, 3.702444182924415, 3.6896410886889055, 3.6896410886889055, 3.740853465630945, 3.740853465630945, 3.702444182924415, 3.7067118810029185, 3.6640349002178856, 3.7365857675524414, 3.6640349002178856, 3.6896410886889055, 3.685373390610402, 3.7067118810029185, 3.655499504060879, 3.672570296374892, 3.770727352180468, 3.655499504060879, 3.766459654101965, 3.728050371395435, 3.710979579081422, 3.728050371395435, 3.6213579194328527, 3.702444182924415, 3.6896410886889055, 3.6811056925318986, 3.698176484845912, 3.7365857675524414, 3.702444182924415, 3.7621919560234613, 3.672570296374892, 3.740853465630945, 3.7323180694739384, 3.6896410886889055, 3.723782673316932, 3.6640349002178856, 3.642696409825369, 3.6896410886889055, 3.6811056925318986, 3.723782673316932, 3.685373390610402, 3.6640349002178856, 3.672570296374892, 3.668302598296389, 3.710979579081422, 3.655499504060879, 3.6768379944533955, 3.766459654101965, 3.698176484845912, 3.6896410886889055, 3.723782673316932, 3.6640349002178856, 3.6512318059823756, 3.702444182924415, 3.698176484845912, 3.6811056925318986, 3.6896410886889055, 3.698176484845912, 3.672570296374892, 3.6896410886889055, 3.655499504060879, 3.6640349002178856, 3.766459654101965, 3.7195149752384284, 3.7195149752384284, 3.659767202139382, 3.7365857675524414, 3.6811056925318986, 3.6640349002178856, 3.710979579081422, 3.787798144494481, 3.6811056925318986, 3.715247277159925, 3.757924257944958, 3.723782673316932, 3.6896410886889055, 3.7621919560234613, 3.745121163709448, 3.7365857675524414, 3.702444182924415, 3.6896410886889055, 3.685373390610402, 3.698176484845912, 3.728050371395435, 3.659767202139382, 3.6469641079038726, 3.710979579081422, 3.702444182924415, 3.7195149752384284, 3.6640349002178856, 3.6896410886889055, 3.672570296374892, 3.6640349002178856, 3.6811056925318986, 3.659767202139382, 3.6896410886889055, 3.672570296374892, 3.7792627483374743, 3.740853465630945, 3.6896410886889055, 3.6896410886889055, 3.740853465630945, 3.6939087867674085, 3.6811056925318986, 3.668302598296389, 3.6939087867674085, 3.672570296374892, 3.668302598296389, 3.655499504060879, 3.6939087867674085, 3.7365857675524414, 3.6896410886889055, 3.6469641079038726, 3.6939087867674085, 3.702444182924415, 3.7067118810029185, 3.702444182924415, 3.685373390610402, 3.6811056925318986, 3.672570296374892, 3.668302598296389, 3.723782673316932, 3.6811056925318986, 3.6768379944533955, 3.6640349002178856, 3.7195149752384284, 3.642696409825369, 3.7195149752384284, 3.6896410886889055, 3.659767202139382, 3.766459654101965, 3.728050371395435, 3.7365857675524414, 3.668302598296389, 3.723782673316932, 3.7493888617879514, 3.6939087867674085, 3.6640349002178856, 3.698176484845912, 3.6939087867674085, 3.728050371395435, 3.6896410886889055, 3.6341610136683626, 3.7067118810029185, 3.723782673316932, 3.6512318059823756, 3.7195149752384284, 3.710979579081422, 3.715247277159925, 3.6811056925318986, 3.7195149752384284, 3.659767202139382, 3.629893315589859, 3.6768379944533955, 3.672570296374892, 3.6896410886889055, 3.685373390610402, 3.698176484845912, 3.7067118810029185, 3.7365857675524414, 3.6939087867674085, 3.7792627483374743, 3.745121163709448, 3.728050371395435, 3.6896410886889055, 3.672570296374892, 3.6768379944533955, 3.685373390610402, 3.7920658425729843, 3.6939087867674085, 3.7323180694739384, 3.702444182924415, 3.7323180694739384, 3.723782673316932, 3.698176484845912, 3.659767202139382, 3.710979579081422, 3.668302598296389, 3.702444182924415, 3.6896410886889055, 3.685373390610402, 3.740853465630945, 3.7493888617879514, 3.7195149752384284, 3.7365857675524414, 3.6811056925318986, 3.715247277159925, 3.757924257944958, 3.702444182924415, 3.7493888617879514, 3.7323180694739384, 3.6469641079038726, 3.6896410886889055, 3.7365857675524414, 3.723782673316932, 3.659767202139382, 3.7067118810029185, 3.698176484845912, 3.672570296374892, 3.698176484845912, 3.625625617511356, 3.7493888617879514, 3.7067118810029185, 3.702444182924415, 3.766459654101965, 3.710979579081422, 3.6640349002178856, 3.6768379944533955, 3.6939087867674085, 3.7365857675524414, 3.659767202139382, 3.685373390610402, 3.7365857675524414, 3.668302598296389, 3.715247277159925, 3.7792627483374743, 3.7195149752384284, 3.7365857675524414, 3.698176484845912, 3.6640349002178856, 3.6896410886889055, 3.6896410886889055, 3.659767202139382, 3.6768379944533955, 3.6384287117468657, 3.668302598296389, 3.6469641079038726, 3.6896410886889055, 3.698176484845912, 3.728050371395435, 3.740853465630945, 3.7195149752384284, 3.655499504060879, 3.7195149752384284, 3.6896410886889055, 3.672570296374892, 3.698176484845912, 3.685373390610402, 3.723782673316932, 3.7493888617879514, 3.668302598296389, 3.6939087867674085, 3.7195149752384284, 3.7067118810029185, 3.745121163709448, 3.6896410886889055, 3.6896410886889055, 3.710979579081422, 3.6811056925318986, 3.6811056925318986, 3.6811056925318986, 3.6811056925318986, 3.710979579081422, 3.7195149752384284, 3.6896410886889055, 3.6811056925318986, 3.7195149752384284, 3.655499504060879, 3.723782673316932, 3.6768379944533955, 3.7067118810029185, 3.7195149752384284, 3.7067118810029185, 3.715247277159925, 3.698176484845912, 3.7749950502589713, 3.723782673316932, 3.6896410886889055, 3.685373390610402, 3.698176484845912, 3.6811056925318986, 3.7749950502589713, 3.625625617511356, 3.7067118810029185, 3.6896410886889055, 3.7323180694739384, 3.672570296374892, 3.770727352180468, 3.655499504060879, 3.685373390610402, 3.6896410886889055, 3.7067118810029185, 3.672570296374892, 3.723782673316932, 3.783530446415978, 3.740853465630945, 3.6768379944533955, 3.698176484845912, 3.685373390610402, 3.685373390610402, 3.728050371395435, 3.7067118810029185, 3.728050371395435, 3.659767202139382, 3.668302598296389, 3.7323180694739384, 3.723782673316932, 3.740853465630945, 3.6896410886889055, 3.7749950502589713, 3.668302598296389, 3.655499504060879, 3.6896410886889055, 3.740853465630945, 3.728050371395435, 3.7493888617879514, 3.685373390610402, 3.723782673316932, 3.7067118810029185, 3.668302598296389, 3.6640349002178856, 3.668302598296389, 3.6640349002178856, 3.7067118810029185, 3.672570296374892, 3.7067118810029185, 3.6896410886889055, 3.6640349002178856, 3.685373390610402, 3.655499504060879, 3.698176484845912, 3.7920658425729843, 3.6811056925318986, 3.6640349002178856, 3.740853465630945, 3.7323180694739384, 3.710979579081422, 3.625625617511356, 3.7067118810029185, 3.7067118810029185]}, {\"marker\": {\"color\": \"#011627\"}, \"mode\": \"lines\", \"name\": \"3 degree regression, adj. R2=.04\", \"type\": \"scatter\", \"x\": [20, 20, 20, 20, 21, 21, 21, 21, 22, 23, 24, 25, 25, 26, 26, 26, 26, 26, 27, 27, 27, 27, 27, 28, 28, 28, 28, 28, 28, 28, 28, 28, 28, 28, 28, 28, 28, 29, 29, 29, 29, 29, 29, 29, 29, 29, 29, 29, 29, 30, 30, 30, 30, 30, 30, 30, 30, 30, 30, 30, 30, 30, 30, 30, 30, 30, 30, 30, 30, 30, 30, 30, 31, 31, 31, 31, 31, 31, 31, 31, 31, 31, 31, 31, 31, 31, 31, 31, 31, 31, 32, 32, 32, 32, 32, 32, 32, 32, 32, 32, 32, 32, 32, 32, 32, 32, 32, 32, 32, 32, 32, 33, 33, 33, 33, 33, 33, 33, 33, 33, 33, 33, 34, 34, 34, 34, 34, 34, 34, 34, 34, 34, 34, 34, 34, 34, 34, 34, 34, 34, 34, 34, 34, 34, 34, 34, 35, 35, 35, 35, 35, 35, 35, 35, 35, 35, 35, 35, 35, 35, 35, 35, 35, 35, 36, 36, 36, 36, 36, 36, 36, 36, 36, 36, 36, 36, 36, 36, 36, 36, 36, 36, 36, 36, 36, 36, 36, 36, 36, 36, 36, 36, 36, 36, 36, 36, 36, 36, 36, 36, 36, 36, 36, 36, 36, 36, 36, 36, 36, 36, 36, 36, 36, 36, 36, 36, 36, 36, 37, 37, 37, 37, 37, 37, 37, 37, 37, 37, 37, 37, 38, 38, 38, 38, 38, 38, 38, 38, 38, 38, 38, 38, 38, 38, 38, 38, 38, 38, 38, 39, 39, 39, 39, 39, 39, 39, 39, 39, 39, 39, 39, 39, 40, 40, 40, 40, 40, 40, 40, 40, 40, 40, 40, 40, 40, 40, 40, 40, 40, 40, 40, 41, 41, 41, 41, 41, 41, 41, 41, 41, 41, 41, 42, 42, 42, 42, 42, 42, 42, 42, 42, 42, 42, 42, 43, 43, 43, 43, 43, 43, 43, 43, 43, 43, 43, 43, 43, 43, 43, 43, 43, 43, 43, 43, 43, 44, 44, 44, 44, 44, 44, 44, 44, 44, 44, 44, 44, 44, 44, 44, 44, 44, 45, 45, 45, 45, 45, 45, 45, 45, 45, 45, 45, 46, 46, 46, 46, 46, 46, 46, 46, 46, 46, 46, 46, 46, 46, 46, 46, 47, 47, 47, 47, 47, 47, 47, 47, 47, 47, 47, 47, 47, 48, 48, 48, 48, 48, 48, 48, 48, 48, 48, 48, 48, 48, 48, 48, 49, 49, 49, 49, 49, 49, 50, 50, 50, 50, 50, 50, 51, 51, 52, 52, 52, 52, 53, 53, 53, 54, 54, 54, 54, 54, 54, 55, 55, 55, 56, 56, 56, 56, 57, 57, 57, 58, 58, 59, 59, 60, 60, 60], \"y\": [4.391896971730508, 4.391896971730508, 4.391896971730508, 4.391896971730508, 4.264948010739676, 4.264948010739676, 4.264948010739676, 4.264948010739676, 4.150949218094621, 4.04932416467967, 3.9594964213791606, 3.880889559077424, 3.880889559077424, 3.812927148658792, 3.812927148658792, 3.812927148658792, 3.812927148658792, 3.812927148658792, 3.7550327610076, 3.7550327610076, 3.7550327610076, 3.7550327610076, 3.7550327610076, 3.706629967008178, 3.706629967008178, 3.706629967008178, 3.706629967008178, 3.706629967008178, 3.706629967008178, 3.706629967008178, 3.706629967008178, 3.706629967008178, 3.706629967008178, 3.706629967008178, 3.706629967008178, 3.706629967008178, 3.706629967008178, 3.6671423375448615, 3.6671423375448615, 3.6671423375448615, 3.6671423375448615, 3.6671423375448615, 3.6671423375448615, 3.6671423375448615, 3.6671423375448615, 3.6671423375448615, 3.6671423375448615, 3.6671423375448615, 3.6671423375448615, 3.6359934435019845, 3.6359934435019845, 3.6359934435019845, 3.6359934435019845, 3.6359934435019845, 3.6359934435019845, 3.6359934435019845, 3.6359934435019845, 3.6359934435019845, 3.6359934435019845, 3.6359934435019845, 3.6359934435019845, 3.6359934435019845, 3.6359934435019845, 3.6359934435019845, 3.6359934435019845, 3.6359934435019845, 3.6359934435019845, 3.6359934435019845, 3.6359934435019845, 3.6359934435019845, 3.6359934435019845, 3.6359934435019845, 3.6126068557638806, 3.6126068557638806, 3.6126068557638806, 3.6126068557638806, 3.6126068557638806, 3.6126068557638806, 3.6126068557638806, 3.6126068557638806, 3.6126068557638806, 3.6126068557638806, 3.6126068557638806, 3.6126068557638806, 3.6126068557638806, 3.6126068557638806, 3.6126068557638806, 3.6126068557638806, 3.6126068557638806, 3.6126068557638806, 3.5964061452148783, 3.5964061452148783, 3.5964061452148783, 3.5964061452148783, 3.5964061452148783, 3.5964061452148783, 3.5964061452148783, 3.5964061452148783, 3.5964061452148783, 3.5964061452148783, 3.5964061452148783, 3.5964061452148783, 3.5964061452148783, 3.5964061452148783, 3.5964061452148783, 3.5964061452148783, 3.5964061452148783, 3.5964061452148783, 3.5964061452148783, 3.5964061452148783, 3.5964061452148783, 3.586814882739313, 3.586814882739313, 3.586814882739313, 3.586814882739313, 3.586814882739313, 3.586814882739313, 3.586814882739313, 3.586814882739313, 3.586814882739313, 3.586814882739313, 3.586814882739313, 3.5832566392215224, 3.5832566392215224, 3.5832566392215224, 3.5832566392215224, 3.5832566392215224, 3.5832566392215224, 3.5832566392215224, 3.5832566392215224, 3.5832566392215224, 3.5832566392215224, 3.5832566392215224, 3.5832566392215224, 3.5832566392215224, 3.5832566392215224, 3.5832566392215224, 3.5832566392215224, 3.5832566392215224, 3.5832566392215224, 3.5832566392215224, 3.5832566392215224, 3.5832566392215224, 3.5832566392215224, 3.5832566392215224, 3.5832566392215224, 3.585154985545831, 3.585154985545831, 3.585154985545831, 3.585154985545831, 3.585154985545831, 3.585154985545831, 3.585154985545831, 3.585154985545831, 3.585154985545831, 3.585154985545831, 3.585154985545831, 3.585154985545831, 3.585154985545831, 3.585154985545831, 3.585154985545831, 3.585154985545831, 3.585154985545831, 3.585154985545831, 3.591933492596578, 3.591933492596578, 3.591933492596578, 3.591933492596578, 3.591933492596578, 3.591933492596578, 3.591933492596578, 3.591933492596578, 3.591933492596578, 3.591933492596578, 3.591933492596578, 3.591933492596578, 3.591933492596578, 3.591933492596578, 3.591933492596578, 3.591933492596578, 3.591933492596578, 3.591933492596578, 3.591933492596578, 3.591933492596578, 3.591933492596578, 3.591933492596578, 3.591933492596578, 3.591933492596578, 3.591933492596578, 3.591933492596578, 3.591933492596578, 3.591933492596578, 3.591933492596578, 3.591933492596578, 3.591933492596578, 3.591933492596578, 3.591933492596578, 3.591933492596578, 3.591933492596578, 3.591933492596578, 3.591933492596578, 3.591933492596578, 3.591933492596578, 3.591933492596578, 3.591933492596578, 3.591933492596578, 3.591933492596578, 3.591933492596578, 3.591933492596578, 3.591933492596578, 3.591933492596578, 3.591933492596578, 3.591933492596578, 3.591933492596578, 3.591933492596578, 3.591933492596578, 3.591933492596578, 3.591933492596578, 3.6030157312580933, 3.6030157312580933, 3.6030157312580933, 3.6030157312580933, 3.6030157312580933, 3.6030157312580933, 3.6030157312580933, 3.6030157312580933, 3.6030157312580933, 3.6030157312580933, 3.6030157312580933, 3.6030157312580933, 3.617825272414713, 3.617825272414713, 3.617825272414713, 3.617825272414713, 3.617825272414713, 3.617825272414713, 3.617825272414713, 3.617825272414713, 3.617825272414713, 3.617825272414713, 3.617825272414713, 3.617825272414713, 3.617825272414713, 3.617825272414713, 3.617825272414713, 3.617825272414713, 3.617825272414713, 3.617825272414713, 3.617825272414713, 3.635785686950765, 3.635785686950765, 3.635785686950765, 3.635785686950765, 3.635785686950765, 3.635785686950765, 3.635785686950765, 3.635785686950765, 3.635785686950765, 3.635785686950765, 3.635785686950765, 3.635785686950765, 3.635785686950765, 3.656320545750596, 3.656320545750596, 3.656320545750596, 3.656320545750596, 3.656320545750596, 3.656320545750596, 3.656320545750596, 3.656320545750596, 3.656320545750596, 3.656320545750596, 3.656320545750596, 3.656320545750596, 3.656320545750596, 3.656320545750596, 3.656320545750596, 3.656320545750596, 3.656320545750596, 3.656320545750596, 3.656320545750596, 3.6788534196985196, 3.6788534196985196, 3.6788534196985196, 3.6788534196985196, 3.6788534196985196, 3.6788534196985196, 3.6788534196985196, 3.6788534196985196, 3.6788534196985196, 3.6788534196985196, 3.6788534196985196, 3.702807879678879, 3.702807879678879, 3.702807879678879, 3.702807879678879, 3.702807879678879, 3.702807879678879, 3.702807879678879, 3.702807879678879, 3.702807879678879, 3.702807879678879, 3.702807879678879, 3.702807879678879, 3.727607496576013, 3.727607496576013, 3.727607496576013, 3.727607496576013, 3.727607496576013, 3.727607496576013, 3.727607496576013, 3.727607496576013, 3.727607496576013, 3.727607496576013, 3.727607496576013, 3.727607496576013, 3.727607496576013, 3.727607496576013, 3.727607496576013, 3.727607496576013, 3.727607496576013, 3.727607496576013, 3.727607496576013, 3.727607496576013, 3.727607496576013, 3.752675841274243, 3.752675841274243, 3.752675841274243, 3.752675841274243, 3.752675841274243, 3.752675841274243, 3.752675841274243, 3.752675841274243, 3.752675841274243, 3.752675841274243, 3.752675841274243, 3.752675841274243, 3.752675841274243, 3.752675841274243, 3.752675841274243, 3.752675841274243, 3.752675841274243, 3.7774364846579083, 3.7774364846579083, 3.7774364846579083, 3.7774364846579083, 3.7774364846579083, 3.7774364846579083, 3.7774364846579083, 3.7774364846579083, 3.7774364846579083, 3.7774364846579083, 3.7774364846579083, 3.8013129976113404, 3.8013129976113404, 3.8013129976113404, 3.8013129976113404, 3.8013129976113404, 3.8013129976113404, 3.8013129976113404, 3.8013129976113404, 3.8013129976113404, 3.8013129976113404, 3.8013129976113404, 3.8013129976113404, 3.8013129976113404, 3.8013129976113404, 3.8013129976113404, 3.8013129976113404, 3.8237289510188788, 3.8237289510188788, 3.8237289510188788, 3.8237289510188788, 3.8237289510188788, 3.8237289510188788, 3.8237289510188788, 3.8237289510188788, 3.8237289510188788, 3.8237289510188788, 3.8237289510188788, 3.8237289510188788, 3.8237289510188788, 3.844107915764841, 3.844107915764841, 3.844107915764841, 3.844107915764841, 3.844107915764841, 3.844107915764841, 3.844107915764841, 3.844107915764841, 3.844107915764841, 3.844107915764841, 3.844107915764841, 3.844107915764841, 3.844107915764841, 3.844107915764841, 3.844107915764841, 3.8618734627335805, 3.8618734627335805, 3.8618734627335805, 3.8618734627335805, 3.8618734627335805, 3.8618734627335805, 3.8764491628094184, 3.8764491628094184, 3.8764491628094184, 3.8764491628094184, 3.8764491628094184, 3.8764491628094184, 3.887258586876687, 3.887258586876687, 3.893725305819718, 3.893725305819718, 3.893725305819718, 3.893725305819718, 3.8952728905228504, 3.8952728905228504, 3.8952728905228504, 3.8913249118704165, 3.8913249118704165, 3.8913249118704165, 3.8913249118704165, 3.8913249118704165, 3.8913249118704165, 3.881304940746748, 3.881304940746748, 3.881304940746748, 3.8646365480361773, 3.8646365480361773, 3.8646365480361773, 3.8646365480361773, 3.840743304623036, 3.840743304623036, 3.840743304623036, 3.809048781391663, 3.809048781391663, 3.768976549226391, 3.768976549226391, 3.719950179011544, 3.719950179011544, 3.719950179011544]}],\n",
              "                        {\"font\": {\"size\": 16}, \"height\": 700, \"template\": {\"data\": {\"bar\": [{\"error_x\": {\"color\": \"#2a3f5f\"}, \"error_y\": {\"color\": \"#2a3f5f\"}, \"marker\": {\"line\": {\"color\": \"#E5ECF6\", \"width\": 0.5}}, \"type\": \"bar\"}], \"barpolar\": [{\"marker\": {\"line\": {\"color\": \"#E5ECF6\", \"width\": 0.5}}, \"type\": \"barpolar\"}], \"carpet\": [{\"aaxis\": {\"endlinecolor\": \"#2a3f5f\", \"gridcolor\": \"white\", \"linecolor\": \"white\", \"minorgridcolor\": \"white\", \"startlinecolor\": \"#2a3f5f\"}, \"baxis\": {\"endlinecolor\": \"#2a3f5f\", \"gridcolor\": \"white\", \"linecolor\": \"white\", \"minorgridcolor\": \"white\", \"startlinecolor\": \"#2a3f5f\"}, \"type\": \"carpet\"}], \"choropleth\": [{\"colorbar\": {\"outlinewidth\": 0, \"ticks\": \"\"}, \"type\": \"choropleth\"}], \"contour\": [{\"colorbar\": {\"outlinewidth\": 0, \"ticks\": \"\"}, \"colorscale\": [[0.0, \"#0d0887\"], [0.1111111111111111, \"#46039f\"], [0.2222222222222222, \"#7201a8\"], [0.3333333333333333, \"#9c179e\"], [0.4444444444444444, \"#bd3786\"], [0.5555555555555556, \"#d8576b\"], [0.6666666666666666, \"#ed7953\"], [0.7777777777777778, \"#fb9f3a\"], [0.8888888888888888, \"#fdca26\"], [1.0, \"#f0f921\"]], \"type\": \"contour\"}], \"contourcarpet\": [{\"colorbar\": {\"outlinewidth\": 0, \"ticks\": \"\"}, \"type\": \"contourcarpet\"}], \"heatmap\": [{\"colorbar\": {\"outlinewidth\": 0, \"ticks\": \"\"}, \"colorscale\": [[0.0, \"#0d0887\"], [0.1111111111111111, \"#46039f\"], [0.2222222222222222, \"#7201a8\"], [0.3333333333333333, \"#9c179e\"], [0.4444444444444444, \"#bd3786\"], [0.5555555555555556, \"#d8576b\"], [0.6666666666666666, \"#ed7953\"], [0.7777777777777778, \"#fb9f3a\"], [0.8888888888888888, \"#fdca26\"], [1.0, \"#f0f921\"]], \"type\": \"heatmap\"}], \"heatmapgl\": [{\"colorbar\": {\"outlinewidth\": 0, \"ticks\": \"\"}, \"colorscale\": [[0.0, \"#0d0887\"], [0.1111111111111111, \"#46039f\"], [0.2222222222222222, \"#7201a8\"], [0.3333333333333333, \"#9c179e\"], [0.4444444444444444, \"#bd3786\"], [0.5555555555555556, \"#d8576b\"], [0.6666666666666666, \"#ed7953\"], [0.7777777777777778, \"#fb9f3a\"], [0.8888888888888888, \"#fdca26\"], [1.0, \"#f0f921\"]], \"type\": \"heatmapgl\"}], \"histogram\": [{\"marker\": {\"colorbar\": {\"outlinewidth\": 0, \"ticks\": \"\"}}, \"type\": \"histogram\"}], \"histogram2d\": [{\"colorbar\": {\"outlinewidth\": 0, \"ticks\": \"\"}, \"colorscale\": [[0.0, \"#0d0887\"], [0.1111111111111111, \"#46039f\"], [0.2222222222222222, \"#7201a8\"], [0.3333333333333333, \"#9c179e\"], [0.4444444444444444, \"#bd3786\"], [0.5555555555555556, \"#d8576b\"], [0.6666666666666666, \"#ed7953\"], [0.7777777777777778, \"#fb9f3a\"], [0.8888888888888888, \"#fdca26\"], [1.0, \"#f0f921\"]], \"type\": \"histogram2d\"}], \"histogram2dcontour\": [{\"colorbar\": {\"outlinewidth\": 0, \"ticks\": \"\"}, \"colorscale\": [[0.0, \"#0d0887\"], [0.1111111111111111, \"#46039f\"], [0.2222222222222222, \"#7201a8\"], [0.3333333333333333, \"#9c179e\"], [0.4444444444444444, \"#bd3786\"], [0.5555555555555556, \"#d8576b\"], [0.6666666666666666, \"#ed7953\"], [0.7777777777777778, \"#fb9f3a\"], [0.8888888888888888, \"#fdca26\"], [1.0, \"#f0f921\"]], \"type\": \"histogram2dcontour\"}], \"mesh3d\": [{\"colorbar\": {\"outlinewidth\": 0, \"ticks\": \"\"}, \"type\": \"mesh3d\"}], \"parcoords\": [{\"line\": {\"colorbar\": {\"outlinewidth\": 0, \"ticks\": \"\"}}, \"type\": \"parcoords\"}], \"pie\": [{\"automargin\": true, \"type\": \"pie\"}], \"scatter\": [{\"marker\": {\"colorbar\": {\"outlinewidth\": 0, \"ticks\": \"\"}}, \"type\": \"scatter\"}], \"scatter3d\": [{\"line\": {\"colorbar\": {\"outlinewidth\": 0, \"ticks\": \"\"}}, \"marker\": {\"colorbar\": {\"outlinewidth\": 0, \"ticks\": \"\"}}, \"type\": \"scatter3d\"}], \"scattercarpet\": [{\"marker\": {\"colorbar\": {\"outlinewidth\": 0, \"ticks\": \"\"}}, \"type\": \"scattercarpet\"}], \"scattergeo\": [{\"marker\": {\"colorbar\": {\"outlinewidth\": 0, \"ticks\": \"\"}}, \"type\": \"scattergeo\"}], \"scattergl\": [{\"marker\": {\"colorbar\": {\"outlinewidth\": 0, \"ticks\": \"\"}}, \"type\": \"scattergl\"}], \"scattermapbox\": [{\"marker\": {\"colorbar\": {\"outlinewidth\": 0, \"ticks\": \"\"}}, \"type\": \"scattermapbox\"}], \"scatterpolar\": [{\"marker\": {\"colorbar\": {\"outlinewidth\": 0, \"ticks\": \"\"}}, \"type\": \"scatterpolar\"}], \"scatterpolargl\": [{\"marker\": {\"colorbar\": {\"outlinewidth\": 0, \"ticks\": \"\"}}, \"type\": \"scatterpolargl\"}], \"scatterternary\": [{\"marker\": {\"colorbar\": {\"outlinewidth\": 0, \"ticks\": \"\"}}, \"type\": \"scatterternary\"}], \"surface\": [{\"colorbar\": {\"outlinewidth\": 0, \"ticks\": \"\"}, \"colorscale\": [[0.0, \"#0d0887\"], [0.1111111111111111, \"#46039f\"], [0.2222222222222222, \"#7201a8\"], [0.3333333333333333, \"#9c179e\"], [0.4444444444444444, \"#bd3786\"], [0.5555555555555556, \"#d8576b\"], [0.6666666666666666, \"#ed7953\"], [0.7777777777777778, \"#fb9f3a\"], [0.8888888888888888, \"#fdca26\"], [1.0, \"#f0f921\"]], \"type\": \"surface\"}], \"table\": [{\"cells\": {\"fill\": {\"color\": \"#EBF0F8\"}, \"line\": {\"color\": \"white\"}}, \"header\": {\"fill\": {\"color\": \"#C8D4E3\"}, \"line\": {\"color\": \"white\"}}, \"type\": \"table\"}]}, \"layout\": {\"annotationdefaults\": {\"arrowcolor\": \"#2a3f5f\", \"arrowhead\": 0, \"arrowwidth\": 1}, \"coloraxis\": {\"colorbar\": {\"outlinewidth\": 0, \"ticks\": \"\"}}, \"colorscale\": {\"diverging\": [[0, \"#8e0152\"], [0.1, \"#c51b7d\"], [0.2, \"#de77ae\"], [0.3, \"#f1b6da\"], [0.4, \"#fde0ef\"], [0.5, \"#f7f7f7\"], [0.6, \"#e6f5d0\"], [0.7, \"#b8e186\"], [0.8, \"#7fbc41\"], [0.9, \"#4d9221\"], [1, \"#276419\"]], \"sequential\": [[0.0, \"#0d0887\"], [0.1111111111111111, \"#46039f\"], [0.2222222222222222, \"#7201a8\"], [0.3333333333333333, \"#9c179e\"], [0.4444444444444444, \"#bd3786\"], [0.5555555555555556, \"#d8576b\"], [0.6666666666666666, \"#ed7953\"], [0.7777777777777778, \"#fb9f3a\"], [0.8888888888888888, \"#fdca26\"], [1.0, \"#f0f921\"]], \"sequentialminus\": [[0.0, \"#0d0887\"], [0.1111111111111111, \"#46039f\"], [0.2222222222222222, \"#7201a8\"], [0.3333333333333333, \"#9c179e\"], [0.4444444444444444, \"#bd3786\"], [0.5555555555555556, \"#d8576b\"], [0.6666666666666666, \"#ed7953\"], [0.7777777777777778, \"#fb9f3a\"], [0.8888888888888888, \"#fdca26\"], [1.0, \"#f0f921\"]]}, \"colorway\": [\"#636efa\", \"#EF553B\", \"#00cc96\", \"#ab63fa\", \"#FFA15A\", \"#19d3f3\", \"#FF6692\", \"#B6E880\", \"#FF97FF\", \"#FECB52\"], \"font\": {\"color\": \"#2a3f5f\"}, \"geo\": {\"bgcolor\": \"white\", \"lakecolor\": \"white\", \"landcolor\": \"#E5ECF6\", \"showlakes\": true, \"showland\": true, \"subunitcolor\": \"white\"}, \"hoverlabel\": {\"align\": \"left\"}, \"hovermode\": \"closest\", \"mapbox\": {\"style\": \"light\"}, \"paper_bgcolor\": \"white\", \"plot_bgcolor\": \"#E5ECF6\", \"polar\": {\"angularaxis\": {\"gridcolor\": \"white\", \"linecolor\": \"white\", \"ticks\": \"\"}, \"bgcolor\": \"#E5ECF6\", \"radialaxis\": {\"gridcolor\": \"white\", \"linecolor\": \"white\", \"ticks\": \"\"}}, \"scene\": {\"xaxis\": {\"backgroundcolor\": \"#E5ECF6\", \"gridcolor\": \"white\", \"gridwidth\": 2, \"linecolor\": \"white\", \"showbackground\": true, \"ticks\": \"\", \"zerolinecolor\": \"white\"}, \"yaxis\": {\"backgroundcolor\": \"#E5ECF6\", \"gridcolor\": \"white\", \"gridwidth\": 2, \"linecolor\": \"white\", \"showbackground\": true, \"ticks\": \"\", \"zerolinecolor\": \"white\"}, \"zaxis\": {\"backgroundcolor\": \"#E5ECF6\", \"gridcolor\": \"white\", \"gridwidth\": 2, \"linecolor\": \"white\", \"showbackground\": true, \"ticks\": \"\", \"zerolinecolor\": \"white\"}}, \"shapedefaults\": {\"line\": {\"color\": \"#2a3f5f\"}}, \"ternary\": {\"aaxis\": {\"gridcolor\": \"white\", \"linecolor\": \"white\", \"ticks\": \"\"}, \"baxis\": {\"gridcolor\": \"white\", \"linecolor\": \"white\", \"ticks\": \"\"}, \"bgcolor\": \"#E5ECF6\", \"caxis\": {\"gridcolor\": \"white\", \"linecolor\": \"white\", \"ticks\": \"\"}}, \"title\": {\"x\": 0.05}, \"xaxis\": {\"automargin\": true, \"gridcolor\": \"white\", \"linecolor\": \"white\", \"ticks\": \"\", \"title\": {\"standoff\": 15}, \"zerolinecolor\": \"white\", \"zerolinewidth\": 2}, \"yaxis\": {\"automargin\": true, \"gridcolor\": \"white\", \"linecolor\": \"white\", \"ticks\": \"\", \"title\": {\"standoff\": 15}, \"zerolinecolor\": \"white\", \"zerolinewidth\": 2}}}, \"title\": {\"text\": \"SCC * OPEN (N=441)\"}, \"width\": 1100, \"xaxis\": {\"title\": {\"text\": \"SCC\"}}, \"yaxis\": {\"title\": {\"text\": \"OPEN\"}}},\n",
              "                        {\"responsive\": true}\n",
              "                    ).then(function(){\n",
              "                            \n",
              "var gd = document.getElementById('2c7f5821-0e49-449a-b3f2-15e9c7292d1a');\n",
              "var x = new MutationObserver(function (mutations, observer) {{\n",
              "        var display = window.getComputedStyle(gd).display;\n",
              "        if (!display || display === 'none') {{\n",
              "            console.log([gd, 'removed!']);\n",
              "            Plotly.purge(gd);\n",
              "            observer.disconnect();\n",
              "        }}\n",
              "}});\n",
              "\n",
              "// Listen for the removal of the full notebook cells\n",
              "var notebookContainer = gd.closest('#notebook-container');\n",
              "if (notebookContainer) {{\n",
              "    x.observe(notebookContainer, {childList: true});\n",
              "}}\n",
              "\n",
              "// Listen for the clearing of the current output cell\n",
              "var outputEl = gd.closest('.output');\n",
              "if (outputEl) {{\n",
              "    x.observe(outputEl, {childList: true});\n",
              "}}\n",
              "\n",
              "                        })\n",
              "                };\n",
              "                \n",
              "            </script>\n",
              "        </div>\n",
              "</body>\n",
              "</html>"
            ]
          },
          "metadata": {
            "tags": []
          }
        }
      ]
    },
    {
      "cell_type": "markdown",
      "metadata": {
        "id": "6hjJshuKfTB9"
      },
      "source": [
        "##Dependent variable: CIHS RESP"
      ]
    },
    {
      "cell_type": "code",
      "metadata": {
        "id": "hYtQSGkufPW5"
      },
      "source": [
        "resp = df_subscales['RESP'].to_numpy()\n",
        "resp = resp.reshape(-1,1)"
      ],
      "execution_count": null,
      "outputs": []
    },
    {
      "cell_type": "markdown",
      "metadata": {
        "id": "sFdJ5HT9n8fX"
      },
      "source": [
        "###AUT"
      ]
    },
    {
      "cell_type": "code",
      "metadata": {
        "colab": {
          "base_uri": "https://localhost:8080/",
          "height": 717
        },
        "id": "ZPUt9ZCvfbKQ",
        "outputId": "9b9b6796-639a-4aed-8b23-91bce8f0c3ee"
      },
      "source": [
        "MakeScatterPlot(df_subscales['AUT'], df_subscales['RESP'], f'AUT -> RESP (n={len(df_subscales)})', 'AUT','RESP')"
      ],
      "execution_count": null,
      "outputs": [
        {
          "output_type": "display_data",
          "data": {
            "text/html": [
              "<html>\n",
              "<head><meta charset=\"utf-8\" /></head>\n",
              "<body>\n",
              "    <div>\n",
              "            <script src=\"https://cdnjs.cloudflare.com/ajax/libs/mathjax/2.7.5/MathJax.js?config=TeX-AMS-MML_SVG\"></script><script type=\"text/javascript\">if (window.MathJax) {MathJax.Hub.Config({SVG: {font: \"STIX-Web\"}});}</script>\n",
              "                <script type=\"text/javascript\">window.PlotlyConfig = {MathJaxConfig: 'local'};</script>\n",
              "        <script src=\"https://cdn.plot.ly/plotly-latest.min.js\"></script>    \n",
              "            <div id=\"967e85d4-86fc-474e-8bcd-9c283d709950\" class=\"plotly-graph-div\" style=\"height:700px; width:1000px;\"></div>\n",
              "            <script type=\"text/javascript\">\n",
              "                \n",
              "                    window.PLOTLYENV=window.PLOTLYENV || {};\n",
              "                    \n",
              "                if (document.getElementById(\"967e85d4-86fc-474e-8bcd-9c283d709950\")) {\n",
              "                    Plotly.newPlot(\n",
              "                        '967e85d4-86fc-474e-8bcd-9c283d709950',\n",
              "                        [{\"mode\": \"markers\", \"type\": \"scatter\", \"x\": [150, 170, 131, 167, 123, 168, 174, 135, 194, 132, 139, 135, 134, 185, 135, 199, 150, 151, 153, 159, 136, 128, 142, 157, 129, 140, 154, 153, 135, 168, 134, 183, 154, 158, 137, 186, 151, 144, 146, 112, 185, 184, 168, 166, 135, 134, 145, 139, 136, 138, 135, 143, 140, 133, 129, 199, 138, 174, 149, 158, 141, 135, 139, 147, 159, 135, 186, 160, 191, 160, 143, 136, 140, 141, 132, 134, 156, 144, 128, 167, 135, 159, 154, 193, 152, 161, 135, 162, 139, 145, 153, 127, 141, 177, 147, 154, 149, 141, 141, 138, 147, 159, 147, 150, 135, 134, 169, 142, 160, 157, 131, 134, 141, 135, 136, 165, 159, 143, 153, 129, 153, 134, 135, 130, 154, 134, 140, 201, 140, 181, 162, 157, 189, 124, 141, 134, 150, 141, 172, 149, 179, 142, 167, 179, 135, 163, 128, 136, 135, 133, 180, 134, 163, 140, 122, 154, 137, 147, 171, 145, 135, 166, 133, 145, 180, 164, 135, 135, 167, 148, 154, 134, 140, 201, 158, 138, 142, 173, 133, 133, 144, 185, 134, 167, 162, 186, 139, 185, 137, 167, 157, 142, 143, 142, 158, 132, 129, 180, 145, 151, 152, 139, 173, 139, 138, 156, 135, 137, 191, 160, 136, 142, 166, 154, 134, 126, 128, 157, 154, 136, 151, 174, 135, 156, 139, 129, 149, 173, 142, 162, 144, 145, 141, 128, 135, 123, 156, 115, 159, 135, 169, 193, 161, 137, 157, 185, 199, 141, 129, 142, 135, 162, 142, 130, 153, 162, 133, 148, 172, 156, 148, 163, 152, 112, 126, 135, 136, 154, 156, 147, 162, 135, 191, 171, 155, 135, 135, 143, 160, 135, 141, 173, 138, 161, 170, 142, 142, 161, 139, 137, 140, 140, 174, 146, 152, 171, 136, 148, 166, 141, 177, 165, 140, 150, 162, 137, 148, 135, 136, 135, 157, 145, 176, 134, 155, 178, 156, 165, 140, 157, 137, 137, 162, 155, 131, 150, 184, 167, 161, 159, 137, 138, 137, 139, 144, 154, 140, 138, 144, 138, 177, 173, 171, 134, 160, 127, 139, 160, 124, 132, 171, 144, 126, 148, 144, 192, 135, 143, 177, 143, 133, 133, 141, 161, 200, 150, 134, 139, 130, 180, 143, 164, 136, 171, 163, 140, 199, 163, 124, 140, 127, 144, 205, 140, 151, 140, 186, 156, 189, 130, 153, 137, 137, 146, 148, 179, 174, 133, 143, 152, 135, 155, 157, 160, 136, 160, 171, 153, 168, 133, 173, 148, 135, 137, 162, 168, 168, 139, 173, 149, 163, 151, 146, 160, 166, 142, 167, 154, 148, 164, 137, 183, 198, 138, 152, 164, 151, 158, 113, 142, 140], \"y\": [4.0, 4.16666666666667, 3.5, 5.0, 2.83333333333333, 5.0, 4.0, 3.0, 4.33333333333333, 3.5, 3.33333333333333, 3.0, 3.66666666666667, 4.83333333333333, 3.0, 4.83333333333333, 4.0, 4.83333333333333, 4.0, 3.83333333333333, 3.5, 3.5, 3.83333333333333, 3.5, 3.66666666666667, 4.83333333333333, 3.0, 4.83333333333333, 3.0, 4.5, 3.16666666666667, 4.0, 3.33333333333333, 4.66666666666667, 4.0, 4.66666666666667, 3.83333333333333, 4.66666666666667, 5.0, 2.83333333333333, 4.66666666666667, 3.5, 4.33333333333333, 3.16666666666667, 4.0, 4.5, 4.16666666666667, 3.33333333333333, 3.33333333333333, 3.16666666666667, 3.0, 2.83333333333333, 2.33333333333333, 3.33333333333333, 3.33333333333333, 4.83333333333333, 3.0, 4.0, 3.83333333333333, 4.33333333333333, 3.0, 3.0, 4.33333333333333, 4.16666666666667, 3.83333333333333, 3.0, 4.66666666666667, 4.66666666666667, 4.83333333333333, 4.83333333333333, 2.83333333333333, 3.83333333333333, 3.5, 3.66666666666667, 3.83333333333333, 3.66666666666667, 3.66666666666667, 4.16666666666667, 4.16666666666667, 4.0, 3.0, 4.0, 4.16666666666667, 4.16666666666667, 4.0, 4.5, 2.5, 4.33333333333333, 3.5, 4.0, 4.16666666666667, 3.83333333333333, 4.5, 4.0, 3.83333333333333, 4.16666666666667, 4.0, 3.66666666666667, 3.16666666666667, 4.33333333333333, 4.0, 5.0, 4.0, 3.0, 3.5, 3.66666666666667, 4.5, 2.83333333333333, 3.83333333333333, 3.0, 3.5, 4.0, 3.16666666666667, 3.0, 3.0, 4.83333333333333, 3.83333333333333, 3.0, 3.5, 4.0, 3.83333333333333, 3.66666666666667, 3.0, 3.0, 3.5, 3.5, 4.0, 4.5, 4.16666666666667, 4.33333333333333, 3.5, 4.0, 4.66666666666667, 4.33333333333333, 3.0, 2.83333333333333, 3.83333333333333, 3.0, 4.16666666666667, 5.0, 4.33333333333333, 3.5, 4.0, 5.0, 3.0, 4.5, 3.66666666666667, 4.16666666666667, 3.0, 3.33333333333333, 4.66666666666667, 3.16666666666667, 4.0, 4.33333333333333, 4.16666666666667, 4.66666666666667, 4.0, 2.83333333333333, 4.33333333333333, 3.16666666666667, 3.0, 4.0, 4.83333333333333, 4.0, 4.33333333333333, 4.0, 3.83333333333333, 3.0, 4.16666666666667, 3.83333333333333, 4.0, 4.5, 4.33333333333333, 5.0, 4.33333333333333, 3.16666666666667, 4.0, 3.5, 4.33333333333333, 4.0, 4.0, 5.0, 4.0, 4.66666666666667, 2.83333333333333, 5.0, 4.0, 4.66666666666667, 2.33333333333333, 4.66666666666667, 4.16666666666667, 3.33333333333333, 3.0, 3.83333333333333, 3.5, 4.0, 4.5, 4.5, 4.33333333333333, 3.5, 3.83333333333333, 3.0, 5.0, 4.16666666666667, 5.0, 4.66666666666667, 4.0, 3.0, 4.83333333333333, 4.0, 3.0, 3.16666666666667, 3.33333333333333, 3.83333333333333, 3.5, 3.5, 3.16666666666667, 4.0, 4.5, 4.0, 4.66666666666667, 4.0, 3.0, 3.5, 2.5, 3.33333333333333, 4.0, 4.16666666666667, 4.0, 4.5, 4.16666666666667, 4.33333333333333, 4.66666666666667, 3.33333333333333, 3.0, 3.66666666666667, 3.5, 4.0, 4.5, 3.0, 4.66666666666667, 4.5, 4.0, 4.0, 4.0, 5.0, 5.0, 3.5, 3.16666666666667, 3.33333333333333, 3.33333333333333, 3.83333333333333, 3.16666666666667, 4.66666666666667, 4.66666666666667, 4.16666666666667, 4.0, 4.0, 4.5, 3.66666666666667, 3.33333333333333, 4.33333333333333, 4.0, 3.66666666666667, 4.0, 4.16666666666667, 3.0, 3.33333333333333, 3.16666666666667, 3.33333333333333, 4.0, 3.5, 4.66666666666667, 3.5, 3.83333333333333, 3.0, 3.33333333333333, 3.83333333333333, 4.66666666666667, 3.0, 4.0, 4.0, 4.0, 4.16666666666667, 4.33333333333333, 4.0, 3.83333333333333, 4.83333333333333, 3.83333333333333, 4.5, 3.33333333333333, 3.0, 3.83333333333333, 4.16666666666667, 4.16666666666667, 4.83333333333333, 3.83333333333333, 3.83333333333333, 3.83333333333333, 3.66666666666667, 3.5, 4.0, 4.33333333333333, 4.66666666666667, 5.0, 3.5, 4.0, 3.16666666666667, 3.0, 4.0, 4.83333333333333, 4.5, 4.33333333333333, 2.66666666666667, 4.16666666666667, 4.5, 3.66666666666667, 4.5, 3.66666666666667, 3.83333333333333, 3.33333333333333, 4.16666666666667, 4.5, 4.66666666666667, 4.16666666666667, 4.33333333333333, 4.5, 4.16666666666667, 4.0, 3.66666666666667, 4.0, 2.66666666666667, 3.83333333333333, 3.66666666666667, 4.33333333333333, 4.16666666666667, 3.33333333333333, 3.83333333333333, 3.5, 4.0, 4.5, 4.5, 4.5, 4.33333333333333, 3.66666666666667, 3.33333333333333, 3.0, 4.66666666666667, 3.66666666666667, 3.16666666666667, 4.16666666666667, 4.0, 3.0, 4.0, 4.66666666666667, 4.33333333333333, 3.0, 3.66666666666667, 5.0, 3.83333333333333, 4.0, 3.5, 2.83333333333333, 4.5, 3.0, 4.5, 3.0, 3.66666666666667, 4.16666666666667, 4.83333333333333, 3.66666666666667, 4.66666666666667, 4.33333333333333, 4.66666666666667, 4.83333333333333, 3.0, 4.83333333333333, 4.5, 2.66666666666667, 4.16666666666667, 3.66666666666667, 3.33333333333333, 5.0, 4.33333333333333, 4.0, 3.5, 4.5, 4.0, 4.5, 3.16666666666667, 3.83333333333333, 3.0, 3.33333333333333, 4.0, 3.66666666666667, 3.83333333333333, 4.0, 3.16666666666667, 4.0, 3.66666666666667, 4.16666666666667, 4.33333333333333, 4.5, 4.33333333333333, 4.5, 4.83333333333333, 4.0, 4.5, 3.83333333333333, 3.0, 3.66666666666667, 3.83333333333333, 3.0, 3.33333333333333, 3.83333333333333, 4.0, 4.33333333333333, 3.5, 4.33333333333333, 3.16666666666667, 4.33333333333333, 3.83333333333333, 3.66666666666667, 2.83333333333333, 3.0, 4.5, 5.0, 3.33333333333333, 4.0, 4.16666666666667, 4.5, 4.33333333333333, 4.66666666666667, 3.16666666666667, 3.83333333333333, 4.16666666666667, 2.33333333333333, 3.66666666666667, 3.5, 3.0, 2.66666666666667]}],\n",
              "                        {\"height\": 700, \"template\": {\"data\": {\"bar\": [{\"error_x\": {\"color\": \"#2a3f5f\"}, \"error_y\": {\"color\": \"#2a3f5f\"}, \"marker\": {\"line\": {\"color\": \"#E5ECF6\", \"width\": 0.5}}, \"type\": \"bar\"}], \"barpolar\": [{\"marker\": {\"line\": {\"color\": \"#E5ECF6\", \"width\": 0.5}}, \"type\": \"barpolar\"}], \"carpet\": [{\"aaxis\": {\"endlinecolor\": \"#2a3f5f\", \"gridcolor\": \"white\", \"linecolor\": \"white\", \"minorgridcolor\": \"white\", \"startlinecolor\": \"#2a3f5f\"}, \"baxis\": {\"endlinecolor\": \"#2a3f5f\", \"gridcolor\": \"white\", \"linecolor\": \"white\", \"minorgridcolor\": \"white\", \"startlinecolor\": \"#2a3f5f\"}, \"type\": \"carpet\"}], \"choropleth\": [{\"colorbar\": {\"outlinewidth\": 0, \"ticks\": \"\"}, \"type\": \"choropleth\"}], \"contour\": [{\"colorbar\": {\"outlinewidth\": 0, \"ticks\": \"\"}, \"colorscale\": [[0.0, \"#0d0887\"], [0.1111111111111111, \"#46039f\"], [0.2222222222222222, \"#7201a8\"], [0.3333333333333333, \"#9c179e\"], [0.4444444444444444, \"#bd3786\"], [0.5555555555555556, \"#d8576b\"], [0.6666666666666666, \"#ed7953\"], [0.7777777777777778, \"#fb9f3a\"], [0.8888888888888888, \"#fdca26\"], [1.0, \"#f0f921\"]], \"type\": \"contour\"}], \"contourcarpet\": [{\"colorbar\": {\"outlinewidth\": 0, \"ticks\": \"\"}, \"type\": \"contourcarpet\"}], \"heatmap\": [{\"colorbar\": {\"outlinewidth\": 0, \"ticks\": \"\"}, \"colorscale\": [[0.0, \"#0d0887\"], [0.1111111111111111, \"#46039f\"], [0.2222222222222222, \"#7201a8\"], [0.3333333333333333, \"#9c179e\"], [0.4444444444444444, \"#bd3786\"], [0.5555555555555556, \"#d8576b\"], [0.6666666666666666, \"#ed7953\"], [0.7777777777777778, \"#fb9f3a\"], [0.8888888888888888, \"#fdca26\"], [1.0, \"#f0f921\"]], \"type\": \"heatmap\"}], \"heatmapgl\": [{\"colorbar\": {\"outlinewidth\": 0, \"ticks\": \"\"}, \"colorscale\": [[0.0, \"#0d0887\"], [0.1111111111111111, \"#46039f\"], [0.2222222222222222, \"#7201a8\"], [0.3333333333333333, \"#9c179e\"], [0.4444444444444444, \"#bd3786\"], [0.5555555555555556, \"#d8576b\"], [0.6666666666666666, \"#ed7953\"], [0.7777777777777778, \"#fb9f3a\"], [0.8888888888888888, \"#fdca26\"], [1.0, \"#f0f921\"]], \"type\": \"heatmapgl\"}], \"histogram\": [{\"marker\": {\"colorbar\": {\"outlinewidth\": 0, \"ticks\": \"\"}}, \"type\": \"histogram\"}], \"histogram2d\": [{\"colorbar\": {\"outlinewidth\": 0, \"ticks\": \"\"}, \"colorscale\": [[0.0, \"#0d0887\"], [0.1111111111111111, \"#46039f\"], [0.2222222222222222, \"#7201a8\"], [0.3333333333333333, \"#9c179e\"], [0.4444444444444444, \"#bd3786\"], [0.5555555555555556, \"#d8576b\"], [0.6666666666666666, \"#ed7953\"], [0.7777777777777778, \"#fb9f3a\"], [0.8888888888888888, \"#fdca26\"], [1.0, \"#f0f921\"]], \"type\": \"histogram2d\"}], \"histogram2dcontour\": [{\"colorbar\": {\"outlinewidth\": 0, \"ticks\": \"\"}, \"colorscale\": [[0.0, \"#0d0887\"], [0.1111111111111111, \"#46039f\"], [0.2222222222222222, \"#7201a8\"], [0.3333333333333333, \"#9c179e\"], [0.4444444444444444, \"#bd3786\"], [0.5555555555555556, \"#d8576b\"], [0.6666666666666666, \"#ed7953\"], [0.7777777777777778, \"#fb9f3a\"], [0.8888888888888888, \"#fdca26\"], [1.0, \"#f0f921\"]], \"type\": \"histogram2dcontour\"}], \"mesh3d\": [{\"colorbar\": {\"outlinewidth\": 0, \"ticks\": \"\"}, \"type\": \"mesh3d\"}], \"parcoords\": [{\"line\": {\"colorbar\": {\"outlinewidth\": 0, \"ticks\": \"\"}}, \"type\": \"parcoords\"}], \"pie\": [{\"automargin\": true, \"type\": \"pie\"}], \"scatter\": [{\"marker\": {\"colorbar\": {\"outlinewidth\": 0, \"ticks\": \"\"}}, \"type\": \"scatter\"}], \"scatter3d\": [{\"line\": {\"colorbar\": {\"outlinewidth\": 0, \"ticks\": \"\"}}, \"marker\": {\"colorbar\": {\"outlinewidth\": 0, \"ticks\": \"\"}}, \"type\": \"scatter3d\"}], \"scattercarpet\": [{\"marker\": {\"colorbar\": {\"outlinewidth\": 0, \"ticks\": \"\"}}, \"type\": \"scattercarpet\"}], \"scattergeo\": [{\"marker\": {\"colorbar\": {\"outlinewidth\": 0, \"ticks\": \"\"}}, \"type\": \"scattergeo\"}], \"scattergl\": [{\"marker\": {\"colorbar\": {\"outlinewidth\": 0, \"ticks\": \"\"}}, \"type\": \"scattergl\"}], \"scattermapbox\": [{\"marker\": {\"colorbar\": {\"outlinewidth\": 0, \"ticks\": \"\"}}, \"type\": \"scattermapbox\"}], \"scatterpolar\": [{\"marker\": {\"colorbar\": {\"outlinewidth\": 0, \"ticks\": \"\"}}, \"type\": \"scatterpolar\"}], \"scatterpolargl\": [{\"marker\": {\"colorbar\": {\"outlinewidth\": 0, \"ticks\": \"\"}}, \"type\": \"scatterpolargl\"}], \"scatterternary\": [{\"marker\": {\"colorbar\": {\"outlinewidth\": 0, \"ticks\": \"\"}}, \"type\": \"scatterternary\"}], \"surface\": [{\"colorbar\": {\"outlinewidth\": 0, \"ticks\": \"\"}, \"colorscale\": [[0.0, \"#0d0887\"], [0.1111111111111111, \"#46039f\"], [0.2222222222222222, \"#7201a8\"], [0.3333333333333333, \"#9c179e\"], [0.4444444444444444, \"#bd3786\"], [0.5555555555555556, \"#d8576b\"], [0.6666666666666666, \"#ed7953\"], [0.7777777777777778, \"#fb9f3a\"], [0.8888888888888888, \"#fdca26\"], [1.0, \"#f0f921\"]], \"type\": \"surface\"}], \"table\": [{\"cells\": {\"fill\": {\"color\": \"#EBF0F8\"}, \"line\": {\"color\": \"white\"}}, \"header\": {\"fill\": {\"color\": \"#C8D4E3\"}, \"line\": {\"color\": \"white\"}}, \"type\": \"table\"}]}, \"layout\": {\"annotationdefaults\": {\"arrowcolor\": \"#2a3f5f\", \"arrowhead\": 0, \"arrowwidth\": 1}, \"coloraxis\": {\"colorbar\": {\"outlinewidth\": 0, \"ticks\": \"\"}}, \"colorscale\": {\"diverging\": [[0, \"#8e0152\"], [0.1, \"#c51b7d\"], [0.2, \"#de77ae\"], [0.3, \"#f1b6da\"], [0.4, \"#fde0ef\"], [0.5, \"#f7f7f7\"], [0.6, \"#e6f5d0\"], [0.7, \"#b8e186\"], [0.8, \"#7fbc41\"], [0.9, \"#4d9221\"], [1, \"#276419\"]], \"sequential\": [[0.0, \"#0d0887\"], [0.1111111111111111, \"#46039f\"], [0.2222222222222222, \"#7201a8\"], [0.3333333333333333, \"#9c179e\"], [0.4444444444444444, \"#bd3786\"], [0.5555555555555556, \"#d8576b\"], [0.6666666666666666, \"#ed7953\"], [0.7777777777777778, \"#fb9f3a\"], [0.8888888888888888, \"#fdca26\"], [1.0, \"#f0f921\"]], \"sequentialminus\": [[0.0, \"#0d0887\"], [0.1111111111111111, \"#46039f\"], [0.2222222222222222, \"#7201a8\"], [0.3333333333333333, \"#9c179e\"], [0.4444444444444444, \"#bd3786\"], [0.5555555555555556, \"#d8576b\"], [0.6666666666666666, \"#ed7953\"], [0.7777777777777778, \"#fb9f3a\"], [0.8888888888888888, \"#fdca26\"], [1.0, \"#f0f921\"]]}, \"colorway\": [\"#636efa\", \"#EF553B\", \"#00cc96\", \"#ab63fa\", \"#FFA15A\", \"#19d3f3\", \"#FF6692\", \"#B6E880\", \"#FF97FF\", \"#FECB52\"], \"font\": {\"color\": \"#2a3f5f\"}, \"geo\": {\"bgcolor\": \"white\", \"lakecolor\": \"white\", \"landcolor\": \"#E5ECF6\", \"showlakes\": true, \"showland\": true, \"subunitcolor\": \"white\"}, \"hoverlabel\": {\"align\": \"left\"}, \"hovermode\": \"closest\", \"mapbox\": {\"style\": \"light\"}, \"paper_bgcolor\": \"white\", \"plot_bgcolor\": \"#E5ECF6\", \"polar\": {\"angularaxis\": {\"gridcolor\": \"white\", \"linecolor\": \"white\", \"ticks\": \"\"}, \"bgcolor\": \"#E5ECF6\", \"radialaxis\": {\"gridcolor\": \"white\", \"linecolor\": \"white\", \"ticks\": \"\"}}, \"scene\": {\"xaxis\": {\"backgroundcolor\": \"#E5ECF6\", \"gridcolor\": \"white\", \"gridwidth\": 2, \"linecolor\": \"white\", \"showbackground\": true, \"ticks\": \"\", \"zerolinecolor\": \"white\"}, \"yaxis\": {\"backgroundcolor\": \"#E5ECF6\", \"gridcolor\": \"white\", \"gridwidth\": 2, \"linecolor\": \"white\", \"showbackground\": true, \"ticks\": \"\", \"zerolinecolor\": \"white\"}, \"zaxis\": {\"backgroundcolor\": \"#E5ECF6\", \"gridcolor\": \"white\", \"gridwidth\": 2, \"linecolor\": \"white\", \"showbackground\": true, \"ticks\": \"\", \"zerolinecolor\": \"white\"}}, \"shapedefaults\": {\"line\": {\"color\": \"#2a3f5f\"}}, \"ternary\": {\"aaxis\": {\"gridcolor\": \"white\", \"linecolor\": \"white\", \"ticks\": \"\"}, \"baxis\": {\"gridcolor\": \"white\", \"linecolor\": \"white\", \"ticks\": \"\"}, \"bgcolor\": \"#E5ECF6\", \"caxis\": {\"gridcolor\": \"white\", \"linecolor\": \"white\", \"ticks\": \"\"}}, \"title\": {\"x\": 0.05}, \"xaxis\": {\"automargin\": true, \"gridcolor\": \"white\", \"linecolor\": \"white\", \"ticks\": \"\", \"title\": {\"standoff\": 15}, \"zerolinecolor\": \"white\", \"zerolinewidth\": 2}, \"yaxis\": {\"automargin\": true, \"gridcolor\": \"white\", \"linecolor\": \"white\", \"ticks\": \"\", \"title\": {\"standoff\": 15}, \"zerolinecolor\": \"white\", \"zerolinewidth\": 2}}}, \"title\": {\"text\": \"AUT -> RESP (n=441)\"}, \"width\": 1000, \"xaxis\": {\"title\": {\"text\": \"AUT\"}}, \"yaxis\": {\"title\": {\"text\": \"RESP\"}}},\n",
              "                        {\"responsive\": true}\n",
              "                    ).then(function(){\n",
              "                            \n",
              "var gd = document.getElementById('967e85d4-86fc-474e-8bcd-9c283d709950');\n",
              "var x = new MutationObserver(function (mutations, observer) {{\n",
              "        var display = window.getComputedStyle(gd).display;\n",
              "        if (!display || display === 'none') {{\n",
              "            console.log([gd, 'removed!']);\n",
              "            Plotly.purge(gd);\n",
              "            observer.disconnect();\n",
              "        }}\n",
              "}});\n",
              "\n",
              "// Listen for the removal of the full notebook cells\n",
              "var notebookContainer = gd.closest('#notebook-container');\n",
              "if (notebookContainer) {{\n",
              "    x.observe(notebookContainer, {childList: true});\n",
              "}}\n",
              "\n",
              "// Listen for the clearing of the current output cell\n",
              "var outputEl = gd.closest('.output');\n",
              "if (outputEl) {{\n",
              "    x.observe(outputEl, {childList: true});\n",
              "}}\n",
              "\n",
              "                        })\n",
              "                };\n",
              "                \n",
              "            </script>\n",
              "        </div>\n",
              "</body>\n",
              "</html>"
            ]
          },
          "metadata": {
            "tags": []
          }
        }
      ]
    },
    {
      "cell_type": "code",
      "metadata": {
        "colab": {
          "base_uri": "https://localhost:8080/"
        },
        "id": "yR5zyzJRfk7g",
        "outputId": "233ab064-e528-4dbe-af65-e53b6e3ec3c3"
      },
      "source": [
        "MakeRegressions(aut, resp)"
      ],
      "execution_count": null,
      "outputs": [
        {
          "output_type": "stream",
          "text": [
            "Regresja liniowa R2 =  0.2782261717337634\n",
            "Regresja kwadratowa R2 =  0.2784763946800315\n",
            "Regresja stopnia 3 R2 =  0.2854659631230607\n",
            "Regresja stopnia 4 R2 =  0.28747734366753863\n"
          ],
          "name": "stdout"
        }
      ]
    },
    {
      "cell_type": "markdown",
      "metadata": {
        "id": "hnWoSj80n-Qt"
      },
      "source": [
        "###SCC"
      ]
    },
    {
      "cell_type": "code",
      "metadata": {
        "colab": {
          "base_uri": "https://localhost:8080/",
          "height": 717
        },
        "id": "MTVpQFQMn_Ue",
        "outputId": "4ff9d142-a916-42a8-d580-37e75b0c4cc0"
      },
      "source": [
        "MakeScatterPlot(df_subscales['SCC'], df_subscales['RESP'], f'SCC -> RESP (n={len(df_subscales)})', 'SCC','RESP')"
      ],
      "execution_count": null,
      "outputs": [
        {
          "output_type": "display_data",
          "data": {
            "text/html": [
              "<html>\n",
              "<head><meta charset=\"utf-8\" /></head>\n",
              "<body>\n",
              "    <div>\n",
              "            <script src=\"https://cdnjs.cloudflare.com/ajax/libs/mathjax/2.7.5/MathJax.js?config=TeX-AMS-MML_SVG\"></script><script type=\"text/javascript\">if (window.MathJax) {MathJax.Hub.Config({SVG: {font: \"STIX-Web\"}});}</script>\n",
              "                <script type=\"text/javascript\">window.PlotlyConfig = {MathJaxConfig: 'local'};</script>\n",
              "        <script src=\"https://cdn.plot.ly/plotly-latest.min.js\"></script>    \n",
              "            <div id=\"fa17a9d2-8bf3-483b-8a2d-1951af8b1ce4\" class=\"plotly-graph-div\" style=\"height:700px; width:1000px;\"></div>\n",
              "            <script type=\"text/javascript\">\n",
              "                \n",
              "                    window.PLOTLYENV=window.PLOTLYENV || {};\n",
              "                    \n",
              "                if (document.getElementById(\"fa17a9d2-8bf3-483b-8a2d-1951af8b1ce4\")) {\n",
              "                    Plotly.newPlot(\n",
              "                        'fa17a9d2-8bf3-483b-8a2d-1951af8b1ce4',\n",
              "                        [{\"mode\": \"markers\", \"type\": \"scatter\", \"x\": [42, 46, 30, 45, 36, 52, 49, 36, 60, 33, 43, 36, 28, 55, 36, 46, 20, 42, 36, 42, 35, 27, 20, 36, 36, 29, 43, 27, 36, 52, 34, 51, 43, 43, 28, 46, 31, 30, 42, 26, 58, 53, 42, 48, 33, 27, 31, 44, 37, 36, 36, 32, 44, 36, 37, 59, 36, 46, 38, 38, 36, 36, 30, 51, 46, 36, 47, 48, 56, 49, 43, 29, 34, 30, 28, 31, 46, 30, 20, 46, 36, 42, 46, 54, 32, 43, 35, 32, 32, 34, 49, 33, 36, 48, 31, 42, 46, 35, 40, 31, 34, 21, 28, 36, 34, 34, 41, 32, 48, 36, 32, 30, 39, 36, 36, 48, 48, 39, 40, 30, 47, 30, 36, 35, 40, 28, 32, 55, 28, 54, 45, 41, 45, 20, 39, 36, 34, 38, 47, 39, 53, 32, 48, 46, 36, 44, 30, 25, 36, 34, 44, 35, 30, 32, 31, 41, 28, 33, 54, 38, 36, 44, 30, 27, 39, 38, 34, 36, 38, 32, 36, 28, 30, 54, 43, 43, 29, 47, 34, 30, 41, 59, 34, 42, 52, 44, 36, 53, 49, 47, 39, 36, 35, 38, 45, 29, 26, 41, 39, 43, 30, 36, 32, 30, 34, 29, 36, 32, 57, 48, 36, 36, 48, 37, 34, 31, 37, 32, 31, 28, 37, 47, 36, 26, 37, 39, 40, 39, 35, 34, 32, 31, 44, 34, 33, 30, 43, 25, 43, 36, 29, 54, 45, 47, 31, 44, 50, 37, 30, 38, 37, 45, 36, 23, 40, 44, 27, 43, 41, 42, 34, 43, 29, 22, 33, 32, 36, 35, 38, 40, 47, 37, 57, 49, 45, 36, 32, 33, 35, 60, 37, 46, 39, 46, 44, 38, 29, 41, 31, 39, 36, 35, 48, 50, 43, 47, 34, 42, 52, 39, 50, 46, 26, 36, 47, 44, 29, 40, 38, 32, 38, 21, 50, 40, 39, 54, 41, 30, 33, 37, 47, 29, 35, 47, 31, 42, 57, 43, 47, 38, 30, 36, 36, 29, 33, 24, 31, 26, 36, 38, 45, 48, 43, 28, 43, 36, 32, 38, 35, 44, 50, 31, 37, 43, 40, 49, 36, 36, 41, 34, 34, 34, 34, 41, 43, 36, 34, 43, 28, 44, 33, 40, 43, 40, 42, 38, 56, 44, 36, 35, 38, 34, 56, 21, 40, 36, 46, 32, 55, 28, 35, 36, 40, 32, 44, 58, 48, 33, 38, 35, 35, 45, 40, 45, 29, 31, 46, 44, 48, 36, 56, 31, 28, 36, 48, 45, 50, 35, 44, 40, 31, 30, 31, 30, 40, 32, 40, 36, 30, 35, 28, 38, 60, 34, 30, 48, 46, 41, 21, 40, 40], \"y\": [4.0, 4.16666666666667, 3.5, 5.0, 2.83333333333333, 5.0, 4.0, 3.0, 4.33333333333333, 3.5, 3.33333333333333, 3.0, 3.66666666666667, 4.83333333333333, 3.0, 4.83333333333333, 4.0, 4.83333333333333, 4.0, 3.83333333333333, 3.5, 3.5, 3.83333333333333, 3.5, 3.66666666666667, 4.83333333333333, 3.0, 4.83333333333333, 3.0, 4.5, 3.16666666666667, 4.0, 3.33333333333333, 4.66666666666667, 4.0, 4.66666666666667, 3.83333333333333, 4.66666666666667, 5.0, 2.83333333333333, 4.66666666666667, 3.5, 4.33333333333333, 3.16666666666667, 4.0, 4.5, 4.16666666666667, 3.33333333333333, 3.33333333333333, 3.16666666666667, 3.0, 2.83333333333333, 2.33333333333333, 3.33333333333333, 3.33333333333333, 4.83333333333333, 3.0, 4.0, 3.83333333333333, 4.33333333333333, 3.0, 3.0, 4.33333333333333, 4.16666666666667, 3.83333333333333, 3.0, 4.66666666666667, 4.66666666666667, 4.83333333333333, 4.83333333333333, 2.83333333333333, 3.83333333333333, 3.5, 3.66666666666667, 3.83333333333333, 3.66666666666667, 3.66666666666667, 4.16666666666667, 4.16666666666667, 4.0, 3.0, 4.0, 4.16666666666667, 4.16666666666667, 4.0, 4.5, 2.5, 4.33333333333333, 3.5, 4.0, 4.16666666666667, 3.83333333333333, 4.5, 4.0, 3.83333333333333, 4.16666666666667, 4.0, 3.66666666666667, 3.16666666666667, 4.33333333333333, 4.0, 5.0, 4.0, 3.0, 3.5, 3.66666666666667, 4.5, 2.83333333333333, 3.83333333333333, 3.0, 3.5, 4.0, 3.16666666666667, 3.0, 3.0, 4.83333333333333, 3.83333333333333, 3.0, 3.5, 4.0, 3.83333333333333, 3.66666666666667, 3.0, 3.0, 3.5, 3.5, 4.0, 4.5, 4.16666666666667, 4.33333333333333, 3.5, 4.0, 4.66666666666667, 4.33333333333333, 3.0, 2.83333333333333, 3.83333333333333, 3.0, 4.16666666666667, 5.0, 4.33333333333333, 3.5, 4.0, 5.0, 3.0, 4.5, 3.66666666666667, 4.16666666666667, 3.0, 3.33333333333333, 4.66666666666667, 3.16666666666667, 4.0, 4.33333333333333, 4.16666666666667, 4.66666666666667, 4.0, 2.83333333333333, 4.33333333333333, 3.16666666666667, 3.0, 4.0, 4.83333333333333, 4.0, 4.33333333333333, 4.0, 3.83333333333333, 3.0, 4.16666666666667, 3.83333333333333, 4.0, 4.5, 4.33333333333333, 5.0, 4.33333333333333, 3.16666666666667, 4.0, 3.5, 4.33333333333333, 4.0, 4.0, 5.0, 4.0, 4.66666666666667, 2.83333333333333, 5.0, 4.0, 4.66666666666667, 2.33333333333333, 4.66666666666667, 4.16666666666667, 3.33333333333333, 3.0, 3.83333333333333, 3.5, 4.0, 4.5, 4.5, 4.33333333333333, 3.5, 3.83333333333333, 3.0, 5.0, 4.16666666666667, 5.0, 4.66666666666667, 4.0, 3.0, 4.83333333333333, 4.0, 3.0, 3.16666666666667, 3.33333333333333, 3.83333333333333, 3.5, 3.5, 3.16666666666667, 4.0, 4.5, 4.0, 4.66666666666667, 4.0, 3.0, 3.5, 2.5, 3.33333333333333, 4.0, 4.16666666666667, 4.0, 4.5, 4.16666666666667, 4.33333333333333, 4.66666666666667, 3.33333333333333, 3.0, 3.66666666666667, 3.5, 4.0, 4.5, 3.0, 4.66666666666667, 4.5, 4.0, 4.0, 4.0, 5.0, 5.0, 3.5, 3.16666666666667, 3.33333333333333, 3.33333333333333, 3.83333333333333, 3.16666666666667, 4.66666666666667, 4.66666666666667, 4.16666666666667, 4.0, 4.0, 4.5, 3.66666666666667, 3.33333333333333, 4.33333333333333, 4.0, 3.66666666666667, 4.0, 4.16666666666667, 3.0, 3.33333333333333, 3.16666666666667, 3.33333333333333, 4.0, 3.5, 4.66666666666667, 3.5, 3.83333333333333, 3.0, 3.33333333333333, 3.83333333333333, 4.66666666666667, 3.0, 4.0, 4.0, 4.0, 4.16666666666667, 4.33333333333333, 4.0, 3.83333333333333, 4.83333333333333, 3.83333333333333, 4.5, 3.33333333333333, 3.0, 3.83333333333333, 4.16666666666667, 4.16666666666667, 4.83333333333333, 3.83333333333333, 3.83333333333333, 3.83333333333333, 3.66666666666667, 3.5, 4.0, 4.33333333333333, 4.66666666666667, 5.0, 3.5, 4.0, 3.16666666666667, 3.0, 4.0, 4.83333333333333, 4.5, 4.33333333333333, 2.66666666666667, 4.16666666666667, 4.5, 3.66666666666667, 4.5, 3.66666666666667, 3.83333333333333, 3.33333333333333, 4.16666666666667, 4.5, 4.66666666666667, 4.16666666666667, 4.33333333333333, 4.5, 4.16666666666667, 4.0, 3.66666666666667, 4.0, 2.66666666666667, 3.83333333333333, 3.66666666666667, 4.33333333333333, 4.16666666666667, 3.33333333333333, 3.83333333333333, 3.5, 4.0, 4.5, 4.5, 4.5, 4.33333333333333, 3.66666666666667, 3.33333333333333, 3.0, 4.66666666666667, 3.66666666666667, 3.16666666666667, 4.16666666666667, 4.0, 3.0, 4.0, 4.66666666666667, 4.33333333333333, 3.0, 3.66666666666667, 5.0, 3.83333333333333, 4.0, 3.5, 2.83333333333333, 4.5, 3.0, 4.5, 3.0, 3.66666666666667, 4.16666666666667, 4.83333333333333, 3.66666666666667, 4.66666666666667, 4.33333333333333, 4.66666666666667, 4.83333333333333, 3.0, 4.83333333333333, 4.5, 2.66666666666667, 4.16666666666667, 3.66666666666667, 3.33333333333333, 5.0, 4.33333333333333, 4.0, 3.5, 4.5, 4.0, 4.5, 3.16666666666667, 3.83333333333333, 3.0, 3.33333333333333, 4.0, 3.66666666666667, 3.83333333333333, 4.0, 3.16666666666667, 4.0, 3.66666666666667, 4.16666666666667, 4.33333333333333, 4.5, 4.33333333333333, 4.5, 4.83333333333333, 4.0, 4.5, 3.83333333333333, 3.0, 3.66666666666667, 3.83333333333333, 3.0, 3.33333333333333, 3.83333333333333, 4.0, 4.33333333333333, 3.5, 4.33333333333333, 3.16666666666667, 4.33333333333333, 3.83333333333333, 3.66666666666667, 2.83333333333333, 3.0, 4.5, 5.0, 3.33333333333333, 4.0, 4.16666666666667, 4.5, 4.33333333333333, 4.66666666666667, 3.16666666666667, 3.83333333333333, 4.16666666666667, 2.33333333333333, 3.66666666666667, 3.5, 3.0, 2.66666666666667]}],\n",
              "                        {\"height\": 700, \"template\": {\"data\": {\"bar\": [{\"error_x\": {\"color\": \"#2a3f5f\"}, \"error_y\": {\"color\": \"#2a3f5f\"}, \"marker\": {\"line\": {\"color\": \"#E5ECF6\", \"width\": 0.5}}, \"type\": \"bar\"}], \"barpolar\": [{\"marker\": {\"line\": {\"color\": \"#E5ECF6\", \"width\": 0.5}}, \"type\": \"barpolar\"}], \"carpet\": [{\"aaxis\": {\"endlinecolor\": \"#2a3f5f\", \"gridcolor\": \"white\", \"linecolor\": \"white\", \"minorgridcolor\": \"white\", \"startlinecolor\": \"#2a3f5f\"}, \"baxis\": {\"endlinecolor\": \"#2a3f5f\", \"gridcolor\": \"white\", \"linecolor\": \"white\", \"minorgridcolor\": \"white\", \"startlinecolor\": \"#2a3f5f\"}, \"type\": \"carpet\"}], \"choropleth\": [{\"colorbar\": {\"outlinewidth\": 0, \"ticks\": \"\"}, \"type\": \"choropleth\"}], \"contour\": [{\"colorbar\": {\"outlinewidth\": 0, \"ticks\": \"\"}, \"colorscale\": [[0.0, \"#0d0887\"], [0.1111111111111111, \"#46039f\"], [0.2222222222222222, \"#7201a8\"], [0.3333333333333333, \"#9c179e\"], [0.4444444444444444, \"#bd3786\"], [0.5555555555555556, \"#d8576b\"], [0.6666666666666666, \"#ed7953\"], [0.7777777777777778, \"#fb9f3a\"], [0.8888888888888888, \"#fdca26\"], [1.0, \"#f0f921\"]], \"type\": \"contour\"}], \"contourcarpet\": [{\"colorbar\": {\"outlinewidth\": 0, \"ticks\": \"\"}, \"type\": \"contourcarpet\"}], \"heatmap\": [{\"colorbar\": {\"outlinewidth\": 0, \"ticks\": \"\"}, \"colorscale\": [[0.0, \"#0d0887\"], [0.1111111111111111, \"#46039f\"], [0.2222222222222222, \"#7201a8\"], [0.3333333333333333, \"#9c179e\"], [0.4444444444444444, \"#bd3786\"], [0.5555555555555556, \"#d8576b\"], [0.6666666666666666, \"#ed7953\"], [0.7777777777777778, \"#fb9f3a\"], [0.8888888888888888, \"#fdca26\"], [1.0, \"#f0f921\"]], \"type\": \"heatmap\"}], \"heatmapgl\": [{\"colorbar\": {\"outlinewidth\": 0, \"ticks\": \"\"}, \"colorscale\": [[0.0, \"#0d0887\"], [0.1111111111111111, \"#46039f\"], [0.2222222222222222, \"#7201a8\"], [0.3333333333333333, \"#9c179e\"], [0.4444444444444444, \"#bd3786\"], [0.5555555555555556, \"#d8576b\"], [0.6666666666666666, \"#ed7953\"], [0.7777777777777778, \"#fb9f3a\"], [0.8888888888888888, \"#fdca26\"], [1.0, \"#f0f921\"]], \"type\": \"heatmapgl\"}], \"histogram\": [{\"marker\": {\"colorbar\": {\"outlinewidth\": 0, \"ticks\": \"\"}}, \"type\": \"histogram\"}], \"histogram2d\": [{\"colorbar\": {\"outlinewidth\": 0, \"ticks\": \"\"}, \"colorscale\": [[0.0, \"#0d0887\"], [0.1111111111111111, \"#46039f\"], [0.2222222222222222, \"#7201a8\"], [0.3333333333333333, \"#9c179e\"], [0.4444444444444444, \"#bd3786\"], [0.5555555555555556, \"#d8576b\"], [0.6666666666666666, \"#ed7953\"], [0.7777777777777778, \"#fb9f3a\"], [0.8888888888888888, \"#fdca26\"], [1.0, \"#f0f921\"]], \"type\": \"histogram2d\"}], \"histogram2dcontour\": [{\"colorbar\": {\"outlinewidth\": 0, \"ticks\": \"\"}, \"colorscale\": [[0.0, \"#0d0887\"], [0.1111111111111111, \"#46039f\"], [0.2222222222222222, \"#7201a8\"], [0.3333333333333333, \"#9c179e\"], [0.4444444444444444, \"#bd3786\"], [0.5555555555555556, \"#d8576b\"], [0.6666666666666666, \"#ed7953\"], [0.7777777777777778, \"#fb9f3a\"], [0.8888888888888888, \"#fdca26\"], [1.0, \"#f0f921\"]], \"type\": \"histogram2dcontour\"}], \"mesh3d\": [{\"colorbar\": {\"outlinewidth\": 0, \"ticks\": \"\"}, \"type\": \"mesh3d\"}], \"parcoords\": [{\"line\": {\"colorbar\": {\"outlinewidth\": 0, \"ticks\": \"\"}}, \"type\": \"parcoords\"}], \"pie\": [{\"automargin\": true, \"type\": \"pie\"}], \"scatter\": [{\"marker\": {\"colorbar\": {\"outlinewidth\": 0, \"ticks\": \"\"}}, \"type\": \"scatter\"}], \"scatter3d\": [{\"line\": {\"colorbar\": {\"outlinewidth\": 0, \"ticks\": \"\"}}, \"marker\": {\"colorbar\": {\"outlinewidth\": 0, \"ticks\": \"\"}}, \"type\": \"scatter3d\"}], \"scattercarpet\": [{\"marker\": {\"colorbar\": {\"outlinewidth\": 0, \"ticks\": \"\"}}, \"type\": \"scattercarpet\"}], \"scattergeo\": [{\"marker\": {\"colorbar\": {\"outlinewidth\": 0, \"ticks\": \"\"}}, \"type\": \"scattergeo\"}], \"scattergl\": [{\"marker\": {\"colorbar\": {\"outlinewidth\": 0, \"ticks\": \"\"}}, \"type\": \"scattergl\"}], \"scattermapbox\": [{\"marker\": {\"colorbar\": {\"outlinewidth\": 0, \"ticks\": \"\"}}, \"type\": \"scattermapbox\"}], \"scatterpolar\": [{\"marker\": {\"colorbar\": {\"outlinewidth\": 0, \"ticks\": \"\"}}, \"type\": \"scatterpolar\"}], \"scatterpolargl\": [{\"marker\": {\"colorbar\": {\"outlinewidth\": 0, \"ticks\": \"\"}}, \"type\": \"scatterpolargl\"}], \"scatterternary\": [{\"marker\": {\"colorbar\": {\"outlinewidth\": 0, \"ticks\": \"\"}}, \"type\": \"scatterternary\"}], \"surface\": [{\"colorbar\": {\"outlinewidth\": 0, \"ticks\": \"\"}, \"colorscale\": [[0.0, \"#0d0887\"], [0.1111111111111111, \"#46039f\"], [0.2222222222222222, \"#7201a8\"], [0.3333333333333333, \"#9c179e\"], [0.4444444444444444, \"#bd3786\"], [0.5555555555555556, \"#d8576b\"], [0.6666666666666666, \"#ed7953\"], [0.7777777777777778, \"#fb9f3a\"], [0.8888888888888888, \"#fdca26\"], [1.0, \"#f0f921\"]], \"type\": \"surface\"}], \"table\": [{\"cells\": {\"fill\": {\"color\": \"#EBF0F8\"}, \"line\": {\"color\": \"white\"}}, \"header\": {\"fill\": {\"color\": \"#C8D4E3\"}, \"line\": {\"color\": \"white\"}}, \"type\": \"table\"}]}, \"layout\": {\"annotationdefaults\": {\"arrowcolor\": \"#2a3f5f\", \"arrowhead\": 0, \"arrowwidth\": 1}, \"coloraxis\": {\"colorbar\": {\"outlinewidth\": 0, \"ticks\": \"\"}}, \"colorscale\": {\"diverging\": [[0, \"#8e0152\"], [0.1, \"#c51b7d\"], [0.2, \"#de77ae\"], [0.3, \"#f1b6da\"], [0.4, \"#fde0ef\"], [0.5, \"#f7f7f7\"], [0.6, \"#e6f5d0\"], [0.7, \"#b8e186\"], [0.8, \"#7fbc41\"], [0.9, \"#4d9221\"], [1, \"#276419\"]], \"sequential\": [[0.0, \"#0d0887\"], [0.1111111111111111, \"#46039f\"], [0.2222222222222222, \"#7201a8\"], [0.3333333333333333, \"#9c179e\"], [0.4444444444444444, \"#bd3786\"], [0.5555555555555556, \"#d8576b\"], [0.6666666666666666, \"#ed7953\"], [0.7777777777777778, \"#fb9f3a\"], [0.8888888888888888, \"#fdca26\"], [1.0, \"#f0f921\"]], \"sequentialminus\": [[0.0, \"#0d0887\"], [0.1111111111111111, \"#46039f\"], [0.2222222222222222, \"#7201a8\"], [0.3333333333333333, \"#9c179e\"], [0.4444444444444444, \"#bd3786\"], [0.5555555555555556, \"#d8576b\"], [0.6666666666666666, \"#ed7953\"], [0.7777777777777778, \"#fb9f3a\"], [0.8888888888888888, \"#fdca26\"], [1.0, \"#f0f921\"]]}, \"colorway\": [\"#636efa\", \"#EF553B\", \"#00cc96\", \"#ab63fa\", \"#FFA15A\", \"#19d3f3\", \"#FF6692\", \"#B6E880\", \"#FF97FF\", \"#FECB52\"], \"font\": {\"color\": \"#2a3f5f\"}, \"geo\": {\"bgcolor\": \"white\", \"lakecolor\": \"white\", \"landcolor\": \"#E5ECF6\", \"showlakes\": true, \"showland\": true, \"subunitcolor\": \"white\"}, \"hoverlabel\": {\"align\": \"left\"}, \"hovermode\": \"closest\", \"mapbox\": {\"style\": \"light\"}, \"paper_bgcolor\": \"white\", \"plot_bgcolor\": \"#E5ECF6\", \"polar\": {\"angularaxis\": {\"gridcolor\": \"white\", \"linecolor\": \"white\", \"ticks\": \"\"}, \"bgcolor\": \"#E5ECF6\", \"radialaxis\": {\"gridcolor\": \"white\", \"linecolor\": \"white\", \"ticks\": \"\"}}, \"scene\": {\"xaxis\": {\"backgroundcolor\": \"#E5ECF6\", \"gridcolor\": \"white\", \"gridwidth\": 2, \"linecolor\": \"white\", \"showbackground\": true, \"ticks\": \"\", \"zerolinecolor\": \"white\"}, \"yaxis\": {\"backgroundcolor\": \"#E5ECF6\", \"gridcolor\": \"white\", \"gridwidth\": 2, \"linecolor\": \"white\", \"showbackground\": true, \"ticks\": \"\", \"zerolinecolor\": \"white\"}, \"zaxis\": {\"backgroundcolor\": \"#E5ECF6\", \"gridcolor\": \"white\", \"gridwidth\": 2, \"linecolor\": \"white\", \"showbackground\": true, \"ticks\": \"\", \"zerolinecolor\": \"white\"}}, \"shapedefaults\": {\"line\": {\"color\": \"#2a3f5f\"}}, \"ternary\": {\"aaxis\": {\"gridcolor\": \"white\", \"linecolor\": \"white\", \"ticks\": \"\"}, \"baxis\": {\"gridcolor\": \"white\", \"linecolor\": \"white\", \"ticks\": \"\"}, \"bgcolor\": \"#E5ECF6\", \"caxis\": {\"gridcolor\": \"white\", \"linecolor\": \"white\", \"ticks\": \"\"}}, \"title\": {\"x\": 0.05}, \"xaxis\": {\"automargin\": true, \"gridcolor\": \"white\", \"linecolor\": \"white\", \"ticks\": \"\", \"title\": {\"standoff\": 15}, \"zerolinecolor\": \"white\", \"zerolinewidth\": 2}, \"yaxis\": {\"automargin\": true, \"gridcolor\": \"white\", \"linecolor\": \"white\", \"ticks\": \"\", \"title\": {\"standoff\": 15}, \"zerolinecolor\": \"white\", \"zerolinewidth\": 2}}}, \"title\": {\"text\": \"SCC -> RESP (n=441)\"}, \"width\": 1000, \"xaxis\": {\"title\": {\"text\": \"SCC\"}}, \"yaxis\": {\"title\": {\"text\": \"RESP\"}}},\n",
              "                        {\"responsive\": true}\n",
              "                    ).then(function(){\n",
              "                            \n",
              "var gd = document.getElementById('fa17a9d2-8bf3-483b-8a2d-1951af8b1ce4');\n",
              "var x = new MutationObserver(function (mutations, observer) {{\n",
              "        var display = window.getComputedStyle(gd).display;\n",
              "        if (!display || display === 'none') {{\n",
              "            console.log([gd, 'removed!']);\n",
              "            Plotly.purge(gd);\n",
              "            observer.disconnect();\n",
              "        }}\n",
              "}});\n",
              "\n",
              "// Listen for the removal of the full notebook cells\n",
              "var notebookContainer = gd.closest('#notebook-container');\n",
              "if (notebookContainer) {{\n",
              "    x.observe(notebookContainer, {childList: true});\n",
              "}}\n",
              "\n",
              "// Listen for the clearing of the current output cell\n",
              "var outputEl = gd.closest('.output');\n",
              "if (outputEl) {{\n",
              "    x.observe(outputEl, {childList: true});\n",
              "}}\n",
              "\n",
              "                        })\n",
              "                };\n",
              "                \n",
              "            </script>\n",
              "        </div>\n",
              "</body>\n",
              "</html>"
            ]
          },
          "metadata": {
            "tags": []
          }
        }
      ]
    },
    {
      "cell_type": "code",
      "metadata": {
        "colab": {
          "base_uri": "https://localhost:8080/"
        },
        "id": "1xTyS56vonyp",
        "outputId": "cd015d80-aea9-42a7-ccb6-483688394a9e"
      },
      "source": [
        "MakeRegressions(scc, resp)"
      ],
      "execution_count": null,
      "outputs": [
        {
          "output_type": "stream",
          "text": [
            "Regresja liniowa R2 =  0.043032496726247205\n",
            "Regresja kwadratowa R2 =  0.11495011514012998\n",
            "Regresja stopnia 3 R2 =  0.13252950426429078\n",
            "Regresja stopnia 4 R2 =  0.14892609862984152\n"
          ],
          "name": "stdout"
        }
      ]
    },
    {
      "cell_type": "code",
      "metadata": {
        "colab": {
          "base_uri": "https://localhost:8080/"
        },
        "id": "bWX4u2_Po0Dm",
        "outputId": "86d9782d-77df-4fcc-f1d8-a59b3d8e21ae"
      },
      "source": [
        "df_2 = df_subscales[['RESP','SCC']]\n",
        "df_2['SCC^2'] = pow(df_2['SCC'],2)\n",
        "df_2['SCC^3'] = pow(df_2['SCC'],3)\n",
        "df_2['SCC^4'] = pow(df_2['SCC'],3)\n",
        "\n",
        "X = df_2[['SCC']]\n",
        "X = sm.add_constant(X)\n",
        "y = df_2['RESP']\n",
        "\n",
        "model = sm.OLS(y, X).fit()\n",
        "predictions = model.predict(X)\n",
        "\n",
        "print(model.summary())"
      ],
      "execution_count": null,
      "outputs": [
        {
          "output_type": "stream",
          "text": [
            "                            OLS Regression Results                            \n",
            "==============================================================================\n",
            "Dep. Variable:                   RESP   R-squared:                       0.043\n",
            "Model:                            OLS   Adj. R-squared:                  0.041\n",
            "Method:                 Least Squares   F-statistic:                     19.74\n",
            "Date:                Sat, 27 Mar 2021   Prob (F-statistic):           1.12e-05\n",
            "Time:                        12:23:36   Log-Likelihood:                -399.80\n",
            "No. Observations:                 441   AIC:                             803.6\n",
            "Df Residuals:                     439   BIC:                             811.8\n",
            "Df Model:                           1                                         \n",
            "Covariance Type:            nonrobust                                         \n",
            "==============================================================================\n",
            "                 coef    std err          t      P>|t|      [0.025      0.975]\n",
            "------------------------------------------------------------------------------\n",
            "const          3.2713      0.140     23.339      0.000       2.996       3.547\n",
            "SCC            0.0159      0.004      4.443      0.000       0.009       0.023\n",
            "==============================================================================\n",
            "Omnibus:                       18.036   Durbin-Watson:                   1.907\n",
            "Prob(Omnibus):                  0.000   Jarque-Bera (JB):               10.802\n",
            "Skew:                          -0.226   Prob(JB):                      0.00451\n",
            "Kurtosis:                       2.381   Cond. No.                         192.\n",
            "==============================================================================\n",
            "\n",
            "Warnings:\n",
            "[1] Standard Errors assume that the covariance matrix of the errors is correctly specified.\n"
          ],
          "name": "stdout"
        },
        {
          "output_type": "stream",
          "text": [
            "/usr/local/lib/python3.7/dist-packages/ipykernel_launcher.py:2: SettingWithCopyWarning:\n",
            "\n",
            "\n",
            "A value is trying to be set on a copy of a slice from a DataFrame.\n",
            "Try using .loc[row_indexer,col_indexer] = value instead\n",
            "\n",
            "See the caveats in the documentation: https://pandas.pydata.org/pandas-docs/stable/user_guide/indexing.html#returning-a-view-versus-a-copy\n",
            "\n",
            "/usr/local/lib/python3.7/dist-packages/ipykernel_launcher.py:3: SettingWithCopyWarning:\n",
            "\n",
            "\n",
            "A value is trying to be set on a copy of a slice from a DataFrame.\n",
            "Try using .loc[row_indexer,col_indexer] = value instead\n",
            "\n",
            "See the caveats in the documentation: https://pandas.pydata.org/pandas-docs/stable/user_guide/indexing.html#returning-a-view-versus-a-copy\n",
            "\n",
            "/usr/local/lib/python3.7/dist-packages/ipykernel_launcher.py:4: SettingWithCopyWarning:\n",
            "\n",
            "\n",
            "A value is trying to be set on a copy of a slice from a DataFrame.\n",
            "Try using .loc[row_indexer,col_indexer] = value instead\n",
            "\n",
            "See the caveats in the documentation: https://pandas.pydata.org/pandas-docs/stable/user_guide/indexing.html#returning-a-view-versus-a-copy\n",
            "\n"
          ],
          "name": "stderr"
        }
      ]
    },
    {
      "cell_type": "code",
      "metadata": {
        "colab": {
          "base_uri": "https://localhost:8080/"
        },
        "id": "eMsRV6CIpGZW",
        "outputId": "7e3161de-5d09-4cd3-b7c6-7ad2e12b7d30"
      },
      "source": [
        "X = df_2[['SCC','SCC^2']]\n",
        "X = sm.add_constant(X)\n",
        "y = df_2['RESP']\n",
        "\n",
        "model = sm.OLS(y, X).fit()\n",
        "predictions = model.predict(X)\n",
        "\n",
        "print(model.summary())"
      ],
      "execution_count": null,
      "outputs": [
        {
          "output_type": "stream",
          "text": [
            "                            OLS Regression Results                            \n",
            "==============================================================================\n",
            "Dep. Variable:                   RESP   R-squared:                       0.115\n",
            "Model:                            OLS   Adj. R-squared:                  0.111\n",
            "Method:                 Least Squares   F-statistic:                     28.44\n",
            "Date:                Sat, 27 Mar 2021   Prob (F-statistic):           2.43e-12\n",
            "Time:                        12:31:23   Log-Likelihood:                -382.57\n",
            "No. Observations:                 441   AIC:                             771.1\n",
            "Df Residuals:                     438   BIC:                             783.4\n",
            "Df Model:                           2                                         \n",
            "Covariance Type:            nonrobust                                         \n",
            "==============================================================================\n",
            "                 coef    std err          t      P>|t|      [0.025      0.975]\n",
            "------------------------------------------------------------------------------\n",
            "const          6.2314      0.514     12.119      0.000       5.221       7.242\n",
            "SCC           -0.1391      0.026     -5.308      0.000      -0.191      -0.088\n",
            "SCC^2          0.0019      0.000      5.966      0.000       0.001       0.003\n",
            "==============================================================================\n",
            "Omnibus:                        4.057   Durbin-Watson:                   1.926\n",
            "Prob(Omnibus):                  0.132   Jarque-Bera (JB):                3.762\n",
            "Skew:                          -0.167   Prob(JB):                        0.152\n",
            "Kurtosis:                       2.695   Cond. No.                     3.12e+04\n",
            "==============================================================================\n",
            "\n",
            "Warnings:\n",
            "[1] Standard Errors assume that the covariance matrix of the errors is correctly specified.\n",
            "[2] The condition number is large, 3.12e+04. This might indicate that there are\n",
            "strong multicollinearity or other numerical problems.\n"
          ],
          "name": "stdout"
        }
      ]
    },
    {
      "cell_type": "markdown",
      "metadata": {
        "id": "-2RcU3AkorqH"
      },
      "source": [
        "###Visualization"
      ]
    },
    {
      "cell_type": "code",
      "metadata": {
        "id": "eyBSIfimqH6Y"
      },
      "source": [
        "# linear\n",
        "regressor = LinearRegression()\n",
        "regressor.fit(scc, resp)\n",
        "y_pred_lin = regressor.predict(scc)\n",
        "resp_pred_lin = pd.DataFrame(y_pred_lin)\n",
        "\n",
        "# 3' degree\n",
        "poly = PolynomialFeatures(degree=3)\n",
        "scc_3 = poly.fit_transform(scc)\n",
        "\n",
        "regressor.fit(scc_3,resp)\n",
        "y_pred_3 = regressor.predict(scc_3)\n",
        "degree_3_r2 = r2_score(resp, y_pred_3)\n",
        "\n",
        "# visualization data\n",
        "temp_df_3 = pd.DataFrame(scc, columns=['scc'])\n",
        "temp_df_3.sort_values(by='scc', inplace=True)\n",
        "temp_df = pd.DataFrame(y_pred_3)\n",
        "temp_df_3['resp_pred'] = temp_df"
      ],
      "execution_count": null,
      "outputs": []
    },
    {
      "cell_type": "code",
      "metadata": {
        "colab": {
          "base_uri": "https://localhost:8080/",
          "height": 717
        },
        "id": "MsWLxDfUqYR7",
        "outputId": "7fba6321-923f-4187-9213-2e8b12bd4618"
      },
      "source": [
        "# wykres całościowy\n",
        "  \n",
        "fig = go.Figure(\n",
        "      data=[\n",
        "            go.Scatter(\n",
        "                name = 'Raw results',\n",
        "                x = df_subscales['SCC'],\n",
        "                y = df_subscales['RESP'],\n",
        "                mode = 'markers',\n",
        "                opacity=0.75\n",
        "            ),\n",
        "            go.Scatter(\n",
        "                name = f'Linear regression, adj. R2=.04',\n",
        "                x = df_subscales['SCC'],\n",
        "                y = resp_pred_lin[0],\n",
        "                mode = 'lines',\n",
        "                marker_color='#FF9F1C'\n",
        "            ),\n",
        "            go.Scatter(\n",
        "                name = f'3 degree regression, adj. R2=.13',\n",
        "                x = temp_df_3['scc'],\n",
        "                y = temp_df_3['resp_pred'],\n",
        "                mode = 'lines',\n",
        "                marker_color='#011627'\n",
        "            ),\n",
        "            ],\n",
        "      layout=go.Layout(\n",
        "          title = f'SCC * RESP (N={len(df_subscales)})',\n",
        "          xaxis_title = 'SCC',\n",
        "          yaxis_title='RESP',\n",
        "          width = 1100,\n",
        "          height = 700,\n",
        "          font_size=16\n",
        "      ))\n",
        "fig.show()"
      ],
      "execution_count": null,
      "outputs": [
        {
          "output_type": "display_data",
          "data": {
            "text/html": [
              "<html>\n",
              "<head><meta charset=\"utf-8\" /></head>\n",
              "<body>\n",
              "    <div>\n",
              "            <script src=\"https://cdnjs.cloudflare.com/ajax/libs/mathjax/2.7.5/MathJax.js?config=TeX-AMS-MML_SVG\"></script><script type=\"text/javascript\">if (window.MathJax) {MathJax.Hub.Config({SVG: {font: \"STIX-Web\"}});}</script>\n",
              "                <script type=\"text/javascript\">window.PlotlyConfig = {MathJaxConfig: 'local'};</script>\n",
              "        <script src=\"https://cdn.plot.ly/plotly-latest.min.js\"></script>    \n",
              "            <div id=\"fae79c99-ffb7-4883-8863-98dcb5088357\" class=\"plotly-graph-div\" style=\"height:700px; width:1100px;\"></div>\n",
              "            <script type=\"text/javascript\">\n",
              "                \n",
              "                    window.PLOTLYENV=window.PLOTLYENV || {};\n",
              "                    \n",
              "                if (document.getElementById(\"fae79c99-ffb7-4883-8863-98dcb5088357\")) {\n",
              "                    Plotly.newPlot(\n",
              "                        'fae79c99-ffb7-4883-8863-98dcb5088357',\n",
              "                        [{\"mode\": \"markers\", \"name\": \"Raw results\", \"opacity\": 0.75, \"type\": \"scatter\", \"x\": [42, 46, 30, 45, 36, 52, 49, 36, 60, 33, 43, 36, 28, 55, 36, 46, 20, 42, 36, 42, 35, 27, 20, 36, 36, 29, 43, 27, 36, 52, 34, 51, 43, 43, 28, 46, 31, 30, 42, 26, 58, 53, 42, 48, 33, 27, 31, 44, 37, 36, 36, 32, 44, 36, 37, 59, 36, 46, 38, 38, 36, 36, 30, 51, 46, 36, 47, 48, 56, 49, 43, 29, 34, 30, 28, 31, 46, 30, 20, 46, 36, 42, 46, 54, 32, 43, 35, 32, 32, 34, 49, 33, 36, 48, 31, 42, 46, 35, 40, 31, 34, 21, 28, 36, 34, 34, 41, 32, 48, 36, 32, 30, 39, 36, 36, 48, 48, 39, 40, 30, 47, 30, 36, 35, 40, 28, 32, 55, 28, 54, 45, 41, 45, 20, 39, 36, 34, 38, 47, 39, 53, 32, 48, 46, 36, 44, 30, 25, 36, 34, 44, 35, 30, 32, 31, 41, 28, 33, 54, 38, 36, 44, 30, 27, 39, 38, 34, 36, 38, 32, 36, 28, 30, 54, 43, 43, 29, 47, 34, 30, 41, 59, 34, 42, 52, 44, 36, 53, 49, 47, 39, 36, 35, 38, 45, 29, 26, 41, 39, 43, 30, 36, 32, 30, 34, 29, 36, 32, 57, 48, 36, 36, 48, 37, 34, 31, 37, 32, 31, 28, 37, 47, 36, 26, 37, 39, 40, 39, 35, 34, 32, 31, 44, 34, 33, 30, 43, 25, 43, 36, 29, 54, 45, 47, 31, 44, 50, 37, 30, 38, 37, 45, 36, 23, 40, 44, 27, 43, 41, 42, 34, 43, 29, 22, 33, 32, 36, 35, 38, 40, 47, 37, 57, 49, 45, 36, 32, 33, 35, 60, 37, 46, 39, 46, 44, 38, 29, 41, 31, 39, 36, 35, 48, 50, 43, 47, 34, 42, 52, 39, 50, 46, 26, 36, 47, 44, 29, 40, 38, 32, 38, 21, 50, 40, 39, 54, 41, 30, 33, 37, 47, 29, 35, 47, 31, 42, 57, 43, 47, 38, 30, 36, 36, 29, 33, 24, 31, 26, 36, 38, 45, 48, 43, 28, 43, 36, 32, 38, 35, 44, 50, 31, 37, 43, 40, 49, 36, 36, 41, 34, 34, 34, 34, 41, 43, 36, 34, 43, 28, 44, 33, 40, 43, 40, 42, 38, 56, 44, 36, 35, 38, 34, 56, 21, 40, 36, 46, 32, 55, 28, 35, 36, 40, 32, 44, 58, 48, 33, 38, 35, 35, 45, 40, 45, 29, 31, 46, 44, 48, 36, 56, 31, 28, 36, 48, 45, 50, 35, 44, 40, 31, 30, 31, 30, 40, 32, 40, 36, 30, 35, 28, 38, 60, 34, 30, 48, 46, 41, 21, 40, 40], \"y\": [4.0, 4.16666666666667, 3.5, 5.0, 2.83333333333333, 5.0, 4.0, 3.0, 4.33333333333333, 3.5, 3.33333333333333, 3.0, 3.66666666666667, 4.83333333333333, 3.0, 4.83333333333333, 4.0, 4.83333333333333, 4.0, 3.83333333333333, 3.5, 3.5, 3.83333333333333, 3.5, 3.66666666666667, 4.83333333333333, 3.0, 4.83333333333333, 3.0, 4.5, 3.16666666666667, 4.0, 3.33333333333333, 4.66666666666667, 4.0, 4.66666666666667, 3.83333333333333, 4.66666666666667, 5.0, 2.83333333333333, 4.66666666666667, 3.5, 4.33333333333333, 3.16666666666667, 4.0, 4.5, 4.16666666666667, 3.33333333333333, 3.33333333333333, 3.16666666666667, 3.0, 2.83333333333333, 2.33333333333333, 3.33333333333333, 3.33333333333333, 4.83333333333333, 3.0, 4.0, 3.83333333333333, 4.33333333333333, 3.0, 3.0, 4.33333333333333, 4.16666666666667, 3.83333333333333, 3.0, 4.66666666666667, 4.66666666666667, 4.83333333333333, 4.83333333333333, 2.83333333333333, 3.83333333333333, 3.5, 3.66666666666667, 3.83333333333333, 3.66666666666667, 3.66666666666667, 4.16666666666667, 4.16666666666667, 4.0, 3.0, 4.0, 4.16666666666667, 4.16666666666667, 4.0, 4.5, 2.5, 4.33333333333333, 3.5, 4.0, 4.16666666666667, 3.83333333333333, 4.5, 4.0, 3.83333333333333, 4.16666666666667, 4.0, 3.66666666666667, 3.16666666666667, 4.33333333333333, 4.0, 5.0, 4.0, 3.0, 3.5, 3.66666666666667, 4.5, 2.83333333333333, 3.83333333333333, 3.0, 3.5, 4.0, 3.16666666666667, 3.0, 3.0, 4.83333333333333, 3.83333333333333, 3.0, 3.5, 4.0, 3.83333333333333, 3.66666666666667, 3.0, 3.0, 3.5, 3.5, 4.0, 4.5, 4.16666666666667, 4.33333333333333, 3.5, 4.0, 4.66666666666667, 4.33333333333333, 3.0, 2.83333333333333, 3.83333333333333, 3.0, 4.16666666666667, 5.0, 4.33333333333333, 3.5, 4.0, 5.0, 3.0, 4.5, 3.66666666666667, 4.16666666666667, 3.0, 3.33333333333333, 4.66666666666667, 3.16666666666667, 4.0, 4.33333333333333, 4.16666666666667, 4.66666666666667, 4.0, 2.83333333333333, 4.33333333333333, 3.16666666666667, 3.0, 4.0, 4.83333333333333, 4.0, 4.33333333333333, 4.0, 3.83333333333333, 3.0, 4.16666666666667, 3.83333333333333, 4.0, 4.5, 4.33333333333333, 5.0, 4.33333333333333, 3.16666666666667, 4.0, 3.5, 4.33333333333333, 4.0, 4.0, 5.0, 4.0, 4.66666666666667, 2.83333333333333, 5.0, 4.0, 4.66666666666667, 2.33333333333333, 4.66666666666667, 4.16666666666667, 3.33333333333333, 3.0, 3.83333333333333, 3.5, 4.0, 4.5, 4.5, 4.33333333333333, 3.5, 3.83333333333333, 3.0, 5.0, 4.16666666666667, 5.0, 4.66666666666667, 4.0, 3.0, 4.83333333333333, 4.0, 3.0, 3.16666666666667, 3.33333333333333, 3.83333333333333, 3.5, 3.5, 3.16666666666667, 4.0, 4.5, 4.0, 4.66666666666667, 4.0, 3.0, 3.5, 2.5, 3.33333333333333, 4.0, 4.16666666666667, 4.0, 4.5, 4.16666666666667, 4.33333333333333, 4.66666666666667, 3.33333333333333, 3.0, 3.66666666666667, 3.5, 4.0, 4.5, 3.0, 4.66666666666667, 4.5, 4.0, 4.0, 4.0, 5.0, 5.0, 3.5, 3.16666666666667, 3.33333333333333, 3.33333333333333, 3.83333333333333, 3.16666666666667, 4.66666666666667, 4.66666666666667, 4.16666666666667, 4.0, 4.0, 4.5, 3.66666666666667, 3.33333333333333, 4.33333333333333, 4.0, 3.66666666666667, 4.0, 4.16666666666667, 3.0, 3.33333333333333, 3.16666666666667, 3.33333333333333, 4.0, 3.5, 4.66666666666667, 3.5, 3.83333333333333, 3.0, 3.33333333333333, 3.83333333333333, 4.66666666666667, 3.0, 4.0, 4.0, 4.0, 4.16666666666667, 4.33333333333333, 4.0, 3.83333333333333, 4.83333333333333, 3.83333333333333, 4.5, 3.33333333333333, 3.0, 3.83333333333333, 4.16666666666667, 4.16666666666667, 4.83333333333333, 3.83333333333333, 3.83333333333333, 3.83333333333333, 3.66666666666667, 3.5, 4.0, 4.33333333333333, 4.66666666666667, 5.0, 3.5, 4.0, 3.16666666666667, 3.0, 4.0, 4.83333333333333, 4.5, 4.33333333333333, 2.66666666666667, 4.16666666666667, 4.5, 3.66666666666667, 4.5, 3.66666666666667, 3.83333333333333, 3.33333333333333, 4.16666666666667, 4.5, 4.66666666666667, 4.16666666666667, 4.33333333333333, 4.5, 4.16666666666667, 4.0, 3.66666666666667, 4.0, 2.66666666666667, 3.83333333333333, 3.66666666666667, 4.33333333333333, 4.16666666666667, 3.33333333333333, 3.83333333333333, 3.5, 4.0, 4.5, 4.5, 4.5, 4.33333333333333, 3.66666666666667, 3.33333333333333, 3.0, 4.66666666666667, 3.66666666666667, 3.16666666666667, 4.16666666666667, 4.0, 3.0, 4.0, 4.66666666666667, 4.33333333333333, 3.0, 3.66666666666667, 5.0, 3.83333333333333, 4.0, 3.5, 2.83333333333333, 4.5, 3.0, 4.5, 3.0, 3.66666666666667, 4.16666666666667, 4.83333333333333, 3.66666666666667, 4.66666666666667, 4.33333333333333, 4.66666666666667, 4.83333333333333, 3.0, 4.83333333333333, 4.5, 2.66666666666667, 4.16666666666667, 3.66666666666667, 3.33333333333333, 5.0, 4.33333333333333, 4.0, 3.5, 4.5, 4.0, 4.5, 3.16666666666667, 3.83333333333333, 3.0, 3.33333333333333, 4.0, 3.66666666666667, 3.83333333333333, 4.0, 3.16666666666667, 4.0, 3.66666666666667, 4.16666666666667, 4.33333333333333, 4.5, 4.33333333333333, 4.5, 4.83333333333333, 4.0, 4.5, 3.83333333333333, 3.0, 3.66666666666667, 3.83333333333333, 3.0, 3.33333333333333, 3.83333333333333, 4.0, 4.33333333333333, 3.5, 4.33333333333333, 3.16666666666667, 4.33333333333333, 3.83333333333333, 3.66666666666667, 2.83333333333333, 3.0, 4.5, 5.0, 3.33333333333333, 4.0, 4.16666666666667, 4.5, 4.33333333333333, 4.66666666666667, 3.16666666666667, 3.83333333333333, 4.16666666666667, 2.33333333333333, 3.66666666666667, 3.5, 3.0, 2.66666666666667]}, {\"marker\": {\"color\": \"#FF9F1C\"}, \"mode\": \"lines\", \"name\": \"Linear regression, adj. R2=.04\", \"type\": \"scatter\", \"x\": [42, 46, 30, 45, 36, 52, 49, 36, 60, 33, 43, 36, 28, 55, 36, 46, 20, 42, 36, 42, 35, 27, 20, 36, 36, 29, 43, 27, 36, 52, 34, 51, 43, 43, 28, 46, 31, 30, 42, 26, 58, 53, 42, 48, 33, 27, 31, 44, 37, 36, 36, 32, 44, 36, 37, 59, 36, 46, 38, 38, 36, 36, 30, 51, 46, 36, 47, 48, 56, 49, 43, 29, 34, 30, 28, 31, 46, 30, 20, 46, 36, 42, 46, 54, 32, 43, 35, 32, 32, 34, 49, 33, 36, 48, 31, 42, 46, 35, 40, 31, 34, 21, 28, 36, 34, 34, 41, 32, 48, 36, 32, 30, 39, 36, 36, 48, 48, 39, 40, 30, 47, 30, 36, 35, 40, 28, 32, 55, 28, 54, 45, 41, 45, 20, 39, 36, 34, 38, 47, 39, 53, 32, 48, 46, 36, 44, 30, 25, 36, 34, 44, 35, 30, 32, 31, 41, 28, 33, 54, 38, 36, 44, 30, 27, 39, 38, 34, 36, 38, 32, 36, 28, 30, 54, 43, 43, 29, 47, 34, 30, 41, 59, 34, 42, 52, 44, 36, 53, 49, 47, 39, 36, 35, 38, 45, 29, 26, 41, 39, 43, 30, 36, 32, 30, 34, 29, 36, 32, 57, 48, 36, 36, 48, 37, 34, 31, 37, 32, 31, 28, 37, 47, 36, 26, 37, 39, 40, 39, 35, 34, 32, 31, 44, 34, 33, 30, 43, 25, 43, 36, 29, 54, 45, 47, 31, 44, 50, 37, 30, 38, 37, 45, 36, 23, 40, 44, 27, 43, 41, 42, 34, 43, 29, 22, 33, 32, 36, 35, 38, 40, 47, 37, 57, 49, 45, 36, 32, 33, 35, 60, 37, 46, 39, 46, 44, 38, 29, 41, 31, 39, 36, 35, 48, 50, 43, 47, 34, 42, 52, 39, 50, 46, 26, 36, 47, 44, 29, 40, 38, 32, 38, 21, 50, 40, 39, 54, 41, 30, 33, 37, 47, 29, 35, 47, 31, 42, 57, 43, 47, 38, 30, 36, 36, 29, 33, 24, 31, 26, 36, 38, 45, 48, 43, 28, 43, 36, 32, 38, 35, 44, 50, 31, 37, 43, 40, 49, 36, 36, 41, 34, 34, 34, 34, 41, 43, 36, 34, 43, 28, 44, 33, 40, 43, 40, 42, 38, 56, 44, 36, 35, 38, 34, 56, 21, 40, 36, 46, 32, 55, 28, 35, 36, 40, 32, 44, 58, 48, 33, 38, 35, 35, 45, 40, 45, 29, 31, 46, 44, 48, 36, 56, 31, 28, 36, 48, 45, 50, 35, 44, 40, 31, 30, 31, 30, 40, 32, 40, 36, 30, 35, 28, 38, 60, 34, 30, 48, 46, 41, 21, 40, 40], \"y\": [3.938557067257129, 4.002105951961054, 3.747910413145354, 3.9862187307850725, 3.8432337402012413, 4.097429279016941, 4.049767615488998, 3.8432337402012413, 4.224527048424791, 3.795572076673298, 3.9544442884331104, 3.8432337402012413, 3.7161359707933914, 4.145090942544885, 3.8432337402012413, 4.002105951961054, 3.5890382013855415, 3.938557067257129, 3.8432337402012413, 3.938557067257129, 3.82734651902526, 3.70024874961741, 3.5890382013855415, 3.8432337402012413, 3.8432337402012413, 3.7320231919693727, 3.9544442884331104, 3.70024874961741, 3.8432337402012413, 4.097429279016941, 3.8114592978492787, 4.08154205784096, 3.9544442884331104, 3.9544442884331104, 3.7161359707933914, 4.002105951961054, 3.7637976343213353, 3.747910413145354, 3.938557067257129, 3.684361528441429, 4.192752606072829, 4.113316500192923, 3.938557067257129, 4.033880394313017, 3.795572076673298, 3.70024874961741, 3.7637976343213353, 3.9703315096090916, 3.8591209613772226, 3.8432337402012413, 3.8432337402012413, 3.779684855497316, 3.9703315096090916, 3.8432337402012413, 3.8591209613772226, 4.208639827248811, 3.8432337402012413, 4.002105951961054, 3.875008182553204, 3.875008182553204, 3.8432337402012413, 3.8432337402012413, 3.747910413145354, 4.08154205784096, 4.002105951961054, 3.8432337402012413, 4.017993173137035, 4.033880394313017, 4.160978163720866, 4.049767615488998, 3.9544442884331104, 3.7320231919693727, 3.8114592978492787, 3.747910413145354, 3.7161359707933914, 3.7637976343213353, 4.002105951961054, 3.747910413145354, 3.5890382013855415, 4.002105951961054, 3.8432337402012413, 3.938557067257129, 4.002105951961054, 4.129203721368904, 3.779684855497316, 3.9544442884331104, 3.82734651902526, 3.779684855497316, 3.779684855497316, 3.8114592978492787, 4.049767615488998, 3.795572076673298, 3.8432337402012413, 4.033880394313017, 3.7637976343213353, 3.938557067257129, 4.002105951961054, 3.82734651902526, 3.9067826249051665, 3.7637976343213353, 3.8114592978492787, 3.6049254225615224, 3.7161359707933914, 3.8432337402012413, 3.8114592978492787, 3.8114592978492787, 3.9226698460811478, 3.779684855497316, 4.033880394313017, 3.8432337402012413, 3.779684855497316, 3.747910413145354, 3.890895403729185, 3.8432337402012413, 3.8432337402012413, 4.033880394313017, 4.033880394313017, 3.890895403729185, 3.9067826249051665, 3.747910413145354, 4.017993173137035, 3.747910413145354, 3.8432337402012413, 3.82734651902526, 3.9067826249051665, 3.7161359707933914, 3.779684855497316, 4.145090942544885, 3.7161359707933914, 4.129203721368904, 3.9862187307850725, 3.9226698460811478, 3.9862187307850725, 3.5890382013855415, 3.890895403729185, 3.8432337402012413, 3.8114592978492787, 3.875008182553204, 4.017993173137035, 3.890895403729185, 4.113316500192923, 3.779684855497316, 4.033880394313017, 4.002105951961054, 3.8432337402012413, 3.9703315096090916, 3.747910413145354, 3.6684743072654475, 3.8432337402012413, 3.8114592978492787, 3.9703315096090916, 3.82734651902526, 3.747910413145354, 3.779684855497316, 3.7637976343213353, 3.9226698460811478, 3.7161359707933914, 3.795572076673298, 4.129203721368904, 3.875008182553204, 3.8432337402012413, 3.9703315096090916, 3.747910413145354, 3.70024874961741, 3.890895403729185, 3.875008182553204, 3.8114592978492787, 3.8432337402012413, 3.875008182553204, 3.779684855497316, 3.8432337402012413, 3.7161359707933914, 3.747910413145354, 4.129203721368904, 3.9544442884331104, 3.9544442884331104, 3.7320231919693727, 4.017993173137035, 3.8114592978492787, 3.747910413145354, 3.9226698460811478, 4.208639827248811, 3.8114592978492787, 3.938557067257129, 4.097429279016941, 3.9703315096090916, 3.8432337402012413, 4.113316500192923, 4.049767615488998, 4.017993173137035, 3.890895403729185, 3.8432337402012413, 3.82734651902526, 3.875008182553204, 3.9862187307850725, 3.7320231919693727, 3.684361528441429, 3.9226698460811478, 3.890895403729185, 3.9544442884331104, 3.747910413145354, 3.8432337402012413, 3.779684855497316, 3.747910413145354, 3.8114592978492787, 3.7320231919693727, 3.8432337402012413, 3.779684855497316, 4.176865384896848, 4.033880394313017, 3.8432337402012413, 3.8432337402012413, 4.033880394313017, 3.8591209613772226, 3.8114592978492787, 3.7637976343213353, 3.8591209613772226, 3.779684855497316, 3.7637976343213353, 3.7161359707933914, 3.8591209613772226, 4.017993173137035, 3.8432337402012413, 3.684361528441429, 3.8591209613772226, 3.890895403729185, 3.9067826249051665, 3.890895403729185, 3.82734651902526, 3.8114592978492787, 3.779684855497316, 3.7637976343213353, 3.9703315096090916, 3.8114592978492787, 3.795572076673298, 3.747910413145354, 3.9544442884331104, 3.6684743072654475, 3.9544442884331104, 3.8432337402012413, 3.7320231919693727, 4.129203721368904, 3.9862187307850725, 4.017993173137035, 3.7637976343213353, 3.9703315096090916, 4.065654836664979, 3.8591209613772226, 3.747910413145354, 3.875008182553204, 3.8591209613772226, 3.9862187307850725, 3.8432337402012413, 3.636699864913485, 3.9067826249051665, 3.9703315096090916, 3.70024874961741, 3.9544442884331104, 3.9226698460811478, 3.938557067257129, 3.8114592978492787, 3.9544442884331104, 3.7320231919693727, 3.6208126437375037, 3.795572076673298, 3.779684855497316, 3.8432337402012413, 3.82734651902526, 3.875008182553204, 3.9067826249051665, 4.017993173137035, 3.8591209613772226, 4.176865384896848, 4.049767615488998, 3.9862187307850725, 3.8432337402012413, 3.779684855497316, 3.795572076673298, 3.82734651902526, 4.224527048424791, 3.8591209613772226, 4.002105951961054, 3.890895403729185, 4.002105951961054, 3.9703315096090916, 3.875008182553204, 3.7320231919693727, 3.9226698460811478, 3.7637976343213353, 3.890895403729185, 3.8432337402012413, 3.82734651902526, 4.033880394313017, 4.065654836664979, 3.9544442884331104, 4.017993173137035, 3.8114592978492787, 3.938557067257129, 4.097429279016941, 3.890895403729185, 4.065654836664979, 4.002105951961054, 3.684361528441429, 3.8432337402012413, 4.017993173137035, 3.9703315096090916, 3.7320231919693727, 3.9067826249051665, 3.875008182553204, 3.779684855497316, 3.875008182553204, 3.6049254225615224, 4.065654836664979, 3.9067826249051665, 3.890895403729185, 4.129203721368904, 3.9226698460811478, 3.747910413145354, 3.795572076673298, 3.8591209613772226, 4.017993173137035, 3.7320231919693727, 3.82734651902526, 4.017993173137035, 3.7637976343213353, 3.938557067257129, 4.176865384896848, 3.9544442884331104, 4.017993173137035, 3.875008182553204, 3.747910413145354, 3.8432337402012413, 3.8432337402012413, 3.7320231919693727, 3.795572076673298, 3.6525870860894663, 3.7637976343213353, 3.684361528441429, 3.8432337402012413, 3.875008182553204, 3.9862187307850725, 4.033880394313017, 3.9544442884331104, 3.7161359707933914, 3.9544442884331104, 3.8432337402012413, 3.779684855497316, 3.875008182553204, 3.82734651902526, 3.9703315096090916, 4.065654836664979, 3.7637976343213353, 3.8591209613772226, 3.9544442884331104, 3.9067826249051665, 4.049767615488998, 3.8432337402012413, 3.8432337402012413, 3.9226698460811478, 3.8114592978492787, 3.8114592978492787, 3.8114592978492787, 3.8114592978492787, 3.9226698460811478, 3.9544442884331104, 3.8432337402012413, 3.8114592978492787, 3.9544442884331104, 3.7161359707933914, 3.9703315096090916, 3.795572076673298, 3.9067826249051665, 3.9544442884331104, 3.9067826249051665, 3.938557067257129, 3.875008182553204, 4.160978163720866, 3.9703315096090916, 3.8432337402012413, 3.82734651902526, 3.875008182553204, 3.8114592978492787, 4.160978163720866, 3.6049254225615224, 3.9067826249051665, 3.8432337402012413, 4.002105951961054, 3.779684855497316, 4.145090942544885, 3.7161359707933914, 3.82734651902526, 3.8432337402012413, 3.9067826249051665, 3.779684855497316, 3.9703315096090916, 4.192752606072829, 4.033880394313017, 3.795572076673298, 3.875008182553204, 3.82734651902526, 3.82734651902526, 3.9862187307850725, 3.9067826249051665, 3.9862187307850725, 3.7320231919693727, 3.7637976343213353, 4.002105951961054, 3.9703315096090916, 4.033880394313017, 3.8432337402012413, 4.160978163720866, 3.7637976343213353, 3.7161359707933914, 3.8432337402012413, 4.033880394313017, 3.9862187307850725, 4.065654836664979, 3.82734651902526, 3.9703315096090916, 3.9067826249051665, 3.7637976343213353, 3.747910413145354, 3.7637976343213353, 3.747910413145354, 3.9067826249051665, 3.779684855497316, 3.9067826249051665, 3.8432337402012413, 3.747910413145354, 3.82734651902526, 3.7161359707933914, 3.875008182553204, 4.224527048424791, 3.8114592978492787, 3.747910413145354, 4.033880394313017, 4.002105951961054, 3.9226698460811478, 3.6049254225615224, 3.9067826249051665, 3.9067826249051665]}, {\"marker\": {\"color\": \"#011627\"}, \"mode\": \"lines\", \"name\": \"3 degree regression, adj. R2=.13\", \"type\": \"scatter\", \"x\": [20, 20, 20, 20, 21, 21, 21, 21, 22, 23, 24, 25, 25, 26, 26, 26, 26, 26, 27, 27, 27, 27, 27, 28, 28, 28, 28, 28, 28, 28, 28, 28, 28, 28, 28, 28, 28, 29, 29, 29, 29, 29, 29, 29, 29, 29, 29, 29, 29, 30, 30, 30, 30, 30, 30, 30, 30, 30, 30, 30, 30, 30, 30, 30, 30, 30, 30, 30, 30, 30, 30, 30, 31, 31, 31, 31, 31, 31, 31, 31, 31, 31, 31, 31, 31, 31, 31, 31, 31, 31, 32, 32, 32, 32, 32, 32, 32, 32, 32, 32, 32, 32, 32, 32, 32, 32, 32, 32, 32, 32, 32, 33, 33, 33, 33, 33, 33, 33, 33, 33, 33, 33, 34, 34, 34, 34, 34, 34, 34, 34, 34, 34, 34, 34, 34, 34, 34, 34, 34, 34, 34, 34, 34, 34, 34, 34, 35, 35, 35, 35, 35, 35, 35, 35, 35, 35, 35, 35, 35, 35, 35, 35, 35, 35, 36, 36, 36, 36, 36, 36, 36, 36, 36, 36, 36, 36, 36, 36, 36, 36, 36, 36, 36, 36, 36, 36, 36, 36, 36, 36, 36, 36, 36, 36, 36, 36, 36, 36, 36, 36, 36, 36, 36, 36, 36, 36, 36, 36, 36, 36, 36, 36, 36, 36, 36, 36, 36, 36, 37, 37, 37, 37, 37, 37, 37, 37, 37, 37, 37, 37, 38, 38, 38, 38, 38, 38, 38, 38, 38, 38, 38, 38, 38, 38, 38, 38, 38, 38, 38, 39, 39, 39, 39, 39, 39, 39, 39, 39, 39, 39, 39, 39, 40, 40, 40, 40, 40, 40, 40, 40, 40, 40, 40, 40, 40, 40, 40, 40, 40, 40, 40, 41, 41, 41, 41, 41, 41, 41, 41, 41, 41, 41, 42, 42, 42, 42, 42, 42, 42, 42, 42, 42, 42, 42, 43, 43, 43, 43, 43, 43, 43, 43, 43, 43, 43, 43, 43, 43, 43, 43, 43, 43, 43, 43, 43, 44, 44, 44, 44, 44, 44, 44, 44, 44, 44, 44, 44, 44, 44, 44, 44, 44, 45, 45, 45, 45, 45, 45, 45, 45, 45, 45, 45, 46, 46, 46, 46, 46, 46, 46, 46, 46, 46, 46, 46, 46, 46, 46, 46, 47, 47, 47, 47, 47, 47, 47, 47, 47, 47, 47, 47, 47, 48, 48, 48, 48, 48, 48, 48, 48, 48, 48, 48, 48, 48, 48, 48, 49, 49, 49, 49, 49, 49, 50, 50, 50, 50, 50, 50, 51, 51, 52, 52, 52, 52, 53, 53, 53, 54, 54, 54, 54, 54, 54, 55, 55, 55, 56, 56, 56, 56, 57, 57, 57, 58, 58, 59, 59, 60, 60, 60], \"y\": [4.595156861769102, 4.595156861769102, 4.595156861769102, 4.595156861769102, 4.457730753205857, 4.457730753205857, 4.457730753205857, 4.457730753205857, 4.3335256928840495, 4.222046529303557, 4.122798110964265, 4.035285286366056, 4.035285286366056, 3.959012904008808, 3.959012904008808, 3.959012904008808, 3.959012904008808, 3.959012904008808, 3.8934858123924023, 3.8934858123924023, 3.8934858123924023, 3.8934858123924023, 3.8934858123924023, 3.838208860016721, 3.838208860016721, 3.838208860016721, 3.838208860016721, 3.838208860016721, 3.838208860016721, 3.838208860016721, 3.838208860016721, 3.838208860016721, 3.838208860016721, 3.838208860016721, 3.838208860016721, 3.838208860016721, 3.838208860016721, 3.7926868953816495, 3.7926868953816495, 3.7926868953816495, 3.7926868953816495, 3.7926868953816495, 3.7926868953816495, 3.7926868953816495, 3.7926868953816495, 3.7926868953816495, 3.7926868953816495, 3.7926868953816495, 3.7926868953816495, 3.7564247669870703, 3.7564247669870703, 3.7564247669870703, 3.7564247669870703, 3.7564247669870703, 3.7564247669870703, 3.7564247669870703, 3.7564247669870703, 3.7564247669870703, 3.7564247669870703, 3.7564247669870703, 3.7564247669870703, 3.7564247669870703, 3.7564247669870703, 3.7564247669870703, 3.7564247669870703, 3.7564247669870703, 3.7564247669870703, 3.7564247669870703, 3.7564247669870703, 3.7564247669870703, 3.7564247669870703, 3.7564247669870703, 3.7289273233328544, 3.7289273233328544, 3.7289273233328544, 3.7289273233328544, 3.7289273233328544, 3.7289273233328544, 3.7289273233328544, 3.7289273233328544, 3.7289273233328544, 3.7289273233328544, 3.7289273233328544, 3.7289273233328544, 3.7289273233328544, 3.7289273233328544, 3.7289273233328544, 3.7289273233328544, 3.7289273233328544, 3.7289273233328544, 3.709699412918898, 3.709699412918898, 3.709699412918898, 3.709699412918898, 3.709699412918898, 3.709699412918898, 3.709699412918898, 3.709699412918898, 3.709699412918898, 3.709699412918898, 3.709699412918898, 3.709699412918898, 3.709699412918898, 3.709699412918898, 3.709699412918898, 3.709699412918898, 3.709699412918898, 3.709699412918898, 3.709699412918898, 3.709699412918898, 3.709699412918898, 3.6982458842450754, 3.6982458842450754, 3.6982458842450754, 3.6982458842450754, 3.6982458842450754, 3.6982458842450754, 3.6982458842450754, 3.6982458842450754, 3.6982458842450754, 3.6982458842450754, 3.6982458842450754, 3.69407158581126, 3.69407158581126, 3.69407158581126, 3.69407158581126, 3.69407158581126, 3.69407158581126, 3.69407158581126, 3.69407158581126, 3.69407158581126, 3.69407158581126, 3.69407158581126, 3.69407158581126, 3.69407158581126, 3.69407158581126, 3.69407158581126, 3.69407158581126, 3.69407158581126, 3.69407158581126, 3.69407158581126, 3.69407158581126, 3.69407158581126, 3.69407158581126, 3.69407158581126, 3.69407158581126, 3.6966813661173497, 3.6966813661173497, 3.6966813661173497, 3.6966813661173497, 3.6966813661173497, 3.6966813661173497, 3.6966813661173497, 3.6966813661173497, 3.6966813661173497, 3.6966813661173497, 3.6966813661173497, 3.6966813661173497, 3.6966813661173497, 3.6966813661173497, 3.6966813661173497, 3.6966813661173497, 3.6966813661173497, 3.6966813661173497, 3.7055800736632136, 3.7055800736632136, 3.7055800736632136, 3.7055800736632136, 3.7055800736632136, 3.7055800736632136, 3.7055800736632136, 3.7055800736632136, 3.7055800736632136, 3.7055800736632136, 3.7055800736632136, 3.7055800736632136, 3.7055800736632136, 3.7055800736632136, 3.7055800736632136, 3.7055800736632136, 3.7055800736632136, 3.7055800736632136, 3.7055800736632136, 3.7055800736632136, 3.7055800736632136, 3.7055800736632136, 3.7055800736632136, 3.7055800736632136, 3.7055800736632136, 3.7055800736632136, 3.7055800736632136, 3.7055800736632136, 3.7055800736632136, 3.7055800736632136, 3.7055800736632136, 3.7055800736632136, 3.7055800736632136, 3.7055800736632136, 3.7055800736632136, 3.7055800736632136, 3.7055800736632136, 3.7055800736632136, 3.7055800736632136, 3.7055800736632136, 3.7055800736632136, 3.7055800736632136, 3.7055800736632136, 3.7055800736632136, 3.7055800736632136, 3.7055800736632136, 3.7055800736632136, 3.7055800736632136, 3.7055800736632136, 3.7055800736632136, 3.7055800736632136, 3.7055800736632136, 3.7055800736632136, 3.7055800736632136, 3.720272556948741, 3.720272556948741, 3.720272556948741, 3.720272556948741, 3.720272556948741, 3.720272556948741, 3.720272556948741, 3.720272556948741, 3.720272556948741, 3.720272556948741, 3.720272556948741, 3.720272556948741, 3.74026366447381, 3.74026366447381, 3.74026366447381, 3.74026366447381, 3.74026366447381, 3.74026366447381, 3.74026366447381, 3.74026366447381, 3.74026366447381, 3.74026366447381, 3.74026366447381, 3.74026366447381, 3.74026366447381, 3.74026366447381, 3.74026366447381, 3.74026366447381, 3.74026366447381, 3.74026366447381, 3.74026366447381, 3.7650582447383005, 3.7650582447383005, 3.7650582447383005, 3.7650582447383005, 3.7650582447383005, 3.7650582447383005, 3.7650582447383005, 3.7650582447383005, 3.7650582447383005, 3.7650582447383005, 3.7650582447383005, 3.7650582447383005, 3.7650582447383005, 3.7941611462420983, 3.7941611462420983, 3.7941611462420983, 3.7941611462420983, 3.7941611462420983, 3.7941611462420983, 3.7941611462420983, 3.7941611462420983, 3.7941611462420983, 3.7941611462420983, 3.7941611462420983, 3.7941611462420983, 3.7941611462420983, 3.7941611462420983, 3.7941611462420983, 3.7941611462420983, 3.7941611462420983, 3.7941611462420983, 3.7941611462420983, 3.827077217485078, 3.827077217485078, 3.827077217485078, 3.827077217485078, 3.827077217485078, 3.827077217485078, 3.827077217485078, 3.827077217485078, 3.827077217485078, 3.827077217485078, 3.827077217485078, 3.8633113069671356, 3.8633113069671356, 3.8633113069671356, 3.8633113069671356, 3.8633113069671356, 3.8633113069671356, 3.8633113069671356, 3.8633113069671356, 3.8633113069671356, 3.8633113069671356, 3.8633113069671356, 3.8633113069671356, 3.9023682631881424, 3.9023682631881424, 3.9023682631881424, 3.9023682631881424, 3.9023682631881424, 3.9023682631881424, 3.9023682631881424, 3.9023682631881424, 3.9023682631881424, 3.9023682631881424, 3.9023682631881424, 3.9023682631881424, 3.9023682631881424, 3.9023682631881424, 3.9023682631881424, 3.9023682631881424, 3.9023682631881424, 3.9023682631881424, 3.9023682631881424, 3.9023682631881424, 3.9023682631881424, 3.943752934647973, 3.943752934647973, 3.943752934647973, 3.943752934647973, 3.943752934647973, 3.943752934647973, 3.943752934647973, 3.943752934647973, 3.943752934647973, 3.943752934647973, 3.943752934647973, 3.943752934647973, 3.943752934647973, 3.943752934647973, 3.943752934647973, 3.943752934647973, 3.943752934647973, 3.986970169846524, 3.986970169846524, 3.986970169846524, 3.986970169846524, 3.986970169846524, 3.986970169846524, 3.986970169846524, 3.986970169846524, 3.986970169846524, 3.986970169846524, 3.986970169846524, 4.031524817283666, 4.031524817283666, 4.031524817283666, 4.031524817283666, 4.031524817283666, 4.031524817283666, 4.031524817283666, 4.031524817283666, 4.031524817283666, 4.031524817283666, 4.031524817283666, 4.031524817283666, 4.031524817283666, 4.031524817283666, 4.031524817283666, 4.031524817283666, 4.076921725459291, 4.076921725459291, 4.076921725459291, 4.076921725459291, 4.076921725459291, 4.076921725459291, 4.076921725459291, 4.076921725459291, 4.076921725459291, 4.076921725459291, 4.076921725459291, 4.076921725459291, 4.076921725459291, 4.122665742873261, 4.122665742873261, 4.122665742873261, 4.122665742873261, 4.122665742873261, 4.122665742873261, 4.122665742873261, 4.122665742873261, 4.122665742873261, 4.122665742873261, 4.122665742873261, 4.122665742873261, 4.122665742873261, 4.122665742873261, 4.122665742873261, 4.1682617180254855, 4.1682617180254855, 4.1682617180254855, 4.1682617180254855, 4.1682617180254855, 4.1682617180254855, 4.2132144994158285, 4.2132144994158285, 4.2132144994158285, 4.2132144994158285, 4.2132144994158285, 4.2132144994158285, 4.257028935544168, 4.257028935544168, 4.299209874910394, 4.299209874910394, 4.299209874910394, 4.299209874910394, 4.339262166014388, 4.339262166014388, 4.339262166014388, 4.376690657356038, 4.376690657356038, 4.376690657356038, 4.376690657356038, 4.376690657356038, 4.376690657356038, 4.411000197435216, 4.411000197435216, 4.411000197435216, 4.44169563475179, 4.44169563475179, 4.44169563475179, 4.44169563475179, 4.468281817805677, 4.468281817805677, 4.468281817805677, 4.490263595096723, 4.490263595096723, 4.507145815124838, 4.507145815124838, 4.518433326389884, 4.518433326389884, 4.518433326389884]}],\n",
              "                        {\"font\": {\"size\": 16}, \"height\": 700, \"template\": {\"data\": {\"bar\": [{\"error_x\": {\"color\": \"#2a3f5f\"}, \"error_y\": {\"color\": \"#2a3f5f\"}, \"marker\": {\"line\": {\"color\": \"#E5ECF6\", \"width\": 0.5}}, \"type\": \"bar\"}], \"barpolar\": [{\"marker\": {\"line\": {\"color\": \"#E5ECF6\", \"width\": 0.5}}, \"type\": \"barpolar\"}], \"carpet\": [{\"aaxis\": {\"endlinecolor\": \"#2a3f5f\", \"gridcolor\": \"white\", \"linecolor\": \"white\", \"minorgridcolor\": \"white\", \"startlinecolor\": \"#2a3f5f\"}, \"baxis\": {\"endlinecolor\": \"#2a3f5f\", \"gridcolor\": \"white\", \"linecolor\": \"white\", \"minorgridcolor\": \"white\", \"startlinecolor\": \"#2a3f5f\"}, \"type\": \"carpet\"}], \"choropleth\": [{\"colorbar\": {\"outlinewidth\": 0, \"ticks\": \"\"}, \"type\": \"choropleth\"}], \"contour\": [{\"colorbar\": {\"outlinewidth\": 0, \"ticks\": \"\"}, \"colorscale\": [[0.0, \"#0d0887\"], [0.1111111111111111, \"#46039f\"], [0.2222222222222222, \"#7201a8\"], [0.3333333333333333, \"#9c179e\"], [0.4444444444444444, \"#bd3786\"], [0.5555555555555556, \"#d8576b\"], [0.6666666666666666, \"#ed7953\"], [0.7777777777777778, \"#fb9f3a\"], [0.8888888888888888, \"#fdca26\"], [1.0, \"#f0f921\"]], \"type\": \"contour\"}], \"contourcarpet\": [{\"colorbar\": {\"outlinewidth\": 0, \"ticks\": \"\"}, \"type\": \"contourcarpet\"}], \"heatmap\": [{\"colorbar\": {\"outlinewidth\": 0, \"ticks\": \"\"}, \"colorscale\": [[0.0, \"#0d0887\"], [0.1111111111111111, \"#46039f\"], [0.2222222222222222, \"#7201a8\"], [0.3333333333333333, \"#9c179e\"], [0.4444444444444444, \"#bd3786\"], [0.5555555555555556, \"#d8576b\"], [0.6666666666666666, \"#ed7953\"], [0.7777777777777778, \"#fb9f3a\"], [0.8888888888888888, \"#fdca26\"], [1.0, \"#f0f921\"]], \"type\": \"heatmap\"}], \"heatmapgl\": [{\"colorbar\": {\"outlinewidth\": 0, \"ticks\": \"\"}, \"colorscale\": [[0.0, \"#0d0887\"], [0.1111111111111111, \"#46039f\"], [0.2222222222222222, \"#7201a8\"], [0.3333333333333333, \"#9c179e\"], [0.4444444444444444, \"#bd3786\"], [0.5555555555555556, \"#d8576b\"], [0.6666666666666666, \"#ed7953\"], [0.7777777777777778, \"#fb9f3a\"], [0.8888888888888888, \"#fdca26\"], [1.0, \"#f0f921\"]], \"type\": \"heatmapgl\"}], \"histogram\": [{\"marker\": {\"colorbar\": {\"outlinewidth\": 0, \"ticks\": \"\"}}, \"type\": \"histogram\"}], \"histogram2d\": [{\"colorbar\": {\"outlinewidth\": 0, \"ticks\": \"\"}, \"colorscale\": [[0.0, \"#0d0887\"], [0.1111111111111111, \"#46039f\"], [0.2222222222222222, \"#7201a8\"], [0.3333333333333333, \"#9c179e\"], [0.4444444444444444, \"#bd3786\"], [0.5555555555555556, \"#d8576b\"], [0.6666666666666666, \"#ed7953\"], [0.7777777777777778, \"#fb9f3a\"], [0.8888888888888888, \"#fdca26\"], [1.0, \"#f0f921\"]], \"type\": \"histogram2d\"}], \"histogram2dcontour\": [{\"colorbar\": {\"outlinewidth\": 0, \"ticks\": \"\"}, \"colorscale\": [[0.0, \"#0d0887\"], [0.1111111111111111, \"#46039f\"], [0.2222222222222222, \"#7201a8\"], [0.3333333333333333, \"#9c179e\"], [0.4444444444444444, \"#bd3786\"], [0.5555555555555556, \"#d8576b\"], [0.6666666666666666, \"#ed7953\"], [0.7777777777777778, \"#fb9f3a\"], [0.8888888888888888, \"#fdca26\"], [1.0, \"#f0f921\"]], \"type\": \"histogram2dcontour\"}], \"mesh3d\": [{\"colorbar\": {\"outlinewidth\": 0, \"ticks\": \"\"}, \"type\": \"mesh3d\"}], \"parcoords\": [{\"line\": {\"colorbar\": {\"outlinewidth\": 0, \"ticks\": \"\"}}, \"type\": \"parcoords\"}], \"pie\": [{\"automargin\": true, \"type\": \"pie\"}], \"scatter\": [{\"marker\": {\"colorbar\": {\"outlinewidth\": 0, \"ticks\": \"\"}}, \"type\": \"scatter\"}], \"scatter3d\": [{\"line\": {\"colorbar\": {\"outlinewidth\": 0, \"ticks\": \"\"}}, \"marker\": {\"colorbar\": {\"outlinewidth\": 0, \"ticks\": \"\"}}, \"type\": \"scatter3d\"}], \"scattercarpet\": [{\"marker\": {\"colorbar\": {\"outlinewidth\": 0, \"ticks\": \"\"}}, \"type\": \"scattercarpet\"}], \"scattergeo\": [{\"marker\": {\"colorbar\": {\"outlinewidth\": 0, \"ticks\": \"\"}}, \"type\": \"scattergeo\"}], \"scattergl\": [{\"marker\": {\"colorbar\": {\"outlinewidth\": 0, \"ticks\": \"\"}}, \"type\": \"scattergl\"}], \"scattermapbox\": [{\"marker\": {\"colorbar\": {\"outlinewidth\": 0, \"ticks\": \"\"}}, \"type\": \"scattermapbox\"}], \"scatterpolar\": [{\"marker\": {\"colorbar\": {\"outlinewidth\": 0, \"ticks\": \"\"}}, \"type\": \"scatterpolar\"}], \"scatterpolargl\": [{\"marker\": {\"colorbar\": {\"outlinewidth\": 0, \"ticks\": \"\"}}, \"type\": \"scatterpolargl\"}], \"scatterternary\": [{\"marker\": {\"colorbar\": {\"outlinewidth\": 0, \"ticks\": \"\"}}, \"type\": \"scatterternary\"}], \"surface\": [{\"colorbar\": {\"outlinewidth\": 0, \"ticks\": \"\"}, \"colorscale\": [[0.0, \"#0d0887\"], [0.1111111111111111, \"#46039f\"], [0.2222222222222222, \"#7201a8\"], [0.3333333333333333, \"#9c179e\"], [0.4444444444444444, \"#bd3786\"], [0.5555555555555556, \"#d8576b\"], [0.6666666666666666, \"#ed7953\"], [0.7777777777777778, \"#fb9f3a\"], [0.8888888888888888, \"#fdca26\"], [1.0, \"#f0f921\"]], \"type\": \"surface\"}], \"table\": [{\"cells\": {\"fill\": {\"color\": \"#EBF0F8\"}, \"line\": {\"color\": \"white\"}}, \"header\": {\"fill\": {\"color\": \"#C8D4E3\"}, \"line\": {\"color\": \"white\"}}, \"type\": \"table\"}]}, \"layout\": {\"annotationdefaults\": {\"arrowcolor\": \"#2a3f5f\", \"arrowhead\": 0, \"arrowwidth\": 1}, \"coloraxis\": {\"colorbar\": {\"outlinewidth\": 0, \"ticks\": \"\"}}, \"colorscale\": {\"diverging\": [[0, \"#8e0152\"], [0.1, \"#c51b7d\"], [0.2, \"#de77ae\"], [0.3, \"#f1b6da\"], [0.4, \"#fde0ef\"], [0.5, \"#f7f7f7\"], [0.6, \"#e6f5d0\"], [0.7, \"#b8e186\"], [0.8, \"#7fbc41\"], [0.9, \"#4d9221\"], [1, \"#276419\"]], \"sequential\": [[0.0, \"#0d0887\"], [0.1111111111111111, \"#46039f\"], [0.2222222222222222, \"#7201a8\"], [0.3333333333333333, \"#9c179e\"], [0.4444444444444444, \"#bd3786\"], [0.5555555555555556, \"#d8576b\"], [0.6666666666666666, \"#ed7953\"], [0.7777777777777778, \"#fb9f3a\"], [0.8888888888888888, \"#fdca26\"], [1.0, \"#f0f921\"]], \"sequentialminus\": [[0.0, \"#0d0887\"], [0.1111111111111111, \"#46039f\"], [0.2222222222222222, \"#7201a8\"], [0.3333333333333333, \"#9c179e\"], [0.4444444444444444, \"#bd3786\"], [0.5555555555555556, \"#d8576b\"], [0.6666666666666666, \"#ed7953\"], [0.7777777777777778, \"#fb9f3a\"], [0.8888888888888888, \"#fdca26\"], [1.0, \"#f0f921\"]]}, \"colorway\": [\"#636efa\", \"#EF553B\", \"#00cc96\", \"#ab63fa\", \"#FFA15A\", \"#19d3f3\", \"#FF6692\", \"#B6E880\", \"#FF97FF\", \"#FECB52\"], \"font\": {\"color\": \"#2a3f5f\"}, \"geo\": {\"bgcolor\": \"white\", \"lakecolor\": \"white\", \"landcolor\": \"#E5ECF6\", \"showlakes\": true, \"showland\": true, \"subunitcolor\": \"white\"}, \"hoverlabel\": {\"align\": \"left\"}, \"hovermode\": \"closest\", \"mapbox\": {\"style\": \"light\"}, \"paper_bgcolor\": \"white\", \"plot_bgcolor\": \"#E5ECF6\", \"polar\": {\"angularaxis\": {\"gridcolor\": \"white\", \"linecolor\": \"white\", \"ticks\": \"\"}, \"bgcolor\": \"#E5ECF6\", \"radialaxis\": {\"gridcolor\": \"white\", \"linecolor\": \"white\", \"ticks\": \"\"}}, \"scene\": {\"xaxis\": {\"backgroundcolor\": \"#E5ECF6\", \"gridcolor\": \"white\", \"gridwidth\": 2, \"linecolor\": \"white\", \"showbackground\": true, \"ticks\": \"\", \"zerolinecolor\": \"white\"}, \"yaxis\": {\"backgroundcolor\": \"#E5ECF6\", \"gridcolor\": \"white\", \"gridwidth\": 2, \"linecolor\": \"white\", \"showbackground\": true, \"ticks\": \"\", \"zerolinecolor\": \"white\"}, \"zaxis\": {\"backgroundcolor\": \"#E5ECF6\", \"gridcolor\": \"white\", \"gridwidth\": 2, \"linecolor\": \"white\", \"showbackground\": true, \"ticks\": \"\", \"zerolinecolor\": \"white\"}}, \"shapedefaults\": {\"line\": {\"color\": \"#2a3f5f\"}}, \"ternary\": {\"aaxis\": {\"gridcolor\": \"white\", \"linecolor\": \"white\", \"ticks\": \"\"}, \"baxis\": {\"gridcolor\": \"white\", \"linecolor\": \"white\", \"ticks\": \"\"}, \"bgcolor\": \"#E5ECF6\", \"caxis\": {\"gridcolor\": \"white\", \"linecolor\": \"white\", \"ticks\": \"\"}}, \"title\": {\"x\": 0.05}, \"xaxis\": {\"automargin\": true, \"gridcolor\": \"white\", \"linecolor\": \"white\", \"ticks\": \"\", \"title\": {\"standoff\": 15}, \"zerolinecolor\": \"white\", \"zerolinewidth\": 2}, \"yaxis\": {\"automargin\": true, \"gridcolor\": \"white\", \"linecolor\": \"white\", \"ticks\": \"\", \"title\": {\"standoff\": 15}, \"zerolinecolor\": \"white\", \"zerolinewidth\": 2}}}, \"title\": {\"text\": \"SCC * RESP (N=441)\"}, \"width\": 1100, \"xaxis\": {\"title\": {\"text\": \"SCC\"}}, \"yaxis\": {\"title\": {\"text\": \"RESP\"}}},\n",
              "                        {\"responsive\": true}\n",
              "                    ).then(function(){\n",
              "                            \n",
              "var gd = document.getElementById('fae79c99-ffb7-4883-8863-98dcb5088357');\n",
              "var x = new MutationObserver(function (mutations, observer) {{\n",
              "        var display = window.getComputedStyle(gd).display;\n",
              "        if (!display || display === 'none') {{\n",
              "            console.log([gd, 'removed!']);\n",
              "            Plotly.purge(gd);\n",
              "            observer.disconnect();\n",
              "        }}\n",
              "}});\n",
              "\n",
              "// Listen for the removal of the full notebook cells\n",
              "var notebookContainer = gd.closest('#notebook-container');\n",
              "if (notebookContainer) {{\n",
              "    x.observe(notebookContainer, {childList: true});\n",
              "}}\n",
              "\n",
              "// Listen for the clearing of the current output cell\n",
              "var outputEl = gd.closest('.output');\n",
              "if (outputEl) {{\n",
              "    x.observe(outputEl, {childList: true});\n",
              "}}\n",
              "\n",
              "                        })\n",
              "                };\n",
              "                \n",
              "            </script>\n",
              "        </div>\n",
              "</body>\n",
              "</html>"
            ]
          },
          "metadata": {
            "tags": []
          }
        }
      ]
    },
    {
      "cell_type": "markdown",
      "metadata": {
        "id": "ysbtTJqHga4O"
      },
      "source": [
        "##Dependent variable: CIHS LACK"
      ]
    },
    {
      "cell_type": "code",
      "metadata": {
        "id": "FgLMP2BlfqrH"
      },
      "source": [
        "lack = df_subscales['LACK'].to_numpy()\n",
        "lack = lack.reshape(-1,1)"
      ],
      "execution_count": null,
      "outputs": []
    },
    {
      "cell_type": "markdown",
      "metadata": {
        "id": "0fiX2Ekvq_oD"
      },
      "source": [
        "###AUT"
      ]
    },
    {
      "cell_type": "code",
      "metadata": {
        "colab": {
          "base_uri": "https://localhost:8080/",
          "height": 717
        },
        "id": "N4gbFWD5ghbZ",
        "outputId": "f642076d-11ab-462a-97f2-1b41af64e2ad"
      },
      "source": [
        "MakeScatterPlot(df_subscales['AUT'], df_subscales['LACK'], f'AUT -> LACK (n={len(df_subscales)})', 'AUT','LACK')"
      ],
      "execution_count": null,
      "outputs": [
        {
          "output_type": "display_data",
          "data": {
            "text/html": [
              "<html>\n",
              "<head><meta charset=\"utf-8\" /></head>\n",
              "<body>\n",
              "    <div>\n",
              "            <script src=\"https://cdnjs.cloudflare.com/ajax/libs/mathjax/2.7.5/MathJax.js?config=TeX-AMS-MML_SVG\"></script><script type=\"text/javascript\">if (window.MathJax) {MathJax.Hub.Config({SVG: {font: \"STIX-Web\"}});}</script>\n",
              "                <script type=\"text/javascript\">window.PlotlyConfig = {MathJaxConfig: 'local'};</script>\n",
              "        <script src=\"https://cdn.plot.ly/plotly-latest.min.js\"></script>    \n",
              "            <div id=\"7f39e0f0-bfc1-4064-8b2c-a12ad959aaa4\" class=\"plotly-graph-div\" style=\"height:700px; width:1000px;\"></div>\n",
              "            <script type=\"text/javascript\">\n",
              "                \n",
              "                    window.PLOTLYENV=window.PLOTLYENV || {};\n",
              "                    \n",
              "                if (document.getElementById(\"7f39e0f0-bfc1-4064-8b2c-a12ad959aaa4\")) {\n",
              "                    Plotly.newPlot(\n",
              "                        '7f39e0f0-bfc1-4064-8b2c-a12ad959aaa4',\n",
              "                        [{\"mode\": \"markers\", \"type\": \"scatter\", \"x\": [150, 170, 131, 167, 123, 168, 174, 135, 194, 132, 139, 135, 134, 185, 135, 199, 150, 151, 153, 159, 136, 128, 142, 157, 129, 140, 154, 153, 135, 168, 134, 183, 154, 158, 137, 186, 151, 144, 146, 112, 185, 184, 168, 166, 135, 134, 145, 139, 136, 138, 135, 143, 140, 133, 129, 199, 138, 174, 149, 158, 141, 135, 139, 147, 159, 135, 186, 160, 191, 160, 143, 136, 140, 141, 132, 134, 156, 144, 128, 167, 135, 159, 154, 193, 152, 161, 135, 162, 139, 145, 153, 127, 141, 177, 147, 154, 149, 141, 141, 138, 147, 159, 147, 150, 135, 134, 169, 142, 160, 157, 131, 134, 141, 135, 136, 165, 159, 143, 153, 129, 153, 134, 135, 130, 154, 134, 140, 201, 140, 181, 162, 157, 189, 124, 141, 134, 150, 141, 172, 149, 179, 142, 167, 179, 135, 163, 128, 136, 135, 133, 180, 134, 163, 140, 122, 154, 137, 147, 171, 145, 135, 166, 133, 145, 180, 164, 135, 135, 167, 148, 154, 134, 140, 201, 158, 138, 142, 173, 133, 133, 144, 185, 134, 167, 162, 186, 139, 185, 137, 167, 157, 142, 143, 142, 158, 132, 129, 180, 145, 151, 152, 139, 173, 139, 138, 156, 135, 137, 191, 160, 136, 142, 166, 154, 134, 126, 128, 157, 154, 136, 151, 174, 135, 156, 139, 129, 149, 173, 142, 162, 144, 145, 141, 128, 135, 123, 156, 115, 159, 135, 169, 193, 161, 137, 157, 185, 199, 141, 129, 142, 135, 162, 142, 130, 153, 162, 133, 148, 172, 156, 148, 163, 152, 112, 126, 135, 136, 154, 156, 147, 162, 135, 191, 171, 155, 135, 135, 143, 160, 135, 141, 173, 138, 161, 170, 142, 142, 161, 139, 137, 140, 140, 174, 146, 152, 171, 136, 148, 166, 141, 177, 165, 140, 150, 162, 137, 148, 135, 136, 135, 157, 145, 176, 134, 155, 178, 156, 165, 140, 157, 137, 137, 162, 155, 131, 150, 184, 167, 161, 159, 137, 138, 137, 139, 144, 154, 140, 138, 144, 138, 177, 173, 171, 134, 160, 127, 139, 160, 124, 132, 171, 144, 126, 148, 144, 192, 135, 143, 177, 143, 133, 133, 141, 161, 200, 150, 134, 139, 130, 180, 143, 164, 136, 171, 163, 140, 199, 163, 124, 140, 127, 144, 205, 140, 151, 140, 186, 156, 189, 130, 153, 137, 137, 146, 148, 179, 174, 133, 143, 152, 135, 155, 157, 160, 136, 160, 171, 153, 168, 133, 173, 148, 135, 137, 162, 168, 168, 139, 173, 149, 163, 151, 146, 160, 166, 142, 167, 154, 148, 164, 137, 183, 198, 138, 152, 164, 151, 158, 113, 142, 140], \"y\": [3.0, 3.16666666666667, 3.5, 2.16666666666667, 3.0, 3.16666666666667, 3.33333333333333, 3.0, 2.83333333333333, 2.66666666666667, 3.0, 3.0, 2.33333333333333, 3.16666666666667, 3.0, 3.83333333333333, 3.16666666666667, 2.66666666666667, 2.5, 2.5, 3.33333333333333, 2.5, 3.33333333333333, 2.66666666666667, 2.83333333333333, 3.66666666666667, 3.0, 3.33333333333333, 3.0, 3.33333333333333, 2.5, 2.66666666666667, 2.83333333333333, 3.66666666666667, 2.0, 3.0, 3.16666666666667, 3.33333333333333, 2.33333333333333, 3.66666666666667, 2.83333333333333, 2.66666666666667, 3.33333333333333, 2.33333333333333, 2.0, 2.0, 2.5, 3.0, 2.16666666666667, 2.66666666666667, 3.0, 3.16666666666667, 3.0, 2.66666666666667, 2.66666666666667, 3.16666666666667, 3.0, 3.0, 2.66666666666667, 2.16666666666667, 3.0, 3.0, 2.0, 2.5, 3.16666666666667, 3.0, 3.0, 2.83333333333333, 2.83333333333333, 2.16666666666667, 2.66666666666667, 2.5, 3.16666666666667, 2.83333333333333, 2.83333333333333, 3.5, 3.0, 2.5, 3.5, 3.16666666666667, 3.0, 3.16666666666667, 2.5, 3.0, 3.5, 3.66666666666667, 2.66666666666667, 2.16666666666667, 2.0, 2.66666666666667, 2.83333333333333, 2.66666666666667, 3.66666666666667, 3.16666666666667, 3.0, 2.33333333333333, 3.33333333333333, 2.5, 2.66666666666667, 2.0, 2.66666666666667, 2.16666666666667, 2.5, 3.0, 2.5, 2.16666666666667, 3.0, 2.5, 3.16666666666667, 3.0, 2.66666666666667, 3.0, 3.33333333333333, 3.0, 3.0, 3.16666666666667, 3.16666666666667, 2.5, 3.16666666666667, 3.0, 3.5, 2.16666666666667, 3.0, 3.0, 2.83333333333333, 2.5, 2.0, 2.5, 2.0, 3.5, 2.83333333333333, 2.5, 4.16666666666667, 3.16666666666667, 2.83333333333333, 2.5, 2.66666666666667, 3.0, 2.5, 3.33333333333333, 3.0, 2.66666666666667, 3.66666666666667, 2.33333333333333, 3.0, 4.0, 3.16666666666667, 1.83333333333333, 3.0, 3.16666666666667, 3.33333333333333, 2.5, 3.66666666666667, 2.16666666666667, 3.16666666666667, 2.5, 2.0, 2.83333333333333, 3.0, 3.16666666666667, 3.0, 4.0, 3.33333333333333, 2.16666666666667, 3.0, 3.0, 3.0, 3.0, 2.33333333333333, 3.0, 3.5, 4.0, 2.0, 2.66666666666667, 3.66666666666667, 2.83333333333333, 2.5, 3.33333333333333, 2.16666666666667, 2.0, 3.0, 3.33333333333333, 2.66666666666667, 3.83333333333333, 3.16666666666667, 3.16666666666667, 2.0, 2.33333333333333, 4.16666666666667, 2.83333333333333, 2.83333333333333, 2.66666666666667, 3.0, 2.66666666666667, 2.83333333333333, 2.0, 3.16666666666667, 2.83333333333333, 2.16666666666667, 3.0, 3.0, 3.0, 5.0, 2.5, 4.0, 3.83333333333333, 2.0, 3.33333333333333, 3.66666666666667, 2.5, 3.0, 3.0, 3.0, 3.33333333333333, 2.83333333333333, 3.0, 3.33333333333333, 3.66666666666667, 2.0, 2.0, 2.66666666666667, 3.0, 3.0, 3.33333333333333, 2.66666666666667, 3.16666666666667, 3.0, 3.5, 3.16666666666667, 3.16666666666667, 1.83333333333333, 2.33333333333333, 2.33333333333333, 2.83333333333333, 3.0, 2.66666666666667, 3.0, 4.16666666666667, 4.0, 3.0, 3.33333333333333, 3.33333333333333, 3.33333333333333, 2.83333333333333, 3.5, 2.0, 2.83333333333333, 2.33333333333333, 2.0, 3.33333333333333, 2.5, 3.33333333333333, 3.33333333333333, 2.83333333333333, 3.5, 2.83333333333333, 2.5, 3.16666666666667, 3.0, 3.33333333333333, 2.5, 3.33333333333333, 3.5, 3.0, 2.16666666666667, 3.0, 3.0, 3.0, 2.5, 3.0, 3.16666666666667, 2.83333333333333, 2.33333333333333, 4.5, 2.66666666666667, 3.0, 2.33333333333333, 2.5, 2.83333333333333, 3.0, 2.83333333333333, 3.0, 2.5, 3.16666666666667, 2.16666666666667, 2.5, 2.0, 3.16666666666667, 2.33333333333333, 2.0, 2.5, 3.0, 3.0, 3.16666666666667, 2.0, 4.16666666666667, 2.66666666666667, 3.66666666666667, 1.83333333333333, 2.0, 2.83333333333333, 3.33333333333333, 3.33333333333333, 3.83333333333333, 2.66666666666667, 2.33333333333333, 2.83333333333333, 2.66666666666667, 3.0, 2.5, 2.5, 3.0, 2.16666666666667, 3.33333333333333, 3.83333333333333, 2.83333333333333, 3.0, 2.33333333333333, 3.0, 3.16666666666667, 2.66666666666667, 2.0, 2.66666666666667, 2.83333333333333, 2.0, 2.83333333333333, 3.16666666666667, 2.83333333333333, 3.0, 2.83333333333333, 3.5, 3.0, 2.33333333333333, 2.0, 2.66666666666667, 3.83333333333333, 2.0, 3.33333333333333, 2.83333333333333, 2.83333333333333, 3.83333333333333, 3.16666666666667, 3.0, 2.33333333333333, 2.83333333333333, 3.16666666666667, 3.0, 3.16666666666667, 2.83333333333333, 2.5, 3.5, 2.66666666666667, 2.5, 3.16666666666667, 2.66666666666667, 4.33333333333333, 3.0, 2.66666666666667, 2.66666666666667, 3.33333333333333, 2.5, 2.5, 2.5, 4.16666666666667, 3.0, 3.33333333333333, 3.0, 2.66666666666667, 2.33333333333333, 3.16666666666667, 2.33333333333333, 3.0, 2.0, 3.5, 2.66666666666667, 3.83333333333333, 3.0, 3.16666666666667, 2.83333333333333, 1.83333333333333, 2.83333333333333, 2.5, 2.83333333333333, 2.66666666666667, 3.5, 2.83333333333333, 3.83333333333333, 2.16666666666667, 3.5, 2.66666666666667, 2.16666666666667, 3.16666666666667, 2.5, 2.0, 3.16666666666667, 2.66666666666667, 1.83333333333333, 2.5, 2.33333333333333, 3.0, 3.0, 2.33333333333333, 2.5, 2.33333333333333, 3.66666666666667, 2.5, 3.5, 3.33333333333333, 3.33333333333333, 2.83333333333333, 2.33333333333333, 3.5, 3.0, 3.0, 3.66666666666667, 3.16666666666667, 3.66666666666667, 3.0, 3.0, 1.83333333333333, 3.66666666666667, 2.5, 2.0, 2.83333333333333, 2.83333333333333, 2.5, 4.33333333333333, 3.0, 2.66666666666667, 2.5, 2.33333333333333, 2.5, 4.33333333333333, 4.0, 2.0, 2.33333333333333, 2.5, 2.83333333333333, 2.33333333333333, 2.83333333333333, 3.5]}],\n",
              "                        {\"height\": 700, \"template\": {\"data\": {\"bar\": [{\"error_x\": {\"color\": \"#2a3f5f\"}, \"error_y\": {\"color\": \"#2a3f5f\"}, \"marker\": {\"line\": {\"color\": \"#E5ECF6\", \"width\": 0.5}}, \"type\": \"bar\"}], \"barpolar\": [{\"marker\": {\"line\": {\"color\": \"#E5ECF6\", \"width\": 0.5}}, \"type\": \"barpolar\"}], \"carpet\": [{\"aaxis\": {\"endlinecolor\": \"#2a3f5f\", \"gridcolor\": \"white\", \"linecolor\": \"white\", \"minorgridcolor\": \"white\", \"startlinecolor\": \"#2a3f5f\"}, \"baxis\": {\"endlinecolor\": \"#2a3f5f\", \"gridcolor\": \"white\", \"linecolor\": \"white\", \"minorgridcolor\": \"white\", \"startlinecolor\": \"#2a3f5f\"}, \"type\": \"carpet\"}], \"choropleth\": [{\"colorbar\": {\"outlinewidth\": 0, \"ticks\": \"\"}, \"type\": \"choropleth\"}], \"contour\": [{\"colorbar\": {\"outlinewidth\": 0, \"ticks\": \"\"}, \"colorscale\": [[0.0, \"#0d0887\"], [0.1111111111111111, \"#46039f\"], [0.2222222222222222, \"#7201a8\"], [0.3333333333333333, \"#9c179e\"], [0.4444444444444444, \"#bd3786\"], [0.5555555555555556, \"#d8576b\"], [0.6666666666666666, \"#ed7953\"], [0.7777777777777778, \"#fb9f3a\"], [0.8888888888888888, \"#fdca26\"], [1.0, \"#f0f921\"]], \"type\": \"contour\"}], \"contourcarpet\": [{\"colorbar\": {\"outlinewidth\": 0, \"ticks\": \"\"}, \"type\": \"contourcarpet\"}], \"heatmap\": [{\"colorbar\": {\"outlinewidth\": 0, \"ticks\": \"\"}, \"colorscale\": [[0.0, \"#0d0887\"], [0.1111111111111111, \"#46039f\"], [0.2222222222222222, \"#7201a8\"], [0.3333333333333333, \"#9c179e\"], [0.4444444444444444, \"#bd3786\"], [0.5555555555555556, \"#d8576b\"], [0.6666666666666666, \"#ed7953\"], [0.7777777777777778, \"#fb9f3a\"], [0.8888888888888888, \"#fdca26\"], [1.0, \"#f0f921\"]], \"type\": \"heatmap\"}], \"heatmapgl\": [{\"colorbar\": {\"outlinewidth\": 0, \"ticks\": \"\"}, \"colorscale\": [[0.0, \"#0d0887\"], [0.1111111111111111, \"#46039f\"], [0.2222222222222222, \"#7201a8\"], [0.3333333333333333, \"#9c179e\"], [0.4444444444444444, \"#bd3786\"], [0.5555555555555556, \"#d8576b\"], [0.6666666666666666, \"#ed7953\"], [0.7777777777777778, \"#fb9f3a\"], [0.8888888888888888, \"#fdca26\"], [1.0, \"#f0f921\"]], \"type\": \"heatmapgl\"}], \"histogram\": [{\"marker\": {\"colorbar\": {\"outlinewidth\": 0, \"ticks\": \"\"}}, \"type\": \"histogram\"}], \"histogram2d\": [{\"colorbar\": {\"outlinewidth\": 0, \"ticks\": \"\"}, \"colorscale\": [[0.0, \"#0d0887\"], [0.1111111111111111, \"#46039f\"], [0.2222222222222222, \"#7201a8\"], [0.3333333333333333, \"#9c179e\"], [0.4444444444444444, \"#bd3786\"], [0.5555555555555556, \"#d8576b\"], [0.6666666666666666, \"#ed7953\"], [0.7777777777777778, \"#fb9f3a\"], [0.8888888888888888, \"#fdca26\"], [1.0, \"#f0f921\"]], \"type\": \"histogram2d\"}], \"histogram2dcontour\": [{\"colorbar\": {\"outlinewidth\": 0, \"ticks\": \"\"}, \"colorscale\": [[0.0, \"#0d0887\"], [0.1111111111111111, \"#46039f\"], [0.2222222222222222, \"#7201a8\"], [0.3333333333333333, \"#9c179e\"], [0.4444444444444444, \"#bd3786\"], [0.5555555555555556, \"#d8576b\"], [0.6666666666666666, \"#ed7953\"], [0.7777777777777778, \"#fb9f3a\"], [0.8888888888888888, \"#fdca26\"], [1.0, \"#f0f921\"]], \"type\": \"histogram2dcontour\"}], \"mesh3d\": [{\"colorbar\": {\"outlinewidth\": 0, \"ticks\": \"\"}, \"type\": \"mesh3d\"}], \"parcoords\": [{\"line\": {\"colorbar\": {\"outlinewidth\": 0, \"ticks\": \"\"}}, \"type\": \"parcoords\"}], \"pie\": [{\"automargin\": true, \"type\": \"pie\"}], \"scatter\": [{\"marker\": {\"colorbar\": {\"outlinewidth\": 0, \"ticks\": \"\"}}, \"type\": \"scatter\"}], \"scatter3d\": [{\"line\": {\"colorbar\": {\"outlinewidth\": 0, \"ticks\": \"\"}}, \"marker\": {\"colorbar\": {\"outlinewidth\": 0, \"ticks\": \"\"}}, \"type\": \"scatter3d\"}], \"scattercarpet\": [{\"marker\": {\"colorbar\": {\"outlinewidth\": 0, \"ticks\": \"\"}}, \"type\": \"scattercarpet\"}], \"scattergeo\": [{\"marker\": {\"colorbar\": {\"outlinewidth\": 0, \"ticks\": \"\"}}, \"type\": \"scattergeo\"}], \"scattergl\": [{\"marker\": {\"colorbar\": {\"outlinewidth\": 0, \"ticks\": \"\"}}, \"type\": \"scattergl\"}], \"scattermapbox\": [{\"marker\": {\"colorbar\": {\"outlinewidth\": 0, \"ticks\": \"\"}}, \"type\": \"scattermapbox\"}], \"scatterpolar\": [{\"marker\": {\"colorbar\": {\"outlinewidth\": 0, \"ticks\": \"\"}}, \"type\": \"scatterpolar\"}], \"scatterpolargl\": [{\"marker\": {\"colorbar\": {\"outlinewidth\": 0, \"ticks\": \"\"}}, \"type\": \"scatterpolargl\"}], \"scatterternary\": [{\"marker\": {\"colorbar\": {\"outlinewidth\": 0, \"ticks\": \"\"}}, \"type\": \"scatterternary\"}], \"surface\": [{\"colorbar\": {\"outlinewidth\": 0, \"ticks\": \"\"}, \"colorscale\": [[0.0, \"#0d0887\"], [0.1111111111111111, \"#46039f\"], [0.2222222222222222, \"#7201a8\"], [0.3333333333333333, \"#9c179e\"], [0.4444444444444444, \"#bd3786\"], [0.5555555555555556, \"#d8576b\"], [0.6666666666666666, \"#ed7953\"], [0.7777777777777778, \"#fb9f3a\"], [0.8888888888888888, \"#fdca26\"], [1.0, \"#f0f921\"]], \"type\": \"surface\"}], \"table\": [{\"cells\": {\"fill\": {\"color\": \"#EBF0F8\"}, \"line\": {\"color\": \"white\"}}, \"header\": {\"fill\": {\"color\": \"#C8D4E3\"}, \"line\": {\"color\": \"white\"}}, \"type\": \"table\"}]}, \"layout\": {\"annotationdefaults\": {\"arrowcolor\": \"#2a3f5f\", \"arrowhead\": 0, \"arrowwidth\": 1}, \"coloraxis\": {\"colorbar\": {\"outlinewidth\": 0, \"ticks\": \"\"}}, \"colorscale\": {\"diverging\": [[0, \"#8e0152\"], [0.1, \"#c51b7d\"], [0.2, \"#de77ae\"], [0.3, \"#f1b6da\"], [0.4, \"#fde0ef\"], [0.5, \"#f7f7f7\"], [0.6, \"#e6f5d0\"], [0.7, \"#b8e186\"], [0.8, \"#7fbc41\"], [0.9, \"#4d9221\"], [1, \"#276419\"]], \"sequential\": [[0.0, \"#0d0887\"], [0.1111111111111111, \"#46039f\"], [0.2222222222222222, \"#7201a8\"], [0.3333333333333333, \"#9c179e\"], [0.4444444444444444, \"#bd3786\"], [0.5555555555555556, \"#d8576b\"], [0.6666666666666666, \"#ed7953\"], [0.7777777777777778, \"#fb9f3a\"], [0.8888888888888888, \"#fdca26\"], [1.0, \"#f0f921\"]], \"sequentialminus\": [[0.0, \"#0d0887\"], [0.1111111111111111, \"#46039f\"], [0.2222222222222222, \"#7201a8\"], [0.3333333333333333, \"#9c179e\"], [0.4444444444444444, \"#bd3786\"], [0.5555555555555556, \"#d8576b\"], [0.6666666666666666, \"#ed7953\"], [0.7777777777777778, \"#fb9f3a\"], [0.8888888888888888, \"#fdca26\"], [1.0, \"#f0f921\"]]}, \"colorway\": [\"#636efa\", \"#EF553B\", \"#00cc96\", \"#ab63fa\", \"#FFA15A\", \"#19d3f3\", \"#FF6692\", \"#B6E880\", \"#FF97FF\", \"#FECB52\"], \"font\": {\"color\": \"#2a3f5f\"}, \"geo\": {\"bgcolor\": \"white\", \"lakecolor\": \"white\", \"landcolor\": \"#E5ECF6\", \"showlakes\": true, \"showland\": true, \"subunitcolor\": \"white\"}, \"hoverlabel\": {\"align\": \"left\"}, \"hovermode\": \"closest\", \"mapbox\": {\"style\": \"light\"}, \"paper_bgcolor\": \"white\", \"plot_bgcolor\": \"#E5ECF6\", \"polar\": {\"angularaxis\": {\"gridcolor\": \"white\", \"linecolor\": \"white\", \"ticks\": \"\"}, \"bgcolor\": \"#E5ECF6\", \"radialaxis\": {\"gridcolor\": \"white\", \"linecolor\": \"white\", \"ticks\": \"\"}}, \"scene\": {\"xaxis\": {\"backgroundcolor\": \"#E5ECF6\", \"gridcolor\": \"white\", \"gridwidth\": 2, \"linecolor\": \"white\", \"showbackground\": true, \"ticks\": \"\", \"zerolinecolor\": \"white\"}, \"yaxis\": {\"backgroundcolor\": \"#E5ECF6\", \"gridcolor\": \"white\", \"gridwidth\": 2, \"linecolor\": \"white\", \"showbackground\": true, \"ticks\": \"\", \"zerolinecolor\": \"white\"}, \"zaxis\": {\"backgroundcolor\": \"#E5ECF6\", \"gridcolor\": \"white\", \"gridwidth\": 2, \"linecolor\": \"white\", \"showbackground\": true, \"ticks\": \"\", \"zerolinecolor\": \"white\"}}, \"shapedefaults\": {\"line\": {\"color\": \"#2a3f5f\"}}, \"ternary\": {\"aaxis\": {\"gridcolor\": \"white\", \"linecolor\": \"white\", \"ticks\": \"\"}, \"baxis\": {\"gridcolor\": \"white\", \"linecolor\": \"white\", \"ticks\": \"\"}, \"bgcolor\": \"#E5ECF6\", \"caxis\": {\"gridcolor\": \"white\", \"linecolor\": \"white\", \"ticks\": \"\"}}, \"title\": {\"x\": 0.05}, \"xaxis\": {\"automargin\": true, \"gridcolor\": \"white\", \"linecolor\": \"white\", \"ticks\": \"\", \"title\": {\"standoff\": 15}, \"zerolinecolor\": \"white\", \"zerolinewidth\": 2}, \"yaxis\": {\"automargin\": true, \"gridcolor\": \"white\", \"linecolor\": \"white\", \"ticks\": \"\", \"title\": {\"standoff\": 15}, \"zerolinecolor\": \"white\", \"zerolinewidth\": 2}}}, \"title\": {\"text\": \"AUT -> LACK (n=441)\"}, \"width\": 1000, \"xaxis\": {\"title\": {\"text\": \"AUT\"}}, \"yaxis\": {\"title\": {\"text\": \"LACK\"}}},\n",
              "                        {\"responsive\": true}\n",
              "                    ).then(function(){\n",
              "                            \n",
              "var gd = document.getElementById('7f39e0f0-bfc1-4064-8b2c-a12ad959aaa4');\n",
              "var x = new MutationObserver(function (mutations, observer) {{\n",
              "        var display = window.getComputedStyle(gd).display;\n",
              "        if (!display || display === 'none') {{\n",
              "            console.log([gd, 'removed!']);\n",
              "            Plotly.purge(gd);\n",
              "            observer.disconnect();\n",
              "        }}\n",
              "}});\n",
              "\n",
              "// Listen for the removal of the full notebook cells\n",
              "var notebookContainer = gd.closest('#notebook-container');\n",
              "if (notebookContainer) {{\n",
              "    x.observe(notebookContainer, {childList: true});\n",
              "}}\n",
              "\n",
              "// Listen for the clearing of the current output cell\n",
              "var outputEl = gd.closest('.output');\n",
              "if (outputEl) {{\n",
              "    x.observe(outputEl, {childList: true});\n",
              "}}\n",
              "\n",
              "                        })\n",
              "                };\n",
              "                \n",
              "            </script>\n",
              "        </div>\n",
              "</body>\n",
              "</html>"
            ]
          },
          "metadata": {
            "tags": []
          }
        }
      ]
    },
    {
      "cell_type": "code",
      "metadata": {
        "colab": {
          "base_uri": "https://localhost:8080/"
        },
        "id": "-7_ulUVVgmBT",
        "outputId": "9bdea1fa-0132-4378-8e71-7913fef5dd79"
      },
      "source": [
        "MakeRegressions(aut, lack)"
      ],
      "execution_count": null,
      "outputs": [
        {
          "output_type": "stream",
          "text": [
            "Regresja liniowa R2 =  0.05249682402834244\n",
            "Regresja kwadratowa R2 =  0.05297467148785928\n",
            "Regresja stopnia 3 R2 =  0.07583241719639411\n",
            "Regresja stopnia 4 R2 =  0.0794659527794992\n"
          ],
          "name": "stdout"
        }
      ]
    },
    {
      "cell_type": "code",
      "metadata": {
        "colab": {
          "base_uri": "https://localhost:8080/"
        },
        "id": "wsGZ3riNitgF",
        "outputId": "d6dac708-5e25-4ad7-e335-9db8a17612f3"
      },
      "source": [
        "df = df_subscales[['LACK','AUT']]\n",
        "df['AUT^2'] = pow(df['AUT'],2)\n",
        "df['AUT^3'] = pow(df['AUT'],3)\n",
        "\n",
        "X = df[['AUT']]\n",
        "X = sm.add_constant(X)\n",
        "y = df['LACK']\n",
        "\n",
        "model = sm.OLS(y, X).fit()\n",
        "predictions = model.predict(X)\n",
        "\n",
        "print(model.summary())"
      ],
      "execution_count": null,
      "outputs": [
        {
          "output_type": "stream",
          "text": [
            "                            OLS Regression Results                            \n",
            "==============================================================================\n",
            "Dep. Variable:                   LACK   R-squared:                       0.052\n",
            "Model:                            OLS   Adj. R-squared:                  0.050\n",
            "Method:                 Least Squares   F-statistic:                     24.32\n",
            "Date:                Sat, 27 Mar 2021   Prob (F-statistic):           1.16e-06\n",
            "Time:                        11:58:12   Log-Likelihood:                -328.90\n",
            "No. Observations:                 441   AIC:                             661.8\n",
            "Df Residuals:                     439   BIC:                             670.0\n",
            "Df Model:                           1                                         \n",
            "Covariance Type:            nonrobust                                         \n",
            "==============================================================================\n",
            "                 coef    std err          t      P>|t|      [0.025      0.975]\n",
            "------------------------------------------------------------------------------\n",
            "const          1.8702      0.208      9.012      0.000       1.462       2.278\n",
            "AUT            0.0067      0.001      4.932      0.000       0.004       0.009\n",
            "==============================================================================\n",
            "Omnibus:                        7.687   Durbin-Watson:                   2.035\n",
            "Prob(Omnibus):                  0.021   Jarque-Bera (JB):                7.567\n",
            "Skew:                           0.294   Prob(JB):                       0.0227\n",
            "Kurtosis:                       3.258   Cond. No.                     1.29e+03\n",
            "==============================================================================\n",
            "\n",
            "Warnings:\n",
            "[1] Standard Errors assume that the covariance matrix of the errors is correctly specified.\n",
            "[2] The condition number is large, 1.29e+03. This might indicate that there are\n",
            "strong multicollinearity or other numerical problems.\n"
          ],
          "name": "stdout"
        },
        {
          "output_type": "stream",
          "text": [
            "/usr/local/lib/python3.7/dist-packages/ipykernel_launcher.py:2: SettingWithCopyWarning:\n",
            "\n",
            "\n",
            "A value is trying to be set on a copy of a slice from a DataFrame.\n",
            "Try using .loc[row_indexer,col_indexer] = value instead\n",
            "\n",
            "See the caveats in the documentation: https://pandas.pydata.org/pandas-docs/stable/user_guide/indexing.html#returning-a-view-versus-a-copy\n",
            "\n",
            "/usr/local/lib/python3.7/dist-packages/ipykernel_launcher.py:3: SettingWithCopyWarning:\n",
            "\n",
            "\n",
            "A value is trying to be set on a copy of a slice from a DataFrame.\n",
            "Try using .loc[row_indexer,col_indexer] = value instead\n",
            "\n",
            "See the caveats in the documentation: https://pandas.pydata.org/pandas-docs/stable/user_guide/indexing.html#returning-a-view-versus-a-copy\n",
            "\n"
          ],
          "name": "stderr"
        }
      ]
    },
    {
      "cell_type": "code",
      "metadata": {
        "colab": {
          "base_uri": "https://localhost:8080/"
        },
        "id": "oT2moqphjF66",
        "outputId": "e6e72574-ea79-4712-d625-de18e71fb734"
      },
      "source": [
        "X = df[['AUT', 'AUT^2', 'AUT^3']]\n",
        "X = sm.add_constant(X)\n",
        "y = df['LACK']\n",
        "\n",
        "model = sm.OLS(y, X).fit()\n",
        "predictions = model.predict(X)\n",
        "\n",
        "print(model.summary())"
      ],
      "execution_count": null,
      "outputs": [
        {
          "output_type": "stream",
          "text": [
            "                            OLS Regression Results                            \n",
            "==============================================================================\n",
            "Dep. Variable:                   LACK   R-squared:                       0.076\n",
            "Model:                            OLS   Adj. R-squared:                  0.069\n",
            "Method:                 Least Squares   F-statistic:                     11.95\n",
            "Date:                Sat, 27 Mar 2021   Prob (F-statistic):           1.55e-07\n",
            "Time:                        12:00:22   Log-Likelihood:                -323.40\n",
            "No. Observations:                 441   AIC:                             654.8\n",
            "Df Residuals:                     437   BIC:                             671.2\n",
            "Df Model:                           3                                         \n",
            "Covariance Type:            nonrobust                                         \n",
            "==============================================================================\n",
            "                 coef    std err          t      P>|t|      [0.025      0.975]\n",
            "------------------------------------------------------------------------------\n",
            "const         33.5278      9.533      3.517      0.000      14.791      52.265\n",
            "AUT           -0.6003      0.183     -3.282      0.001      -0.960      -0.241\n",
            "AUT^2          0.0038      0.001      3.308      0.001       0.002       0.006\n",
            "AUT^3      -7.994e-06   2.43e-06     -3.288      0.001   -1.28e-05   -3.21e-06\n",
            "==============================================================================\n",
            "Omnibus:                        5.156   Durbin-Watson:                   2.043\n",
            "Prob(Omnibus):                  0.076   Jarque-Bera (JB):                4.926\n",
            "Skew:                           0.241   Prob(JB):                       0.0852\n",
            "Kurtosis:                       3.189   Cond. No.                     1.51e+09\n",
            "==============================================================================\n",
            "\n",
            "Warnings:\n",
            "[1] Standard Errors assume that the covariance matrix of the errors is correctly specified.\n",
            "[2] The condition number is large, 1.51e+09. This might indicate that there are\n",
            "strong multicollinearity or other numerical problems.\n"
          ],
          "name": "stdout"
        }
      ]
    },
    {
      "cell_type": "markdown",
      "metadata": {
        "id": "9RKJ7Txog_tZ"
      },
      "source": [
        "####Visualization"
      ]
    },
    {
      "cell_type": "code",
      "metadata": {
        "id": "FV58F5yxgqCX"
      },
      "source": [
        "# linear\n",
        "regressor = LinearRegression()\n",
        "regressor.fit(aut, lack)\n",
        "y_pred_lin = regressor.predict(aut)\n",
        "lack_pred_lin = pd.DataFrame(y_pred_lin)\n",
        "\n",
        "# 3' degree\n",
        "poly = PolynomialFeatures(degree=3)\n",
        "aut_3 = poly.fit_transform(aut)\n",
        "\n",
        "regressor.fit(aut_3,lack)\n",
        "y_pred_3 = regressor.predict(aut_3)\n",
        "degree_3_r2 = r2_score(lack, y_pred_3)\n",
        "\n",
        "# visualization data\n",
        "temp_df_3 = pd.DataFrame(aut, columns=['aut'])\n",
        "temp_df_3.sort_values(by='aut', inplace=True)\n",
        "temp_df = pd.DataFrame(y_pred_3)\n",
        "temp_df_3['lack_pred'] = temp_df"
      ],
      "execution_count": null,
      "outputs": []
    },
    {
      "cell_type": "code",
      "metadata": {
        "colab": {
          "base_uri": "https://localhost:8080/",
          "height": 717
        },
        "id": "CKAtW-5ThW5S",
        "outputId": "05aab387-0f87-4089-bd38-294b6d219931"
      },
      "source": [
        "# wykres całościowy\n",
        "  \n",
        "fig = go.Figure(\n",
        "      data=[\n",
        "            go.Scatter(\n",
        "                name = 'Raw results',\n",
        "                x = df_subscales['AUT'],\n",
        "                y = df_subscales['LACK'],\n",
        "                mode = 'markers',\n",
        "                opacity=0.75\n",
        "            ),\n",
        "            go.Scatter(\n",
        "                name = f'Linear regression, adj. R2=.05',\n",
        "                x = df_subscales['AUT'],\n",
        "                y = lack_pred_lin[0],\n",
        "                mode = 'lines',\n",
        "                marker_color='#FF9F1C'\n",
        "            ),\n",
        "            go.Scatter(\n",
        "                name = f'3 degree regression, adj. R2=.07',\n",
        "                x = temp_df_3['aut'],\n",
        "                y = temp_df_3['lack_pred'],\n",
        "                mode = 'lines',\n",
        "                marker_color='#011627'\n",
        "            ),\n",
        "            ],\n",
        "      layout=go.Layout(\n",
        "          title = f'AUT * LACK (N={len(df_subscales)})',\n",
        "          xaxis_title = 'AUT',\n",
        "          yaxis_title='LACK',\n",
        "          width = 1100,\n",
        "          height = 700,\n",
        "          font_size=16\n",
        "      ))\n",
        "fig.show()"
      ],
      "execution_count": null,
      "outputs": [
        {
          "output_type": "display_data",
          "data": {
            "text/html": [
              "<html>\n",
              "<head><meta charset=\"utf-8\" /></head>\n",
              "<body>\n",
              "    <div>\n",
              "            <script src=\"https://cdnjs.cloudflare.com/ajax/libs/mathjax/2.7.5/MathJax.js?config=TeX-AMS-MML_SVG\"></script><script type=\"text/javascript\">if (window.MathJax) {MathJax.Hub.Config({SVG: {font: \"STIX-Web\"}});}</script>\n",
              "                <script type=\"text/javascript\">window.PlotlyConfig = {MathJaxConfig: 'local'};</script>\n",
              "        <script src=\"https://cdn.plot.ly/plotly-latest.min.js\"></script>    \n",
              "            <div id=\"6388e234-896b-400e-8eae-88c9366ff213\" class=\"plotly-graph-div\" style=\"height:700px; width:1100px;\"></div>\n",
              "            <script type=\"text/javascript\">\n",
              "                \n",
              "                    window.PLOTLYENV=window.PLOTLYENV || {};\n",
              "                    \n",
              "                if (document.getElementById(\"6388e234-896b-400e-8eae-88c9366ff213\")) {\n",
              "                    Plotly.newPlot(\n",
              "                        '6388e234-896b-400e-8eae-88c9366ff213',\n",
              "                        [{\"mode\": \"markers\", \"name\": \"Raw results\", \"opacity\": 0.75, \"type\": \"scatter\", \"x\": [150, 170, 131, 167, 123, 168, 174, 135, 194, 132, 139, 135, 134, 185, 135, 199, 150, 151, 153, 159, 136, 128, 142, 157, 129, 140, 154, 153, 135, 168, 134, 183, 154, 158, 137, 186, 151, 144, 146, 112, 185, 184, 168, 166, 135, 134, 145, 139, 136, 138, 135, 143, 140, 133, 129, 199, 138, 174, 149, 158, 141, 135, 139, 147, 159, 135, 186, 160, 191, 160, 143, 136, 140, 141, 132, 134, 156, 144, 128, 167, 135, 159, 154, 193, 152, 161, 135, 162, 139, 145, 153, 127, 141, 177, 147, 154, 149, 141, 141, 138, 147, 159, 147, 150, 135, 134, 169, 142, 160, 157, 131, 134, 141, 135, 136, 165, 159, 143, 153, 129, 153, 134, 135, 130, 154, 134, 140, 201, 140, 181, 162, 157, 189, 124, 141, 134, 150, 141, 172, 149, 179, 142, 167, 179, 135, 163, 128, 136, 135, 133, 180, 134, 163, 140, 122, 154, 137, 147, 171, 145, 135, 166, 133, 145, 180, 164, 135, 135, 167, 148, 154, 134, 140, 201, 158, 138, 142, 173, 133, 133, 144, 185, 134, 167, 162, 186, 139, 185, 137, 167, 157, 142, 143, 142, 158, 132, 129, 180, 145, 151, 152, 139, 173, 139, 138, 156, 135, 137, 191, 160, 136, 142, 166, 154, 134, 126, 128, 157, 154, 136, 151, 174, 135, 156, 139, 129, 149, 173, 142, 162, 144, 145, 141, 128, 135, 123, 156, 115, 159, 135, 169, 193, 161, 137, 157, 185, 199, 141, 129, 142, 135, 162, 142, 130, 153, 162, 133, 148, 172, 156, 148, 163, 152, 112, 126, 135, 136, 154, 156, 147, 162, 135, 191, 171, 155, 135, 135, 143, 160, 135, 141, 173, 138, 161, 170, 142, 142, 161, 139, 137, 140, 140, 174, 146, 152, 171, 136, 148, 166, 141, 177, 165, 140, 150, 162, 137, 148, 135, 136, 135, 157, 145, 176, 134, 155, 178, 156, 165, 140, 157, 137, 137, 162, 155, 131, 150, 184, 167, 161, 159, 137, 138, 137, 139, 144, 154, 140, 138, 144, 138, 177, 173, 171, 134, 160, 127, 139, 160, 124, 132, 171, 144, 126, 148, 144, 192, 135, 143, 177, 143, 133, 133, 141, 161, 200, 150, 134, 139, 130, 180, 143, 164, 136, 171, 163, 140, 199, 163, 124, 140, 127, 144, 205, 140, 151, 140, 186, 156, 189, 130, 153, 137, 137, 146, 148, 179, 174, 133, 143, 152, 135, 155, 157, 160, 136, 160, 171, 153, 168, 133, 173, 148, 135, 137, 162, 168, 168, 139, 173, 149, 163, 151, 146, 160, 166, 142, 167, 154, 148, 164, 137, 183, 198, 138, 152, 164, 151, 158, 113, 142, 140], \"y\": [3.0, 3.16666666666667, 3.5, 2.16666666666667, 3.0, 3.16666666666667, 3.33333333333333, 3.0, 2.83333333333333, 2.66666666666667, 3.0, 3.0, 2.33333333333333, 3.16666666666667, 3.0, 3.83333333333333, 3.16666666666667, 2.66666666666667, 2.5, 2.5, 3.33333333333333, 2.5, 3.33333333333333, 2.66666666666667, 2.83333333333333, 3.66666666666667, 3.0, 3.33333333333333, 3.0, 3.33333333333333, 2.5, 2.66666666666667, 2.83333333333333, 3.66666666666667, 2.0, 3.0, 3.16666666666667, 3.33333333333333, 2.33333333333333, 3.66666666666667, 2.83333333333333, 2.66666666666667, 3.33333333333333, 2.33333333333333, 2.0, 2.0, 2.5, 3.0, 2.16666666666667, 2.66666666666667, 3.0, 3.16666666666667, 3.0, 2.66666666666667, 2.66666666666667, 3.16666666666667, 3.0, 3.0, 2.66666666666667, 2.16666666666667, 3.0, 3.0, 2.0, 2.5, 3.16666666666667, 3.0, 3.0, 2.83333333333333, 2.83333333333333, 2.16666666666667, 2.66666666666667, 2.5, 3.16666666666667, 2.83333333333333, 2.83333333333333, 3.5, 3.0, 2.5, 3.5, 3.16666666666667, 3.0, 3.16666666666667, 2.5, 3.0, 3.5, 3.66666666666667, 2.66666666666667, 2.16666666666667, 2.0, 2.66666666666667, 2.83333333333333, 2.66666666666667, 3.66666666666667, 3.16666666666667, 3.0, 2.33333333333333, 3.33333333333333, 2.5, 2.66666666666667, 2.0, 2.66666666666667, 2.16666666666667, 2.5, 3.0, 2.5, 2.16666666666667, 3.0, 2.5, 3.16666666666667, 3.0, 2.66666666666667, 3.0, 3.33333333333333, 3.0, 3.0, 3.16666666666667, 3.16666666666667, 2.5, 3.16666666666667, 3.0, 3.5, 2.16666666666667, 3.0, 3.0, 2.83333333333333, 2.5, 2.0, 2.5, 2.0, 3.5, 2.83333333333333, 2.5, 4.16666666666667, 3.16666666666667, 2.83333333333333, 2.5, 2.66666666666667, 3.0, 2.5, 3.33333333333333, 3.0, 2.66666666666667, 3.66666666666667, 2.33333333333333, 3.0, 4.0, 3.16666666666667, 1.83333333333333, 3.0, 3.16666666666667, 3.33333333333333, 2.5, 3.66666666666667, 2.16666666666667, 3.16666666666667, 2.5, 2.0, 2.83333333333333, 3.0, 3.16666666666667, 3.0, 4.0, 3.33333333333333, 2.16666666666667, 3.0, 3.0, 3.0, 3.0, 2.33333333333333, 3.0, 3.5, 4.0, 2.0, 2.66666666666667, 3.66666666666667, 2.83333333333333, 2.5, 3.33333333333333, 2.16666666666667, 2.0, 3.0, 3.33333333333333, 2.66666666666667, 3.83333333333333, 3.16666666666667, 3.16666666666667, 2.0, 2.33333333333333, 4.16666666666667, 2.83333333333333, 2.83333333333333, 2.66666666666667, 3.0, 2.66666666666667, 2.83333333333333, 2.0, 3.16666666666667, 2.83333333333333, 2.16666666666667, 3.0, 3.0, 3.0, 5.0, 2.5, 4.0, 3.83333333333333, 2.0, 3.33333333333333, 3.66666666666667, 2.5, 3.0, 3.0, 3.0, 3.33333333333333, 2.83333333333333, 3.0, 3.33333333333333, 3.66666666666667, 2.0, 2.0, 2.66666666666667, 3.0, 3.0, 3.33333333333333, 2.66666666666667, 3.16666666666667, 3.0, 3.5, 3.16666666666667, 3.16666666666667, 1.83333333333333, 2.33333333333333, 2.33333333333333, 2.83333333333333, 3.0, 2.66666666666667, 3.0, 4.16666666666667, 4.0, 3.0, 3.33333333333333, 3.33333333333333, 3.33333333333333, 2.83333333333333, 3.5, 2.0, 2.83333333333333, 2.33333333333333, 2.0, 3.33333333333333, 2.5, 3.33333333333333, 3.33333333333333, 2.83333333333333, 3.5, 2.83333333333333, 2.5, 3.16666666666667, 3.0, 3.33333333333333, 2.5, 3.33333333333333, 3.5, 3.0, 2.16666666666667, 3.0, 3.0, 3.0, 2.5, 3.0, 3.16666666666667, 2.83333333333333, 2.33333333333333, 4.5, 2.66666666666667, 3.0, 2.33333333333333, 2.5, 2.83333333333333, 3.0, 2.83333333333333, 3.0, 2.5, 3.16666666666667, 2.16666666666667, 2.5, 2.0, 3.16666666666667, 2.33333333333333, 2.0, 2.5, 3.0, 3.0, 3.16666666666667, 2.0, 4.16666666666667, 2.66666666666667, 3.66666666666667, 1.83333333333333, 2.0, 2.83333333333333, 3.33333333333333, 3.33333333333333, 3.83333333333333, 2.66666666666667, 2.33333333333333, 2.83333333333333, 2.66666666666667, 3.0, 2.5, 2.5, 3.0, 2.16666666666667, 3.33333333333333, 3.83333333333333, 2.83333333333333, 3.0, 2.33333333333333, 3.0, 3.16666666666667, 2.66666666666667, 2.0, 2.66666666666667, 2.83333333333333, 2.0, 2.83333333333333, 3.16666666666667, 2.83333333333333, 3.0, 2.83333333333333, 3.5, 3.0, 2.33333333333333, 2.0, 2.66666666666667, 3.83333333333333, 2.0, 3.33333333333333, 2.83333333333333, 2.83333333333333, 3.83333333333333, 3.16666666666667, 3.0, 2.33333333333333, 2.83333333333333, 3.16666666666667, 3.0, 3.16666666666667, 2.83333333333333, 2.5, 3.5, 2.66666666666667, 2.5, 3.16666666666667, 2.66666666666667, 4.33333333333333, 3.0, 2.66666666666667, 2.66666666666667, 3.33333333333333, 2.5, 2.5, 2.5, 4.16666666666667, 3.0, 3.33333333333333, 3.0, 2.66666666666667, 2.33333333333333, 3.16666666666667, 2.33333333333333, 3.0, 2.0, 3.5, 2.66666666666667, 3.83333333333333, 3.0, 3.16666666666667, 2.83333333333333, 1.83333333333333, 2.83333333333333, 2.5, 2.83333333333333, 2.66666666666667, 3.5, 2.83333333333333, 3.83333333333333, 2.16666666666667, 3.5, 2.66666666666667, 2.16666666666667, 3.16666666666667, 2.5, 2.0, 3.16666666666667, 2.66666666666667, 1.83333333333333, 2.5, 2.33333333333333, 3.0, 3.0, 2.33333333333333, 2.5, 2.33333333333333, 3.66666666666667, 2.5, 3.5, 3.33333333333333, 3.33333333333333, 2.83333333333333, 2.33333333333333, 3.5, 3.0, 3.0, 3.66666666666667, 3.16666666666667, 3.66666666666667, 3.0, 3.0, 1.83333333333333, 3.66666666666667, 2.5, 2.0, 2.83333333333333, 2.83333333333333, 2.5, 4.33333333333333, 3.0, 2.66666666666667, 2.5, 2.33333333333333, 2.5, 4.33333333333333, 4.0, 2.0, 2.33333333333333, 2.5, 2.83333333333333, 2.33333333333333, 2.83333333333333, 3.5]}, {\"marker\": {\"color\": \"#FF9F1C\"}, \"mode\": \"lines\", \"name\": \"Linear regression, adj. R2=.05\", \"type\": \"scatter\", \"x\": [150, 170, 131, 167, 123, 168, 174, 135, 194, 132, 139, 135, 134, 185, 135, 199, 150, 151, 153, 159, 136, 128, 142, 157, 129, 140, 154, 153, 135, 168, 134, 183, 154, 158, 137, 186, 151, 144, 146, 112, 185, 184, 168, 166, 135, 134, 145, 139, 136, 138, 135, 143, 140, 133, 129, 199, 138, 174, 149, 158, 141, 135, 139, 147, 159, 135, 186, 160, 191, 160, 143, 136, 140, 141, 132, 134, 156, 144, 128, 167, 135, 159, 154, 193, 152, 161, 135, 162, 139, 145, 153, 127, 141, 177, 147, 154, 149, 141, 141, 138, 147, 159, 147, 150, 135, 134, 169, 142, 160, 157, 131, 134, 141, 135, 136, 165, 159, 143, 153, 129, 153, 134, 135, 130, 154, 134, 140, 201, 140, 181, 162, 157, 189, 124, 141, 134, 150, 141, 172, 149, 179, 142, 167, 179, 135, 163, 128, 136, 135, 133, 180, 134, 163, 140, 122, 154, 137, 147, 171, 145, 135, 166, 133, 145, 180, 164, 135, 135, 167, 148, 154, 134, 140, 201, 158, 138, 142, 173, 133, 133, 144, 185, 134, 167, 162, 186, 139, 185, 137, 167, 157, 142, 143, 142, 158, 132, 129, 180, 145, 151, 152, 139, 173, 139, 138, 156, 135, 137, 191, 160, 136, 142, 166, 154, 134, 126, 128, 157, 154, 136, 151, 174, 135, 156, 139, 129, 149, 173, 142, 162, 144, 145, 141, 128, 135, 123, 156, 115, 159, 135, 169, 193, 161, 137, 157, 185, 199, 141, 129, 142, 135, 162, 142, 130, 153, 162, 133, 148, 172, 156, 148, 163, 152, 112, 126, 135, 136, 154, 156, 147, 162, 135, 191, 171, 155, 135, 135, 143, 160, 135, 141, 173, 138, 161, 170, 142, 142, 161, 139, 137, 140, 140, 174, 146, 152, 171, 136, 148, 166, 141, 177, 165, 140, 150, 162, 137, 148, 135, 136, 135, 157, 145, 176, 134, 155, 178, 156, 165, 140, 157, 137, 137, 162, 155, 131, 150, 184, 167, 161, 159, 137, 138, 137, 139, 144, 154, 140, 138, 144, 138, 177, 173, 171, 134, 160, 127, 139, 160, 124, 132, 171, 144, 126, 148, 144, 192, 135, 143, 177, 143, 133, 133, 141, 161, 200, 150, 134, 139, 130, 180, 143, 164, 136, 171, 163, 140, 199, 163, 124, 140, 127, 144, 205, 140, 151, 140, 186, 156, 189, 130, 153, 137, 137, 146, 148, 179, 174, 133, 143, 152, 135, 155, 157, 160, 136, 160, 171, 153, 168, 133, 173, 148, 135, 137, 162, 168, 168, 139, 173, 149, 163, 151, 146, 160, 166, 142, 167, 154, 148, 164, 137, 183, 198, 138, 152, 164, 151, 158, 113, 142, 140], \"y\": [2.882154484615821, 3.0170772438228655, 2.7539778633691294, 2.996838829941809, 2.7000087596863116, 3.003584967902161, 3.044061795664274, 2.780962415210538, 3.1789845548713185, 2.7607240013294816, 2.8079469670519472, 2.780962415210538, 2.774216277250186, 3.118269313228149, 2.780962415210538, 3.21271524467308, 2.882154484615821, 2.8889006225761733, 2.9023928984968776, 2.9428697262589916, 2.7877085531708903, 2.7337394494880725, 2.8281853809330038, 2.929377450338287, 2.7404855874484246, 2.8146931050122994, 2.9091390364572303, 2.9023928984968776, 2.780962415210538, 3.003584967902161, 2.774216277250186, 3.1047770373074446, 2.9091390364572303, 2.936123588298639, 2.7944546911312425, 3.125015451188501, 2.8889006225761733, 2.841677656853708, 2.8551699327744124, 2.6258012421224373, 3.118269313228149, 3.1115231752677968, 3.003584967902161, 2.9900926919814568, 2.780962415210538, 2.774216277250186, 2.8484237948140603, 2.8079469670519472, 2.7877085531708903, 2.801200829091595, 2.780962415210538, 2.834931518893356, 2.8146931050122994, 2.7674701392898338, 2.7404855874484246, 3.21271524467308, 2.801200829091595, 3.044061795664274, 2.875408346655469, 2.936123588298639, 2.8214392429726516, 2.780962415210538, 2.8079469670519472, 2.8619160707347646, 2.9428697262589916, 2.780962415210538, 3.125015451188501, 2.9496158642193437, 3.158746140990262, 2.9496158642193437, 2.834931518893356, 2.7877085531708903, 2.8146931050122994, 2.8214392429726516, 2.7607240013294816, 2.774216277250186, 2.9226313123779346, 2.841677656853708, 2.7337394494880725, 2.996838829941809, 2.780962415210538, 2.9428697262589916, 2.9091390364572303, 3.1722384169109663, 2.8956467605365255, 2.956362002179696, 2.780962415210538, 2.963108140140048, 2.8079469670519472, 2.8484237948140603, 2.9023928984968776, 2.7269933115277203, 2.8214392429726516, 3.064300209545331, 2.8619160707347646, 2.9091390364572303, 2.875408346655469, 2.8214392429726516, 2.8214392429726516, 2.801200829091595, 2.8619160707347646, 2.9428697262589916, 2.8619160707347646, 2.882154484615821, 2.780962415210538, 2.774216277250186, 3.0103311058625133, 2.8281853809330038, 2.9496158642193437, 2.929377450338287, 2.7539778633691294, 2.774216277250186, 2.8214392429726516, 2.780962415210538, 2.7877085531708903, 2.9833465540211046, 2.9428697262589916, 2.834931518893356, 2.9023928984968776, 2.7404855874484246, 2.9023928984968776, 2.774216277250186, 2.780962415210538, 2.7472317254087772, 2.9091390364572303, 2.774216277250186, 2.8146931050122994, 3.226207520593784, 2.8146931050122994, 3.0912847613867402, 2.963108140140048, 2.929377450338287, 3.1452538650695576, 2.7067548976466638, 2.8214392429726516, 2.774216277250186, 2.882154484615821, 2.8214392429726516, 3.03056951974357, 2.875408346655469, 3.0777924854660355, 2.8281853809330038, 2.996838829941809, 3.0777924854660355, 2.780962415210538, 2.9698542781004003, 2.7337394494880725, 2.7877085531708903, 2.780962415210538, 2.7674701392898338, 3.0845386234263876, 2.774216277250186, 2.9698542781004003, 2.8146931050122994, 2.6932626217259594, 2.9091390364572303, 2.7944546911312425, 2.8619160707347646, 3.0238233817832176, 2.8484237948140603, 2.780962415210538, 2.9900926919814568, 2.7674701392898338, 2.8484237948140603, 3.0845386234263876, 2.9766004160607524, 2.780962415210538, 2.780962415210538, 2.996838829941809, 2.868662208695117, 2.9091390364572303, 2.774216277250186, 2.8146931050122994, 3.226207520593784, 2.936123588298639, 2.801200829091595, 2.8281853809330038, 3.037315657703922, 2.7674701392898338, 2.7674701392898338, 2.841677656853708, 3.118269313228149, 2.774216277250186, 2.996838829941809, 2.963108140140048, 3.125015451188501, 2.8079469670519472, 3.118269313228149, 2.7944546911312425, 2.996838829941809, 2.929377450338287, 2.8281853809330038, 2.834931518893356, 2.8281853809330038, 2.936123588298639, 2.7607240013294816, 2.7404855874484246, 3.0845386234263876, 2.8484237948140603, 2.8889006225761733, 2.8956467605365255, 2.8079469670519472, 3.037315657703922, 2.8079469670519472, 2.801200829091595, 2.9226313123779346, 2.780962415210538, 2.7944546911312425, 3.158746140990262, 2.9496158642193437, 2.7877085531708903, 2.8281853809330038, 2.9900926919814568, 2.9091390364572303, 2.774216277250186, 2.720247173567368, 2.7337394494880725, 2.929377450338287, 2.9091390364572303, 2.7877085531708903, 2.8889006225761733, 3.044061795664274, 2.780962415210538, 2.9226313123779346, 2.8079469670519472, 2.7404855874484246, 2.875408346655469, 3.037315657703922, 2.8281853809330038, 2.963108140140048, 2.841677656853708, 2.8484237948140603, 2.8214392429726516, 2.7337394494880725, 2.780962415210538, 2.7000087596863116, 2.9226313123779346, 2.646039656003494, 2.9428697262589916, 2.780962415210538, 3.0103311058625133, 3.1722384169109663, 2.956362002179696, 2.7944546911312425, 2.929377450338287, 3.118269313228149, 3.21271524467308, 2.8214392429726516, 2.7404855874484246, 2.8281853809330038, 2.780962415210538, 2.963108140140048, 2.8281853809330038, 2.7472317254087772, 2.9023928984968776, 2.963108140140048, 2.7674701392898338, 2.868662208695117, 3.03056951974357, 2.9226313123779346, 2.868662208695117, 2.9698542781004003, 2.8956467605365255, 2.6258012421224373, 2.720247173567368, 2.780962415210538, 2.7877085531708903, 2.9091390364572303, 2.9226313123779346, 2.8619160707347646, 2.963108140140048, 2.780962415210538, 3.158746140990262, 3.0238233817832176, 2.9158851744175824, 2.780962415210538, 2.780962415210538, 2.834931518893356, 2.9496158642193437, 2.780962415210538, 2.8214392429726516, 3.037315657703922, 2.801200829091595, 2.956362002179696, 3.0170772438228655, 2.8281853809330038, 2.8281853809330038, 2.956362002179696, 2.8079469670519472, 2.7944546911312425, 2.8146931050122994, 2.8146931050122994, 3.044061795664274, 2.8551699327744124, 2.8956467605365255, 3.0238233817832176, 2.7877085531708903, 2.868662208695117, 2.9900926919814568, 2.8214392429726516, 3.064300209545331, 2.9833465540211046, 2.8146931050122994, 2.882154484615821, 2.963108140140048, 2.7944546911312425, 2.868662208695117, 2.780962415210538, 2.7877085531708903, 2.780962415210538, 2.929377450338287, 2.8484237948140603, 3.057554071584979, 2.774216277250186, 2.9158851744175824, 3.0710463475056833, 2.9226313123779346, 2.9833465540211046, 2.8146931050122994, 2.929377450338287, 2.7944546911312425, 2.7944546911312425, 2.963108140140048, 2.9158851744175824, 2.7539778633691294, 2.882154484615821, 3.1115231752677968, 2.996838829941809, 2.956362002179696, 2.9428697262589916, 2.7944546911312425, 2.801200829091595, 2.7944546911312425, 2.8079469670519472, 2.841677656853708, 2.9091390364572303, 2.8146931050122994, 2.801200829091595, 2.841677656853708, 2.801200829091595, 3.064300209545331, 3.037315657703922, 3.0238233817832176, 2.774216277250186, 2.9496158642193437, 2.7269933115277203, 2.8079469670519472, 2.9496158642193437, 2.7067548976466638, 2.7607240013294816, 3.0238233817832176, 2.841677656853708, 2.720247173567368, 2.868662208695117, 2.841677656853708, 3.165492278950614, 2.780962415210538, 2.834931518893356, 3.064300209545331, 2.834931518893356, 2.7674701392898338, 2.7674701392898338, 2.8214392429726516, 2.956362002179696, 3.219461382633432, 2.882154484615821, 2.774216277250186, 2.8079469670519472, 2.7472317254087772, 3.0845386234263876, 2.834931518893356, 2.9766004160607524, 2.7877085531708903, 3.0238233817832176, 2.9698542781004003, 2.8146931050122994, 3.21271524467308, 2.9698542781004003, 2.7067548976466638, 2.8146931050122994, 2.7269933115277203, 2.841677656853708, 3.2531920724351933, 2.8146931050122994, 2.8889006225761733, 2.8146931050122994, 3.125015451188501, 2.9226313123779346, 3.1452538650695576, 2.7472317254087772, 2.9023928984968776, 2.7944546911312425, 2.7944546911312425, 2.8551699327744124, 2.868662208695117, 3.0777924854660355, 3.044061795664274, 2.7674701392898338, 2.834931518893356, 2.8956467605365255, 2.780962415210538, 2.9158851744175824, 2.929377450338287, 2.9496158642193437, 2.7877085531708903, 2.9496158642193437, 3.0238233817832176, 2.9023928984968776, 3.003584967902161, 2.7674701392898338, 3.037315657703922, 2.868662208695117, 2.780962415210538, 2.7944546911312425, 2.963108140140048, 3.003584967902161, 3.003584967902161, 2.8079469670519472, 3.037315657703922, 2.875408346655469, 2.9698542781004003, 2.8889006225761733, 2.8551699327744124, 2.9496158642193437, 2.9900926919814568, 2.8281853809330038, 2.996838829941809, 2.9091390364572303, 2.868662208695117, 2.9766004160607524, 2.7944546911312425, 3.1047770373074446, 3.2059691067127276, 2.801200829091595, 2.8956467605365255, 2.9766004160607524, 2.8889006225761733, 2.936123588298639, 2.6325473800827894, 2.8281853809330038, 2.8146931050122994]}, {\"marker\": {\"color\": \"#011627\"}, \"mode\": \"lines\", \"name\": \"3 degree regression, adj. R2=.07\", \"type\": \"scatter\", \"x\": [112, 112, 113, 115, 122, 123, 123, 124, 124, 124, 126, 126, 126, 127, 127, 127, 128, 128, 128, 128, 128, 129, 129, 129, 129, 129, 129, 130, 130, 130, 130, 131, 131, 131, 132, 132, 132, 132, 133, 133, 133, 133, 133, 133, 133, 133, 133, 133, 134, 134, 134, 134, 134, 134, 134, 134, 134, 134, 134, 134, 134, 134, 134, 134, 135, 135, 135, 135, 135, 135, 135, 135, 135, 135, 135, 135, 135, 135, 135, 135, 135, 135, 135, 135, 135, 135, 135, 135, 135, 135, 135, 135, 135, 135, 135, 135, 135, 136, 136, 136, 136, 136, 136, 136, 136, 136, 136, 136, 136, 137, 137, 137, 137, 137, 137, 137, 137, 137, 137, 137, 137, 137, 137, 137, 138, 138, 138, 138, 138, 138, 138, 138, 138, 138, 139, 139, 139, 139, 139, 139, 139, 139, 139, 139, 139, 139, 139, 140, 140, 140, 140, 140, 140, 140, 140, 140, 140, 140, 140, 140, 140, 140, 140, 140, 141, 141, 141, 141, 141, 141, 141, 141, 141, 141, 141, 141, 141, 142, 142, 142, 142, 142, 142, 142, 142, 142, 142, 142, 142, 142, 142, 143, 143, 143, 143, 143, 143, 143, 143, 143, 144, 144, 144, 144, 144, 144, 144, 144, 144, 145, 145, 145, 145, 145, 145, 145, 146, 146, 146, 146, 147, 147, 147, 147, 147, 147, 148, 148, 148, 148, 148, 148, 148, 148, 148, 149, 149, 149, 149, 149, 150, 150, 150, 150, 150, 150, 150, 151, 151, 151, 151, 151, 151, 151, 152, 152, 152, 152, 152, 152, 153, 153, 153, 153, 153, 153, 153, 153, 154, 154, 154, 154, 154, 154, 154, 154, 154, 154, 154, 154, 155, 155, 155, 155, 156, 156, 156, 156, 156, 156, 156, 156, 157, 157, 157, 157, 157, 157, 157, 157, 157, 158, 158, 158, 158, 158, 159, 159, 159, 159, 159, 159, 159, 160, 160, 160, 160, 160, 160, 160, 160, 160, 160, 161, 161, 161, 161, 161, 161, 162, 162, 162, 162, 162, 162, 162, 162, 162, 162, 163, 163, 163, 163, 163, 163, 164, 164, 164, 164, 165, 165, 165, 166, 166, 166, 166, 166, 167, 167, 167, 167, 167, 167, 167, 167, 168, 168, 168, 168, 168, 168, 169, 169, 170, 170, 171, 171, 171, 171, 171, 171, 171, 172, 172, 173, 173, 173, 173, 173, 173, 173, 174, 174, 174, 174, 174, 176, 177, 177, 177, 177, 178, 179, 179, 179, 180, 180, 180, 180, 181, 183, 183, 184, 184, 185, 185, 185, 185, 185, 186, 186, 186, 186, 189, 189, 191, 191, 191, 192, 193, 193, 194, 198, 199, 199, 199, 199, 200, 201, 201, 205], \"y\": [3.198702427296169, 3.198702427296169, 3.1582607528362203, 3.0840930358171974, 2.889984220821546, 2.8699295969883067, 2.8699295969883067, 2.8516498908640955, 2.8516498908640955, 2.8516498908640955, 2.8202233863946518, 2.8202233863946518, 2.8202233863946518, 2.806980665375356, 2.806980665375356, 2.806980665375356, 2.795321016716997, 2.795321016716997, 2.795321016716997, 2.795321016716997, 2.795321016716997, 2.785196479082529, 2.785196479082529, 2.785196479082529, 2.785196479082529, 2.785196479082529, 2.785196479082529, 2.776559091134928, 2.776559091134928, 2.776559091134928, 2.776559091134928, 2.769360891537204, 2.769360891537204, 2.769360891537204, 2.763553918952269, 2.763553918952269, 2.763553918952269, 2.763553918952269, 2.7590902120431338, 2.7590902120431338, 2.7590902120431338, 2.7590902120431338, 2.7590902120431338, 2.7590902120431338, 2.7590902120431338, 2.7590902120431338, 2.7590902120431338, 2.7590902120431338, 2.755921809472767, 2.755921809472767, 2.755921809472767, 2.755921809472767, 2.755921809472767, 2.755921809472767, 2.755921809472767, 2.755921809472767, 2.755921809472767, 2.755921809472767, 2.755921809472767, 2.755921809472767, 2.755921809472767, 2.755921809472767, 2.755921809472767, 2.755921809472767, 2.7540007499041366, 2.7540007499041366, 2.7540007499041366, 2.7540007499041366, 2.7540007499041366, 2.7540007499041366, 2.7540007499041366, 2.7540007499041366, 2.7540007499041366, 2.7540007499041366, 2.7540007499041366, 2.7540007499041366, 2.7540007499041366, 2.7540007499041366, 2.7540007499041366, 2.7540007499041366, 2.7540007499041366, 2.7540007499041366, 2.7540007499041366, 2.7540007499041366, 2.7540007499041366, 2.7540007499041366, 2.7540007499041366, 2.7540007499041366, 2.7540007499041366, 2.7540007499041366, 2.7540007499041366, 2.7540007499041366, 2.7540007499041366, 2.7540007499041366, 2.7540007499041366, 2.7540007499041366, 2.7540007499041366, 2.7532790720002254, 2.7532790720002254, 2.7532790720002254, 2.7532790720002254, 2.7532790720002254, 2.7532790720002254, 2.7532790720002254, 2.7532790720002254, 2.7532790720002254, 2.7532790720002254, 2.7532790720002254, 2.7532790720002254, 2.75370881442403, 2.75370881442403, 2.75370881442403, 2.75370881442403, 2.75370881442403, 2.75370881442403, 2.75370881442403, 2.75370881442403, 2.75370881442403, 2.75370881442403, 2.75370881442403, 2.75370881442403, 2.75370881442403, 2.75370881442403, 2.75370881442403, 2.7552420158384763, 2.7552420158384763, 2.7552420158384763, 2.7552420158384763, 2.7552420158384763, 2.7552420158384763, 2.7552420158384763, 2.7552420158384763, 2.7552420158384763, 2.7552420158384763, 2.757830714906575, 2.757830714906575, 2.757830714906575, 2.757830714906575, 2.757830714906575, 2.757830714906575, 2.757830714906575, 2.757830714906575, 2.757830714906575, 2.757830714906575, 2.757830714906575, 2.757830714906575, 2.757830714906575, 2.7614269502912663, 2.7614269502912663, 2.7614269502912663, 2.7614269502912663, 2.7614269502912663, 2.7614269502912663, 2.7614269502912663, 2.7614269502912663, 2.7614269502912663, 2.7614269502912663, 2.7614269502912663, 2.7614269502912663, 2.7614269502912663, 2.7614269502912663, 2.7614269502912663, 2.7614269502912663, 2.7614269502912663, 2.765982760655561, 2.765982760655561, 2.765982760655561, 2.765982760655561, 2.765982760655561, 2.765982760655561, 2.765982760655561, 2.765982760655561, 2.765982760655561, 2.765982760655561, 2.765982760655561, 2.765982760655561, 2.765982760655561, 2.771450184662399, 2.771450184662399, 2.771450184662399, 2.771450184662399, 2.771450184662399, 2.771450184662399, 2.771450184662399, 2.771450184662399, 2.771450184662399, 2.771450184662399, 2.771450184662399, 2.771450184662399, 2.771450184662399, 2.771450184662399, 2.7777812609748054, 2.7777812609748054, 2.7777812609748054, 2.7777812609748054, 2.7777812609748054, 2.7777812609748054, 2.7777812609748054, 2.7777812609748054, 2.7777812609748054, 2.784928028255692, 2.784928028255692, 2.784928028255692, 2.784928028255692, 2.784928028255692, 2.784928028255692, 2.784928028255692, 2.784928028255692, 2.784928028255692, 2.7928425251680693, 2.7928425251680693, 2.7928425251680693, 2.7928425251680693, 2.7928425251680693, 2.7928425251680693, 2.7928425251680693, 2.801476790374906, 2.801476790374906, 2.801476790374906, 2.801476790374906, 2.8107828625391704, 2.8107828625391704, 2.8107828625391704, 2.8107828625391704, 2.8107828625391704, 2.8107828625391704, 2.8207127803238308, 2.8207127803238308, 2.8207127803238308, 2.8207127803238308, 2.8207127803238308, 2.8207127803238308, 2.8207127803238308, 2.8207127803238308, 2.8207127803238308, 2.831218582391898, 2.831218582391898, 2.831218582391898, 2.831218582391898, 2.831218582391898, 2.842252307406312, 2.842252307406312, 2.842252307406312, 2.842252307406312, 2.842252307406312, 2.842252307406312, 2.842252307406312, 2.8537659940300415, 2.8537659940300415, 2.8537659940300415, 2.8537659940300415, 2.8537659940300415, 2.8537659940300415, 2.8537659940300415, 2.8657116809260827, 2.8657116809260827, 2.8657116809260827, 2.8657116809260827, 2.8657116809260827, 2.8657116809260827, 2.87804140675739, 2.87804140675739, 2.87804140675739, 2.87804140675739, 2.87804140675739, 2.87804140675739, 2.87804140675739, 2.87804140675739, 2.8907072101869744, 2.8907072101869744, 2.8907072101869744, 2.8907072101869744, 2.8907072101869744, 2.8907072101869744, 2.8907072101869744, 2.8907072101869744, 2.8907072101869744, 2.8907072101869744, 2.8907072101869744, 2.8907072101869744, 2.9036611298777615, 2.9036611298777615, 2.9036611298777615, 2.9036611298777615, 2.916855204492748, 2.916855204492748, 2.916855204492748, 2.916855204492748, 2.916855204492748, 2.916855204492748, 2.916855204492748, 2.916855204492748, 2.9302414726949166, 2.9302414726949166, 2.9302414726949166, 2.9302414726949166, 2.9302414726949166, 2.9302414726949166, 2.9302414726949166, 2.9302414726949166, 2.9302414726949166, 2.9437719731472214, 2.9437719731472214, 2.9437719731472214, 2.9437719731472214, 2.9437719731472214, 2.957398744512645, 2.957398744512645, 2.957398744512645, 2.957398744512645, 2.957398744512645, 2.957398744512645, 2.957398744512645, 2.9710738254541837, 2.9710738254541837, 2.9710738254541837, 2.9710738254541837, 2.9710738254541837, 2.9710738254541837, 2.9710738254541837, 2.9710738254541837, 2.9710738254541837, 2.9710738254541837, 2.9847492546347922, 2.9847492546347922, 2.9847492546347922, 2.9847492546347922, 2.9847492546347922, 2.9847492546347922, 2.99837707071741, 2.99837707071741, 2.99837707071741, 2.99837707071741, 2.99837707071741, 2.99837707071741, 2.99837707071741, 2.99837707071741, 2.99837707071741, 2.99837707071741, 3.011909312365063, 3.011909312365063, 3.011909312365063, 3.011909312365063, 3.011909312365063, 3.011909312365063, 3.0252980182407327, 3.0252980182407327, 3.0252980182407327, 3.0252980182407327, 3.038495227007317, 3.038495227007317, 3.038495227007317, 3.051452977327898, 3.051452977327898, 3.051452977327898, 3.051452977327898, 3.051452977327898, 3.0641233078653585, 3.0641233078653585, 3.0641233078653585, 3.0641233078653585, 3.0641233078653585, 3.0641233078653585, 3.0641233078653585, 3.0641233078653585, 3.0764582572826953, 3.0764582572826953, 3.0764582572826953, 3.0764582572826953, 3.0764582572826953, 3.0764582572826953, 3.0884098642429336, 3.0884098642429336, 3.099930167408985, 3.099930167408985, 3.1109712054438177, 3.1109712054438177, 3.1109712054438177, 3.1109712054438177, 3.1109712054438177, 3.1109712054438177, 3.1109712054438177, 3.1214850170105137, 3.1214850170105137, 3.1314236407718994, 3.1314236407718994, 3.1314236407718994, 3.1314236407718994, 3.1314236407718994, 3.1314236407718994, 3.1314236407718994, 3.1407391153910567, 3.1407391153910567, 3.1407391153910567, 3.1407391153910567, 3.1407391153910567, 3.1573087718544173, 3.1644670310245857, 3.1644670310245857, 3.1644670310245857, 3.1644670310245857, 3.1708102957044275, 3.1762906045568258, 3.1762906045568258, 3.1762906045568258, 3.18085999624482, 3.18085999624482, 3.18085999624482, 3.18085999624482, 3.184470509431364, 3.1886230549519894, 3.1886230549519894, 3.18906916461205, 3.18906916461205, 3.188364550422534, 3.188364550422534, 3.188364550422534, 3.188364550422534, 3.188364550422534, 3.1864612510464667, 3.1864612510464667, 3.1864612510464667, 3.1864612510464667, 3.1730796284284395, 3.1730796284284395, 3.157285829571464, 3.157285829571464, 3.157285829571464, 3.147183230998337, 3.1355462178794937, 3.1355462178794937, 3.122326828877874, 3.0526662873029125, 3.030815598831964, 3.030815598831964, 3.030815598831964, 3.030815598831964, 3.0070947664560492, 2.9814558288382216, 2.9814558288382216, 2.8587597992065525]}],\n",
              "                        {\"font\": {\"size\": 16}, \"height\": 700, \"template\": {\"data\": {\"bar\": [{\"error_x\": {\"color\": \"#2a3f5f\"}, \"error_y\": {\"color\": \"#2a3f5f\"}, \"marker\": {\"line\": {\"color\": \"#E5ECF6\", \"width\": 0.5}}, \"type\": \"bar\"}], \"barpolar\": [{\"marker\": {\"line\": {\"color\": \"#E5ECF6\", \"width\": 0.5}}, \"type\": \"barpolar\"}], \"carpet\": [{\"aaxis\": {\"endlinecolor\": \"#2a3f5f\", \"gridcolor\": \"white\", \"linecolor\": \"white\", \"minorgridcolor\": \"white\", \"startlinecolor\": \"#2a3f5f\"}, \"baxis\": {\"endlinecolor\": \"#2a3f5f\", \"gridcolor\": \"white\", \"linecolor\": \"white\", \"minorgridcolor\": \"white\", \"startlinecolor\": \"#2a3f5f\"}, \"type\": \"carpet\"}], \"choropleth\": [{\"colorbar\": {\"outlinewidth\": 0, \"ticks\": \"\"}, \"type\": \"choropleth\"}], \"contour\": [{\"colorbar\": {\"outlinewidth\": 0, \"ticks\": \"\"}, \"colorscale\": [[0.0, \"#0d0887\"], [0.1111111111111111, \"#46039f\"], [0.2222222222222222, \"#7201a8\"], [0.3333333333333333, \"#9c179e\"], [0.4444444444444444, \"#bd3786\"], [0.5555555555555556, \"#d8576b\"], [0.6666666666666666, \"#ed7953\"], [0.7777777777777778, \"#fb9f3a\"], [0.8888888888888888, \"#fdca26\"], [1.0, \"#f0f921\"]], \"type\": \"contour\"}], \"contourcarpet\": [{\"colorbar\": {\"outlinewidth\": 0, \"ticks\": \"\"}, \"type\": \"contourcarpet\"}], \"heatmap\": [{\"colorbar\": {\"outlinewidth\": 0, \"ticks\": \"\"}, \"colorscale\": [[0.0, \"#0d0887\"], [0.1111111111111111, \"#46039f\"], [0.2222222222222222, \"#7201a8\"], [0.3333333333333333, \"#9c179e\"], [0.4444444444444444, \"#bd3786\"], [0.5555555555555556, \"#d8576b\"], [0.6666666666666666, \"#ed7953\"], [0.7777777777777778, \"#fb9f3a\"], [0.8888888888888888, \"#fdca26\"], [1.0, \"#f0f921\"]], \"type\": \"heatmap\"}], \"heatmapgl\": [{\"colorbar\": {\"outlinewidth\": 0, \"ticks\": \"\"}, \"colorscale\": [[0.0, \"#0d0887\"], [0.1111111111111111, \"#46039f\"], [0.2222222222222222, \"#7201a8\"], [0.3333333333333333, \"#9c179e\"], [0.4444444444444444, \"#bd3786\"], [0.5555555555555556, \"#d8576b\"], [0.6666666666666666, \"#ed7953\"], [0.7777777777777778, \"#fb9f3a\"], [0.8888888888888888, \"#fdca26\"], [1.0, \"#f0f921\"]], \"type\": \"heatmapgl\"}], \"histogram\": [{\"marker\": {\"colorbar\": {\"outlinewidth\": 0, \"ticks\": \"\"}}, \"type\": \"histogram\"}], \"histogram2d\": [{\"colorbar\": {\"outlinewidth\": 0, \"ticks\": \"\"}, \"colorscale\": [[0.0, \"#0d0887\"], [0.1111111111111111, \"#46039f\"], [0.2222222222222222, \"#7201a8\"], [0.3333333333333333, \"#9c179e\"], [0.4444444444444444, \"#bd3786\"], [0.5555555555555556, \"#d8576b\"], [0.6666666666666666, \"#ed7953\"], [0.7777777777777778, \"#fb9f3a\"], [0.8888888888888888, \"#fdca26\"], [1.0, \"#f0f921\"]], \"type\": \"histogram2d\"}], \"histogram2dcontour\": [{\"colorbar\": {\"outlinewidth\": 0, \"ticks\": \"\"}, \"colorscale\": [[0.0, \"#0d0887\"], [0.1111111111111111, \"#46039f\"], [0.2222222222222222, \"#7201a8\"], [0.3333333333333333, \"#9c179e\"], [0.4444444444444444, \"#bd3786\"], [0.5555555555555556, \"#d8576b\"], [0.6666666666666666, \"#ed7953\"], [0.7777777777777778, \"#fb9f3a\"], [0.8888888888888888, \"#fdca26\"], [1.0, \"#f0f921\"]], \"type\": \"histogram2dcontour\"}], \"mesh3d\": [{\"colorbar\": {\"outlinewidth\": 0, \"ticks\": \"\"}, \"type\": \"mesh3d\"}], \"parcoords\": [{\"line\": {\"colorbar\": {\"outlinewidth\": 0, \"ticks\": \"\"}}, \"type\": \"parcoords\"}], \"pie\": [{\"automargin\": true, \"type\": \"pie\"}], \"scatter\": [{\"marker\": {\"colorbar\": {\"outlinewidth\": 0, \"ticks\": \"\"}}, \"type\": \"scatter\"}], \"scatter3d\": [{\"line\": {\"colorbar\": {\"outlinewidth\": 0, \"ticks\": \"\"}}, \"marker\": {\"colorbar\": {\"outlinewidth\": 0, \"ticks\": \"\"}}, \"type\": \"scatter3d\"}], \"scattercarpet\": [{\"marker\": {\"colorbar\": {\"outlinewidth\": 0, \"ticks\": \"\"}}, \"type\": \"scattercarpet\"}], \"scattergeo\": [{\"marker\": {\"colorbar\": {\"outlinewidth\": 0, \"ticks\": \"\"}}, \"type\": \"scattergeo\"}], \"scattergl\": [{\"marker\": {\"colorbar\": {\"outlinewidth\": 0, \"ticks\": \"\"}}, \"type\": \"scattergl\"}], \"scattermapbox\": [{\"marker\": {\"colorbar\": {\"outlinewidth\": 0, \"ticks\": \"\"}}, \"type\": \"scattermapbox\"}], \"scatterpolar\": [{\"marker\": {\"colorbar\": {\"outlinewidth\": 0, \"ticks\": \"\"}}, \"type\": \"scatterpolar\"}], \"scatterpolargl\": [{\"marker\": {\"colorbar\": {\"outlinewidth\": 0, \"ticks\": \"\"}}, \"type\": \"scatterpolargl\"}], \"scatterternary\": [{\"marker\": {\"colorbar\": {\"outlinewidth\": 0, \"ticks\": \"\"}}, \"type\": \"scatterternary\"}], \"surface\": [{\"colorbar\": {\"outlinewidth\": 0, \"ticks\": \"\"}, \"colorscale\": [[0.0, \"#0d0887\"], [0.1111111111111111, \"#46039f\"], [0.2222222222222222, \"#7201a8\"], [0.3333333333333333, \"#9c179e\"], [0.4444444444444444, \"#bd3786\"], [0.5555555555555556, \"#d8576b\"], [0.6666666666666666, \"#ed7953\"], [0.7777777777777778, \"#fb9f3a\"], [0.8888888888888888, \"#fdca26\"], [1.0, \"#f0f921\"]], \"type\": \"surface\"}], \"table\": [{\"cells\": {\"fill\": {\"color\": \"#EBF0F8\"}, \"line\": {\"color\": \"white\"}}, \"header\": {\"fill\": {\"color\": \"#C8D4E3\"}, \"line\": {\"color\": \"white\"}}, \"type\": \"table\"}]}, \"layout\": {\"annotationdefaults\": {\"arrowcolor\": \"#2a3f5f\", \"arrowhead\": 0, \"arrowwidth\": 1}, \"coloraxis\": {\"colorbar\": {\"outlinewidth\": 0, \"ticks\": \"\"}}, \"colorscale\": {\"diverging\": [[0, \"#8e0152\"], [0.1, \"#c51b7d\"], [0.2, \"#de77ae\"], [0.3, \"#f1b6da\"], [0.4, \"#fde0ef\"], [0.5, \"#f7f7f7\"], [0.6, \"#e6f5d0\"], [0.7, \"#b8e186\"], [0.8, \"#7fbc41\"], [0.9, \"#4d9221\"], [1, \"#276419\"]], \"sequential\": [[0.0, \"#0d0887\"], [0.1111111111111111, \"#46039f\"], [0.2222222222222222, \"#7201a8\"], [0.3333333333333333, \"#9c179e\"], [0.4444444444444444, \"#bd3786\"], [0.5555555555555556, \"#d8576b\"], [0.6666666666666666, \"#ed7953\"], [0.7777777777777778, \"#fb9f3a\"], [0.8888888888888888, \"#fdca26\"], [1.0, \"#f0f921\"]], \"sequentialminus\": [[0.0, \"#0d0887\"], [0.1111111111111111, \"#46039f\"], [0.2222222222222222, \"#7201a8\"], [0.3333333333333333, \"#9c179e\"], [0.4444444444444444, \"#bd3786\"], [0.5555555555555556, \"#d8576b\"], [0.6666666666666666, \"#ed7953\"], [0.7777777777777778, \"#fb9f3a\"], [0.8888888888888888, \"#fdca26\"], [1.0, \"#f0f921\"]]}, \"colorway\": [\"#636efa\", \"#EF553B\", \"#00cc96\", \"#ab63fa\", \"#FFA15A\", \"#19d3f3\", \"#FF6692\", \"#B6E880\", \"#FF97FF\", \"#FECB52\"], \"font\": {\"color\": \"#2a3f5f\"}, \"geo\": {\"bgcolor\": \"white\", \"lakecolor\": \"white\", \"landcolor\": \"#E5ECF6\", \"showlakes\": true, \"showland\": true, \"subunitcolor\": \"white\"}, \"hoverlabel\": {\"align\": \"left\"}, \"hovermode\": \"closest\", \"mapbox\": {\"style\": \"light\"}, \"paper_bgcolor\": \"white\", \"plot_bgcolor\": \"#E5ECF6\", \"polar\": {\"angularaxis\": {\"gridcolor\": \"white\", \"linecolor\": \"white\", \"ticks\": \"\"}, \"bgcolor\": \"#E5ECF6\", \"radialaxis\": {\"gridcolor\": \"white\", \"linecolor\": \"white\", \"ticks\": \"\"}}, \"scene\": {\"xaxis\": {\"backgroundcolor\": \"#E5ECF6\", \"gridcolor\": \"white\", \"gridwidth\": 2, \"linecolor\": \"white\", \"showbackground\": true, \"ticks\": \"\", \"zerolinecolor\": \"white\"}, \"yaxis\": {\"backgroundcolor\": \"#E5ECF6\", \"gridcolor\": \"white\", \"gridwidth\": 2, \"linecolor\": \"white\", \"showbackground\": true, \"ticks\": \"\", \"zerolinecolor\": \"white\"}, \"zaxis\": {\"backgroundcolor\": \"#E5ECF6\", \"gridcolor\": \"white\", \"gridwidth\": 2, \"linecolor\": \"white\", \"showbackground\": true, \"ticks\": \"\", \"zerolinecolor\": \"white\"}}, \"shapedefaults\": {\"line\": {\"color\": \"#2a3f5f\"}}, \"ternary\": {\"aaxis\": {\"gridcolor\": \"white\", \"linecolor\": \"white\", \"ticks\": \"\"}, \"baxis\": {\"gridcolor\": \"white\", \"linecolor\": \"white\", \"ticks\": \"\"}, \"bgcolor\": \"#E5ECF6\", \"caxis\": {\"gridcolor\": \"white\", \"linecolor\": \"white\", \"ticks\": \"\"}}, \"title\": {\"x\": 0.05}, \"xaxis\": {\"automargin\": true, \"gridcolor\": \"white\", \"linecolor\": \"white\", \"ticks\": \"\", \"title\": {\"standoff\": 15}, \"zerolinecolor\": \"white\", \"zerolinewidth\": 2}, \"yaxis\": {\"automargin\": true, \"gridcolor\": \"white\", \"linecolor\": \"white\", \"ticks\": \"\", \"title\": {\"standoff\": 15}, \"zerolinecolor\": \"white\", \"zerolinewidth\": 2}}}, \"title\": {\"text\": \"AUT * LACK (N=441)\"}, \"width\": 1100, \"xaxis\": {\"title\": {\"text\": \"AUT\"}}, \"yaxis\": {\"title\": {\"text\": \"LACK\"}}},\n",
              "                        {\"responsive\": true}\n",
              "                    ).then(function(){\n",
              "                            \n",
              "var gd = document.getElementById('6388e234-896b-400e-8eae-88c9366ff213');\n",
              "var x = new MutationObserver(function (mutations, observer) {{\n",
              "        var display = window.getComputedStyle(gd).display;\n",
              "        if (!display || display === 'none') {{\n",
              "            console.log([gd, 'removed!']);\n",
              "            Plotly.purge(gd);\n",
              "            observer.disconnect();\n",
              "        }}\n",
              "}});\n",
              "\n",
              "// Listen for the removal of the full notebook cells\n",
              "var notebookContainer = gd.closest('#notebook-container');\n",
              "if (notebookContainer) {{\n",
              "    x.observe(notebookContainer, {childList: true});\n",
              "}}\n",
              "\n",
              "// Listen for the clearing of the current output cell\n",
              "var outputEl = gd.closest('.output');\n",
              "if (outputEl) {{\n",
              "    x.observe(outputEl, {childList: true});\n",
              "}}\n",
              "\n",
              "                        })\n",
              "                };\n",
              "                \n",
              "            </script>\n",
              "        </div>\n",
              "</body>\n",
              "</html>"
            ]
          },
          "metadata": {
            "tags": []
          }
        }
      ]
    },
    {
      "cell_type": "markdown",
      "metadata": {
        "id": "TOEkJ6rhrFYQ"
      },
      "source": [
        "###SCC"
      ]
    },
    {
      "cell_type": "code",
      "metadata": {
        "colab": {
          "base_uri": "https://localhost:8080/",
          "height": 717
        },
        "id": "6AYocWpjrHKS",
        "outputId": "318f171d-e770-4482-9c68-39aa3562f9da"
      },
      "source": [
        "MakeScatterPlot(df_subscales['SCC'], df_subscales['LACK'], f'SCC -> LACK (n={len(df_subscales)})', 'SCC','LACK')"
      ],
      "execution_count": null,
      "outputs": [
        {
          "output_type": "display_data",
          "data": {
            "text/html": [
              "<html>\n",
              "<head><meta charset=\"utf-8\" /></head>\n",
              "<body>\n",
              "    <div>\n",
              "            <script src=\"https://cdnjs.cloudflare.com/ajax/libs/mathjax/2.7.5/MathJax.js?config=TeX-AMS-MML_SVG\"></script><script type=\"text/javascript\">if (window.MathJax) {MathJax.Hub.Config({SVG: {font: \"STIX-Web\"}});}</script>\n",
              "                <script type=\"text/javascript\">window.PlotlyConfig = {MathJaxConfig: 'local'};</script>\n",
              "        <script src=\"https://cdn.plot.ly/plotly-latest.min.js\"></script>    \n",
              "            <div id=\"5464465b-3b17-4c19-b3c0-4c7db2dc0abb\" class=\"plotly-graph-div\" style=\"height:700px; width:1000px;\"></div>\n",
              "            <script type=\"text/javascript\">\n",
              "                \n",
              "                    window.PLOTLYENV=window.PLOTLYENV || {};\n",
              "                    \n",
              "                if (document.getElementById(\"5464465b-3b17-4c19-b3c0-4c7db2dc0abb\")) {\n",
              "                    Plotly.newPlot(\n",
              "                        '5464465b-3b17-4c19-b3c0-4c7db2dc0abb',\n",
              "                        [{\"mode\": \"markers\", \"type\": \"scatter\", \"x\": [42, 46, 30, 45, 36, 52, 49, 36, 60, 33, 43, 36, 28, 55, 36, 46, 20, 42, 36, 42, 35, 27, 20, 36, 36, 29, 43, 27, 36, 52, 34, 51, 43, 43, 28, 46, 31, 30, 42, 26, 58, 53, 42, 48, 33, 27, 31, 44, 37, 36, 36, 32, 44, 36, 37, 59, 36, 46, 38, 38, 36, 36, 30, 51, 46, 36, 47, 48, 56, 49, 43, 29, 34, 30, 28, 31, 46, 30, 20, 46, 36, 42, 46, 54, 32, 43, 35, 32, 32, 34, 49, 33, 36, 48, 31, 42, 46, 35, 40, 31, 34, 21, 28, 36, 34, 34, 41, 32, 48, 36, 32, 30, 39, 36, 36, 48, 48, 39, 40, 30, 47, 30, 36, 35, 40, 28, 32, 55, 28, 54, 45, 41, 45, 20, 39, 36, 34, 38, 47, 39, 53, 32, 48, 46, 36, 44, 30, 25, 36, 34, 44, 35, 30, 32, 31, 41, 28, 33, 54, 38, 36, 44, 30, 27, 39, 38, 34, 36, 38, 32, 36, 28, 30, 54, 43, 43, 29, 47, 34, 30, 41, 59, 34, 42, 52, 44, 36, 53, 49, 47, 39, 36, 35, 38, 45, 29, 26, 41, 39, 43, 30, 36, 32, 30, 34, 29, 36, 32, 57, 48, 36, 36, 48, 37, 34, 31, 37, 32, 31, 28, 37, 47, 36, 26, 37, 39, 40, 39, 35, 34, 32, 31, 44, 34, 33, 30, 43, 25, 43, 36, 29, 54, 45, 47, 31, 44, 50, 37, 30, 38, 37, 45, 36, 23, 40, 44, 27, 43, 41, 42, 34, 43, 29, 22, 33, 32, 36, 35, 38, 40, 47, 37, 57, 49, 45, 36, 32, 33, 35, 60, 37, 46, 39, 46, 44, 38, 29, 41, 31, 39, 36, 35, 48, 50, 43, 47, 34, 42, 52, 39, 50, 46, 26, 36, 47, 44, 29, 40, 38, 32, 38, 21, 50, 40, 39, 54, 41, 30, 33, 37, 47, 29, 35, 47, 31, 42, 57, 43, 47, 38, 30, 36, 36, 29, 33, 24, 31, 26, 36, 38, 45, 48, 43, 28, 43, 36, 32, 38, 35, 44, 50, 31, 37, 43, 40, 49, 36, 36, 41, 34, 34, 34, 34, 41, 43, 36, 34, 43, 28, 44, 33, 40, 43, 40, 42, 38, 56, 44, 36, 35, 38, 34, 56, 21, 40, 36, 46, 32, 55, 28, 35, 36, 40, 32, 44, 58, 48, 33, 38, 35, 35, 45, 40, 45, 29, 31, 46, 44, 48, 36, 56, 31, 28, 36, 48, 45, 50, 35, 44, 40, 31, 30, 31, 30, 40, 32, 40, 36, 30, 35, 28, 38, 60, 34, 30, 48, 46, 41, 21, 40, 40], \"y\": [3.0, 3.16666666666667, 3.5, 2.16666666666667, 3.0, 3.16666666666667, 3.33333333333333, 3.0, 2.83333333333333, 2.66666666666667, 3.0, 3.0, 2.33333333333333, 3.16666666666667, 3.0, 3.83333333333333, 3.16666666666667, 2.66666666666667, 2.5, 2.5, 3.33333333333333, 2.5, 3.33333333333333, 2.66666666666667, 2.83333333333333, 3.66666666666667, 3.0, 3.33333333333333, 3.0, 3.33333333333333, 2.5, 2.66666666666667, 2.83333333333333, 3.66666666666667, 2.0, 3.0, 3.16666666666667, 3.33333333333333, 2.33333333333333, 3.66666666666667, 2.83333333333333, 2.66666666666667, 3.33333333333333, 2.33333333333333, 2.0, 2.0, 2.5, 3.0, 2.16666666666667, 2.66666666666667, 3.0, 3.16666666666667, 3.0, 2.66666666666667, 2.66666666666667, 3.16666666666667, 3.0, 3.0, 2.66666666666667, 2.16666666666667, 3.0, 3.0, 2.0, 2.5, 3.16666666666667, 3.0, 3.0, 2.83333333333333, 2.83333333333333, 2.16666666666667, 2.66666666666667, 2.5, 3.16666666666667, 2.83333333333333, 2.83333333333333, 3.5, 3.0, 2.5, 3.5, 3.16666666666667, 3.0, 3.16666666666667, 2.5, 3.0, 3.5, 3.66666666666667, 2.66666666666667, 2.16666666666667, 2.0, 2.66666666666667, 2.83333333333333, 2.66666666666667, 3.66666666666667, 3.16666666666667, 3.0, 2.33333333333333, 3.33333333333333, 2.5, 2.66666666666667, 2.0, 2.66666666666667, 2.16666666666667, 2.5, 3.0, 2.5, 2.16666666666667, 3.0, 2.5, 3.16666666666667, 3.0, 2.66666666666667, 3.0, 3.33333333333333, 3.0, 3.0, 3.16666666666667, 3.16666666666667, 2.5, 3.16666666666667, 3.0, 3.5, 2.16666666666667, 3.0, 3.0, 2.83333333333333, 2.5, 2.0, 2.5, 2.0, 3.5, 2.83333333333333, 2.5, 4.16666666666667, 3.16666666666667, 2.83333333333333, 2.5, 2.66666666666667, 3.0, 2.5, 3.33333333333333, 3.0, 2.66666666666667, 3.66666666666667, 2.33333333333333, 3.0, 4.0, 3.16666666666667, 1.83333333333333, 3.0, 3.16666666666667, 3.33333333333333, 2.5, 3.66666666666667, 2.16666666666667, 3.16666666666667, 2.5, 2.0, 2.83333333333333, 3.0, 3.16666666666667, 3.0, 4.0, 3.33333333333333, 2.16666666666667, 3.0, 3.0, 3.0, 3.0, 2.33333333333333, 3.0, 3.5, 4.0, 2.0, 2.66666666666667, 3.66666666666667, 2.83333333333333, 2.5, 3.33333333333333, 2.16666666666667, 2.0, 3.0, 3.33333333333333, 2.66666666666667, 3.83333333333333, 3.16666666666667, 3.16666666666667, 2.0, 2.33333333333333, 4.16666666666667, 2.83333333333333, 2.83333333333333, 2.66666666666667, 3.0, 2.66666666666667, 2.83333333333333, 2.0, 3.16666666666667, 2.83333333333333, 2.16666666666667, 3.0, 3.0, 3.0, 5.0, 2.5, 4.0, 3.83333333333333, 2.0, 3.33333333333333, 3.66666666666667, 2.5, 3.0, 3.0, 3.0, 3.33333333333333, 2.83333333333333, 3.0, 3.33333333333333, 3.66666666666667, 2.0, 2.0, 2.66666666666667, 3.0, 3.0, 3.33333333333333, 2.66666666666667, 3.16666666666667, 3.0, 3.5, 3.16666666666667, 3.16666666666667, 1.83333333333333, 2.33333333333333, 2.33333333333333, 2.83333333333333, 3.0, 2.66666666666667, 3.0, 4.16666666666667, 4.0, 3.0, 3.33333333333333, 3.33333333333333, 3.33333333333333, 2.83333333333333, 3.5, 2.0, 2.83333333333333, 2.33333333333333, 2.0, 3.33333333333333, 2.5, 3.33333333333333, 3.33333333333333, 2.83333333333333, 3.5, 2.83333333333333, 2.5, 3.16666666666667, 3.0, 3.33333333333333, 2.5, 3.33333333333333, 3.5, 3.0, 2.16666666666667, 3.0, 3.0, 3.0, 2.5, 3.0, 3.16666666666667, 2.83333333333333, 2.33333333333333, 4.5, 2.66666666666667, 3.0, 2.33333333333333, 2.5, 2.83333333333333, 3.0, 2.83333333333333, 3.0, 2.5, 3.16666666666667, 2.16666666666667, 2.5, 2.0, 3.16666666666667, 2.33333333333333, 2.0, 2.5, 3.0, 3.0, 3.16666666666667, 2.0, 4.16666666666667, 2.66666666666667, 3.66666666666667, 1.83333333333333, 2.0, 2.83333333333333, 3.33333333333333, 3.33333333333333, 3.83333333333333, 2.66666666666667, 2.33333333333333, 2.83333333333333, 2.66666666666667, 3.0, 2.5, 2.5, 3.0, 2.16666666666667, 3.33333333333333, 3.83333333333333, 2.83333333333333, 3.0, 2.33333333333333, 3.0, 3.16666666666667, 2.66666666666667, 2.0, 2.66666666666667, 2.83333333333333, 2.0, 2.83333333333333, 3.16666666666667, 2.83333333333333, 3.0, 2.83333333333333, 3.5, 3.0, 2.33333333333333, 2.0, 2.66666666666667, 3.83333333333333, 2.0, 3.33333333333333, 2.83333333333333, 2.83333333333333, 3.83333333333333, 3.16666666666667, 3.0, 2.33333333333333, 2.83333333333333, 3.16666666666667, 3.0, 3.16666666666667, 2.83333333333333, 2.5, 3.5, 2.66666666666667, 2.5, 3.16666666666667, 2.66666666666667, 4.33333333333333, 3.0, 2.66666666666667, 2.66666666666667, 3.33333333333333, 2.5, 2.5, 2.5, 4.16666666666667, 3.0, 3.33333333333333, 3.0, 2.66666666666667, 2.33333333333333, 3.16666666666667, 2.33333333333333, 3.0, 2.0, 3.5, 2.66666666666667, 3.83333333333333, 3.0, 3.16666666666667, 2.83333333333333, 1.83333333333333, 2.83333333333333, 2.5, 2.83333333333333, 2.66666666666667, 3.5, 2.83333333333333, 3.83333333333333, 2.16666666666667, 3.5, 2.66666666666667, 2.16666666666667, 3.16666666666667, 2.5, 2.0, 3.16666666666667, 2.66666666666667, 1.83333333333333, 2.5, 2.33333333333333, 3.0, 3.0, 2.33333333333333, 2.5, 2.33333333333333, 3.66666666666667, 2.5, 3.5, 3.33333333333333, 3.33333333333333, 2.83333333333333, 2.33333333333333, 3.5, 3.0, 3.0, 3.66666666666667, 3.16666666666667, 3.66666666666667, 3.0, 3.0, 1.83333333333333, 3.66666666666667, 2.5, 2.0, 2.83333333333333, 2.83333333333333, 2.5, 4.33333333333333, 3.0, 2.66666666666667, 2.5, 2.33333333333333, 2.5, 4.33333333333333, 4.0, 2.0, 2.33333333333333, 2.5, 2.83333333333333, 2.33333333333333, 2.83333333333333, 3.5]}],\n",
              "                        {\"height\": 700, \"template\": {\"data\": {\"bar\": [{\"error_x\": {\"color\": \"#2a3f5f\"}, \"error_y\": {\"color\": \"#2a3f5f\"}, \"marker\": {\"line\": {\"color\": \"#E5ECF6\", \"width\": 0.5}}, \"type\": \"bar\"}], \"barpolar\": [{\"marker\": {\"line\": {\"color\": \"#E5ECF6\", \"width\": 0.5}}, \"type\": \"barpolar\"}], \"carpet\": [{\"aaxis\": {\"endlinecolor\": \"#2a3f5f\", \"gridcolor\": \"white\", \"linecolor\": \"white\", \"minorgridcolor\": \"white\", \"startlinecolor\": \"#2a3f5f\"}, \"baxis\": {\"endlinecolor\": \"#2a3f5f\", \"gridcolor\": \"white\", \"linecolor\": \"white\", \"minorgridcolor\": \"white\", \"startlinecolor\": \"#2a3f5f\"}, \"type\": \"carpet\"}], \"choropleth\": [{\"colorbar\": {\"outlinewidth\": 0, \"ticks\": \"\"}, \"type\": \"choropleth\"}], \"contour\": [{\"colorbar\": {\"outlinewidth\": 0, \"ticks\": \"\"}, \"colorscale\": [[0.0, \"#0d0887\"], [0.1111111111111111, \"#46039f\"], [0.2222222222222222, \"#7201a8\"], [0.3333333333333333, \"#9c179e\"], [0.4444444444444444, \"#bd3786\"], [0.5555555555555556, \"#d8576b\"], [0.6666666666666666, \"#ed7953\"], [0.7777777777777778, \"#fb9f3a\"], [0.8888888888888888, \"#fdca26\"], [1.0, \"#f0f921\"]], \"type\": \"contour\"}], \"contourcarpet\": [{\"colorbar\": {\"outlinewidth\": 0, \"ticks\": \"\"}, \"type\": \"contourcarpet\"}], \"heatmap\": [{\"colorbar\": {\"outlinewidth\": 0, \"ticks\": \"\"}, \"colorscale\": [[0.0, \"#0d0887\"], [0.1111111111111111, \"#46039f\"], [0.2222222222222222, \"#7201a8\"], [0.3333333333333333, \"#9c179e\"], [0.4444444444444444, \"#bd3786\"], [0.5555555555555556, \"#d8576b\"], [0.6666666666666666, \"#ed7953\"], [0.7777777777777778, \"#fb9f3a\"], [0.8888888888888888, \"#fdca26\"], [1.0, \"#f0f921\"]], \"type\": \"heatmap\"}], \"heatmapgl\": [{\"colorbar\": {\"outlinewidth\": 0, \"ticks\": \"\"}, \"colorscale\": [[0.0, \"#0d0887\"], [0.1111111111111111, \"#46039f\"], [0.2222222222222222, \"#7201a8\"], [0.3333333333333333, \"#9c179e\"], [0.4444444444444444, \"#bd3786\"], [0.5555555555555556, \"#d8576b\"], [0.6666666666666666, \"#ed7953\"], [0.7777777777777778, \"#fb9f3a\"], [0.8888888888888888, \"#fdca26\"], [1.0, \"#f0f921\"]], \"type\": \"heatmapgl\"}], \"histogram\": [{\"marker\": {\"colorbar\": {\"outlinewidth\": 0, \"ticks\": \"\"}}, \"type\": \"histogram\"}], \"histogram2d\": [{\"colorbar\": {\"outlinewidth\": 0, \"ticks\": \"\"}, \"colorscale\": [[0.0, \"#0d0887\"], [0.1111111111111111, \"#46039f\"], [0.2222222222222222, \"#7201a8\"], [0.3333333333333333, \"#9c179e\"], [0.4444444444444444, \"#bd3786\"], [0.5555555555555556, \"#d8576b\"], [0.6666666666666666, \"#ed7953\"], [0.7777777777777778, \"#fb9f3a\"], [0.8888888888888888, \"#fdca26\"], [1.0, \"#f0f921\"]], \"type\": \"histogram2d\"}], \"histogram2dcontour\": [{\"colorbar\": {\"outlinewidth\": 0, \"ticks\": \"\"}, \"colorscale\": [[0.0, \"#0d0887\"], [0.1111111111111111, \"#46039f\"], [0.2222222222222222, \"#7201a8\"], [0.3333333333333333, \"#9c179e\"], [0.4444444444444444, \"#bd3786\"], [0.5555555555555556, \"#d8576b\"], [0.6666666666666666, \"#ed7953\"], [0.7777777777777778, \"#fb9f3a\"], [0.8888888888888888, \"#fdca26\"], [1.0, \"#f0f921\"]], \"type\": \"histogram2dcontour\"}], \"mesh3d\": [{\"colorbar\": {\"outlinewidth\": 0, \"ticks\": \"\"}, \"type\": \"mesh3d\"}], \"parcoords\": [{\"line\": {\"colorbar\": {\"outlinewidth\": 0, \"ticks\": \"\"}}, \"type\": \"parcoords\"}], \"pie\": [{\"automargin\": true, \"type\": \"pie\"}], \"scatter\": [{\"marker\": {\"colorbar\": {\"outlinewidth\": 0, \"ticks\": \"\"}}, \"type\": \"scatter\"}], \"scatter3d\": [{\"line\": {\"colorbar\": {\"outlinewidth\": 0, \"ticks\": \"\"}}, \"marker\": {\"colorbar\": {\"outlinewidth\": 0, \"ticks\": \"\"}}, \"type\": \"scatter3d\"}], \"scattercarpet\": [{\"marker\": {\"colorbar\": {\"outlinewidth\": 0, \"ticks\": \"\"}}, \"type\": \"scattercarpet\"}], \"scattergeo\": [{\"marker\": {\"colorbar\": {\"outlinewidth\": 0, \"ticks\": \"\"}}, \"type\": \"scattergeo\"}], \"scattergl\": [{\"marker\": {\"colorbar\": {\"outlinewidth\": 0, \"ticks\": \"\"}}, \"type\": \"scattergl\"}], \"scattermapbox\": [{\"marker\": {\"colorbar\": {\"outlinewidth\": 0, \"ticks\": \"\"}}, \"type\": \"scattermapbox\"}], \"scatterpolar\": [{\"marker\": {\"colorbar\": {\"outlinewidth\": 0, \"ticks\": \"\"}}, \"type\": \"scatterpolar\"}], \"scatterpolargl\": [{\"marker\": {\"colorbar\": {\"outlinewidth\": 0, \"ticks\": \"\"}}, \"type\": \"scatterpolargl\"}], \"scatterternary\": [{\"marker\": {\"colorbar\": {\"outlinewidth\": 0, \"ticks\": \"\"}}, \"type\": \"scatterternary\"}], \"surface\": [{\"colorbar\": {\"outlinewidth\": 0, \"ticks\": \"\"}, \"colorscale\": [[0.0, \"#0d0887\"], [0.1111111111111111, \"#46039f\"], [0.2222222222222222, \"#7201a8\"], [0.3333333333333333, \"#9c179e\"], [0.4444444444444444, \"#bd3786\"], [0.5555555555555556, \"#d8576b\"], [0.6666666666666666, \"#ed7953\"], [0.7777777777777778, \"#fb9f3a\"], [0.8888888888888888, \"#fdca26\"], [1.0, \"#f0f921\"]], \"type\": \"surface\"}], \"table\": [{\"cells\": {\"fill\": {\"color\": \"#EBF0F8\"}, \"line\": {\"color\": \"white\"}}, \"header\": {\"fill\": {\"color\": \"#C8D4E3\"}, \"line\": {\"color\": \"white\"}}, \"type\": \"table\"}]}, \"layout\": {\"annotationdefaults\": {\"arrowcolor\": \"#2a3f5f\", \"arrowhead\": 0, \"arrowwidth\": 1}, \"coloraxis\": {\"colorbar\": {\"outlinewidth\": 0, \"ticks\": \"\"}}, \"colorscale\": {\"diverging\": [[0, \"#8e0152\"], [0.1, \"#c51b7d\"], [0.2, \"#de77ae\"], [0.3, \"#f1b6da\"], [0.4, \"#fde0ef\"], [0.5, \"#f7f7f7\"], [0.6, \"#e6f5d0\"], [0.7, \"#b8e186\"], [0.8, \"#7fbc41\"], [0.9, \"#4d9221\"], [1, \"#276419\"]], \"sequential\": [[0.0, \"#0d0887\"], [0.1111111111111111, \"#46039f\"], [0.2222222222222222, \"#7201a8\"], [0.3333333333333333, \"#9c179e\"], [0.4444444444444444, \"#bd3786\"], [0.5555555555555556, \"#d8576b\"], [0.6666666666666666, \"#ed7953\"], [0.7777777777777778, \"#fb9f3a\"], [0.8888888888888888, \"#fdca26\"], [1.0, \"#f0f921\"]], \"sequentialminus\": [[0.0, \"#0d0887\"], [0.1111111111111111, \"#46039f\"], [0.2222222222222222, \"#7201a8\"], [0.3333333333333333, \"#9c179e\"], [0.4444444444444444, \"#bd3786\"], [0.5555555555555556, \"#d8576b\"], [0.6666666666666666, \"#ed7953\"], [0.7777777777777778, \"#fb9f3a\"], [0.8888888888888888, \"#fdca26\"], [1.0, \"#f0f921\"]]}, \"colorway\": [\"#636efa\", \"#EF553B\", \"#00cc96\", \"#ab63fa\", \"#FFA15A\", \"#19d3f3\", \"#FF6692\", \"#B6E880\", \"#FF97FF\", \"#FECB52\"], \"font\": {\"color\": \"#2a3f5f\"}, \"geo\": {\"bgcolor\": \"white\", \"lakecolor\": \"white\", \"landcolor\": \"#E5ECF6\", \"showlakes\": true, \"showland\": true, \"subunitcolor\": \"white\"}, \"hoverlabel\": {\"align\": \"left\"}, \"hovermode\": \"closest\", \"mapbox\": {\"style\": \"light\"}, \"paper_bgcolor\": \"white\", \"plot_bgcolor\": \"#E5ECF6\", \"polar\": {\"angularaxis\": {\"gridcolor\": \"white\", \"linecolor\": \"white\", \"ticks\": \"\"}, \"bgcolor\": \"#E5ECF6\", \"radialaxis\": {\"gridcolor\": \"white\", \"linecolor\": \"white\", \"ticks\": \"\"}}, \"scene\": {\"xaxis\": {\"backgroundcolor\": \"#E5ECF6\", \"gridcolor\": \"white\", \"gridwidth\": 2, \"linecolor\": \"white\", \"showbackground\": true, \"ticks\": \"\", \"zerolinecolor\": \"white\"}, \"yaxis\": {\"backgroundcolor\": \"#E5ECF6\", \"gridcolor\": \"white\", \"gridwidth\": 2, \"linecolor\": \"white\", \"showbackground\": true, \"ticks\": \"\", \"zerolinecolor\": \"white\"}, \"zaxis\": {\"backgroundcolor\": \"#E5ECF6\", \"gridcolor\": \"white\", \"gridwidth\": 2, \"linecolor\": \"white\", \"showbackground\": true, \"ticks\": \"\", \"zerolinecolor\": \"white\"}}, \"shapedefaults\": {\"line\": {\"color\": \"#2a3f5f\"}}, \"ternary\": {\"aaxis\": {\"gridcolor\": \"white\", \"linecolor\": \"white\", \"ticks\": \"\"}, \"baxis\": {\"gridcolor\": \"white\", \"linecolor\": \"white\", \"ticks\": \"\"}, \"bgcolor\": \"#E5ECF6\", \"caxis\": {\"gridcolor\": \"white\", \"linecolor\": \"white\", \"ticks\": \"\"}}, \"title\": {\"x\": 0.05}, \"xaxis\": {\"automargin\": true, \"gridcolor\": \"white\", \"linecolor\": \"white\", \"ticks\": \"\", \"title\": {\"standoff\": 15}, \"zerolinecolor\": \"white\", \"zerolinewidth\": 2}, \"yaxis\": {\"automargin\": true, \"gridcolor\": \"white\", \"linecolor\": \"white\", \"ticks\": \"\", \"title\": {\"standoff\": 15}, \"zerolinecolor\": \"white\", \"zerolinewidth\": 2}}}, \"title\": {\"text\": \"SCC -> LACK (n=441)\"}, \"width\": 1000, \"xaxis\": {\"title\": {\"text\": \"SCC\"}}, \"yaxis\": {\"title\": {\"text\": \"LACK\"}}},\n",
              "                        {\"responsive\": true}\n",
              "                    ).then(function(){\n",
              "                            \n",
              "var gd = document.getElementById('5464465b-3b17-4c19-b3c0-4c7db2dc0abb');\n",
              "var x = new MutationObserver(function (mutations, observer) {{\n",
              "        var display = window.getComputedStyle(gd).display;\n",
              "        if (!display || display === 'none') {{\n",
              "            console.log([gd, 'removed!']);\n",
              "            Plotly.purge(gd);\n",
              "            observer.disconnect();\n",
              "        }}\n",
              "}});\n",
              "\n",
              "// Listen for the removal of the full notebook cells\n",
              "var notebookContainer = gd.closest('#notebook-container');\n",
              "if (notebookContainer) {{\n",
              "    x.observe(notebookContainer, {childList: true});\n",
              "}}\n",
              "\n",
              "// Listen for the clearing of the current output cell\n",
              "var outputEl = gd.closest('.output');\n",
              "if (outputEl) {{\n",
              "    x.observe(outputEl, {childList: true});\n",
              "}}\n",
              "\n",
              "                        })\n",
              "                };\n",
              "                \n",
              "            </script>\n",
              "        </div>\n",
              "</body>\n",
              "</html>"
            ]
          },
          "metadata": {
            "tags": []
          }
        }
      ]
    },
    {
      "cell_type": "code",
      "metadata": {
        "colab": {
          "base_uri": "https://localhost:8080/"
        },
        "id": "tc5zWtPErRLO",
        "outputId": "e4b6f48f-7e1c-4c96-b826-257832594efd"
      },
      "source": [
        "MakeRegressions(scc, lack)"
      ],
      "execution_count": null,
      "outputs": [
        {
          "output_type": "stream",
          "text": [
            "Regresja liniowa R2 =  0.032870975194527086\n",
            "Regresja kwadratowa R2 =  0.03323273002035165\n",
            "Regresja stopnia 3 R2 =  0.046333757121142405\n",
            "Regresja stopnia 4 R2 =  0.054019954332977016\n"
          ],
          "name": "stdout"
        }
      ]
    },
    {
      "cell_type": "markdown",
      "metadata": {
        "id": "mex2dFLNkRMd"
      },
      "source": [
        "##Dependent variable: CIHS MMIH"
      ]
    },
    {
      "cell_type": "code",
      "metadata": {
        "id": "R_mGalvJh7i1"
      },
      "source": [
        "mmih = df_subscales['IH_MMIH'].to_numpy()\n",
        "mmih = mmih.reshape(-1,1)"
      ],
      "execution_count": null,
      "outputs": []
    },
    {
      "cell_type": "markdown",
      "metadata": {
        "id": "vMAjJeZYrVI-"
      },
      "source": [
        "###AUT"
      ]
    },
    {
      "cell_type": "code",
      "metadata": {
        "colab": {
          "base_uri": "https://localhost:8080/",
          "height": 717
        },
        "id": "I4-9VYdJkgaV",
        "outputId": "9f70a7b1-744b-4b70-f7cb-ca9b5938d557"
      },
      "source": [
        "MakeScatterPlot(df_subscales['AUT'], df_subscales['IH_MMIH'], f'AUT -> MMIH (n={len(df_subscales)})', 'AUT','MMIH')"
      ],
      "execution_count": null,
      "outputs": [
        {
          "output_type": "display_data",
          "data": {
            "text/html": [
              "<html>\n",
              "<head><meta charset=\"utf-8\" /></head>\n",
              "<body>\n",
              "    <div>\n",
              "            <script src=\"https://cdnjs.cloudflare.com/ajax/libs/mathjax/2.7.5/MathJax.js?config=TeX-AMS-MML_SVG\"></script><script type=\"text/javascript\">if (window.MathJax) {MathJax.Hub.Config({SVG: {font: \"STIX-Web\"}});}</script>\n",
              "                <script type=\"text/javascript\">window.PlotlyConfig = {MathJaxConfig: 'local'};</script>\n",
              "        <script src=\"https://cdn.plot.ly/plotly-latest.min.js\"></script>    \n",
              "            <div id=\"456b5ab0-6de5-49ff-87d4-32d006802306\" class=\"plotly-graph-div\" style=\"height:700px; width:1000px;\"></div>\n",
              "            <script type=\"text/javascript\">\n",
              "                \n",
              "                    window.PLOTLYENV=window.PLOTLYENV || {};\n",
              "                    \n",
              "                if (document.getElementById(\"456b5ab0-6de5-49ff-87d4-32d006802306\")) {\n",
              "                    Plotly.newPlot(\n",
              "                        '456b5ab0-6de5-49ff-87d4-32d006802306',\n",
              "                        [{\"mode\": \"markers\", \"type\": \"scatter\", \"x\": [150, 170, 131, 167, 123, 168, 174, 135, 194, 132, 139, 135, 134, 185, 135, 199, 150, 151, 153, 159, 136, 128, 142, 157, 129, 140, 154, 153, 135, 168, 134, 183, 154, 158, 137, 186, 151, 144, 146, 112, 185, 184, 168, 166, 135, 134, 145, 139, 136, 138, 135, 143, 140, 133, 129, 199, 138, 174, 149, 158, 141, 135, 139, 147, 159, 135, 186, 160, 191, 160, 143, 136, 140, 141, 132, 134, 156, 144, 128, 167, 135, 159, 154, 193, 152, 161, 135, 162, 139, 145, 153, 127, 141, 177, 147, 154, 149, 141, 141, 138, 147, 159, 147, 150, 135, 134, 169, 142, 160, 157, 131, 134, 141, 135, 136, 165, 159, 143, 153, 129, 153, 134, 135, 130, 154, 134, 140, 201, 140, 181, 162, 157, 189, 124, 141, 134, 150, 141, 172, 149, 179, 142, 167, 179, 135, 163, 128, 136, 135, 133, 180, 134, 163, 140, 122, 154, 137, 147, 171, 145, 135, 166, 133, 145, 180, 164, 135, 135, 167, 148, 154, 134, 140, 201, 158, 138, 142, 173, 133, 133, 144, 185, 134, 167, 162, 186, 139, 185, 137, 167, 157, 142, 143, 142, 158, 132, 129, 180, 145, 151, 152, 139, 173, 139, 138, 156, 135, 137, 191, 160, 136, 142, 166, 154, 134, 126, 128, 157, 154, 136, 151, 174, 135, 156, 139, 129, 149, 173, 142, 162, 144, 145, 141, 128, 135, 123, 156, 115, 159, 135, 169, 193, 161, 137, 157, 185, 199, 141, 129, 142, 135, 162, 142, 130, 153, 162, 133, 148, 172, 156, 148, 163, 152, 112, 126, 135, 136, 154, 156, 147, 162, 135, 191, 171, 155, 135, 135, 143, 160, 135, 141, 173, 138, 161, 170, 142, 142, 161, 139, 137, 140, 140, 174, 146, 152, 171, 136, 148, 166, 141, 177, 165, 140, 150, 162, 137, 148, 135, 136, 135, 157, 145, 176, 134, 155, 178, 156, 165, 140, 157, 137, 137, 162, 155, 131, 150, 184, 167, 161, 159, 137, 138, 137, 139, 144, 154, 140, 138, 144, 138, 177, 173, 171, 134, 160, 127, 139, 160, 124, 132, 171, 144, 126, 148, 144, 192, 135, 143, 177, 143, 133, 133, 141, 161, 200, 150, 134, 139, 130, 180, 143, 164, 136, 171, 163, 140, 199, 163, 124, 140, 127, 144, 205, 140, 151, 140, 186, 156, 189, 130, 153, 137, 137, 146, 148, 179, 174, 133, 143, 152, 135, 155, 157, 160, 136, 160, 171, 153, 168, 133, 173, 148, 135, 137, 162, 168, 168, 139, 173, 149, 163, 151, 146, 160, 166, 142, 167, 154, 148, 164, 137, 183, 198, 138, 152, 164, 151, 158, 113, 142, 140], \"y\": [4.59090909090909, 4.86363636363636, 4.27272727272727, 5.95454545454545, 3.72727272727273, 5.77272727272727, 5.18181818181818, 4.0, 5.81818181818182, 3.72727272727273, 4.63636363636364, 4.0, 3.77272727272727, 5.63636363636364, 4.0, 6.13636363636364, 5.13636363636364, 5.0, 4.31818181818182, 4.18181818181818, 3.54545454545455, 4.27272727272727, 5.40909090909091, 4.22727272727273, 3.45454545454545, 5.04545454545455, 4.81818181818182, 5.09090909090909, 4.0, 5.5, 4.36363636363636, 4.68181818181818, 4.45454545454545, 5.27272727272727, 3.31818181818182, 5.5, 4.40909090909091, 5.27272727272727, 3.27272727272727, 4.18181818181818, 5.59090909090909, 5.59090909090909, 4.40909090909091, 3.36363636363636, 4.22727272727273, 3.90909090909091, 4.04545454545455, 5.77272727272727, 4.0, 4.90909090909091, 3.95454545454545, 3.90909090909091, 3.90909090909091, 3.81818181818182, 4.04545454545455, 4.04545454545455, 4.04545454545455, 4.77272727272727, 4.86363636363636, 3.63636363636364, 5.27272727272727, 4.0, 4.81818181818182, 3.13636363636364, 4.59090909090909, 4.0, 4.72727272727273, 5.68181818181818, 5.86363636363636, 5.72727272727273, 4.13636363636364, 4.40909090909091, 3.90909090909091, 4.31818181818182, 3.68181818181818, 4.63636363636364, 4.22727272727273, 3.31818181818182, 3.68181818181818, 4.09090909090909, 4.0, 3.45454545454545, 4.31818181818182, 4.72727272727273, 4.13636363636364, 5.90909090909091, 4.31818181818182, 4.04545454545455, 3.95454545454545, 4.63636363636364, 4.77272727272727, 3.54545454545455, 6.22727272727273, 5.54545454545455, 3.63636363636364, 3.77272727272727, 4.45454545454545, 4.18181818181818, 4.09090909090909, 3.63636363636364, 4.04545454545455, 4.5, 4.27272727272727, 3.18181818181818, 3.72727272727273, 3.72727272727273, 5.45454545454545, 4.09090909090909, 4.40909090909091, 4.86363636363636, 3.59090909090909, 3.5, 4.81818181818182, 4.45454545454545, 4.0, 4.40909090909091, 4.68181818181818, 3.86363636363636, 4.86363636363636, 4.18181818181818, 4.77272727272727, 3.59090909090909, 4.09090909090909, 3.54545454545455, 4.40909090909091, 4.40909090909091, 3.27272727272727, 5.54545454545455, 4.77272727272727, 4.63636363636364, 4.04545454545455, 4.36363636363636, 6.27272727272727, 4.45454545454545, 3.72727272727273, 3.40909090909091, 4.40909090909091, 4.04545454545455, 4.27272727272727, 5.0, 4.86363636363636, 2.86363636363636, 4.68181818181818, 4.90909090909091, 4.0, 5.04545454545455, 4.22727272727273, 3.72727272727273, 4.09090909090909, 3.90909090909091, 6.36363636363636, 4.04545454545455, 5.18181818181818, 3.27272727272727, 3.81818181818182, 4.22727272727273, 3.22727272727273, 3.13636363636364, 5.04545454545455, 4.04545454545455, 4.0, 4.13636363636364, 5.36363636363636, 3.81818181818182, 5.40909090909091, 4.90909090909091, 4.18181818181818, 3.09090909090909, 5.27272727272727, 4.36363636363636, 5.5, 5.18181818181818, 3.36363636363636, 4.63636363636364, 5.22727272727273, 3.68181818181818, 4.18181818181818, 4.86363636363636, 5.22727272727273, 3.54545454545455, 4.09090909090909, 5.09090909090909, 3.90909090909091, 4.59090909090909, 4.04545454545455, 4.77272727272727, 3.90909090909091, 4.68181818181818, 4.31818181818182, 5.86363636363636, 4.72727272727273, 3.81818181818182, 3.77272727272727, 3.95454545454545, 4.40909090909091, 3.95454545454545, 4.77272727272727, 4.90909090909091, 3.95454545454545, 4.59090909090909, 4.36363636363636, 4.27272727272727, 6.27272727272727, 4.54545454545455, 4.95454545454545, 5.31818181818182, 3.72727272727273, 3.72727272727273, 5.36363636363636, 4.63636363636364, 4.0, 4.13636363636364, 3.86363636363636, 4.36363636363636, 4.13636363636364, 3.77272727272727, 3.81818181818182, 5.22727272727273, 4.54545454545455, 3.63636363636364, 4.95454545454545, 4.5, 4.0, 4.54545454545455, 3.81818181818182, 4.31818181818182, 3.90909090909091, 5.40909090909091, 3.81818181818182, 4.90909090909091, 3.22727272727273, 4.95454545454545, 2.95454545454545, 3.95454545454545, 3.90909090909091, 3.5, 4.81818181818182, 4.90909090909091, 5.04545454545455, 4.09090909090909, 4.86363636363636, 5.77272727272727, 4.63636363636364, 3.63636363636364, 5.27272727272727, 4.68181818181818, 5.86363636363636, 4.45454545454545, 3.59090909090909, 4.18181818181818, 3.63636363636364, 4.59090909090909, 4.45454545454545, 5.22727272727273, 4.18181818181818, 4.95454545454545, 4.45454545454545, 4.45454545454545, 5.59090909090909, 3.63636363636364, 3.90909090909091, 5.18181818181818, 4.86363636363636, 4.77272727272727, 4.59090909090909, 4.0, 4.31818181818182, 3.54545454545455, 4.81818181818182, 4.09090909090909, 4.95454545454545, 3.5, 4.5, 4.77272727272727, 4.86363636363636, 3.86363636363636, 3.95454545454545, 4.13636363636364, 5.18181818181818, 4.0, 4.68181818181818, 5.09090909090909, 3.5, 4.63636363636364, 3.59090909090909, 4.18181818181818, 3.86363636363636, 5.81818181818182, 4.09090909090909, 3.90909090909091, 4.22727272727273, 4.22727272727273, 4.81818181818182, 4.81818181818182, 4.22727272727273, 5.13636363636364, 5.59090909090909, 4.81818181818182, 3.0, 4.22727272727273, 4.04545454545455, 4.81818181818182, 5.0, 6.40909090909091, 4.81818181818182, 3.90909090909091, 4.09090909090909, 4.0, 4.31818181818182, 3.72727272727273, 5.54545454545455, 4.36363636363636, 4.40909090909091, 5.04545454545455, 5.0, 5.09090909090909, 4.27272727272727, 5.13636363636364, 5.40909090909091, 5.0, 3.95454545454545, 3.18181818181818, 4.86363636363636, 4.5, 4.04545454545455, 4.68181818181818, 5.27272727272727, 5.31818181818182, 4.95454545454545, 4.18181818181818, 4.18181818181818, 3.95454545454545, 3.90909090909091, 3.5, 4.77272727272727, 4.68181818181818, 4.40909090909091, 5.18181818181818, 3.72727272727273, 4.59090909090909, 5.72727272727273, 4.5, 3.81818181818182, 3.54545454545455, 4.68181818181818, 3.54545454545455, 4.04545454545455, 4.09090909090909, 4.0, 3.90909090909091, 4.90909090909091, 3.72727272727273, 3.31818181818182, 4.13636363636364, 4.86363636363636, 5.09090909090909, 4.0, 3.68181818181818, 5.22727272727273, 4.40909090909091, 3.90909090909091, 5.31818181818182, 4.04545454545455, 5.90909090909091, 5.95454545454545, 4.72727272727273, 4.22727272727273, 4.18181818181818, 4.5, 6.18181818181818, 4.31818181818182, 4.90909090909091, 4.18181818181818, 4.0, 6.40909090909091, 4.31818181818182, 5.72727272727273, 4.81818181818182, 4.0, 3.90909090909091, 3.54545454545455, 5.0, 4.86363636363636, 4.22727272727273, 4.72727272727273, 4.45454545454545, 5.77272727272727, 4.36363636363636, 5.5, 3.81818181818182, 4.90909090909091, 4.22727272727273, 3.77272727272727, 3.72727272727273, 4.0, 4.90909090909091, 3.77272727272727, 3.90909090909091, 3.68181818181818, 3.90909090909091, 4.09090909090909, 3.81818181818182, 4.86363636363636, 4.68181818181818, 5.72727272727273, 3.86363636363636, 5.09090909090909, 4.81818181818182, 4.86363636363636, 3.68181818181818, 4.27272727272727, 4.18181818181818, 4.40909090909091, 3.63636363636364, 4.54545454545455, 4.81818181818182, 5.31818181818182, 4.95454545454545, 5.18181818181818, 4.09090909090909, 4.72727272727273, 4.54545454545455, 4.81818181818182, 4.59090909090909, 4.40909090909091, 3.31818181818182, 5.95454545454545, 4.59090909090909, 3.95454545454545, 4.5, 4.04545454545455, 4.72727272727273, 5.81818181818182, 3.77272727272727, 4.04545454545455, 4.59090909090909, 6.04545454545455, 4.95454545454545, 3.95454545454545, 3.77272727272727, 4.04545454545455]}],\n",
              "                        {\"height\": 700, \"template\": {\"data\": {\"bar\": [{\"error_x\": {\"color\": \"#2a3f5f\"}, \"error_y\": {\"color\": \"#2a3f5f\"}, \"marker\": {\"line\": {\"color\": \"#E5ECF6\", \"width\": 0.5}}, \"type\": \"bar\"}], \"barpolar\": [{\"marker\": {\"line\": {\"color\": \"#E5ECF6\", \"width\": 0.5}}, \"type\": \"barpolar\"}], \"carpet\": [{\"aaxis\": {\"endlinecolor\": \"#2a3f5f\", \"gridcolor\": \"white\", \"linecolor\": \"white\", \"minorgridcolor\": \"white\", \"startlinecolor\": \"#2a3f5f\"}, \"baxis\": {\"endlinecolor\": \"#2a3f5f\", \"gridcolor\": \"white\", \"linecolor\": \"white\", \"minorgridcolor\": \"white\", \"startlinecolor\": \"#2a3f5f\"}, \"type\": \"carpet\"}], \"choropleth\": [{\"colorbar\": {\"outlinewidth\": 0, \"ticks\": \"\"}, \"type\": \"choropleth\"}], \"contour\": [{\"colorbar\": {\"outlinewidth\": 0, \"ticks\": \"\"}, \"colorscale\": [[0.0, \"#0d0887\"], [0.1111111111111111, \"#46039f\"], [0.2222222222222222, \"#7201a8\"], [0.3333333333333333, \"#9c179e\"], [0.4444444444444444, \"#bd3786\"], [0.5555555555555556, \"#d8576b\"], [0.6666666666666666, \"#ed7953\"], [0.7777777777777778, \"#fb9f3a\"], [0.8888888888888888, \"#fdca26\"], [1.0, \"#f0f921\"]], \"type\": \"contour\"}], \"contourcarpet\": [{\"colorbar\": {\"outlinewidth\": 0, \"ticks\": \"\"}, \"type\": \"contourcarpet\"}], \"heatmap\": [{\"colorbar\": {\"outlinewidth\": 0, \"ticks\": \"\"}, \"colorscale\": [[0.0, \"#0d0887\"], [0.1111111111111111, \"#46039f\"], [0.2222222222222222, \"#7201a8\"], [0.3333333333333333, \"#9c179e\"], [0.4444444444444444, \"#bd3786\"], [0.5555555555555556, \"#d8576b\"], [0.6666666666666666, \"#ed7953\"], [0.7777777777777778, \"#fb9f3a\"], [0.8888888888888888, \"#fdca26\"], [1.0, \"#f0f921\"]], \"type\": \"heatmap\"}], \"heatmapgl\": [{\"colorbar\": {\"outlinewidth\": 0, \"ticks\": \"\"}, \"colorscale\": [[0.0, \"#0d0887\"], [0.1111111111111111, \"#46039f\"], [0.2222222222222222, \"#7201a8\"], [0.3333333333333333, \"#9c179e\"], [0.4444444444444444, \"#bd3786\"], [0.5555555555555556, \"#d8576b\"], [0.6666666666666666, \"#ed7953\"], [0.7777777777777778, \"#fb9f3a\"], [0.8888888888888888, \"#fdca26\"], [1.0, \"#f0f921\"]], \"type\": \"heatmapgl\"}], \"histogram\": [{\"marker\": {\"colorbar\": {\"outlinewidth\": 0, \"ticks\": \"\"}}, \"type\": \"histogram\"}], \"histogram2d\": [{\"colorbar\": {\"outlinewidth\": 0, \"ticks\": \"\"}, \"colorscale\": [[0.0, \"#0d0887\"], [0.1111111111111111, \"#46039f\"], [0.2222222222222222, \"#7201a8\"], [0.3333333333333333, \"#9c179e\"], [0.4444444444444444, \"#bd3786\"], [0.5555555555555556, \"#d8576b\"], [0.6666666666666666, \"#ed7953\"], [0.7777777777777778, \"#fb9f3a\"], [0.8888888888888888, \"#fdca26\"], [1.0, \"#f0f921\"]], \"type\": \"histogram2d\"}], \"histogram2dcontour\": [{\"colorbar\": {\"outlinewidth\": 0, \"ticks\": \"\"}, \"colorscale\": [[0.0, \"#0d0887\"], [0.1111111111111111, \"#46039f\"], [0.2222222222222222, \"#7201a8\"], [0.3333333333333333, \"#9c179e\"], [0.4444444444444444, \"#bd3786\"], [0.5555555555555556, \"#d8576b\"], [0.6666666666666666, \"#ed7953\"], [0.7777777777777778, \"#fb9f3a\"], [0.8888888888888888, \"#fdca26\"], [1.0, \"#f0f921\"]], \"type\": \"histogram2dcontour\"}], \"mesh3d\": [{\"colorbar\": {\"outlinewidth\": 0, \"ticks\": \"\"}, \"type\": \"mesh3d\"}], \"parcoords\": [{\"line\": {\"colorbar\": {\"outlinewidth\": 0, \"ticks\": \"\"}}, \"type\": \"parcoords\"}], \"pie\": [{\"automargin\": true, \"type\": \"pie\"}], \"scatter\": [{\"marker\": {\"colorbar\": {\"outlinewidth\": 0, \"ticks\": \"\"}}, \"type\": \"scatter\"}], \"scatter3d\": [{\"line\": {\"colorbar\": {\"outlinewidth\": 0, \"ticks\": \"\"}}, \"marker\": {\"colorbar\": {\"outlinewidth\": 0, \"ticks\": \"\"}}, \"type\": \"scatter3d\"}], \"scattercarpet\": [{\"marker\": {\"colorbar\": {\"outlinewidth\": 0, \"ticks\": \"\"}}, \"type\": \"scattercarpet\"}], \"scattergeo\": [{\"marker\": {\"colorbar\": {\"outlinewidth\": 0, \"ticks\": \"\"}}, \"type\": \"scattergeo\"}], \"scattergl\": [{\"marker\": {\"colorbar\": {\"outlinewidth\": 0, \"ticks\": \"\"}}, \"type\": \"scattergl\"}], \"scattermapbox\": [{\"marker\": {\"colorbar\": {\"outlinewidth\": 0, \"ticks\": \"\"}}, \"type\": \"scattermapbox\"}], \"scatterpolar\": [{\"marker\": {\"colorbar\": {\"outlinewidth\": 0, \"ticks\": \"\"}}, \"type\": \"scatterpolar\"}], \"scatterpolargl\": [{\"marker\": {\"colorbar\": {\"outlinewidth\": 0, \"ticks\": \"\"}}, \"type\": \"scatterpolargl\"}], \"scatterternary\": [{\"marker\": {\"colorbar\": {\"outlinewidth\": 0, \"ticks\": \"\"}}, \"type\": \"scatterternary\"}], \"surface\": [{\"colorbar\": {\"outlinewidth\": 0, \"ticks\": \"\"}, \"colorscale\": [[0.0, \"#0d0887\"], [0.1111111111111111, \"#46039f\"], [0.2222222222222222, \"#7201a8\"], [0.3333333333333333, \"#9c179e\"], [0.4444444444444444, \"#bd3786\"], [0.5555555555555556, \"#d8576b\"], [0.6666666666666666, \"#ed7953\"], [0.7777777777777778, \"#fb9f3a\"], [0.8888888888888888, \"#fdca26\"], [1.0, \"#f0f921\"]], \"type\": \"surface\"}], \"table\": [{\"cells\": {\"fill\": {\"color\": \"#EBF0F8\"}, \"line\": {\"color\": \"white\"}}, \"header\": {\"fill\": {\"color\": \"#C8D4E3\"}, \"line\": {\"color\": \"white\"}}, \"type\": \"table\"}]}, \"layout\": {\"annotationdefaults\": {\"arrowcolor\": \"#2a3f5f\", \"arrowhead\": 0, \"arrowwidth\": 1}, \"coloraxis\": {\"colorbar\": {\"outlinewidth\": 0, \"ticks\": \"\"}}, \"colorscale\": {\"diverging\": [[0, \"#8e0152\"], [0.1, \"#c51b7d\"], [0.2, \"#de77ae\"], [0.3, \"#f1b6da\"], [0.4, \"#fde0ef\"], [0.5, \"#f7f7f7\"], [0.6, \"#e6f5d0\"], [0.7, \"#b8e186\"], [0.8, \"#7fbc41\"], [0.9, \"#4d9221\"], [1, \"#276419\"]], \"sequential\": [[0.0, \"#0d0887\"], [0.1111111111111111, \"#46039f\"], [0.2222222222222222, \"#7201a8\"], [0.3333333333333333, \"#9c179e\"], [0.4444444444444444, \"#bd3786\"], [0.5555555555555556, \"#d8576b\"], [0.6666666666666666, \"#ed7953\"], [0.7777777777777778, \"#fb9f3a\"], [0.8888888888888888, \"#fdca26\"], [1.0, \"#f0f921\"]], \"sequentialminus\": [[0.0, \"#0d0887\"], [0.1111111111111111, \"#46039f\"], [0.2222222222222222, \"#7201a8\"], [0.3333333333333333, \"#9c179e\"], [0.4444444444444444, \"#bd3786\"], [0.5555555555555556, \"#d8576b\"], [0.6666666666666666, \"#ed7953\"], [0.7777777777777778, \"#fb9f3a\"], [0.8888888888888888, \"#fdca26\"], [1.0, \"#f0f921\"]]}, \"colorway\": [\"#636efa\", \"#EF553B\", \"#00cc96\", \"#ab63fa\", \"#FFA15A\", \"#19d3f3\", \"#FF6692\", \"#B6E880\", \"#FF97FF\", \"#FECB52\"], \"font\": {\"color\": \"#2a3f5f\"}, \"geo\": {\"bgcolor\": \"white\", \"lakecolor\": \"white\", \"landcolor\": \"#E5ECF6\", \"showlakes\": true, \"showland\": true, \"subunitcolor\": \"white\"}, \"hoverlabel\": {\"align\": \"left\"}, \"hovermode\": \"closest\", \"mapbox\": {\"style\": \"light\"}, \"paper_bgcolor\": \"white\", \"plot_bgcolor\": \"#E5ECF6\", \"polar\": {\"angularaxis\": {\"gridcolor\": \"white\", \"linecolor\": \"white\", \"ticks\": \"\"}, \"bgcolor\": \"#E5ECF6\", \"radialaxis\": {\"gridcolor\": \"white\", \"linecolor\": \"white\", \"ticks\": \"\"}}, \"scene\": {\"xaxis\": {\"backgroundcolor\": \"#E5ECF6\", \"gridcolor\": \"white\", \"gridwidth\": 2, \"linecolor\": \"white\", \"showbackground\": true, \"ticks\": \"\", \"zerolinecolor\": \"white\"}, \"yaxis\": {\"backgroundcolor\": \"#E5ECF6\", \"gridcolor\": \"white\", \"gridwidth\": 2, \"linecolor\": \"white\", \"showbackground\": true, \"ticks\": \"\", \"zerolinecolor\": \"white\"}, \"zaxis\": {\"backgroundcolor\": \"#E5ECF6\", \"gridcolor\": \"white\", \"gridwidth\": 2, \"linecolor\": \"white\", \"showbackground\": true, \"ticks\": \"\", \"zerolinecolor\": \"white\"}}, \"shapedefaults\": {\"line\": {\"color\": \"#2a3f5f\"}}, \"ternary\": {\"aaxis\": {\"gridcolor\": \"white\", \"linecolor\": \"white\", \"ticks\": \"\"}, \"baxis\": {\"gridcolor\": \"white\", \"linecolor\": \"white\", \"ticks\": \"\"}, \"bgcolor\": \"#E5ECF6\", \"caxis\": {\"gridcolor\": \"white\", \"linecolor\": \"white\", \"ticks\": \"\"}}, \"title\": {\"x\": 0.05}, \"xaxis\": {\"automargin\": true, \"gridcolor\": \"white\", \"linecolor\": \"white\", \"ticks\": \"\", \"title\": {\"standoff\": 15}, \"zerolinecolor\": \"white\", \"zerolinewidth\": 2}, \"yaxis\": {\"automargin\": true, \"gridcolor\": \"white\", \"linecolor\": \"white\", \"ticks\": \"\", \"title\": {\"standoff\": 15}, \"zerolinecolor\": \"white\", \"zerolinewidth\": 2}}}, \"title\": {\"text\": \"AUT -> MMIH (n=441)\"}, \"width\": 1000, \"xaxis\": {\"title\": {\"text\": \"AUT\"}}, \"yaxis\": {\"title\": {\"text\": \"MMIH\"}}},\n",
              "                        {\"responsive\": true}\n",
              "                    ).then(function(){\n",
              "                            \n",
              "var gd = document.getElementById('456b5ab0-6de5-49ff-87d4-32d006802306');\n",
              "var x = new MutationObserver(function (mutations, observer) {{\n",
              "        var display = window.getComputedStyle(gd).display;\n",
              "        if (!display || display === 'none') {{\n",
              "            console.log([gd, 'removed!']);\n",
              "            Plotly.purge(gd);\n",
              "            observer.disconnect();\n",
              "        }}\n",
              "}});\n",
              "\n",
              "// Listen for the removal of the full notebook cells\n",
              "var notebookContainer = gd.closest('#notebook-container');\n",
              "if (notebookContainer) {{\n",
              "    x.observe(notebookContainer, {childList: true});\n",
              "}}\n",
              "\n",
              "// Listen for the clearing of the current output cell\n",
              "var outputEl = gd.closest('.output');\n",
              "if (outputEl) {{\n",
              "    x.observe(outputEl, {childList: true});\n",
              "}}\n",
              "\n",
              "                        })\n",
              "                };\n",
              "                \n",
              "            </script>\n",
              "        </div>\n",
              "</body>\n",
              "</html>"
            ]
          },
          "metadata": {
            "tags": []
          }
        }
      ]
    },
    {
      "cell_type": "code",
      "metadata": {
        "colab": {
          "base_uri": "https://localhost:8080/"
        },
        "id": "M0JybfEskogb",
        "outputId": "1b4a6b30-d240-4bc1-b5d3-d769a15db184"
      },
      "source": [
        "MakeRegressions(aut, mmih)"
      ],
      "execution_count": null,
      "outputs": [
        {
          "output_type": "stream",
          "text": [
            "Regresja liniowa R2 =  0.3109847536016306\n",
            "Regresja kwadratowa R2 =  0.3113860093979566\n",
            "Regresja stopnia 3 R2 =  0.32400144958958754\n",
            "Regresja stopnia 4 R2 =  0.326166064989561\n"
          ],
          "name": "stdout"
        }
      ]
    },
    {
      "cell_type": "markdown",
      "metadata": {
        "id": "WbuSx9DarW-o"
      },
      "source": [
        "###SCC"
      ]
    },
    {
      "cell_type": "code",
      "metadata": {
        "colab": {
          "base_uri": "https://localhost:8080/",
          "height": 717
        },
        "id": "Pu_RfKjfkwg3",
        "outputId": "c26cd17e-516c-4837-9fe3-6c223bc78a09"
      },
      "source": [
        "MakeScatterPlot(df_subscales['SCC'], df_subscales['IH_MMIH'], f'SCC -> MMIH (n={len(df_subscales)})', 'SCC','MMIH')"
      ],
      "execution_count": null,
      "outputs": [
        {
          "output_type": "display_data",
          "data": {
            "text/html": [
              "<html>\n",
              "<head><meta charset=\"utf-8\" /></head>\n",
              "<body>\n",
              "    <div>\n",
              "            <script src=\"https://cdnjs.cloudflare.com/ajax/libs/mathjax/2.7.5/MathJax.js?config=TeX-AMS-MML_SVG\"></script><script type=\"text/javascript\">if (window.MathJax) {MathJax.Hub.Config({SVG: {font: \"STIX-Web\"}});}</script>\n",
              "                <script type=\"text/javascript\">window.PlotlyConfig = {MathJaxConfig: 'local'};</script>\n",
              "        <script src=\"https://cdn.plot.ly/plotly-latest.min.js\"></script>    \n",
              "            <div id=\"a157ded2-a34a-40bb-85e4-8b05afd72cd4\" class=\"plotly-graph-div\" style=\"height:700px; width:1000px;\"></div>\n",
              "            <script type=\"text/javascript\">\n",
              "                \n",
              "                    window.PLOTLYENV=window.PLOTLYENV || {};\n",
              "                    \n",
              "                if (document.getElementById(\"a157ded2-a34a-40bb-85e4-8b05afd72cd4\")) {\n",
              "                    Plotly.newPlot(\n",
              "                        'a157ded2-a34a-40bb-85e4-8b05afd72cd4',\n",
              "                        [{\"mode\": \"markers\", \"type\": \"scatter\", \"x\": [42, 46, 30, 45, 36, 52, 49, 36, 60, 33, 43, 36, 28, 55, 36, 46, 20, 42, 36, 42, 35, 27, 20, 36, 36, 29, 43, 27, 36, 52, 34, 51, 43, 43, 28, 46, 31, 30, 42, 26, 58, 53, 42, 48, 33, 27, 31, 44, 37, 36, 36, 32, 44, 36, 37, 59, 36, 46, 38, 38, 36, 36, 30, 51, 46, 36, 47, 48, 56, 49, 43, 29, 34, 30, 28, 31, 46, 30, 20, 46, 36, 42, 46, 54, 32, 43, 35, 32, 32, 34, 49, 33, 36, 48, 31, 42, 46, 35, 40, 31, 34, 21, 28, 36, 34, 34, 41, 32, 48, 36, 32, 30, 39, 36, 36, 48, 48, 39, 40, 30, 47, 30, 36, 35, 40, 28, 32, 55, 28, 54, 45, 41, 45, 20, 39, 36, 34, 38, 47, 39, 53, 32, 48, 46, 36, 44, 30, 25, 36, 34, 44, 35, 30, 32, 31, 41, 28, 33, 54, 38, 36, 44, 30, 27, 39, 38, 34, 36, 38, 32, 36, 28, 30, 54, 43, 43, 29, 47, 34, 30, 41, 59, 34, 42, 52, 44, 36, 53, 49, 47, 39, 36, 35, 38, 45, 29, 26, 41, 39, 43, 30, 36, 32, 30, 34, 29, 36, 32, 57, 48, 36, 36, 48, 37, 34, 31, 37, 32, 31, 28, 37, 47, 36, 26, 37, 39, 40, 39, 35, 34, 32, 31, 44, 34, 33, 30, 43, 25, 43, 36, 29, 54, 45, 47, 31, 44, 50, 37, 30, 38, 37, 45, 36, 23, 40, 44, 27, 43, 41, 42, 34, 43, 29, 22, 33, 32, 36, 35, 38, 40, 47, 37, 57, 49, 45, 36, 32, 33, 35, 60, 37, 46, 39, 46, 44, 38, 29, 41, 31, 39, 36, 35, 48, 50, 43, 47, 34, 42, 52, 39, 50, 46, 26, 36, 47, 44, 29, 40, 38, 32, 38, 21, 50, 40, 39, 54, 41, 30, 33, 37, 47, 29, 35, 47, 31, 42, 57, 43, 47, 38, 30, 36, 36, 29, 33, 24, 31, 26, 36, 38, 45, 48, 43, 28, 43, 36, 32, 38, 35, 44, 50, 31, 37, 43, 40, 49, 36, 36, 41, 34, 34, 34, 34, 41, 43, 36, 34, 43, 28, 44, 33, 40, 43, 40, 42, 38, 56, 44, 36, 35, 38, 34, 56, 21, 40, 36, 46, 32, 55, 28, 35, 36, 40, 32, 44, 58, 48, 33, 38, 35, 35, 45, 40, 45, 29, 31, 46, 44, 48, 36, 56, 31, 28, 36, 48, 45, 50, 35, 44, 40, 31, 30, 31, 30, 40, 32, 40, 36, 30, 35, 28, 38, 60, 34, 30, 48, 46, 41, 21, 40, 40], \"y\": [4.59090909090909, 4.86363636363636, 4.27272727272727, 5.95454545454545, 3.72727272727273, 5.77272727272727, 5.18181818181818, 4.0, 5.81818181818182, 3.72727272727273, 4.63636363636364, 4.0, 3.77272727272727, 5.63636363636364, 4.0, 6.13636363636364, 5.13636363636364, 5.0, 4.31818181818182, 4.18181818181818, 3.54545454545455, 4.27272727272727, 5.40909090909091, 4.22727272727273, 3.45454545454545, 5.04545454545455, 4.81818181818182, 5.09090909090909, 4.0, 5.5, 4.36363636363636, 4.68181818181818, 4.45454545454545, 5.27272727272727, 3.31818181818182, 5.5, 4.40909090909091, 5.27272727272727, 3.27272727272727, 4.18181818181818, 5.59090909090909, 5.59090909090909, 4.40909090909091, 3.36363636363636, 4.22727272727273, 3.90909090909091, 4.04545454545455, 5.77272727272727, 4.0, 4.90909090909091, 3.95454545454545, 3.90909090909091, 3.90909090909091, 3.81818181818182, 4.04545454545455, 4.04545454545455, 4.04545454545455, 4.77272727272727, 4.86363636363636, 3.63636363636364, 5.27272727272727, 4.0, 4.81818181818182, 3.13636363636364, 4.59090909090909, 4.0, 4.72727272727273, 5.68181818181818, 5.86363636363636, 5.72727272727273, 4.13636363636364, 4.40909090909091, 3.90909090909091, 4.31818181818182, 3.68181818181818, 4.63636363636364, 4.22727272727273, 3.31818181818182, 3.68181818181818, 4.09090909090909, 4.0, 3.45454545454545, 4.31818181818182, 4.72727272727273, 4.13636363636364, 5.90909090909091, 4.31818181818182, 4.04545454545455, 3.95454545454545, 4.63636363636364, 4.77272727272727, 3.54545454545455, 6.22727272727273, 5.54545454545455, 3.63636363636364, 3.77272727272727, 4.45454545454545, 4.18181818181818, 4.09090909090909, 3.63636363636364, 4.04545454545455, 4.5, 4.27272727272727, 3.18181818181818, 3.72727272727273, 3.72727272727273, 5.45454545454545, 4.09090909090909, 4.40909090909091, 4.86363636363636, 3.59090909090909, 3.5, 4.81818181818182, 4.45454545454545, 4.0, 4.40909090909091, 4.68181818181818, 3.86363636363636, 4.86363636363636, 4.18181818181818, 4.77272727272727, 3.59090909090909, 4.09090909090909, 3.54545454545455, 4.40909090909091, 4.40909090909091, 3.27272727272727, 5.54545454545455, 4.77272727272727, 4.63636363636364, 4.04545454545455, 4.36363636363636, 6.27272727272727, 4.45454545454545, 3.72727272727273, 3.40909090909091, 4.40909090909091, 4.04545454545455, 4.27272727272727, 5.0, 4.86363636363636, 2.86363636363636, 4.68181818181818, 4.90909090909091, 4.0, 5.04545454545455, 4.22727272727273, 3.72727272727273, 4.09090909090909, 3.90909090909091, 6.36363636363636, 4.04545454545455, 5.18181818181818, 3.27272727272727, 3.81818181818182, 4.22727272727273, 3.22727272727273, 3.13636363636364, 5.04545454545455, 4.04545454545455, 4.0, 4.13636363636364, 5.36363636363636, 3.81818181818182, 5.40909090909091, 4.90909090909091, 4.18181818181818, 3.09090909090909, 5.27272727272727, 4.36363636363636, 5.5, 5.18181818181818, 3.36363636363636, 4.63636363636364, 5.22727272727273, 3.68181818181818, 4.18181818181818, 4.86363636363636, 5.22727272727273, 3.54545454545455, 4.09090909090909, 5.09090909090909, 3.90909090909091, 4.59090909090909, 4.04545454545455, 4.77272727272727, 3.90909090909091, 4.68181818181818, 4.31818181818182, 5.86363636363636, 4.72727272727273, 3.81818181818182, 3.77272727272727, 3.95454545454545, 4.40909090909091, 3.95454545454545, 4.77272727272727, 4.90909090909091, 3.95454545454545, 4.59090909090909, 4.36363636363636, 4.27272727272727, 6.27272727272727, 4.54545454545455, 4.95454545454545, 5.31818181818182, 3.72727272727273, 3.72727272727273, 5.36363636363636, 4.63636363636364, 4.0, 4.13636363636364, 3.86363636363636, 4.36363636363636, 4.13636363636364, 3.77272727272727, 3.81818181818182, 5.22727272727273, 4.54545454545455, 3.63636363636364, 4.95454545454545, 4.5, 4.0, 4.54545454545455, 3.81818181818182, 4.31818181818182, 3.90909090909091, 5.40909090909091, 3.81818181818182, 4.90909090909091, 3.22727272727273, 4.95454545454545, 2.95454545454545, 3.95454545454545, 3.90909090909091, 3.5, 4.81818181818182, 4.90909090909091, 5.04545454545455, 4.09090909090909, 4.86363636363636, 5.77272727272727, 4.63636363636364, 3.63636363636364, 5.27272727272727, 4.68181818181818, 5.86363636363636, 4.45454545454545, 3.59090909090909, 4.18181818181818, 3.63636363636364, 4.59090909090909, 4.45454545454545, 5.22727272727273, 4.18181818181818, 4.95454545454545, 4.45454545454545, 4.45454545454545, 5.59090909090909, 3.63636363636364, 3.90909090909091, 5.18181818181818, 4.86363636363636, 4.77272727272727, 4.59090909090909, 4.0, 4.31818181818182, 3.54545454545455, 4.81818181818182, 4.09090909090909, 4.95454545454545, 3.5, 4.5, 4.77272727272727, 4.86363636363636, 3.86363636363636, 3.95454545454545, 4.13636363636364, 5.18181818181818, 4.0, 4.68181818181818, 5.09090909090909, 3.5, 4.63636363636364, 3.59090909090909, 4.18181818181818, 3.86363636363636, 5.81818181818182, 4.09090909090909, 3.90909090909091, 4.22727272727273, 4.22727272727273, 4.81818181818182, 4.81818181818182, 4.22727272727273, 5.13636363636364, 5.59090909090909, 4.81818181818182, 3.0, 4.22727272727273, 4.04545454545455, 4.81818181818182, 5.0, 6.40909090909091, 4.81818181818182, 3.90909090909091, 4.09090909090909, 4.0, 4.31818181818182, 3.72727272727273, 5.54545454545455, 4.36363636363636, 4.40909090909091, 5.04545454545455, 5.0, 5.09090909090909, 4.27272727272727, 5.13636363636364, 5.40909090909091, 5.0, 3.95454545454545, 3.18181818181818, 4.86363636363636, 4.5, 4.04545454545455, 4.68181818181818, 5.27272727272727, 5.31818181818182, 4.95454545454545, 4.18181818181818, 4.18181818181818, 3.95454545454545, 3.90909090909091, 3.5, 4.77272727272727, 4.68181818181818, 4.40909090909091, 5.18181818181818, 3.72727272727273, 4.59090909090909, 5.72727272727273, 4.5, 3.81818181818182, 3.54545454545455, 4.68181818181818, 3.54545454545455, 4.04545454545455, 4.09090909090909, 4.0, 3.90909090909091, 4.90909090909091, 3.72727272727273, 3.31818181818182, 4.13636363636364, 4.86363636363636, 5.09090909090909, 4.0, 3.68181818181818, 5.22727272727273, 4.40909090909091, 3.90909090909091, 5.31818181818182, 4.04545454545455, 5.90909090909091, 5.95454545454545, 4.72727272727273, 4.22727272727273, 4.18181818181818, 4.5, 6.18181818181818, 4.31818181818182, 4.90909090909091, 4.18181818181818, 4.0, 6.40909090909091, 4.31818181818182, 5.72727272727273, 4.81818181818182, 4.0, 3.90909090909091, 3.54545454545455, 5.0, 4.86363636363636, 4.22727272727273, 4.72727272727273, 4.45454545454545, 5.77272727272727, 4.36363636363636, 5.5, 3.81818181818182, 4.90909090909091, 4.22727272727273, 3.77272727272727, 3.72727272727273, 4.0, 4.90909090909091, 3.77272727272727, 3.90909090909091, 3.68181818181818, 3.90909090909091, 4.09090909090909, 3.81818181818182, 4.86363636363636, 4.68181818181818, 5.72727272727273, 3.86363636363636, 5.09090909090909, 4.81818181818182, 4.86363636363636, 3.68181818181818, 4.27272727272727, 4.18181818181818, 4.40909090909091, 3.63636363636364, 4.54545454545455, 4.81818181818182, 5.31818181818182, 4.95454545454545, 5.18181818181818, 4.09090909090909, 4.72727272727273, 4.54545454545455, 4.81818181818182, 4.59090909090909, 4.40909090909091, 3.31818181818182, 5.95454545454545, 4.59090909090909, 3.95454545454545, 4.5, 4.04545454545455, 4.72727272727273, 5.81818181818182, 3.77272727272727, 4.04545454545455, 4.59090909090909, 6.04545454545455, 4.95454545454545, 3.95454545454545, 3.77272727272727, 4.04545454545455]}],\n",
              "                        {\"height\": 700, \"template\": {\"data\": {\"bar\": [{\"error_x\": {\"color\": \"#2a3f5f\"}, \"error_y\": {\"color\": \"#2a3f5f\"}, \"marker\": {\"line\": {\"color\": \"#E5ECF6\", \"width\": 0.5}}, \"type\": \"bar\"}], \"barpolar\": [{\"marker\": {\"line\": {\"color\": \"#E5ECF6\", \"width\": 0.5}}, \"type\": \"barpolar\"}], \"carpet\": [{\"aaxis\": {\"endlinecolor\": \"#2a3f5f\", \"gridcolor\": \"white\", \"linecolor\": \"white\", \"minorgridcolor\": \"white\", \"startlinecolor\": \"#2a3f5f\"}, \"baxis\": {\"endlinecolor\": \"#2a3f5f\", \"gridcolor\": \"white\", \"linecolor\": \"white\", \"minorgridcolor\": \"white\", \"startlinecolor\": \"#2a3f5f\"}, \"type\": \"carpet\"}], \"choropleth\": [{\"colorbar\": {\"outlinewidth\": 0, \"ticks\": \"\"}, \"type\": \"choropleth\"}], \"contour\": [{\"colorbar\": {\"outlinewidth\": 0, \"ticks\": \"\"}, \"colorscale\": [[0.0, \"#0d0887\"], [0.1111111111111111, \"#46039f\"], [0.2222222222222222, \"#7201a8\"], [0.3333333333333333, \"#9c179e\"], [0.4444444444444444, \"#bd3786\"], [0.5555555555555556, \"#d8576b\"], [0.6666666666666666, \"#ed7953\"], [0.7777777777777778, \"#fb9f3a\"], [0.8888888888888888, \"#fdca26\"], [1.0, \"#f0f921\"]], \"type\": \"contour\"}], \"contourcarpet\": [{\"colorbar\": {\"outlinewidth\": 0, \"ticks\": \"\"}, \"type\": \"contourcarpet\"}], \"heatmap\": [{\"colorbar\": {\"outlinewidth\": 0, \"ticks\": \"\"}, \"colorscale\": [[0.0, \"#0d0887\"], [0.1111111111111111, \"#46039f\"], [0.2222222222222222, \"#7201a8\"], [0.3333333333333333, \"#9c179e\"], [0.4444444444444444, \"#bd3786\"], [0.5555555555555556, \"#d8576b\"], [0.6666666666666666, \"#ed7953\"], [0.7777777777777778, \"#fb9f3a\"], [0.8888888888888888, \"#fdca26\"], [1.0, \"#f0f921\"]], \"type\": \"heatmap\"}], \"heatmapgl\": [{\"colorbar\": {\"outlinewidth\": 0, \"ticks\": \"\"}, \"colorscale\": [[0.0, \"#0d0887\"], [0.1111111111111111, \"#46039f\"], [0.2222222222222222, \"#7201a8\"], [0.3333333333333333, \"#9c179e\"], [0.4444444444444444, \"#bd3786\"], [0.5555555555555556, \"#d8576b\"], [0.6666666666666666, \"#ed7953\"], [0.7777777777777778, \"#fb9f3a\"], [0.8888888888888888, \"#fdca26\"], [1.0, \"#f0f921\"]], \"type\": \"heatmapgl\"}], \"histogram\": [{\"marker\": {\"colorbar\": {\"outlinewidth\": 0, \"ticks\": \"\"}}, \"type\": \"histogram\"}], \"histogram2d\": [{\"colorbar\": {\"outlinewidth\": 0, \"ticks\": \"\"}, \"colorscale\": [[0.0, \"#0d0887\"], [0.1111111111111111, \"#46039f\"], [0.2222222222222222, \"#7201a8\"], [0.3333333333333333, \"#9c179e\"], [0.4444444444444444, \"#bd3786\"], [0.5555555555555556, \"#d8576b\"], [0.6666666666666666, \"#ed7953\"], [0.7777777777777778, \"#fb9f3a\"], [0.8888888888888888, \"#fdca26\"], [1.0, \"#f0f921\"]], \"type\": \"histogram2d\"}], \"histogram2dcontour\": [{\"colorbar\": {\"outlinewidth\": 0, \"ticks\": \"\"}, \"colorscale\": [[0.0, \"#0d0887\"], [0.1111111111111111, \"#46039f\"], [0.2222222222222222, \"#7201a8\"], [0.3333333333333333, \"#9c179e\"], [0.4444444444444444, \"#bd3786\"], [0.5555555555555556, \"#d8576b\"], [0.6666666666666666, \"#ed7953\"], [0.7777777777777778, \"#fb9f3a\"], [0.8888888888888888, \"#fdca26\"], [1.0, \"#f0f921\"]], \"type\": \"histogram2dcontour\"}], \"mesh3d\": [{\"colorbar\": {\"outlinewidth\": 0, \"ticks\": \"\"}, \"type\": \"mesh3d\"}], \"parcoords\": [{\"line\": {\"colorbar\": {\"outlinewidth\": 0, \"ticks\": \"\"}}, \"type\": \"parcoords\"}], \"pie\": [{\"automargin\": true, \"type\": \"pie\"}], \"scatter\": [{\"marker\": {\"colorbar\": {\"outlinewidth\": 0, \"ticks\": \"\"}}, \"type\": \"scatter\"}], \"scatter3d\": [{\"line\": {\"colorbar\": {\"outlinewidth\": 0, \"ticks\": \"\"}}, \"marker\": {\"colorbar\": {\"outlinewidth\": 0, \"ticks\": \"\"}}, \"type\": \"scatter3d\"}], \"scattercarpet\": [{\"marker\": {\"colorbar\": {\"outlinewidth\": 0, \"ticks\": \"\"}}, \"type\": \"scattercarpet\"}], \"scattergeo\": [{\"marker\": {\"colorbar\": {\"outlinewidth\": 0, \"ticks\": \"\"}}, \"type\": \"scattergeo\"}], \"scattergl\": [{\"marker\": {\"colorbar\": {\"outlinewidth\": 0, \"ticks\": \"\"}}, \"type\": \"scattergl\"}], \"scattermapbox\": [{\"marker\": {\"colorbar\": {\"outlinewidth\": 0, \"ticks\": \"\"}}, \"type\": \"scattermapbox\"}], \"scatterpolar\": [{\"marker\": {\"colorbar\": {\"outlinewidth\": 0, \"ticks\": \"\"}}, \"type\": \"scatterpolar\"}], \"scatterpolargl\": [{\"marker\": {\"colorbar\": {\"outlinewidth\": 0, \"ticks\": \"\"}}, \"type\": \"scatterpolargl\"}], \"scatterternary\": [{\"marker\": {\"colorbar\": {\"outlinewidth\": 0, \"ticks\": \"\"}}, \"type\": \"scatterternary\"}], \"surface\": [{\"colorbar\": {\"outlinewidth\": 0, \"ticks\": \"\"}, \"colorscale\": [[0.0, \"#0d0887\"], [0.1111111111111111, \"#46039f\"], [0.2222222222222222, \"#7201a8\"], [0.3333333333333333, \"#9c179e\"], [0.4444444444444444, \"#bd3786\"], [0.5555555555555556, \"#d8576b\"], [0.6666666666666666, \"#ed7953\"], [0.7777777777777778, \"#fb9f3a\"], [0.8888888888888888, \"#fdca26\"], [1.0, \"#f0f921\"]], \"type\": \"surface\"}], \"table\": [{\"cells\": {\"fill\": {\"color\": \"#EBF0F8\"}, \"line\": {\"color\": \"white\"}}, \"header\": {\"fill\": {\"color\": \"#C8D4E3\"}, \"line\": {\"color\": \"white\"}}, \"type\": \"table\"}]}, \"layout\": {\"annotationdefaults\": {\"arrowcolor\": \"#2a3f5f\", \"arrowhead\": 0, \"arrowwidth\": 1}, \"coloraxis\": {\"colorbar\": {\"outlinewidth\": 0, \"ticks\": \"\"}}, \"colorscale\": {\"diverging\": [[0, \"#8e0152\"], [0.1, \"#c51b7d\"], [0.2, \"#de77ae\"], [0.3, \"#f1b6da\"], [0.4, \"#fde0ef\"], [0.5, \"#f7f7f7\"], [0.6, \"#e6f5d0\"], [0.7, \"#b8e186\"], [0.8, \"#7fbc41\"], [0.9, \"#4d9221\"], [1, \"#276419\"]], \"sequential\": [[0.0, \"#0d0887\"], [0.1111111111111111, \"#46039f\"], [0.2222222222222222, \"#7201a8\"], [0.3333333333333333, \"#9c179e\"], [0.4444444444444444, \"#bd3786\"], [0.5555555555555556, \"#d8576b\"], [0.6666666666666666, \"#ed7953\"], [0.7777777777777778, \"#fb9f3a\"], [0.8888888888888888, \"#fdca26\"], [1.0, \"#f0f921\"]], \"sequentialminus\": [[0.0, \"#0d0887\"], [0.1111111111111111, \"#46039f\"], [0.2222222222222222, \"#7201a8\"], [0.3333333333333333, \"#9c179e\"], [0.4444444444444444, \"#bd3786\"], [0.5555555555555556, \"#d8576b\"], [0.6666666666666666, \"#ed7953\"], [0.7777777777777778, \"#fb9f3a\"], [0.8888888888888888, \"#fdca26\"], [1.0, \"#f0f921\"]]}, \"colorway\": [\"#636efa\", \"#EF553B\", \"#00cc96\", \"#ab63fa\", \"#FFA15A\", \"#19d3f3\", \"#FF6692\", \"#B6E880\", \"#FF97FF\", \"#FECB52\"], \"font\": {\"color\": \"#2a3f5f\"}, \"geo\": {\"bgcolor\": \"white\", \"lakecolor\": \"white\", \"landcolor\": \"#E5ECF6\", \"showlakes\": true, \"showland\": true, \"subunitcolor\": \"white\"}, \"hoverlabel\": {\"align\": \"left\"}, \"hovermode\": \"closest\", \"mapbox\": {\"style\": \"light\"}, \"paper_bgcolor\": \"white\", \"plot_bgcolor\": \"#E5ECF6\", \"polar\": {\"angularaxis\": {\"gridcolor\": \"white\", \"linecolor\": \"white\", \"ticks\": \"\"}, \"bgcolor\": \"#E5ECF6\", \"radialaxis\": {\"gridcolor\": \"white\", \"linecolor\": \"white\", \"ticks\": \"\"}}, \"scene\": {\"xaxis\": {\"backgroundcolor\": \"#E5ECF6\", \"gridcolor\": \"white\", \"gridwidth\": 2, \"linecolor\": \"white\", \"showbackground\": true, \"ticks\": \"\", \"zerolinecolor\": \"white\"}, \"yaxis\": {\"backgroundcolor\": \"#E5ECF6\", \"gridcolor\": \"white\", \"gridwidth\": 2, \"linecolor\": \"white\", \"showbackground\": true, \"ticks\": \"\", \"zerolinecolor\": \"white\"}, \"zaxis\": {\"backgroundcolor\": \"#E5ECF6\", \"gridcolor\": \"white\", \"gridwidth\": 2, \"linecolor\": \"white\", \"showbackground\": true, \"ticks\": \"\", \"zerolinecolor\": \"white\"}}, \"shapedefaults\": {\"line\": {\"color\": \"#2a3f5f\"}}, \"ternary\": {\"aaxis\": {\"gridcolor\": \"white\", \"linecolor\": \"white\", \"ticks\": \"\"}, \"baxis\": {\"gridcolor\": \"white\", \"linecolor\": \"white\", \"ticks\": \"\"}, \"bgcolor\": \"#E5ECF6\", \"caxis\": {\"gridcolor\": \"white\", \"linecolor\": \"white\", \"ticks\": \"\"}}, \"title\": {\"x\": 0.05}, \"xaxis\": {\"automargin\": true, \"gridcolor\": \"white\", \"linecolor\": \"white\", \"ticks\": \"\", \"title\": {\"standoff\": 15}, \"zerolinecolor\": \"white\", \"zerolinewidth\": 2}, \"yaxis\": {\"automargin\": true, \"gridcolor\": \"white\", \"linecolor\": \"white\", \"ticks\": \"\", \"title\": {\"standoff\": 15}, \"zerolinecolor\": \"white\", \"zerolinewidth\": 2}}}, \"title\": {\"text\": \"SCC -> MMIH (n=441)\"}, \"width\": 1000, \"xaxis\": {\"title\": {\"text\": \"SCC\"}}, \"yaxis\": {\"title\": {\"text\": \"MMIH\"}}},\n",
              "                        {\"responsive\": true}\n",
              "                    ).then(function(){\n",
              "                            \n",
              "var gd = document.getElementById('a157ded2-a34a-40bb-85e4-8b05afd72cd4');\n",
              "var x = new MutationObserver(function (mutations, observer) {{\n",
              "        var display = window.getComputedStyle(gd).display;\n",
              "        if (!display || display === 'none') {{\n",
              "            console.log([gd, 'removed!']);\n",
              "            Plotly.purge(gd);\n",
              "            observer.disconnect();\n",
              "        }}\n",
              "}});\n",
              "\n",
              "// Listen for the removal of the full notebook cells\n",
              "var notebookContainer = gd.closest('#notebook-container');\n",
              "if (notebookContainer) {{\n",
              "    x.observe(notebookContainer, {childList: true});\n",
              "}}\n",
              "\n",
              "// Listen for the clearing of the current output cell\n",
              "var outputEl = gd.closest('.output');\n",
              "if (outputEl) {{\n",
              "    x.observe(outputEl, {childList: true});\n",
              "}}\n",
              "\n",
              "                        })\n",
              "                };\n",
              "                \n",
              "            </script>\n",
              "        </div>\n",
              "</body>\n",
              "</html>"
            ]
          },
          "metadata": {
            "tags": []
          }
        }
      ]
    },
    {
      "cell_type": "code",
      "metadata": {
        "colab": {
          "base_uri": "https://localhost:8080/"
        },
        "id": "rNILfuLUrbgW",
        "outputId": "00940e0b-6e47-4588-da27-4ecf37a5f7e6"
      },
      "source": [
        "MakeRegressions(scc, mmih)"
      ],
      "execution_count": null,
      "outputs": [
        {
          "output_type": "stream",
          "text": [
            "Regresja liniowa R2 =  0.10952124248657724\n",
            "Regresja kwadratowa R2 =  0.12940154758345734\n",
            "Regresja stopnia 3 R2 =  0.14961000996482032\n",
            "Regresja stopnia 4 R2 =  0.1496100221481821\n"
          ],
          "name": "stdout"
        }
      ]
    },
    {
      "cell_type": "code",
      "metadata": {
        "id": "nGVsxsAwrfwE"
      },
      "source": [
        "df_3 = df_subscales[['IH_MMIH','SCC']]\n",
        "df_3['SCC^2'] = pow(df_3['SCC'],2)\n",
        "df_3['SCC^3'] = pow(df_3['SCC'],3)\n",
        "df_3['SCC^4'] = pow(df_3['SCC'],3)"
      ],
      "execution_count": null,
      "outputs": []
    },
    {
      "cell_type": "code",
      "metadata": {
        "colab": {
          "base_uri": "https://localhost:8080/"
        },
        "id": "TZc3cFKkrxKt",
        "outputId": "8a26042c-26f1-4de7-e93d-919fe8eaaeaa"
      },
      "source": [
        "X = df_3[['SCC']]\n",
        "X = sm.add_constant(X)\n",
        "y = df_3['IH_MMIH']\n",
        "\n",
        "model = sm.OLS(y, X).fit()\n",
        "predictions = model.predict(X)\n",
        "\n",
        "print(model.summary())"
      ],
      "execution_count": null,
      "outputs": [
        {
          "output_type": "stream",
          "text": [
            "                            OLS Regression Results                            \n",
            "==============================================================================\n",
            "Dep. Variable:                IH_MMIH   R-squared:                       0.110\n",
            "Model:                            OLS   Adj. R-squared:                  0.107\n",
            "Method:                 Least Squares   F-statistic:                     53.99\n",
            "Date:                Sat, 27 Mar 2021   Prob (F-statistic):           9.89e-13\n",
            "Time:                        12:36:10   Log-Likelihood:                -438.33\n",
            "No. Observations:                 441   AIC:                             880.7\n",
            "Df Residuals:                     439   BIC:                             888.8\n",
            "Df Model:                           1                                         \n",
            "Covariance Type:            nonrobust                                         \n",
            "==============================================================================\n",
            "                 coef    std err          t      P>|t|      [0.025      0.975]\n",
            "------------------------------------------------------------------------------\n",
            "const          3.3454      0.153     21.871      0.000       3.045       3.646\n",
            "SCC            0.0287      0.004      7.348      0.000       0.021       0.036\n",
            "==============================================================================\n",
            "Omnibus:                       14.095   Durbin-Watson:                   1.989\n",
            "Prob(Omnibus):                  0.001   Jarque-Bera (JB):               14.652\n",
            "Skew:                           0.442   Prob(JB):                     0.000658\n",
            "Kurtosis:                       3.119   Cond. No.                         192.\n",
            "==============================================================================\n",
            "\n",
            "Warnings:\n",
            "[1] Standard Errors assume that the covariance matrix of the errors is correctly specified.\n"
          ],
          "name": "stdout"
        }
      ]
    },
    {
      "cell_type": "code",
      "metadata": {
        "colab": {
          "base_uri": "https://localhost:8080/"
        },
        "id": "3br9yIK8r0Zv",
        "outputId": "dafef6fc-925d-4e92-bf1c-39989e2b7d64"
      },
      "source": [
        "X = df_3[['SCC','SCC^2','SCC^3']]\n",
        "X = sm.add_constant(X)\n",
        "y = df_3['IH_MMIH']\n",
        "\n",
        "model = sm.OLS(y, X).fit()\n",
        "predictions = model.predict(X)\n",
        "\n",
        "print(model.summary())"
      ],
      "execution_count": null,
      "outputs": [
        {
          "output_type": "stream",
          "text": [
            "                            OLS Regression Results                            \n",
            "==============================================================================\n",
            "Dep. Variable:                IH_MMIH   R-squared:                       0.150\n",
            "Model:                            OLS   Adj. R-squared:                  0.144\n",
            "Method:                 Least Squares   F-statistic:                     25.63\n",
            "Date:                Sat, 27 Mar 2021   Prob (F-statistic):           2.74e-15\n",
            "Time:                        12:36:30   Log-Likelihood:                -428.17\n",
            "No. Observations:                 441   AIC:                             864.3\n",
            "Df Residuals:                     437   BIC:                             880.7\n",
            "Df Model:                           3                                         \n",
            "Covariance Type:            nonrobust                                         \n",
            "==============================================================================\n",
            "                 coef    std err          t      P>|t|      [0.025      0.975]\n",
            "------------------------------------------------------------------------------\n",
            "const         10.7477      1.841      5.837      0.000       7.129      14.367\n",
            "SCC           -0.5226      0.145     -3.594      0.000      -0.808      -0.237\n",
            "SCC^2          0.0131      0.004      3.517      0.000       0.006       0.020\n",
            "SCC^3         -0.0001   3.11e-05     -3.223      0.001      -0.000    -3.9e-05\n",
            "==============================================================================\n",
            "Omnibus:                       17.348   Durbin-Watson:                   2.014\n",
            "Prob(Omnibus):                  0.000   Jarque-Bera (JB):               18.661\n",
            "Skew:                           0.448   Prob(JB):                     8.87e-05\n",
            "Kurtosis:                       3.460   Cond. No.                     4.59e+06\n",
            "==============================================================================\n",
            "\n",
            "Warnings:\n",
            "[1] Standard Errors assume that the covariance matrix of the errors is correctly specified.\n",
            "[2] The condition number is large, 4.59e+06. This might indicate that there are\n",
            "strong multicollinearity or other numerical problems.\n"
          ],
          "name": "stdout"
        }
      ]
    },
    {
      "cell_type": "markdown",
      "metadata": {
        "id": "29SOUcOTr_fE"
      },
      "source": [
        "###Visualization"
      ]
    },
    {
      "cell_type": "code",
      "metadata": {
        "id": "brH_VuYDr5Xg"
      },
      "source": [
        "# linear\n",
        "regressor = LinearRegression()\n",
        "regressor.fit(scc, mmih)\n",
        "y_pred_lin = regressor.predict(scc)\n",
        "mmih_pred_lin = pd.DataFrame(y_pred_lin)\n",
        "\n",
        "# 3' degree\n",
        "poly = PolynomialFeatures(degree=3)\n",
        "scc_3 = poly.fit_transform(scc)\n",
        "\n",
        "regressor.fit(scc_3,mmih)\n",
        "y_pred_3 = regressor.predict(scc_3)\n",
        "degree_3_r2 = r2_score(mmih, y_pred_3)\n",
        "\n",
        "# visualization data\n",
        "temp_df_3 = pd.DataFrame(scc, columns=['scc'])\n",
        "temp_df_3.sort_values(by='scc', inplace=True)\n",
        "temp_df = pd.DataFrame(y_pred_3)\n",
        "temp_df_3['mmih_pred'] = temp_df"
      ],
      "execution_count": null,
      "outputs": []
    },
    {
      "cell_type": "code",
      "metadata": {
        "colab": {
          "base_uri": "https://localhost:8080/",
          "height": 717
        },
        "id": "nyFcuvaXsS5x",
        "outputId": "c4207c2d-e29e-4f69-e974-80a6eb664aab"
      },
      "source": [
        "# wykres całościowy\n",
        "  \n",
        "fig = go.Figure(\n",
        "      data=[\n",
        "            go.Scatter(\n",
        "                name = 'Raw results',\n",
        "                x = df_subscales['SCC'],\n",
        "                y = df_subscales['IH_MMIH'],\n",
        "                mode = 'markers',\n",
        "                opacity=0.75\n",
        "            ),\n",
        "            go.Scatter(\n",
        "                name = f'Linear regression, adj. R2=.11',\n",
        "                x = df_subscales['SCC'],\n",
        "                y = mmih_pred_lin[0],\n",
        "                mode = 'lines',\n",
        "                marker_color='#FF9F1C'\n",
        "            ),\n",
        "            go.Scatter(\n",
        "                name = f'3 degree regression, adj. R2=.14',\n",
        "                x = temp_df_3['scc'],\n",
        "                y = temp_df_3['mmih_pred'],\n",
        "                mode = 'lines',\n",
        "                marker_color='#011627'\n",
        "            ),\n",
        "            ],\n",
        "      layout=go.Layout(\n",
        "          title = f'SCC * MMIH (N={len(df_subscales)})',\n",
        "          xaxis_title = 'SCC',\n",
        "          yaxis_title='MMIH',\n",
        "          width = 1100,\n",
        "          height = 700,\n",
        "          font_size=16\n",
        "      ))\n",
        "fig.show()"
      ],
      "execution_count": null,
      "outputs": [
        {
          "output_type": "display_data",
          "data": {
            "text/html": [
              "<html>\n",
              "<head><meta charset=\"utf-8\" /></head>\n",
              "<body>\n",
              "    <div>\n",
              "            <script src=\"https://cdnjs.cloudflare.com/ajax/libs/mathjax/2.7.5/MathJax.js?config=TeX-AMS-MML_SVG\"></script><script type=\"text/javascript\">if (window.MathJax) {MathJax.Hub.Config({SVG: {font: \"STIX-Web\"}});}</script>\n",
              "                <script type=\"text/javascript\">window.PlotlyConfig = {MathJaxConfig: 'local'};</script>\n",
              "        <script src=\"https://cdn.plot.ly/plotly-latest.min.js\"></script>    \n",
              "            <div id=\"50206c5a-3302-4a03-8d1a-f8e6249e7dbd\" class=\"plotly-graph-div\" style=\"height:700px; width:1100px;\"></div>\n",
              "            <script type=\"text/javascript\">\n",
              "                \n",
              "                    window.PLOTLYENV=window.PLOTLYENV || {};\n",
              "                    \n",
              "                if (document.getElementById(\"50206c5a-3302-4a03-8d1a-f8e6249e7dbd\")) {\n",
              "                    Plotly.newPlot(\n",
              "                        '50206c5a-3302-4a03-8d1a-f8e6249e7dbd',\n",
              "                        [{\"mode\": \"markers\", \"name\": \"Raw results\", \"opacity\": 0.75, \"type\": \"scatter\", \"x\": [42, 46, 30, 45, 36, 52, 49, 36, 60, 33, 43, 36, 28, 55, 36, 46, 20, 42, 36, 42, 35, 27, 20, 36, 36, 29, 43, 27, 36, 52, 34, 51, 43, 43, 28, 46, 31, 30, 42, 26, 58, 53, 42, 48, 33, 27, 31, 44, 37, 36, 36, 32, 44, 36, 37, 59, 36, 46, 38, 38, 36, 36, 30, 51, 46, 36, 47, 48, 56, 49, 43, 29, 34, 30, 28, 31, 46, 30, 20, 46, 36, 42, 46, 54, 32, 43, 35, 32, 32, 34, 49, 33, 36, 48, 31, 42, 46, 35, 40, 31, 34, 21, 28, 36, 34, 34, 41, 32, 48, 36, 32, 30, 39, 36, 36, 48, 48, 39, 40, 30, 47, 30, 36, 35, 40, 28, 32, 55, 28, 54, 45, 41, 45, 20, 39, 36, 34, 38, 47, 39, 53, 32, 48, 46, 36, 44, 30, 25, 36, 34, 44, 35, 30, 32, 31, 41, 28, 33, 54, 38, 36, 44, 30, 27, 39, 38, 34, 36, 38, 32, 36, 28, 30, 54, 43, 43, 29, 47, 34, 30, 41, 59, 34, 42, 52, 44, 36, 53, 49, 47, 39, 36, 35, 38, 45, 29, 26, 41, 39, 43, 30, 36, 32, 30, 34, 29, 36, 32, 57, 48, 36, 36, 48, 37, 34, 31, 37, 32, 31, 28, 37, 47, 36, 26, 37, 39, 40, 39, 35, 34, 32, 31, 44, 34, 33, 30, 43, 25, 43, 36, 29, 54, 45, 47, 31, 44, 50, 37, 30, 38, 37, 45, 36, 23, 40, 44, 27, 43, 41, 42, 34, 43, 29, 22, 33, 32, 36, 35, 38, 40, 47, 37, 57, 49, 45, 36, 32, 33, 35, 60, 37, 46, 39, 46, 44, 38, 29, 41, 31, 39, 36, 35, 48, 50, 43, 47, 34, 42, 52, 39, 50, 46, 26, 36, 47, 44, 29, 40, 38, 32, 38, 21, 50, 40, 39, 54, 41, 30, 33, 37, 47, 29, 35, 47, 31, 42, 57, 43, 47, 38, 30, 36, 36, 29, 33, 24, 31, 26, 36, 38, 45, 48, 43, 28, 43, 36, 32, 38, 35, 44, 50, 31, 37, 43, 40, 49, 36, 36, 41, 34, 34, 34, 34, 41, 43, 36, 34, 43, 28, 44, 33, 40, 43, 40, 42, 38, 56, 44, 36, 35, 38, 34, 56, 21, 40, 36, 46, 32, 55, 28, 35, 36, 40, 32, 44, 58, 48, 33, 38, 35, 35, 45, 40, 45, 29, 31, 46, 44, 48, 36, 56, 31, 28, 36, 48, 45, 50, 35, 44, 40, 31, 30, 31, 30, 40, 32, 40, 36, 30, 35, 28, 38, 60, 34, 30, 48, 46, 41, 21, 40, 40], \"y\": [4.59090909090909, 4.86363636363636, 4.27272727272727, 5.95454545454545, 3.72727272727273, 5.77272727272727, 5.18181818181818, 4.0, 5.81818181818182, 3.72727272727273, 4.63636363636364, 4.0, 3.77272727272727, 5.63636363636364, 4.0, 6.13636363636364, 5.13636363636364, 5.0, 4.31818181818182, 4.18181818181818, 3.54545454545455, 4.27272727272727, 5.40909090909091, 4.22727272727273, 3.45454545454545, 5.04545454545455, 4.81818181818182, 5.09090909090909, 4.0, 5.5, 4.36363636363636, 4.68181818181818, 4.45454545454545, 5.27272727272727, 3.31818181818182, 5.5, 4.40909090909091, 5.27272727272727, 3.27272727272727, 4.18181818181818, 5.59090909090909, 5.59090909090909, 4.40909090909091, 3.36363636363636, 4.22727272727273, 3.90909090909091, 4.04545454545455, 5.77272727272727, 4.0, 4.90909090909091, 3.95454545454545, 3.90909090909091, 3.90909090909091, 3.81818181818182, 4.04545454545455, 4.04545454545455, 4.04545454545455, 4.77272727272727, 4.86363636363636, 3.63636363636364, 5.27272727272727, 4.0, 4.81818181818182, 3.13636363636364, 4.59090909090909, 4.0, 4.72727272727273, 5.68181818181818, 5.86363636363636, 5.72727272727273, 4.13636363636364, 4.40909090909091, 3.90909090909091, 4.31818181818182, 3.68181818181818, 4.63636363636364, 4.22727272727273, 3.31818181818182, 3.68181818181818, 4.09090909090909, 4.0, 3.45454545454545, 4.31818181818182, 4.72727272727273, 4.13636363636364, 5.90909090909091, 4.31818181818182, 4.04545454545455, 3.95454545454545, 4.63636363636364, 4.77272727272727, 3.54545454545455, 6.22727272727273, 5.54545454545455, 3.63636363636364, 3.77272727272727, 4.45454545454545, 4.18181818181818, 4.09090909090909, 3.63636363636364, 4.04545454545455, 4.5, 4.27272727272727, 3.18181818181818, 3.72727272727273, 3.72727272727273, 5.45454545454545, 4.09090909090909, 4.40909090909091, 4.86363636363636, 3.59090909090909, 3.5, 4.81818181818182, 4.45454545454545, 4.0, 4.40909090909091, 4.68181818181818, 3.86363636363636, 4.86363636363636, 4.18181818181818, 4.77272727272727, 3.59090909090909, 4.09090909090909, 3.54545454545455, 4.40909090909091, 4.40909090909091, 3.27272727272727, 5.54545454545455, 4.77272727272727, 4.63636363636364, 4.04545454545455, 4.36363636363636, 6.27272727272727, 4.45454545454545, 3.72727272727273, 3.40909090909091, 4.40909090909091, 4.04545454545455, 4.27272727272727, 5.0, 4.86363636363636, 2.86363636363636, 4.68181818181818, 4.90909090909091, 4.0, 5.04545454545455, 4.22727272727273, 3.72727272727273, 4.09090909090909, 3.90909090909091, 6.36363636363636, 4.04545454545455, 5.18181818181818, 3.27272727272727, 3.81818181818182, 4.22727272727273, 3.22727272727273, 3.13636363636364, 5.04545454545455, 4.04545454545455, 4.0, 4.13636363636364, 5.36363636363636, 3.81818181818182, 5.40909090909091, 4.90909090909091, 4.18181818181818, 3.09090909090909, 5.27272727272727, 4.36363636363636, 5.5, 5.18181818181818, 3.36363636363636, 4.63636363636364, 5.22727272727273, 3.68181818181818, 4.18181818181818, 4.86363636363636, 5.22727272727273, 3.54545454545455, 4.09090909090909, 5.09090909090909, 3.90909090909091, 4.59090909090909, 4.04545454545455, 4.77272727272727, 3.90909090909091, 4.68181818181818, 4.31818181818182, 5.86363636363636, 4.72727272727273, 3.81818181818182, 3.77272727272727, 3.95454545454545, 4.40909090909091, 3.95454545454545, 4.77272727272727, 4.90909090909091, 3.95454545454545, 4.59090909090909, 4.36363636363636, 4.27272727272727, 6.27272727272727, 4.54545454545455, 4.95454545454545, 5.31818181818182, 3.72727272727273, 3.72727272727273, 5.36363636363636, 4.63636363636364, 4.0, 4.13636363636364, 3.86363636363636, 4.36363636363636, 4.13636363636364, 3.77272727272727, 3.81818181818182, 5.22727272727273, 4.54545454545455, 3.63636363636364, 4.95454545454545, 4.5, 4.0, 4.54545454545455, 3.81818181818182, 4.31818181818182, 3.90909090909091, 5.40909090909091, 3.81818181818182, 4.90909090909091, 3.22727272727273, 4.95454545454545, 2.95454545454545, 3.95454545454545, 3.90909090909091, 3.5, 4.81818181818182, 4.90909090909091, 5.04545454545455, 4.09090909090909, 4.86363636363636, 5.77272727272727, 4.63636363636364, 3.63636363636364, 5.27272727272727, 4.68181818181818, 5.86363636363636, 4.45454545454545, 3.59090909090909, 4.18181818181818, 3.63636363636364, 4.59090909090909, 4.45454545454545, 5.22727272727273, 4.18181818181818, 4.95454545454545, 4.45454545454545, 4.45454545454545, 5.59090909090909, 3.63636363636364, 3.90909090909091, 5.18181818181818, 4.86363636363636, 4.77272727272727, 4.59090909090909, 4.0, 4.31818181818182, 3.54545454545455, 4.81818181818182, 4.09090909090909, 4.95454545454545, 3.5, 4.5, 4.77272727272727, 4.86363636363636, 3.86363636363636, 3.95454545454545, 4.13636363636364, 5.18181818181818, 4.0, 4.68181818181818, 5.09090909090909, 3.5, 4.63636363636364, 3.59090909090909, 4.18181818181818, 3.86363636363636, 5.81818181818182, 4.09090909090909, 3.90909090909091, 4.22727272727273, 4.22727272727273, 4.81818181818182, 4.81818181818182, 4.22727272727273, 5.13636363636364, 5.59090909090909, 4.81818181818182, 3.0, 4.22727272727273, 4.04545454545455, 4.81818181818182, 5.0, 6.40909090909091, 4.81818181818182, 3.90909090909091, 4.09090909090909, 4.0, 4.31818181818182, 3.72727272727273, 5.54545454545455, 4.36363636363636, 4.40909090909091, 5.04545454545455, 5.0, 5.09090909090909, 4.27272727272727, 5.13636363636364, 5.40909090909091, 5.0, 3.95454545454545, 3.18181818181818, 4.86363636363636, 4.5, 4.04545454545455, 4.68181818181818, 5.27272727272727, 5.31818181818182, 4.95454545454545, 4.18181818181818, 4.18181818181818, 3.95454545454545, 3.90909090909091, 3.5, 4.77272727272727, 4.68181818181818, 4.40909090909091, 5.18181818181818, 3.72727272727273, 4.59090909090909, 5.72727272727273, 4.5, 3.81818181818182, 3.54545454545455, 4.68181818181818, 3.54545454545455, 4.04545454545455, 4.09090909090909, 4.0, 3.90909090909091, 4.90909090909091, 3.72727272727273, 3.31818181818182, 4.13636363636364, 4.86363636363636, 5.09090909090909, 4.0, 3.68181818181818, 5.22727272727273, 4.40909090909091, 3.90909090909091, 5.31818181818182, 4.04545454545455, 5.90909090909091, 5.95454545454545, 4.72727272727273, 4.22727272727273, 4.18181818181818, 4.5, 6.18181818181818, 4.31818181818182, 4.90909090909091, 4.18181818181818, 4.0, 6.40909090909091, 4.31818181818182, 5.72727272727273, 4.81818181818182, 4.0, 3.90909090909091, 3.54545454545455, 5.0, 4.86363636363636, 4.22727272727273, 4.72727272727273, 4.45454545454545, 5.77272727272727, 4.36363636363636, 5.5, 3.81818181818182, 4.90909090909091, 4.22727272727273, 3.77272727272727, 3.72727272727273, 4.0, 4.90909090909091, 3.77272727272727, 3.90909090909091, 3.68181818181818, 3.90909090909091, 4.09090909090909, 3.81818181818182, 4.86363636363636, 4.68181818181818, 5.72727272727273, 3.86363636363636, 5.09090909090909, 4.81818181818182, 4.86363636363636, 3.68181818181818, 4.27272727272727, 4.18181818181818, 4.40909090909091, 3.63636363636364, 4.54545454545455, 4.81818181818182, 5.31818181818182, 4.95454545454545, 5.18181818181818, 4.09090909090909, 4.72727272727273, 4.54545454545455, 4.81818181818182, 4.59090909090909, 4.40909090909091, 3.31818181818182, 5.95454545454545, 4.59090909090909, 3.95454545454545, 4.5, 4.04545454545455, 4.72727272727273, 5.81818181818182, 3.77272727272727, 4.04545454545455, 4.59090909090909, 6.04545454545455, 4.95454545454545, 3.95454545454545, 3.77272727272727, 4.04545454545455]}, {\"marker\": {\"color\": \"#FF9F1C\"}, \"mode\": \"lines\", \"name\": \"Linear regression, adj. R2=.11\", \"type\": \"scatter\", \"x\": [42, 46, 30, 45, 36, 52, 49, 36, 60, 33, 43, 36, 28, 55, 36, 46, 20, 42, 36, 42, 35, 27, 20, 36, 36, 29, 43, 27, 36, 52, 34, 51, 43, 43, 28, 46, 31, 30, 42, 26, 58, 53, 42, 48, 33, 27, 31, 44, 37, 36, 36, 32, 44, 36, 37, 59, 36, 46, 38, 38, 36, 36, 30, 51, 46, 36, 47, 48, 56, 49, 43, 29, 34, 30, 28, 31, 46, 30, 20, 46, 36, 42, 46, 54, 32, 43, 35, 32, 32, 34, 49, 33, 36, 48, 31, 42, 46, 35, 40, 31, 34, 21, 28, 36, 34, 34, 41, 32, 48, 36, 32, 30, 39, 36, 36, 48, 48, 39, 40, 30, 47, 30, 36, 35, 40, 28, 32, 55, 28, 54, 45, 41, 45, 20, 39, 36, 34, 38, 47, 39, 53, 32, 48, 46, 36, 44, 30, 25, 36, 34, 44, 35, 30, 32, 31, 41, 28, 33, 54, 38, 36, 44, 30, 27, 39, 38, 34, 36, 38, 32, 36, 28, 30, 54, 43, 43, 29, 47, 34, 30, 41, 59, 34, 42, 52, 44, 36, 53, 49, 47, 39, 36, 35, 38, 45, 29, 26, 41, 39, 43, 30, 36, 32, 30, 34, 29, 36, 32, 57, 48, 36, 36, 48, 37, 34, 31, 37, 32, 31, 28, 37, 47, 36, 26, 37, 39, 40, 39, 35, 34, 32, 31, 44, 34, 33, 30, 43, 25, 43, 36, 29, 54, 45, 47, 31, 44, 50, 37, 30, 38, 37, 45, 36, 23, 40, 44, 27, 43, 41, 42, 34, 43, 29, 22, 33, 32, 36, 35, 38, 40, 47, 37, 57, 49, 45, 36, 32, 33, 35, 60, 37, 46, 39, 46, 44, 38, 29, 41, 31, 39, 36, 35, 48, 50, 43, 47, 34, 42, 52, 39, 50, 46, 26, 36, 47, 44, 29, 40, 38, 32, 38, 21, 50, 40, 39, 54, 41, 30, 33, 37, 47, 29, 35, 47, 31, 42, 57, 43, 47, 38, 30, 36, 36, 29, 33, 24, 31, 26, 36, 38, 45, 48, 43, 28, 43, 36, 32, 38, 35, 44, 50, 31, 37, 43, 40, 49, 36, 36, 41, 34, 34, 34, 34, 41, 43, 36, 34, 43, 28, 44, 33, 40, 43, 40, 42, 38, 56, 44, 36, 35, 38, 34, 56, 21, 40, 36, 46, 32, 55, 28, 35, 36, 40, 32, 44, 58, 48, 33, 38, 35, 35, 45, 40, 45, 29, 31, 46, 44, 48, 36, 56, 31, 28, 36, 48, 45, 50, 35, 44, 40, 31, 30, 31, 30, 40, 32, 40, 36, 30, 35, 28, 38, 60, 34, 30, 48, 46, 41, 21, 40, 40], \"y\": [4.5496463192357135, 4.66433943302557, 4.205566977866145, 4.6356661545781055, 4.377606648550929, 4.836379103710354, 4.750359268367962, 4.377606648550929, 5.065765331290067, 4.291586813208537, 4.578319597683177, 4.377606648550929, 4.148220420971216, 4.922398939052747, 4.377606648550929, 4.66433943302557, 3.918834193391503, 4.5496463192357135, 4.377606648550929, 4.5496463192357135, 4.348933370103465, 4.119547142523752, 3.918834193391503, 4.377606648550929, 4.377606648550929, 4.17689369941868, 4.578319597683177, 4.119547142523752, 4.377606648550929, 4.836379103710354, 4.320260091656, 4.80770582526289, 4.578319597683177, 4.578319597683177, 4.148220420971216, 4.66433943302557, 4.234240256313608, 4.205566977866145, 4.5496463192357135, 4.090873864076288, 5.008418774395139, 4.865052382157819, 4.5496463192357135, 4.721685989920498, 4.291586813208537, 4.119547142523752, 4.234240256313608, 4.606992876130642, 4.406279926998392, 4.377606648550929, 4.377606648550929, 4.262913534761072, 4.606992876130642, 4.377606648550929, 4.406279926998392, 5.037092052842603, 4.377606648550929, 4.66433943302557, 4.434953205445857, 4.434953205445857, 4.377606648550929, 4.377606648550929, 4.205566977866145, 4.80770582526289, 4.66433943302557, 4.377606648550929, 4.693012711473034, 4.721685989920498, 4.951072217500211, 4.750359268367962, 4.578319597683177, 4.17689369941868, 4.320260091656, 4.205566977866145, 4.148220420971216, 4.234240256313608, 4.66433943302557, 4.205566977866145, 3.918834193391503, 4.66433943302557, 4.377606648550929, 4.5496463192357135, 4.66433943302557, 4.893725660605282, 4.262913534761072, 4.578319597683177, 4.348933370103465, 4.262913534761072, 4.262913534761072, 4.320260091656, 4.750359268367962, 4.291586813208537, 4.377606648550929, 4.721685989920498, 4.234240256313608, 4.5496463192357135, 4.66433943302557, 4.348933370103465, 4.492299762340785, 4.234240256313608, 4.320260091656, 3.9475074718389673, 4.148220420971216, 4.377606648550929, 4.320260091656, 4.320260091656, 4.520973040788249, 4.262913534761072, 4.721685989920498, 4.377606648550929, 4.262913534761072, 4.205566977866145, 4.4636264838933215, 4.377606648550929, 4.377606648550929, 4.721685989920498, 4.721685989920498, 4.4636264838933215, 4.492299762340785, 4.205566977866145, 4.693012711473034, 4.205566977866145, 4.377606648550929, 4.348933370103465, 4.492299762340785, 4.148220420971216, 4.262913534761072, 4.922398939052747, 4.148220420971216, 4.893725660605282, 4.6356661545781055, 4.520973040788249, 4.6356661545781055, 3.918834193391503, 4.4636264838933215, 4.377606648550929, 4.320260091656, 4.434953205445857, 4.693012711473034, 4.4636264838933215, 4.865052382157819, 4.262913534761072, 4.721685989920498, 4.66433943302557, 4.377606648550929, 4.606992876130642, 4.205566977866145, 4.0622005856288235, 4.377606648550929, 4.320260091656, 4.606992876130642, 4.348933370103465, 4.205566977866145, 4.262913534761072, 4.234240256313608, 4.520973040788249, 4.148220420971216, 4.291586813208537, 4.893725660605282, 4.434953205445857, 4.377606648550929, 4.606992876130642, 4.205566977866145, 4.119547142523752, 4.4636264838933215, 4.434953205445857, 4.320260091656, 4.377606648550929, 4.434953205445857, 4.262913534761072, 4.377606648550929, 4.148220420971216, 4.205566977866145, 4.893725660605282, 4.578319597683177, 4.578319597683177, 4.17689369941868, 4.693012711473034, 4.320260091656, 4.205566977866145, 4.520973040788249, 5.037092052842603, 4.320260091656, 4.5496463192357135, 4.836379103710354, 4.606992876130642, 4.377606648550929, 4.865052382157819, 4.750359268367962, 4.693012711473034, 4.4636264838933215, 4.377606648550929, 4.348933370103465, 4.434953205445857, 4.6356661545781055, 4.17689369941868, 4.090873864076288, 4.520973040788249, 4.4636264838933215, 4.578319597683177, 4.205566977866145, 4.377606648550929, 4.262913534761072, 4.205566977866145, 4.320260091656, 4.17689369941868, 4.377606648550929, 4.262913534761072, 4.979745495947675, 4.721685989920498, 4.377606648550929, 4.377606648550929, 4.721685989920498, 4.406279926998392, 4.320260091656, 4.234240256313608, 4.406279926998392, 4.262913534761072, 4.234240256313608, 4.148220420971216, 4.406279926998392, 4.693012711473034, 4.377606648550929, 4.090873864076288, 4.406279926998392, 4.4636264838933215, 4.492299762340785, 4.4636264838933215, 4.348933370103465, 4.320260091656, 4.262913534761072, 4.234240256313608, 4.606992876130642, 4.320260091656, 4.291586813208537, 4.205566977866145, 4.578319597683177, 4.0622005856288235, 4.578319597683177, 4.377606648550929, 4.17689369941868, 4.893725660605282, 4.6356661545781055, 4.693012711473034, 4.234240256313608, 4.606992876130642, 4.779032546815426, 4.406279926998392, 4.205566977866145, 4.434953205445857, 4.406279926998392, 4.6356661545781055, 4.377606648550929, 4.004854028733895, 4.492299762340785, 4.606992876130642, 4.119547142523752, 4.578319597683177, 4.520973040788249, 4.5496463192357135, 4.320260091656, 4.578319597683177, 4.17689369941868, 3.9761807502864315, 4.291586813208537, 4.262913534761072, 4.377606648550929, 4.348933370103465, 4.434953205445857, 4.492299762340785, 4.693012711473034, 4.406279926998392, 4.979745495947675, 4.750359268367962, 4.6356661545781055, 4.377606648550929, 4.262913534761072, 4.291586813208537, 4.348933370103465, 5.065765331290067, 4.406279926998392, 4.66433943302557, 4.4636264838933215, 4.66433943302557, 4.606992876130642, 4.434953205445857, 4.17689369941868, 4.520973040788249, 4.234240256313608, 4.4636264838933215, 4.377606648550929, 4.348933370103465, 4.721685989920498, 4.779032546815426, 4.578319597683177, 4.693012711473034, 4.320260091656, 4.5496463192357135, 4.836379103710354, 4.4636264838933215, 4.779032546815426, 4.66433943302557, 4.090873864076288, 4.377606648550929, 4.693012711473034, 4.606992876130642, 4.17689369941868, 4.492299762340785, 4.434953205445857, 4.262913534761072, 4.434953205445857, 3.9475074718389673, 4.779032546815426, 4.492299762340785, 4.4636264838933215, 4.893725660605282, 4.520973040788249, 4.205566977866145, 4.291586813208537, 4.406279926998392, 4.693012711473034, 4.17689369941868, 4.348933370103465, 4.693012711473034, 4.234240256313608, 4.5496463192357135, 4.979745495947675, 4.578319597683177, 4.693012711473034, 4.434953205445857, 4.205566977866145, 4.377606648550929, 4.377606648550929, 4.17689369941868, 4.291586813208537, 4.03352730718136, 4.234240256313608, 4.090873864076288, 4.377606648550929, 4.434953205445857, 4.6356661545781055, 4.721685989920498, 4.578319597683177, 4.148220420971216, 4.578319597683177, 4.377606648550929, 4.262913534761072, 4.434953205445857, 4.348933370103465, 4.606992876130642, 4.779032546815426, 4.234240256313608, 4.406279926998392, 4.578319597683177, 4.492299762340785, 4.750359268367962, 4.377606648550929, 4.377606648550929, 4.520973040788249, 4.320260091656, 4.320260091656, 4.320260091656, 4.320260091656, 4.520973040788249, 4.578319597683177, 4.377606648550929, 4.320260091656, 4.578319597683177, 4.148220420971216, 4.606992876130642, 4.291586813208537, 4.492299762340785, 4.578319597683177, 4.492299762340785, 4.5496463192357135, 4.434953205445857, 4.951072217500211, 4.606992876130642, 4.377606648550929, 4.348933370103465, 4.434953205445857, 4.320260091656, 4.951072217500211, 3.9475074718389673, 4.492299762340785, 4.377606648550929, 4.66433943302557, 4.262913534761072, 4.922398939052747, 4.148220420971216, 4.348933370103465, 4.377606648550929, 4.492299762340785, 4.262913534761072, 4.606992876130642, 5.008418774395139, 4.721685989920498, 4.291586813208537, 4.434953205445857, 4.348933370103465, 4.348933370103465, 4.6356661545781055, 4.492299762340785, 4.6356661545781055, 4.17689369941868, 4.234240256313608, 4.66433943302557, 4.606992876130642, 4.721685989920498, 4.377606648550929, 4.951072217500211, 4.234240256313608, 4.148220420971216, 4.377606648550929, 4.721685989920498, 4.6356661545781055, 4.779032546815426, 4.348933370103465, 4.606992876130642, 4.492299762340785, 4.234240256313608, 4.205566977866145, 4.234240256313608, 4.205566977866145, 4.492299762340785, 4.262913534761072, 4.492299762340785, 4.377606648550929, 4.205566977866145, 4.348933370103465, 4.148220420971216, 4.434953205445857, 5.065765331290067, 4.320260091656, 4.205566977866145, 4.721685989920498, 4.66433943302557, 4.520973040788249, 3.9475074718389673, 4.492299762340785, 4.492299762340785]}, {\"marker\": {\"color\": \"#011627\"}, \"mode\": \"lines\", \"name\": \"3 degree regression, adj. R2=.14\", \"type\": \"scatter\", \"x\": [20, 20, 20, 20, 21, 21, 21, 21, 22, 23, 24, 25, 25, 26, 26, 26, 26, 26, 27, 27, 27, 27, 27, 28, 28, 28, 28, 28, 28, 28, 28, 28, 28, 28, 28, 28, 28, 29, 29, 29, 29, 29, 29, 29, 29, 29, 29, 29, 29, 30, 30, 30, 30, 30, 30, 30, 30, 30, 30, 30, 30, 30, 30, 30, 30, 30, 30, 30, 30, 30, 30, 30, 31, 31, 31, 31, 31, 31, 31, 31, 31, 31, 31, 31, 31, 31, 31, 31, 31, 31, 32, 32, 32, 32, 32, 32, 32, 32, 32, 32, 32, 32, 32, 32, 32, 32, 32, 32, 32, 32, 32, 33, 33, 33, 33, 33, 33, 33, 33, 33, 33, 33, 34, 34, 34, 34, 34, 34, 34, 34, 34, 34, 34, 34, 34, 34, 34, 34, 34, 34, 34, 34, 34, 34, 34, 34, 35, 35, 35, 35, 35, 35, 35, 35, 35, 35, 35, 35, 35, 35, 35, 35, 35, 35, 36, 36, 36, 36, 36, 36, 36, 36, 36, 36, 36, 36, 36, 36, 36, 36, 36, 36, 36, 36, 36, 36, 36, 36, 36, 36, 36, 36, 36, 36, 36, 36, 36, 36, 36, 36, 36, 36, 36, 36, 36, 36, 36, 36, 36, 36, 36, 36, 36, 36, 36, 36, 36, 36, 37, 37, 37, 37, 37, 37, 37, 37, 37, 37, 37, 37, 38, 38, 38, 38, 38, 38, 38, 38, 38, 38, 38, 38, 38, 38, 38, 38, 38, 38, 38, 39, 39, 39, 39, 39, 39, 39, 39, 39, 39, 39, 39, 39, 40, 40, 40, 40, 40, 40, 40, 40, 40, 40, 40, 40, 40, 40, 40, 40, 40, 40, 40, 41, 41, 41, 41, 41, 41, 41, 41, 41, 41, 41, 42, 42, 42, 42, 42, 42, 42, 42, 42, 42, 42, 42, 43, 43, 43, 43, 43, 43, 43, 43, 43, 43, 43, 43, 43, 43, 43, 43, 43, 43, 43, 43, 43, 44, 44, 44, 44, 44, 44, 44, 44, 44, 44, 44, 44, 44, 44, 44, 44, 44, 45, 45, 45, 45, 45, 45, 45, 45, 45, 45, 45, 46, 46, 46, 46, 46, 46, 46, 46, 46, 46, 46, 46, 46, 46, 46, 46, 47, 47, 47, 47, 47, 47, 47, 47, 47, 47, 47, 47, 47, 48, 48, 48, 48, 48, 48, 48, 48, 48, 48, 48, 48, 48, 48, 48, 49, 49, 49, 49, 49, 49, 50, 50, 50, 50, 50, 50, 51, 51, 52, 52, 52, 52, 53, 53, 53, 54, 54, 54, 54, 54, 54, 55, 55, 55, 56, 56, 56, 56, 57, 57, 57, 58, 58, 59, 59, 60, 60, 60], \"y\": [4.744684847272617, 4.744684847272617, 4.744684847272617, 4.744684847272617, 4.633926868828479, 4.633926868828479, 4.633926868828479, 4.633926868828479, 4.536802121215327, 4.452710009939547, 4.381049940507522, 4.321221318425637, 4.321221318425637, 4.2726235492002775, 4.2726235492002775, 4.2726235492002775, 4.2726235492002775, 4.2726235492002775, 4.2346560383378264, 4.2346560383378264, 4.2346560383378264, 4.2346560383378264, 4.2346560383378264, 4.20671819134467, 4.20671819134467, 4.20671819134467, 4.20671819134467, 4.20671819134467, 4.20671819134467, 4.20671819134467, 4.20671819134467, 4.20671819134467, 4.20671819134467, 4.20671819134467, 4.20671819134467, 4.20671819134467, 4.20671819134467, 4.188209413727188, 4.188209413727188, 4.188209413727188, 4.188209413727188, 4.188209413727188, 4.188209413727188, 4.188209413727188, 4.188209413727188, 4.188209413727188, 4.188209413727188, 4.188209413727188, 4.188209413727188, 4.1785291109917715, 4.1785291109917715, 4.1785291109917715, 4.1785291109917715, 4.1785291109917715, 4.1785291109917715, 4.1785291109917715, 4.1785291109917715, 4.1785291109917715, 4.1785291109917715, 4.1785291109917715, 4.1785291109917715, 4.1785291109917715, 4.1785291109917715, 4.1785291109917715, 4.1785291109917715, 4.1785291109917715, 4.1785291109917715, 4.1785291109917715, 4.1785291109917715, 4.1785291109917715, 4.1785291109917715, 4.1785291109917715, 4.177076688644801, 4.177076688644801, 4.177076688644801, 4.177076688644801, 4.177076688644801, 4.177076688644801, 4.177076688644801, 4.177076688644801, 4.177076688644801, 4.177076688644801, 4.177076688644801, 4.177076688644801, 4.177076688644801, 4.177076688644801, 4.177076688644801, 4.177076688644801, 4.177076688644801, 4.177076688644801, 4.18325155219266, 4.18325155219266, 4.18325155219266, 4.18325155219266, 4.18325155219266, 4.18325155219266, 4.18325155219266, 4.18325155219266, 4.18325155219266, 4.18325155219266, 4.18325155219266, 4.18325155219266, 4.18325155219266, 4.18325155219266, 4.18325155219266, 4.18325155219266, 4.18325155219266, 4.18325155219266, 4.18325155219266, 4.18325155219266, 4.18325155219266, 4.196453107141734, 4.196453107141734, 4.196453107141734, 4.196453107141734, 4.196453107141734, 4.196453107141734, 4.196453107141734, 4.196453107141734, 4.196453107141734, 4.196453107141734, 4.196453107141734, 4.216080758998409, 4.216080758998409, 4.216080758998409, 4.216080758998409, 4.216080758998409, 4.216080758998409, 4.216080758998409, 4.216080758998409, 4.216080758998409, 4.216080758998409, 4.216080758998409, 4.216080758998409, 4.216080758998409, 4.216080758998409, 4.216080758998409, 4.216080758998409, 4.216080758998409, 4.216080758998409, 4.216080758998409, 4.216080758998409, 4.216080758998409, 4.216080758998409, 4.216080758998409, 4.216080758998409, 4.24153391326907, 4.24153391326907, 4.24153391326907, 4.24153391326907, 4.24153391326907, 4.24153391326907, 4.24153391326907, 4.24153391326907, 4.24153391326907, 4.24153391326907, 4.24153391326907, 4.24153391326907, 4.24153391326907, 4.24153391326907, 4.24153391326907, 4.24153391326907, 4.24153391326907, 4.24153391326907, 4.272211975460095, 4.272211975460095, 4.272211975460095, 4.272211975460095, 4.272211975460095, 4.272211975460095, 4.272211975460095, 4.272211975460095, 4.272211975460095, 4.272211975460095, 4.272211975460095, 4.272211975460095, 4.272211975460095, 4.272211975460095, 4.272211975460095, 4.272211975460095, 4.272211975460095, 4.272211975460095, 4.272211975460095, 4.272211975460095, 4.272211975460095, 4.272211975460095, 4.272211975460095, 4.272211975460095, 4.272211975460095, 4.272211975460095, 4.272211975460095, 4.272211975460095, 4.272211975460095, 4.272211975460095, 4.272211975460095, 4.272211975460095, 4.272211975460095, 4.272211975460095, 4.272211975460095, 4.272211975460095, 4.272211975460095, 4.272211975460095, 4.272211975460095, 4.272211975460095, 4.272211975460095, 4.272211975460095, 4.272211975460095, 4.272211975460095, 4.272211975460095, 4.272211975460095, 4.272211975460095, 4.272211975460095, 4.272211975460095, 4.272211975460095, 4.272211975460095, 4.272211975460095, 4.272211975460095, 4.272211975460095, 4.307514351077874, 4.307514351077874, 4.307514351077874, 4.307514351077874, 4.307514351077874, 4.307514351077874, 4.307514351077874, 4.307514351077874, 4.307514351077874, 4.307514351077874, 4.307514351077874, 4.307514351077874, 4.346840445628793, 4.346840445628793, 4.346840445628793, 4.346840445628793, 4.346840445628793, 4.346840445628793, 4.346840445628793, 4.346840445628793, 4.346840445628793, 4.346840445628793, 4.346840445628793, 4.346840445628793, 4.346840445628793, 4.346840445628793, 4.346840445628793, 4.346840445628793, 4.346840445628793, 4.346840445628793, 4.346840445628793, 4.389589664619233, 4.389589664619233, 4.389589664619233, 4.389589664619233, 4.389589664619233, 4.389589664619233, 4.389589664619233, 4.389589664619233, 4.389589664619233, 4.389589664619233, 4.389589664619233, 4.389589664619233, 4.389589664619233, 4.43516141355558, 4.43516141355558, 4.43516141355558, 4.43516141355558, 4.43516141355558, 4.43516141355558, 4.43516141355558, 4.43516141355558, 4.43516141355558, 4.43516141355558, 4.43516141355558, 4.43516141355558, 4.43516141355558, 4.43516141355558, 4.43516141355558, 4.43516141355558, 4.43516141355558, 4.43516141355558, 4.43516141355558, 4.48295509794422, 4.48295509794422, 4.48295509794422, 4.48295509794422, 4.48295509794422, 4.48295509794422, 4.48295509794422, 4.48295509794422, 4.48295509794422, 4.48295509794422, 4.48295509794422, 4.532370123291528, 4.532370123291528, 4.532370123291528, 4.532370123291528, 4.532370123291528, 4.532370123291528, 4.532370123291528, 4.532370123291528, 4.532370123291528, 4.532370123291528, 4.532370123291528, 4.532370123291528, 4.5828058951038955, 4.5828058951038955, 4.5828058951038955, 4.5828058951038955, 4.5828058951038955, 4.5828058951038955, 4.5828058951038955, 4.5828058951038955, 4.5828058951038955, 4.5828058951038955, 4.5828058951038955, 4.5828058951038955, 4.5828058951038955, 4.5828058951038955, 4.5828058951038955, 4.5828058951038955, 4.5828058951038955, 4.5828058951038955, 4.5828058951038955, 4.5828058951038955, 4.5828058951038955, 4.633661818887713, 4.633661818887713, 4.633661818887713, 4.633661818887713, 4.633661818887713, 4.633661818887713, 4.633661818887713, 4.633661818887713, 4.633661818887713, 4.633661818887713, 4.633661818887713, 4.633661818887713, 4.633661818887713, 4.633661818887713, 4.633661818887713, 4.633661818887713, 4.633661818887713, 4.684337300149355, 4.684337300149355, 4.684337300149355, 4.684337300149355, 4.684337300149355, 4.684337300149355, 4.684337300149355, 4.684337300149355, 4.684337300149355, 4.684337300149355, 4.684337300149355, 4.734231744395206, 4.734231744395206, 4.734231744395206, 4.734231744395206, 4.734231744395206, 4.734231744395206, 4.734231744395206, 4.734231744395206, 4.734231744395206, 4.734231744395206, 4.734231744395206, 4.734231744395206, 4.734231744395206, 4.734231744395206, 4.734231744395206, 4.734231744395206, 4.782744557131657, 4.782744557131657, 4.782744557131657, 4.782744557131657, 4.782744557131657, 4.782744557131657, 4.782744557131657, 4.782744557131657, 4.782744557131657, 4.782744557131657, 4.782744557131657, 4.782744557131657, 4.782744557131657, 4.829275143865097, 4.829275143865097, 4.829275143865097, 4.829275143865097, 4.829275143865097, 4.829275143865097, 4.829275143865097, 4.829275143865097, 4.829275143865097, 4.829275143865097, 4.829275143865097, 4.829275143865097, 4.829275143865097, 4.829275143865097, 4.829275143865097, 4.8732229101018945, 4.8732229101018945, 4.8732229101018945, 4.8732229101018945, 4.8732229101018945, 4.8732229101018945, 4.9139872613484386, 4.9139872613484386, 4.9139872613484386, 4.9139872613484386, 4.9139872613484386, 4.9139872613484386, 4.950967603111124, 4.950967603111124, 4.983563340896332, 4.983563340896332, 4.983563340896332, 4.983563340896332, 5.0111738802104355, 5.0111738802104355, 5.0111738802104355, 5.033198626559823, 5.033198626559823, 5.033198626559823, 5.033198626559823, 5.033198626559823, 5.033198626559823, 5.04903698545089, 5.04903698545089, 5.04903698545089, 5.058088362390016, 5.058088362390016, 5.058088362390016, 5.058088362390016, 5.0597521628835835, 5.0597521628835835, 5.0597521628835835, 5.053427792437965, 5.053427792437965, 5.038514656559563, 5.038514656559563, 5.014412160754752, 5.014412160754752, 5.014412160754752]}],\n",
              "                        {\"font\": {\"size\": 16}, \"height\": 700, \"template\": {\"data\": {\"bar\": [{\"error_x\": {\"color\": \"#2a3f5f\"}, \"error_y\": {\"color\": \"#2a3f5f\"}, \"marker\": {\"line\": {\"color\": \"#E5ECF6\", \"width\": 0.5}}, \"type\": \"bar\"}], \"barpolar\": [{\"marker\": {\"line\": {\"color\": \"#E5ECF6\", \"width\": 0.5}}, \"type\": \"barpolar\"}], \"carpet\": [{\"aaxis\": {\"endlinecolor\": \"#2a3f5f\", \"gridcolor\": \"white\", \"linecolor\": \"white\", \"minorgridcolor\": \"white\", \"startlinecolor\": \"#2a3f5f\"}, \"baxis\": {\"endlinecolor\": \"#2a3f5f\", \"gridcolor\": \"white\", \"linecolor\": \"white\", \"minorgridcolor\": \"white\", \"startlinecolor\": \"#2a3f5f\"}, \"type\": \"carpet\"}], \"choropleth\": [{\"colorbar\": {\"outlinewidth\": 0, \"ticks\": \"\"}, \"type\": \"choropleth\"}], \"contour\": [{\"colorbar\": {\"outlinewidth\": 0, \"ticks\": \"\"}, \"colorscale\": [[0.0, \"#0d0887\"], [0.1111111111111111, \"#46039f\"], [0.2222222222222222, \"#7201a8\"], [0.3333333333333333, \"#9c179e\"], [0.4444444444444444, \"#bd3786\"], [0.5555555555555556, \"#d8576b\"], [0.6666666666666666, \"#ed7953\"], [0.7777777777777778, \"#fb9f3a\"], [0.8888888888888888, \"#fdca26\"], [1.0, \"#f0f921\"]], \"type\": \"contour\"}], \"contourcarpet\": [{\"colorbar\": {\"outlinewidth\": 0, \"ticks\": \"\"}, \"type\": \"contourcarpet\"}], \"heatmap\": [{\"colorbar\": {\"outlinewidth\": 0, \"ticks\": \"\"}, \"colorscale\": [[0.0, \"#0d0887\"], [0.1111111111111111, \"#46039f\"], [0.2222222222222222, \"#7201a8\"], [0.3333333333333333, \"#9c179e\"], [0.4444444444444444, \"#bd3786\"], [0.5555555555555556, \"#d8576b\"], [0.6666666666666666, \"#ed7953\"], [0.7777777777777778, \"#fb9f3a\"], [0.8888888888888888, \"#fdca26\"], [1.0, \"#f0f921\"]], \"type\": \"heatmap\"}], \"heatmapgl\": [{\"colorbar\": {\"outlinewidth\": 0, \"ticks\": \"\"}, \"colorscale\": [[0.0, \"#0d0887\"], [0.1111111111111111, \"#46039f\"], [0.2222222222222222, \"#7201a8\"], [0.3333333333333333, \"#9c179e\"], [0.4444444444444444, \"#bd3786\"], [0.5555555555555556, \"#d8576b\"], [0.6666666666666666, \"#ed7953\"], [0.7777777777777778, \"#fb9f3a\"], [0.8888888888888888, \"#fdca26\"], [1.0, \"#f0f921\"]], \"type\": \"heatmapgl\"}], \"histogram\": [{\"marker\": {\"colorbar\": {\"outlinewidth\": 0, \"ticks\": \"\"}}, \"type\": \"histogram\"}], \"histogram2d\": [{\"colorbar\": {\"outlinewidth\": 0, \"ticks\": \"\"}, \"colorscale\": [[0.0, \"#0d0887\"], [0.1111111111111111, \"#46039f\"], [0.2222222222222222, \"#7201a8\"], [0.3333333333333333, \"#9c179e\"], [0.4444444444444444, \"#bd3786\"], [0.5555555555555556, \"#d8576b\"], [0.6666666666666666, \"#ed7953\"], [0.7777777777777778, \"#fb9f3a\"], [0.8888888888888888, \"#fdca26\"], [1.0, \"#f0f921\"]], \"type\": \"histogram2d\"}], \"histogram2dcontour\": [{\"colorbar\": {\"outlinewidth\": 0, \"ticks\": \"\"}, \"colorscale\": [[0.0, \"#0d0887\"], [0.1111111111111111, \"#46039f\"], [0.2222222222222222, \"#7201a8\"], [0.3333333333333333, \"#9c179e\"], [0.4444444444444444, \"#bd3786\"], [0.5555555555555556, \"#d8576b\"], [0.6666666666666666, \"#ed7953\"], [0.7777777777777778, \"#fb9f3a\"], [0.8888888888888888, \"#fdca26\"], [1.0, \"#f0f921\"]], \"type\": \"histogram2dcontour\"}], \"mesh3d\": [{\"colorbar\": {\"outlinewidth\": 0, \"ticks\": \"\"}, \"type\": \"mesh3d\"}], \"parcoords\": [{\"line\": {\"colorbar\": {\"outlinewidth\": 0, \"ticks\": \"\"}}, \"type\": \"parcoords\"}], \"pie\": [{\"automargin\": true, \"type\": \"pie\"}], \"scatter\": [{\"marker\": {\"colorbar\": {\"outlinewidth\": 0, \"ticks\": \"\"}}, \"type\": \"scatter\"}], \"scatter3d\": [{\"line\": {\"colorbar\": {\"outlinewidth\": 0, \"ticks\": \"\"}}, \"marker\": {\"colorbar\": {\"outlinewidth\": 0, \"ticks\": \"\"}}, \"type\": \"scatter3d\"}], \"scattercarpet\": [{\"marker\": {\"colorbar\": {\"outlinewidth\": 0, \"ticks\": \"\"}}, \"type\": \"scattercarpet\"}], \"scattergeo\": [{\"marker\": {\"colorbar\": {\"outlinewidth\": 0, \"ticks\": \"\"}}, \"type\": \"scattergeo\"}], \"scattergl\": [{\"marker\": {\"colorbar\": {\"outlinewidth\": 0, \"ticks\": \"\"}}, \"type\": \"scattergl\"}], \"scattermapbox\": [{\"marker\": {\"colorbar\": {\"outlinewidth\": 0, \"ticks\": \"\"}}, \"type\": \"scattermapbox\"}], \"scatterpolar\": [{\"marker\": {\"colorbar\": {\"outlinewidth\": 0, \"ticks\": \"\"}}, \"type\": \"scatterpolar\"}], \"scatterpolargl\": [{\"marker\": {\"colorbar\": {\"outlinewidth\": 0, \"ticks\": \"\"}}, \"type\": \"scatterpolargl\"}], \"scatterternary\": [{\"marker\": {\"colorbar\": {\"outlinewidth\": 0, \"ticks\": \"\"}}, \"type\": \"scatterternary\"}], \"surface\": [{\"colorbar\": {\"outlinewidth\": 0, \"ticks\": \"\"}, \"colorscale\": [[0.0, \"#0d0887\"], [0.1111111111111111, \"#46039f\"], [0.2222222222222222, \"#7201a8\"], [0.3333333333333333, \"#9c179e\"], [0.4444444444444444, \"#bd3786\"], [0.5555555555555556, \"#d8576b\"], [0.6666666666666666, \"#ed7953\"], [0.7777777777777778, \"#fb9f3a\"], [0.8888888888888888, \"#fdca26\"], [1.0, \"#f0f921\"]], \"type\": \"surface\"}], \"table\": [{\"cells\": {\"fill\": {\"color\": \"#EBF0F8\"}, \"line\": {\"color\": \"white\"}}, \"header\": {\"fill\": {\"color\": \"#C8D4E3\"}, \"line\": {\"color\": \"white\"}}, \"type\": \"table\"}]}, \"layout\": {\"annotationdefaults\": {\"arrowcolor\": \"#2a3f5f\", \"arrowhead\": 0, \"arrowwidth\": 1}, \"coloraxis\": {\"colorbar\": {\"outlinewidth\": 0, \"ticks\": \"\"}}, \"colorscale\": {\"diverging\": [[0, \"#8e0152\"], [0.1, \"#c51b7d\"], [0.2, \"#de77ae\"], [0.3, \"#f1b6da\"], [0.4, \"#fde0ef\"], [0.5, \"#f7f7f7\"], [0.6, \"#e6f5d0\"], [0.7, \"#b8e186\"], [0.8, \"#7fbc41\"], [0.9, \"#4d9221\"], [1, \"#276419\"]], \"sequential\": [[0.0, \"#0d0887\"], [0.1111111111111111, \"#46039f\"], [0.2222222222222222, \"#7201a8\"], [0.3333333333333333, \"#9c179e\"], [0.4444444444444444, \"#bd3786\"], [0.5555555555555556, \"#d8576b\"], [0.6666666666666666, \"#ed7953\"], [0.7777777777777778, \"#fb9f3a\"], [0.8888888888888888, \"#fdca26\"], [1.0, \"#f0f921\"]], \"sequentialminus\": [[0.0, \"#0d0887\"], [0.1111111111111111, \"#46039f\"], [0.2222222222222222, \"#7201a8\"], [0.3333333333333333, \"#9c179e\"], [0.4444444444444444, \"#bd3786\"], [0.5555555555555556, \"#d8576b\"], [0.6666666666666666, \"#ed7953\"], [0.7777777777777778, \"#fb9f3a\"], [0.8888888888888888, \"#fdca26\"], [1.0, \"#f0f921\"]]}, \"colorway\": [\"#636efa\", \"#EF553B\", \"#00cc96\", \"#ab63fa\", \"#FFA15A\", \"#19d3f3\", \"#FF6692\", \"#B6E880\", \"#FF97FF\", \"#FECB52\"], \"font\": {\"color\": \"#2a3f5f\"}, \"geo\": {\"bgcolor\": \"white\", \"lakecolor\": \"white\", \"landcolor\": \"#E5ECF6\", \"showlakes\": true, \"showland\": true, \"subunitcolor\": \"white\"}, \"hoverlabel\": {\"align\": \"left\"}, \"hovermode\": \"closest\", \"mapbox\": {\"style\": \"light\"}, \"paper_bgcolor\": \"white\", \"plot_bgcolor\": \"#E5ECF6\", \"polar\": {\"angularaxis\": {\"gridcolor\": \"white\", \"linecolor\": \"white\", \"ticks\": \"\"}, \"bgcolor\": \"#E5ECF6\", \"radialaxis\": {\"gridcolor\": \"white\", \"linecolor\": \"white\", \"ticks\": \"\"}}, \"scene\": {\"xaxis\": {\"backgroundcolor\": \"#E5ECF6\", \"gridcolor\": \"white\", \"gridwidth\": 2, \"linecolor\": \"white\", \"showbackground\": true, \"ticks\": \"\", \"zerolinecolor\": \"white\"}, \"yaxis\": {\"backgroundcolor\": \"#E5ECF6\", \"gridcolor\": \"white\", \"gridwidth\": 2, \"linecolor\": \"white\", \"showbackground\": true, \"ticks\": \"\", \"zerolinecolor\": \"white\"}, \"zaxis\": {\"backgroundcolor\": \"#E5ECF6\", \"gridcolor\": \"white\", \"gridwidth\": 2, \"linecolor\": \"white\", \"showbackground\": true, \"ticks\": \"\", \"zerolinecolor\": \"white\"}}, \"shapedefaults\": {\"line\": {\"color\": \"#2a3f5f\"}}, \"ternary\": {\"aaxis\": {\"gridcolor\": \"white\", \"linecolor\": \"white\", \"ticks\": \"\"}, \"baxis\": {\"gridcolor\": \"white\", \"linecolor\": \"white\", \"ticks\": \"\"}, \"bgcolor\": \"#E5ECF6\", \"caxis\": {\"gridcolor\": \"white\", \"linecolor\": \"white\", \"ticks\": \"\"}}, \"title\": {\"x\": 0.05}, \"xaxis\": {\"automargin\": true, \"gridcolor\": \"white\", \"linecolor\": \"white\", \"ticks\": \"\", \"title\": {\"standoff\": 15}, \"zerolinecolor\": \"white\", \"zerolinewidth\": 2}, \"yaxis\": {\"automargin\": true, \"gridcolor\": \"white\", \"linecolor\": \"white\", \"ticks\": \"\", \"title\": {\"standoff\": 15}, \"zerolinecolor\": \"white\", \"zerolinewidth\": 2}}}, \"title\": {\"text\": \"SCC * MMIH (N=441)\"}, \"width\": 1100, \"xaxis\": {\"title\": {\"text\": \"SCC\"}}, \"yaxis\": {\"title\": {\"text\": \"MMIH\"}}},\n",
              "                        {\"responsive\": true}\n",
              "                    ).then(function(){\n",
              "                            \n",
              "var gd = document.getElementById('50206c5a-3302-4a03-8d1a-f8e6249e7dbd');\n",
              "var x = new MutationObserver(function (mutations, observer) {{\n",
              "        var display = window.getComputedStyle(gd).display;\n",
              "        if (!display || display === 'none') {{\n",
              "            console.log([gd, 'removed!']);\n",
              "            Plotly.purge(gd);\n",
              "            observer.disconnect();\n",
              "        }}\n",
              "}});\n",
              "\n",
              "// Listen for the removal of the full notebook cells\n",
              "var notebookContainer = gd.closest('#notebook-container');\n",
              "if (notebookContainer) {{\n",
              "    x.observe(notebookContainer, {childList: true});\n",
              "}}\n",
              "\n",
              "// Listen for the clearing of the current output cell\n",
              "var outputEl = gd.closest('.output');\n",
              "if (outputEl) {{\n",
              "    x.observe(outputEl, {childList: true});\n",
              "}}\n",
              "\n",
              "                        })\n",
              "                };\n",
              "                \n",
              "            </script>\n",
              "        </div>\n",
              "</body>\n",
              "</html>"
            ]
          },
          "metadata": {
            "tags": []
          }
        }
      ]
    },
    {
      "cell_type": "code",
      "metadata": {
        "id": "1ecvvnDVsyZf"
      },
      "source": [
        ""
      ],
      "execution_count": null,
      "outputs": []
    }
  ]
}